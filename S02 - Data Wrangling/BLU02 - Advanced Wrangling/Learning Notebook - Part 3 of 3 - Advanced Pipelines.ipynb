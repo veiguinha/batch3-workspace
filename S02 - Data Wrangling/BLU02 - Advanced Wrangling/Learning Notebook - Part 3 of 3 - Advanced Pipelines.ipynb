{
 "cells": [
  {
   "cell_type": "markdown",
   "metadata": {},
   "source": [
    "# BLU02 - Learning Notebook - Data wrangling workflows - Part 3 of 3"
   ]
  },
  {
   "cell_type": "code",
   "execution_count": 1,
   "metadata": {},
   "outputs": [],
   "source": [
    "import matplotlib.pyplot as plt\n",
    "\n",
    "import pandas as pd\n",
    "import os\n",
    "\n",
    "# from category_encoders.ordinal import OrdinalEncoder\n",
    "import category_encoders as ce\n",
    "from category_encoders import OrdinalEncoder\n",
    "\n",
    "from sklearn.base import BaseEstimator, TransformerMixin\n",
    "from sklearn.cluster import KMeans\n",
    "from sklearn.preprocessing import Imputer\n",
    "from sklearn.model_selection import train_test_split\n",
    "from sklearn.pipeline import Pipeline"
   ]
  },
  {
   "cell_type": "markdown",
   "metadata": {},
   "source": [
    "# 3 Advanced pipelines in scikit-learn\n",
    "\n",
    "Remember our workflow diagram? Let's look at it again.\n",
    "\n",
    "![data_transformation_workflow](./media/data_processing_workflow.png)\n",
    "\n",
    "*Fig 1. - A standard workflow (again).*\n",
    "\n",
    "Pandas, as amazing as it is, can only take us so far.\n",
    "\n",
    "There, beyond the known universe, lies **modeling**.\n",
    "\n",
    "Where we are at this point:\n",
    "* We are to perform transformations on data, setting up robust pipelines using nothing but Pandas\n",
    "* We can combine different dataframes, to enrich our datasets or generate new ones.\n",
    "\n",
    "Thus, here we are, modeling lying ahead of us. What's exactly new about modeling though?\n",
    "\n",
    "We will be using the same dataset, but this time we will create a train-test split, as we would do before modeling."
   ]
  },
  {
   "cell_type": "code",
   "execution_count": 2,
   "metadata": {},
   "outputs": [],
   "source": [
    "works = pd.read_csv('./data/works.csv')\n",
    "X_train, X_test = train_test_split(works)"
   ]
  },
  {
   "cell_type": "markdown",
   "metadata": {},
   "source": [
    "## 3.1 How is modeling different from transformation\n",
    "\n",
    "In Pandas, we merely transformed the original dataframe into a new one.\n",
    "\n",
    "But sometimes, this isn't possible. Let's start with an example: encoding categorical variables.\n",
    "\n",
    "Remember: we need to perform the same transformations on train and test data (and whatever data comes next)."
   ]
  },
  {
   "cell_type": "code",
   "execution_count": 3,
   "metadata": {},
   "outputs": [
    {
     "data": {
      "text/html": [
       "<div>\n",
       "<style scoped>\n",
       "    .dataframe tbody tr th:only-of-type {\n",
       "        vertical-align: middle;\n",
       "    }\n",
       "\n",
       "    .dataframe tbody tr th {\n",
       "        vertical-align: top;\n",
       "    }\n",
       "\n",
       "    .dataframe thead th {\n",
       "        text-align: right;\n",
       "    }\n",
       "</style>\n",
       "<table border=\"1\" class=\"dataframe\">\n",
       "  <thead>\n",
       "    <tr style=\"text-align: right;\">\n",
       "      <th></th>\n",
       "      <th>ComposerName</th>\n",
       "      <th>ComposerNameEncoded</th>\n",
       "    </tr>\n",
       "  </thead>\n",
       "  <tbody>\n",
       "    <tr>\n",
       "      <th>35298</th>\n",
       "      <td>Berg,  Alban</td>\n",
       "      <td>176</td>\n",
       "    </tr>\n",
       "  </tbody>\n",
       "</table>\n",
       "</div>"
      ],
      "text/plain": [
       "       ComposerName  ComposerNameEncoded\n",
       "35298  Berg,  Alban                  176"
      ]
     },
     "execution_count": 3,
     "metadata": {},
     "output_type": "execute_result"
    }
   ],
   "source": [
    "def transform_data(df):\n",
    "    df = df.copy()\n",
    "    df = (df.pipe(remove_intervals)\n",
    "            .pipe(label_encoder, 'ComposerName'))\n",
    "    return df\n",
    "\n",
    "\n",
    "def remove_intervals(df):\n",
    "    df = df.copy()\n",
    "    mask = df['Interval'].isnull()\n",
    "    df = (df.loc[mask, :]\n",
    "            .drop(columns='Interval'))\n",
    "    return df\n",
    "    \n",
    "\n",
    "def label_encoder(df, column):\n",
    "    df = df.copy()\n",
    "    df[column + 'Encoded'] = df[column].astype('category').cat.codes\n",
    "    return df\n",
    "\n",
    "\n",
    "X_train_ = transform_data(X_train)\n",
    "\n",
    "train_alban_berg = X_train_['ComposerName'] == 'Berg,  Alban'\n",
    "(X_train_.loc[train_alban_berg, ['ComposerName', 'ComposerNameEncoded']]\n",
    "         .drop_duplicates())"
   ]
  },
  {
   "cell_type": "markdown",
   "metadata": {},
   "source": [
    "All is good. We removed the intermissions (just like we did previously), and we transformed the original dataframe.\n",
    "\n",
    "For convenience, we are keeping only the `ComposerName` and `ComposerNameEncoded` columns and removing duplicates.\n",
    "\n",
    "Let's do the same to the test data."
   ]
  },
  {
   "cell_type": "code",
   "execution_count": 4,
   "metadata": {},
   "outputs": [
    {
     "data": {
      "text/html": [
       "<div>\n",
       "<style scoped>\n",
       "    .dataframe tbody tr th:only-of-type {\n",
       "        vertical-align: middle;\n",
       "    }\n",
       "\n",
       "    .dataframe tbody tr th {\n",
       "        vertical-align: top;\n",
       "    }\n",
       "\n",
       "    .dataframe thead th {\n",
       "        text-align: right;\n",
       "    }\n",
       "</style>\n",
       "<table border=\"1\" class=\"dataframe\">\n",
       "  <thead>\n",
       "    <tr style=\"text-align: right;\">\n",
       "      <th></th>\n",
       "      <th>ComposerName</th>\n",
       "      <th>ComposerNameEncoded</th>\n",
       "    </tr>\n",
       "  </thead>\n",
       "  <tbody>\n",
       "    <tr>\n",
       "      <th>23017</th>\n",
       "      <td>Berg,  Alban</td>\n",
       "      <td>103</td>\n",
       "    </tr>\n",
       "  </tbody>\n",
       "</table>\n",
       "</div>"
      ],
      "text/plain": [
       "       ComposerName  ComposerNameEncoded\n",
       "23017  Berg,  Alban                  103"
      ]
     },
     "execution_count": 4,
     "metadata": {},
     "output_type": "execute_result"
    }
   ],
   "source": [
    "X_test_ = transform_data(X_test)\n",
    "\n",
    "test_alban_berg = X_test_['ComposerName'] == 'Berg,  Alban'\n",
    "(X_test_.loc[test_alban_berg, ['ComposerName', 'ComposerNameEncoded']]\n",
    "        .drop_duplicates())"
   ]
  },
  {
   "cell_type": "markdown",
   "metadata": {},
   "source": [
    "Do you see the problem? The same `ComposerName` can (and will, in all probability) get different encodings.\n",
    "\n",
    "This problem is significant, as it would lead us to make wrong predictions!!\n",
    "\n",
    "There are other cases in which problems arise. For instance, when replacing missing values with the mean:\n",
    "* You are supposed to compute the mean on the training set and use it to transform both train and test sets\n",
    "* Otherwise, you end up underestimating your correct generalization error.\n",
    "\n",
    "This particular unit is not about modeling at a conceptual level, but you get the point: \n",
    "* Somehow, you need to fit the transformer on your training data first (e.g., define the encodings, compute the means)\n",
    "* Transform both train and test sets (and any data that might come in, really) using the pre-fitted transformers.\n",
    "\n",
    "These transformations are more like modeling. In fact, all of this *is* modeling and part of your model. \n",
    "\n",
    "How do we solve this? **We need transformers that are more like models.**\n",
    "\n",
    "## 3.2 Meet the sklearn-like transformers\n",
    "\n",
    "There are at three fundamental verbs in scikit-learn and sklearn-like libraries:\n",
    "* `.fit()`\n",
    "* `.transform()`\n",
    "* `.predict()`.\n",
    "\n",
    "You are already familiar with `.fit()` and `.predict()`, from the Bootcamp and the Hackathon #1.  We use them to train models and make predictions.\n",
    "\n",
    "Here, we will explore a new combo: `.fit()` and `.transform()`. This is how it works.\n",
    "\n",
    "![sklearn_like_transformation_pipeline](./media/sklearn_like_transformation_pipeline.png)\n",
    "\n",
    "*Fig 2. - A data pipeline with consistent transformers, fitted on the training set.*\n",
    "\n",
    "In short, we fit a transformer on the training data and use to transform the training data.\n",
    "\n",
    "We will, however, return the transformer so we can use it to transform new, incoming data as well. Confusing? Perhaps.\n",
    "\n",
    "Time to get practical: meet the `categorical_encoders`, a set of transformers for encoding categorical variables."
   ]
  },
  {
   "cell_type": "code",
   "execution_count": 5,
   "metadata": {},
   "outputs": [
    {
     "data": {
      "text/html": [
       "<div>\n",
       "<style scoped>\n",
       "    .dataframe tbody tr th:only-of-type {\n",
       "        vertical-align: middle;\n",
       "    }\n",
       "\n",
       "    .dataframe tbody tr th {\n",
       "        vertical-align: top;\n",
       "    }\n",
       "\n",
       "    .dataframe thead th {\n",
       "        text-align: right;\n",
       "    }\n",
       "</style>\n",
       "<table border=\"1\" class=\"dataframe\">\n",
       "  <thead>\n",
       "    <tr style=\"text-align: right;\">\n",
       "      <th></th>\n",
       "      <th>GUID</th>\n",
       "      <th>ProgramID</th>\n",
       "      <th>WorkID</th>\n",
       "      <th>MovementID</th>\n",
       "      <th>ComposerName</th>\n",
       "      <th>WorkTitle</th>\n",
       "      <th>Movement</th>\n",
       "      <th>ConductorName</th>\n",
       "      <th>Interval</th>\n",
       "    </tr>\n",
       "  </thead>\n",
       "  <tbody>\n",
       "    <tr>\n",
       "      <th>44885</th>\n",
       "      <td>81834875-362d-4277-81da-bfbc91676310</td>\n",
       "      <td>11588</td>\n",
       "      <td>52644</td>\n",
       "      <td>NaN</td>\n",
       "      <td>1</td>\n",
       "      <td>PRELUDE A L'APRES-MIDI D'UN FAUNE (PRELUDE TO ...</td>\n",
       "      <td>NaN</td>\n",
       "      <td>Kostelanetz, Andre</td>\n",
       "      <td>NaN</td>\n",
       "    </tr>\n",
       "    <tr>\n",
       "      <th>30907</th>\n",
       "      <td>2937342c-ea68-4c1d-9ca1-377bfbf2d4ef</td>\n",
       "      <td>12687</td>\n",
       "      <td>0</td>\n",
       "      <td>NaN</td>\n",
       "      <td>2</td>\n",
       "      <td>NaN</td>\n",
       "      <td>NaN</td>\n",
       "      <td>NaN</td>\n",
       "      <td>Intermission</td>\n",
       "    </tr>\n",
       "    <tr>\n",
       "      <th>45484</th>\n",
       "      <td>df27b136-90de-4137-9d8f-ba5f86e1ef73</td>\n",
       "      <td>1968</td>\n",
       "      <td>52437</td>\n",
       "      <td>4.0</td>\n",
       "      <td>3</td>\n",
       "      <td>SYMPHONY NO. 3 IN E FLAT MAJOR, OP. 55 (EROICA)</td>\n",
       "      <td>Finale: Allegro molto - Poco Andante - Presto</td>\n",
       "      <td>Szell, George</td>\n",
       "      <td>NaN</td>\n",
       "    </tr>\n",
       "    <tr>\n",
       "      <th>25962</th>\n",
       "      <td>862827f2-d3a4-4eb2-b1ea-9d83245dd061</td>\n",
       "      <td>9789</td>\n",
       "      <td>0</td>\n",
       "      <td>NaN</td>\n",
       "      <td>2</td>\n",
       "      <td>NaN</td>\n",
       "      <td>NaN</td>\n",
       "      <td>NaN</td>\n",
       "      <td>Intermission</td>\n",
       "    </tr>\n",
       "    <tr>\n",
       "      <th>27886</th>\n",
       "      <td>9d575b43-ff50-4439-8c1f-c1cf907d2595</td>\n",
       "      <td>10523</td>\n",
       "      <td>10667</td>\n",
       "      <td>NaN</td>\n",
       "      <td>4</td>\n",
       "      <td>SERENADE FOR STRING ORCHESTRA, OP. 23</td>\n",
       "      <td>NaN</td>\n",
       "      <td>Damrosch, Frank</td>\n",
       "      <td>NaN</td>\n",
       "    </tr>\n",
       "  </tbody>\n",
       "</table>\n",
       "</div>"
      ],
      "text/plain": [
       "                                       GUID  ProgramID  WorkID  MovementID  \\\n",
       "44885  81834875-362d-4277-81da-bfbc91676310      11588   52644         NaN   \n",
       "30907  2937342c-ea68-4c1d-9ca1-377bfbf2d4ef      12687       0         NaN   \n",
       "45484  df27b136-90de-4137-9d8f-ba5f86e1ef73       1968   52437         4.0   \n",
       "25962  862827f2-d3a4-4eb2-b1ea-9d83245dd061       9789       0         NaN   \n",
       "27886  9d575b43-ff50-4439-8c1f-c1cf907d2595      10523   10667         NaN   \n",
       "\n",
       "       ComposerName                                          WorkTitle  \\\n",
       "44885             1  PRELUDE A L'APRES-MIDI D'UN FAUNE (PRELUDE TO ...   \n",
       "30907             2                                                NaN   \n",
       "45484             3    SYMPHONY NO. 3 IN E FLAT MAJOR, OP. 55 (EROICA)   \n",
       "25962             2                                                NaN   \n",
       "27886             4              SERENADE FOR STRING ORCHESTRA, OP. 23   \n",
       "\n",
       "                                            Movement       ConductorName  \\\n",
       "44885                                            NaN  Kostelanetz, Andre   \n",
       "30907                                            NaN                 NaN   \n",
       "45484  Finale: Allegro molto - Poco Andante - Presto       Szell, George   \n",
       "25962                                            NaN                 NaN   \n",
       "27886                                            NaN     Damrosch, Frank   \n",
       "\n",
       "           Interval  \n",
       "44885           NaN  \n",
       "30907  Intermission  \n",
       "45484           NaN  \n",
       "25962  Intermission  \n",
       "27886           NaN  "
      ]
     },
     "execution_count": 5,
     "metadata": {},
     "output_type": "execute_result"
    }
   ],
   "source": [
    "encoder = OrdinalEncoder(cols=['ComposerName'])\n",
    "X_train_ = encoder.fit_transform(X_train)\n",
    "X_train_.head()"
   ]
  },
  {
   "cell_type": "markdown",
   "metadata": {},
   "source": [
    "We can now use transform our test set."
   ]
  },
  {
   "cell_type": "code",
   "execution_count": 18,
   "metadata": {},
   "outputs": [
    {
     "data": {
      "text/html": [
       "<div>\n",
       "<style scoped>\n",
       "    .dataframe tbody tr th:only-of-type {\n",
       "        vertical-align: middle;\n",
       "    }\n",
       "\n",
       "    .dataframe tbody tr th {\n",
       "        vertical-align: top;\n",
       "    }\n",
       "\n",
       "    .dataframe thead th {\n",
       "        text-align: right;\n",
       "    }\n",
       "</style>\n",
       "<table border=\"1\" class=\"dataframe\">\n",
       "  <thead>\n",
       "    <tr style=\"text-align: right;\">\n",
       "      <th></th>\n",
       "      <th>GUID</th>\n",
       "      <th>ProgramID</th>\n",
       "      <th>WorkID</th>\n",
       "      <th>MovementID</th>\n",
       "      <th>ComposerName</th>\n",
       "      <th>WorkTitle</th>\n",
       "      <th>Movement</th>\n",
       "      <th>ConductorName</th>\n",
       "      <th>Interval</th>\n",
       "    </tr>\n",
       "  </thead>\n",
       "  <tbody>\n",
       "    <tr>\n",
       "      <th>48032</th>\n",
       "      <td>c8db5013-aac5-46cc-ab91-8f5e65852d67</td>\n",
       "      <td>2242</td>\n",
       "      <td>52671</td>\n",
       "      <td>2.0</td>\n",
       "      <td>5</td>\n",
       "      <td>COQ D'OR, LE: SUITE (ARR. Steinberg)</td>\n",
       "      <td>King Dodon and the Queen of Shemakha</td>\n",
       "      <td>Kostelanetz, Andre</td>\n",
       "      <td>NaN</td>\n",
       "    </tr>\n",
       "    <tr>\n",
       "      <th>28063</th>\n",
       "      <td>0515f085-6a05-41af-8a46-2b760e02e831</td>\n",
       "      <td>377</td>\n",
       "      <td>9194</td>\n",
       "      <td>1.0</td>\n",
       "      <td>74</td>\n",
       "      <td>BARTERED BRIDE, THE</td>\n",
       "      <td>Overture (\"Overture to a Comedy\")</td>\n",
       "      <td>Mahler, Gustav</td>\n",
       "      <td>NaN</td>\n",
       "    </tr>\n",
       "    <tr>\n",
       "      <th>73011</th>\n",
       "      <td>ecfc9443-8dc0-4c6f-a36a-4c337a4c63af</td>\n",
       "      <td>9137</td>\n",
       "      <td>1898</td>\n",
       "      <td>2.0</td>\n",
       "      <td>4</td>\n",
       "      <td>SALOME, OP. 54</td>\n",
       "      <td>Final Scene: \"Ah, du wolltest mich nicht deine...</td>\n",
       "      <td>Mehta, Zubin</td>\n",
       "      <td>NaN</td>\n",
       "    </tr>\n",
       "    <tr>\n",
       "      <th>56383</th>\n",
       "      <td>11abaa25-c4d4-4da2-adc9-6c219c0be140</td>\n",
       "      <td>10810</td>\n",
       "      <td>1998</td>\n",
       "      <td>NaN</td>\n",
       "      <td>73</td>\n",
       "      <td>GOLD AND SILVER WALTZ, THE</td>\n",
       "      <td>NaN</td>\n",
       "      <td>Stolz, Robert</td>\n",
       "      <td>NaN</td>\n",
       "    </tr>\n",
       "    <tr>\n",
       "      <th>7099</th>\n",
       "      <td>903907e7-361a-4d1a-8598-e551d9c1dd9e</td>\n",
       "      <td>11812</td>\n",
       "      <td>52193</td>\n",
       "      <td>NaN</td>\n",
       "      <td>666</td>\n",
       "      <td>IL MATRIMONIO SEGRETO</td>\n",
       "      <td>NaN</td>\n",
       "      <td>Tzincoca, Rémus</td>\n",
       "      <td>NaN</td>\n",
       "    </tr>\n",
       "  </tbody>\n",
       "</table>\n",
       "</div>"
      ],
      "text/plain": [
       "                                       GUID  ProgramID  WorkID  MovementID  \\\n",
       "48032  c8db5013-aac5-46cc-ab91-8f5e65852d67       2242   52671         2.0   \n",
       "28063  0515f085-6a05-41af-8a46-2b760e02e831        377    9194         1.0   \n",
       "73011  ecfc9443-8dc0-4c6f-a36a-4c337a4c63af       9137    1898         2.0   \n",
       "56383  11abaa25-c4d4-4da2-adc9-6c219c0be140      10810    1998         NaN   \n",
       "7099   903907e7-361a-4d1a-8598-e551d9c1dd9e      11812   52193         NaN   \n",
       "\n",
       "       ComposerName                             WorkTitle  \\\n",
       "48032             5  COQ D'OR, LE: SUITE (ARR. Steinberg)   \n",
       "28063            74                   BARTERED BRIDE, THE   \n",
       "73011             4                        SALOME, OP. 54   \n",
       "56383            73            GOLD AND SILVER WALTZ, THE   \n",
       "7099            666                 IL MATRIMONIO SEGRETO   \n",
       "\n",
       "                                                Movement       ConductorName  \\\n",
       "48032               King Dodon and the Queen of Shemakha  Kostelanetz, Andre   \n",
       "28063                  Overture (\"Overture to a Comedy\")      Mahler, Gustav   \n",
       "73011  Final Scene: \"Ah, du wolltest mich nicht deine...        Mehta, Zubin   \n",
       "56383                                                NaN       Stolz, Robert   \n",
       "7099                                                 NaN     Tzincoca, Rémus   \n",
       "\n",
       "      Interval  \n",
       "48032      NaN  \n",
       "28063      NaN  \n",
       "73011      NaN  \n",
       "56383      NaN  \n",
       "7099       NaN  "
      ]
     },
     "execution_count": 18,
     "metadata": {},
     "output_type": "execute_result"
    }
   ],
   "source": [
    "X_test_ = encoder.fit_transform(X_test)\n",
    "X_test_.head()"
   ]
  },
  {
   "cell_type": "markdown",
   "metadata": {},
   "source": [
    "Let's re-do our transformer functions so that they can either fit a transformer or accept a pre-fitted one.\n",
    "\n",
    "We have to change our `label_encoder()` first to incorporate this logic. Then we need to adapt `transform_data()`."
   ]
  },
  {
   "cell_type": "code",
   "execution_count": 19,
   "metadata": {},
   "outputs": [
    {
     "name": "stdout",
     "output_type": "stream",
     "text": [
      "Encodings: [('Rodgers,  Richard', 1), ('Zhang,  Yijun', 2), ('Strauss,  Richard', 3), ('Rimsky-Korsakov,  Nikolai', 4)]\n"
     ]
    }
   ],
   "source": [
    "def transform_data(df, encoder=None):\n",
    "    df = df.copy()\n",
    "    df, encoder = (df.pipe(remove_intervals)\n",
    "                     .pipe(label_encoder, 'ComposerName', encoder))\n",
    "    \n",
    "    return df, encoder\n",
    "\n",
    "def remove_intervals(df):\n",
    "    df = df.copy()\n",
    "    mask = df['Interval'].isnull()\n",
    "    df = (df.loc[mask, :]\n",
    "            .drop(columns='Interval'))\n",
    "    return df\n",
    "\n",
    "\n",
    "def label_encoder(df, columns, encoder=None):\n",
    "    if not encoder:\n",
    "        encoder = OrdinalEncoder(cols=[columns])\n",
    "        encoder.fit(df)\n",
    "        \n",
    "    preview_encodings(encoder)\n",
    "\n",
    "    df = df.copy()\n",
    "    df = encoder.transform(df)\n",
    "\n",
    "    return df, encoder\n",
    "\n",
    "    \n",
    "def preview_encodings(encoder):\n",
    "    encodings = encoder.category_mapping[0]['mapping'][:4]\n",
    "    print('Encodings: {}'.format(encodings))\n",
    "    return None\n",
    "\n",
    "X_train_, encoder = transform_data(X_train)"
   ]
  },
  {
   "cell_type": "markdown",
   "metadata": {},
   "source": [
    "In the code above, we changed our functions so that they can receive an encoder. \n",
    "\n",
    "Otherwise, they fit and return the new one for re-use.\n",
    "\n",
    "From a consistency standpoint, things should be looking good. Nonetheless, you are previewing the encoder as a sanity check."
   ]
  },
  {
   "cell_type": "code",
   "execution_count": 20,
   "metadata": {},
   "outputs": [
    {
     "name": "stdout",
     "output_type": "stream",
     "text": [
      "Encodings: [('Rodgers,  Richard', 1), ('Zhang,  Yijun', 2), ('Strauss,  Richard', 3), ('Rimsky-Korsakov,  Nikolai', 4)]\n"
     ]
    }
   ],
   "source": [
    "X_test_ = transform_data(X_test, encoder=encoder)"
   ]
  },
  {
   "cell_type": "markdown",
   "metadata": {},
   "source": [
    "What kind of transformations do you need to perform this way? Some widespread ones are:\n",
    "* Encoding (as we've seen)\n",
    "* Scaling\n",
    "* Vectorization (you will learn about this in the next specialization!)\n",
    "* Missing data imputation.\n",
    "\n",
    "Now, this changes things (right?):\n",
    "* We lose the ability to do method chaining, as we have to return encodings as intermediate outputs\n",
    "* We need to segregate pipelines for training (fit and transform) and test (transform), which adds complexity and it's error-prone.\n",
    "\n",
    "Because we will perform the same transformations on all datasets, storing all the correct steps is critical for reproducibility and consistency.\n",
    "\n",
    "It turns out, scikit-learn provides us with a distinctive take on pipelines, to wrap all of this in a single META-TRANSFORMER.\n",
    "\n",
    "![megazord](./media/megazord.png)\n",
    "\n",
    "*Fig 3. - A meta-transformer in practice.*\n",
    "\n",
    "Meet the Megazord."
   ]
  },
  {
   "cell_type": "markdown",
   "metadata": {},
   "source": [
    "## 3.3 Pipelines\n",
    "\n",
    "The sklearn's `Pipelines` provide a higher level of abstraction than the individual building blocks.\n",
    "\n",
    "Let's tie together all these sequential transformers and run `Megazord.fit()` and `Megazord.transform()` on the whole thing.\n",
    "\n",
    "That would make managing our code much easier, right? Let's do it:\n",
    "* We want to replace the missing values with the mode\n",
    "* We want to one-hot-encode all categorical variables.\n",
    "\n",
    "First things first, some Pandas magic: let's drop the ID columns and exclude the intervals."
   ]
  },
  {
   "cell_type": "code",
   "execution_count": 21,
   "metadata": {},
   "outputs": [
    {
     "data": {
      "text/html": [
       "<div>\n",
       "<style scoped>\n",
       "    .dataframe tbody tr th:only-of-type {\n",
       "        vertical-align: middle;\n",
       "    }\n",
       "\n",
       "    .dataframe tbody tr th {\n",
       "        vertical-align: top;\n",
       "    }\n",
       "\n",
       "    .dataframe thead th {\n",
       "        text-align: right;\n",
       "    }\n",
       "</style>\n",
       "<table border=\"1\" class=\"dataframe\">\n",
       "  <thead>\n",
       "    <tr style=\"text-align: right;\">\n",
       "      <th></th>\n",
       "      <th>ComposerName</th>\n",
       "      <th>WorkTitle</th>\n",
       "      <th>Movement</th>\n",
       "      <th>ConductorName</th>\n",
       "    </tr>\n",
       "  </thead>\n",
       "  <tbody>\n",
       "    <tr>\n",
       "      <th>64137</th>\n",
       "      <td>Rodgers,  Richard</td>\n",
       "      <td>ALLEGRO</td>\n",
       "      <td>\"You Are Never Away\"</td>\n",
       "      <td>Smallens, Alexander</td>\n",
       "    </tr>\n",
       "    <tr>\n",
       "      <th>39076</th>\n",
       "      <td>Zhang,  Yijun</td>\n",
       "      <td>DREAMING SILK ROAD</td>\n",
       "      <td>NaN</td>\n",
       "      <td>Maazel, Lorin</td>\n",
       "    </tr>\n",
       "    <tr>\n",
       "      <th>67962</th>\n",
       "      <td>Strauss,  Richard</td>\n",
       "      <td>DEATH AND TRANSFIGURATION (TOD UND VERKLARUNG)...</td>\n",
       "      <td>NaN</td>\n",
       "      <td>Toscanini, Arturo</td>\n",
       "    </tr>\n",
       "    <tr>\n",
       "      <th>61807</th>\n",
       "      <td>Rimsky-Korsakov,  Nikolai</td>\n",
       "      <td>CAPRICCIO ESPAGNOL, OP. 34</td>\n",
       "      <td>NaN</td>\n",
       "      <td>Stransky, Josef</td>\n",
       "    </tr>\n",
       "    <tr>\n",
       "      <th>70732</th>\n",
       "      <td>Schubert,  Franz</td>\n",
       "      <td>ERLKONIG [ERLKÖNIG], D.328 (PIANO) (ARR. Liszt)</td>\n",
       "      <td>NaN</td>\n",
       "      <td>NaN</td>\n",
       "    </tr>\n",
       "  </tbody>\n",
       "</table>\n",
       "</div>"
      ],
      "text/plain": [
       "                    ComposerName  \\\n",
       "64137          Rodgers,  Richard   \n",
       "39076              Zhang,  Yijun   \n",
       "67962          Strauss,  Richard   \n",
       "61807  Rimsky-Korsakov,  Nikolai   \n",
       "70732           Schubert,  Franz   \n",
       "\n",
       "                                               WorkTitle  \\\n",
       "64137                                            ALLEGRO   \n",
       "39076                                 DREAMING SILK ROAD   \n",
       "67962  DEATH AND TRANSFIGURATION (TOD UND VERKLARUNG)...   \n",
       "61807                         CAPRICCIO ESPAGNOL, OP. 34   \n",
       "70732    ERLKONIG [ERLKÖNIG], D.328 (PIANO) (ARR. Liszt)   \n",
       "\n",
       "                   Movement        ConductorName  \n",
       "64137  \"You Are Never Away\"  Smallens, Alexander  \n",
       "39076                   NaN        Maazel, Lorin  \n",
       "67962                   NaN    Toscanini, Arturo  \n",
       "61807                   NaN      Stransky, Josef  \n",
       "70732                   NaN                  NaN  "
      ]
     },
     "execution_count": 21,
     "metadata": {},
     "output_type": "execute_result"
    }
   ],
   "source": [
    "def prepare_data(df):\n",
    "    df = df.copy()\n",
    "    df = (df.pipe(drop_id_fields)\n",
    "            .pipe(remove_intervals)\n",
    "            .drop_duplicates())\n",
    "    return df\n",
    "\n",
    "def drop_id_fields(df):\n",
    "    columns = ['GUID', 'ProgramID', 'WorkID', 'MovementID']\n",
    "    df = df.copy()\n",
    "    df = df.drop(columns=columns)\n",
    "    return df\n",
    "\n",
    "X_train_ = prepare_data(X_train)\n",
    "X_train_.head()"
   ]
  },
  {
   "cell_type": "code",
   "execution_count": 22,
   "metadata": {},
   "outputs": [
    {
     "data": {
      "text/html": [
       "<div>\n",
       "<style scoped>\n",
       "    .dataframe tbody tr th:only-of-type {\n",
       "        vertical-align: middle;\n",
       "    }\n",
       "\n",
       "    .dataframe tbody tr th {\n",
       "        vertical-align: top;\n",
       "    }\n",
       "\n",
       "    .dataframe thead th {\n",
       "        text-align: right;\n",
       "    }\n",
       "</style>\n",
       "<table border=\"1\" class=\"dataframe\">\n",
       "  <thead>\n",
       "    <tr style=\"text-align: right;\">\n",
       "      <th></th>\n",
       "      <th>ComposerName</th>\n",
       "      <th>WorkTitle</th>\n",
       "      <th>Movement</th>\n",
       "      <th>ConductorName</th>\n",
       "    </tr>\n",
       "  </thead>\n",
       "  <tbody>\n",
       "    <tr>\n",
       "      <th>48032</th>\n",
       "      <td>Rimsky-Korsakov,  Nikolai</td>\n",
       "      <td>COQ D'OR, LE: SUITE (ARR. Steinberg)</td>\n",
       "      <td>King Dodon and the Queen of Shemakha</td>\n",
       "      <td>Kostelanetz, Andre</td>\n",
       "    </tr>\n",
       "    <tr>\n",
       "      <th>28063</th>\n",
       "      <td>Smetana,  Bedrich</td>\n",
       "      <td>BARTERED BRIDE, THE</td>\n",
       "      <td>Overture (\"Overture to a Comedy\")</td>\n",
       "      <td>Mahler, Gustav</td>\n",
       "    </tr>\n",
       "    <tr>\n",
       "      <th>73011</th>\n",
       "      <td>Strauss,  Richard</td>\n",
       "      <td>SALOME, OP. 54</td>\n",
       "      <td>Final Scene: \"Ah, du wolltest mich nicht deine...</td>\n",
       "      <td>Mehta, Zubin</td>\n",
       "    </tr>\n",
       "    <tr>\n",
       "      <th>56383</th>\n",
       "      <td>Lehar [Lehár],  Franz</td>\n",
       "      <td>GOLD AND SILVER WALTZ, THE</td>\n",
       "      <td>NaN</td>\n",
       "      <td>Stolz, Robert</td>\n",
       "    </tr>\n",
       "    <tr>\n",
       "      <th>7099</th>\n",
       "      <td>Cimarosa,  Domenico</td>\n",
       "      <td>IL MATRIMONIO SEGRETO</td>\n",
       "      <td>NaN</td>\n",
       "      <td>Tzincoca, Rémus</td>\n",
       "    </tr>\n",
       "  </tbody>\n",
       "</table>\n",
       "</div>"
      ],
      "text/plain": [
       "                    ComposerName                             WorkTitle  \\\n",
       "48032  Rimsky-Korsakov,  Nikolai  COQ D'OR, LE: SUITE (ARR. Steinberg)   \n",
       "28063          Smetana,  Bedrich                   BARTERED BRIDE, THE   \n",
       "73011          Strauss,  Richard                        SALOME, OP. 54   \n",
       "56383      Lehar [Lehár],  Franz            GOLD AND SILVER WALTZ, THE   \n",
       "7099         Cimarosa,  Domenico                 IL MATRIMONIO SEGRETO   \n",
       "\n",
       "                                                Movement       ConductorName  \n",
       "48032               King Dodon and the Queen of Shemakha  Kostelanetz, Andre  \n",
       "28063                  Overture (\"Overture to a Comedy\")      Mahler, Gustav  \n",
       "73011  Final Scene: \"Ah, du wolltest mich nicht deine...        Mehta, Zubin  \n",
       "56383                                                NaN       Stolz, Robert  \n",
       "7099                                                 NaN     Tzincoca, Rémus  "
      ]
     },
     "execution_count": 22,
     "metadata": {},
     "output_type": "execute_result"
    }
   ],
   "source": [
    "X_test_ = prepare_data(X_test)\n",
    "X_test_.head()"
   ]
  },
  {
   "cell_type": "markdown",
   "metadata": {},
   "source": [
    "Here's how we are going to do:\n",
    "1. Create an `Imputer` that replace missing values with the mode of the column\n",
    "2. Use said `Imputer` to impute the missing values\n",
    "3. Ordinal encode all the categorical features.\n",
    "\n",
    "All in one, single, amazing, Megazord.\n",
    "\n",
    "## 3.4 Custom transformers\n",
    "\n",
    "We can build own custom transformers, for as long as they follow the usual blueprint:\n",
    "* Implement `Transformer.fit()`\n",
    "* And `Transformer.transform()`.\n",
    "\n",
    "All scikit-learn estimators have `get_params()` and `set_params` functions. \n",
    "\n",
    "The easiest way to implement these functions sensibly is to inherit from `sklearn.base.BaseEstimator`, as we're doing.\n",
    "\n",
    "And `Pipeline` compatibility requires a `fit_transform()` method that we are inheriting from `sklearn.base.TransformerMixin`."
   ]
  },
  {
   "cell_type": "code",
   "execution_count": null,
   "metadata": {},
   "outputs": [],
   "source": [
    "class FeatureMultiplier(BaseEstimator, TransformerMixin):\n",
    "    def __init__(self, some_parameter):\n",
    "        self.some_parameter = some_parameter\n",
    "\n",
    "    def fit(self, X, y=None):\n",
    "        # Fit the transformer and store it.\n",
    "        return self\n",
    "        \n",
    "    def transform(self, X):\n",
    "        # Transform X.\n",
    "        return X"
   ]
  },
  {
   "cell_type": "markdown",
   "metadata": {},
   "source": [
    "Also, we may want our transformer to accept some parameters.\n",
    "\n",
    "That's we are doing when we include `some_parameter` in the `__init__`.\n",
    "\n",
    "Back to our transformers. Our blueprint:\n",
    "* We want the estimator to be able to take a `strategy` parameter, although we will support only the mode\n",
    "* Fitting requires taking the mode of each column and storing it\n",
    "* Transform implies replacing missing values with the given column modes.\n",
    "\n",
    "How are we going to compute the modes? Pandas, as always, provides a convenient `.mode()` method."
   ]
  },
  {
   "cell_type": "code",
   "execution_count": 23,
   "metadata": {},
   "outputs": [
    {
     "data": {
      "text/html": [
       "<div>\n",
       "<style scoped>\n",
       "    .dataframe tbody tr th:only-of-type {\n",
       "        vertical-align: middle;\n",
       "    }\n",
       "\n",
       "    .dataframe tbody tr th {\n",
       "        vertical-align: top;\n",
       "    }\n",
       "\n",
       "    .dataframe thead th {\n",
       "        text-align: right;\n",
       "    }\n",
       "</style>\n",
       "<table border=\"1\" class=\"dataframe\">\n",
       "  <thead>\n",
       "    <tr style=\"text-align: right;\">\n",
       "      <th></th>\n",
       "      <th>ComposerName</th>\n",
       "      <th>WorkTitle</th>\n",
       "      <th>Movement</th>\n",
       "      <th>ConductorName</th>\n",
       "    </tr>\n",
       "  </thead>\n",
       "  <tbody>\n",
       "    <tr>\n",
       "      <th>0</th>\n",
       "      <td>Beethoven,  Ludwig  van</td>\n",
       "      <td>MESSIAH</td>\n",
       "      <td>Overture</td>\n",
       "      <td>Damrosch, Walter</td>\n",
       "    </tr>\n",
       "  </tbody>\n",
       "</table>\n",
       "</div>"
      ],
      "text/plain": [
       "              ComposerName WorkTitle  Movement     ConductorName\n",
       "0  Beethoven,  Ludwig  van   MESSIAH  Overture  Damrosch, Walter"
      ]
     },
     "execution_count": 23,
     "metadata": {},
     "output_type": "execute_result"
    }
   ],
   "source": [
    "X_train_.mode()"
   ]
  },
  {
   "cell_type": "markdown",
   "metadata": {},
   "source": [
    "To be able to use indexing we will use `df.squeeze()`, a convenient method to transform our dataframe into a `pd.Series`."
   ]
  },
  {
   "cell_type": "code",
   "execution_count": 24,
   "metadata": {},
   "outputs": [
    {
     "data": {
      "text/plain": [
       "GUID             884c64d6-1768-4cf1-85f1-0ac2f79bbe5c\n",
       "ProgramID                                       10608\n",
       "WorkID                                              0\n",
       "MovementID                                          1\n",
       "ComposerName                         Wagner,  Richard\n",
       "WorkTitle                  MEISTERSINGER, DIE, WWV 96\n",
       "Movement                                     Overture\n",
       "ConductorName                        Damrosch, Walter\n",
       "Interval                                 Intermission\n",
       "Name: 0, dtype: object"
      ]
     },
     "execution_count": 24,
     "metadata": {},
     "output_type": "execute_result"
    }
   ],
   "source": [
    "X_train.mode().squeeze()"
   ]
  },
  {
   "cell_type": "markdown",
   "metadata": {},
   "source": [
    "We have everything we need."
   ]
  },
  {
   "cell_type": "code",
   "execution_count": 25,
   "metadata": {},
   "outputs": [
    {
     "data": {
      "text/html": [
       "<div>\n",
       "<style scoped>\n",
       "    .dataframe tbody tr th:only-of-type {\n",
       "        vertical-align: middle;\n",
       "    }\n",
       "\n",
       "    .dataframe tbody tr th {\n",
       "        vertical-align: top;\n",
       "    }\n",
       "\n",
       "    .dataframe thead th {\n",
       "        text-align: right;\n",
       "    }\n",
       "</style>\n",
       "<table border=\"1\" class=\"dataframe\">\n",
       "  <thead>\n",
       "    <tr style=\"text-align: right;\">\n",
       "      <th></th>\n",
       "      <th>ComposerName</th>\n",
       "      <th>WorkTitle</th>\n",
       "      <th>Movement</th>\n",
       "      <th>ConductorName</th>\n",
       "    </tr>\n",
       "  </thead>\n",
       "  <tbody>\n",
       "    <tr>\n",
       "      <th>64137</th>\n",
       "      <td>Rodgers,  Richard</td>\n",
       "      <td>ALLEGRO</td>\n",
       "      <td>\"You Are Never Away\"</td>\n",
       "      <td>Smallens, Alexander</td>\n",
       "    </tr>\n",
       "    <tr>\n",
       "      <th>39076</th>\n",
       "      <td>Zhang,  Yijun</td>\n",
       "      <td>DREAMING SILK ROAD</td>\n",
       "      <td>Overture</td>\n",
       "      <td>Maazel, Lorin</td>\n",
       "    </tr>\n",
       "    <tr>\n",
       "      <th>67962</th>\n",
       "      <td>Strauss,  Richard</td>\n",
       "      <td>DEATH AND TRANSFIGURATION (TOD UND VERKLARUNG)...</td>\n",
       "      <td>Overture</td>\n",
       "      <td>Toscanini, Arturo</td>\n",
       "    </tr>\n",
       "    <tr>\n",
       "      <th>61807</th>\n",
       "      <td>Rimsky-Korsakov,  Nikolai</td>\n",
       "      <td>CAPRICCIO ESPAGNOL, OP. 34</td>\n",
       "      <td>Overture</td>\n",
       "      <td>Stransky, Josef</td>\n",
       "    </tr>\n",
       "    <tr>\n",
       "      <th>70732</th>\n",
       "      <td>Schubert,  Franz</td>\n",
       "      <td>ERLKONIG [ERLKÖNIG], D.328 (PIANO) (ARR. Liszt)</td>\n",
       "      <td>Overture</td>\n",
       "      <td>Damrosch, Walter</td>\n",
       "    </tr>\n",
       "  </tbody>\n",
       "</table>\n",
       "</div>"
      ],
      "text/plain": [
       "                    ComposerName  \\\n",
       "64137          Rodgers,  Richard   \n",
       "39076              Zhang,  Yijun   \n",
       "67962          Strauss,  Richard   \n",
       "61807  Rimsky-Korsakov,  Nikolai   \n",
       "70732           Schubert,  Franz   \n",
       "\n",
       "                                               WorkTitle  \\\n",
       "64137                                            ALLEGRO   \n",
       "39076                                 DREAMING SILK ROAD   \n",
       "67962  DEATH AND TRANSFIGURATION (TOD UND VERKLARUNG)...   \n",
       "61807                         CAPRICCIO ESPAGNOL, OP. 34   \n",
       "70732    ERLKONIG [ERLKÖNIG], D.328 (PIANO) (ARR. Liszt)   \n",
       "\n",
       "                   Movement        ConductorName  \n",
       "64137  \"You Are Never Away\"  Smallens, Alexander  \n",
       "39076              Overture        Maazel, Lorin  \n",
       "67962              Overture    Toscanini, Arturo  \n",
       "61807              Overture      Stransky, Josef  \n",
       "70732              Overture     Damrosch, Walter  "
      ]
     },
     "execution_count": 25,
     "metadata": {},
     "output_type": "execute_result"
    }
   ],
   "source": [
    "class CategoryImputer(BaseEstimator, TransformerMixin):\n",
    "    def __init__(self, strategy=None):\n",
    "        if strategy:\n",
    "            self.strategy = strategy\n",
    "        else:\n",
    "            self.strategy = 'most_frequent'\n",
    "\n",
    "    def fit(self, X, y=None):\n",
    "        if self.strategy == 'most_frequent':\n",
    "            self.fills = X.mode(axis=0).squeeze()\n",
    "            return self\n",
    "        else:\n",
    "            return 'Strategy not supported.'\n",
    "\n",
    "    def transform(self, X):\n",
    "        return pd.DataFrame(X).fillna(self.fills)\n",
    "\n",
    "\n",
    "imputer = CategoryImputer()\n",
    "X_train_ = imputer.fit_transform(X_train_)\n",
    "X_train_.head()"
   ]
  },
  {
   "cell_type": "code",
   "execution_count": 26,
   "metadata": {},
   "outputs": [
    {
     "data": {
      "text/plain": [
       "ComposerName     0\n",
       "WorkTitle        0\n",
       "Movement         0\n",
       "ConductorName    0\n",
       "dtype: int64"
      ]
     },
     "execution_count": 26,
     "metadata": {},
     "output_type": "execute_result"
    }
   ],
   "source": [
    "X_train_.isnull().sum()"
   ]
  },
  {
   "cell_type": "markdown",
   "metadata": {},
   "source": [
    "There we go! What about the test set?"
   ]
  },
  {
   "cell_type": "code",
   "execution_count": 27,
   "metadata": {},
   "outputs": [
    {
     "data": {
      "text/plain": [
       "ComposerName     0\n",
       "WorkTitle        0\n",
       "Movement         0\n",
       "ConductorName    0\n",
       "dtype: int64"
      ]
     },
     "execution_count": 27,
     "metadata": {},
     "output_type": "execute_result"
    }
   ],
   "source": [
    "X_test_ = imputer.transform(X_test_)\n",
    "X_test_.isnull().sum()"
   ]
  },
  {
   "cell_type": "markdown",
   "metadata": {},
   "source": [
    "Victory awaits!"
   ]
  },
  {
   "cell_type": "markdown",
   "metadata": {},
   "source": [
    "## 3.5 Everything together\n",
    "\n",
    "Now, we want to fill in missing values and use one-hot-encoding (remember?), all at the same time.\n",
    "\n",
    "We are reaching our destination!"
   ]
  },
  {
   "cell_type": "code",
   "execution_count": 28,
   "metadata": {},
   "outputs": [],
   "source": [
    "megazord = Pipeline([('fill_na', CategoryImputer(strategy='most_frequent')),\n",
    "                     ('encode', OrdinalEncoder())])\n",
    "\n",
    "X_train_ = megazord.fit_transform(X_train)\n",
    "X_test_ = megazord.transform(X_test)"
   ]
  },
  {
   "cell_type": "markdown",
   "metadata": {},
   "source": [
    "This way we abstract all the logic of passing transformers around.\n",
    "\n",
    "Now, can we throw a model in there? Perhaps we can.\n",
    "\n",
    "(But we shouldn't, in a way. Please note that we are exemplifying data wrangling workflows.)"
   ]
  },
  {
   "cell_type": "code",
   "execution_count": 29,
   "metadata": {},
   "outputs": [
    {
     "data": {
      "text/plain": [
       "array([3, 2, 4, ..., 6, 0, 3])"
      ]
     },
     "execution_count": 29,
     "metadata": {},
     "output_type": "execute_result"
    }
   ],
   "source": [
    "megazord = Pipeline([('fill_na', CategoryImputer(strategy='most_frequent')),\n",
    "                     ('encode', OrdinalEncoder()),\n",
    "                     ('k_means', KMeans())])\n",
    "\n",
    "megazord.fit(X_train_)\n",
    "megazord.predict(X_test_)"
   ]
  },
  {
   "cell_type": "markdown",
   "metadata": {},
   "source": [
    "For the sake of simplicity, we are encoding categorical variables as if they were ordinal, instead of using one-hot-encoding, as recommended.\n",
    "\n",
    "Take this for what it is: an example on how to build end-to-end pipelines for modeling in scikit-learn."
   ]
  }
 ],
 "metadata": {
  "kernelspec": {
   "display_name": "Python 3",
   "language": "python",
   "name": "python3"
  },
  "language_info": {
   "codemirror_mode": {
    "name": "ipython",
    "version": 3
   },
   "file_extension": ".py",
   "mimetype": "text/x-python",
   "name": "python",
   "nbconvert_exporter": "python",
   "pygments_lexer": "ipython3",
   "version": "3.7.3"
  }
 },
 "nbformat": 4,
 "nbformat_minor": 2
}
