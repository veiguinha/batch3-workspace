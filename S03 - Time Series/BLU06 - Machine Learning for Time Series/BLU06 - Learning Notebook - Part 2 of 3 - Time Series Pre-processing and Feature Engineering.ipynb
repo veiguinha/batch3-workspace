{
 "cells": [
  {
   "cell_type": "markdown",
   "metadata": {},
   "source": [
    "## BLU06 - Learning Notebook - Part 2 of 3 - Time Series Pre-processing and Feature Engineering"
   ]
  },
  {
   "cell_type": "code",
   "execution_count": 1,
   "metadata": {},
   "outputs": [],
   "source": [
    "import pandas as pd \n",
    "from sklearn.linear_model import LinearRegression\n",
    "from sklearn.linear_model import Lasso\n",
    "from sklearn.linear_model import Ridge\n",
    "from matplotlib import pyplot as plt \n",
    "from sklearn.ensemble import RandomForestRegressor\n",
    "from sklearn.ensemble import GradientBoostingRegressor\n",
    "from joblib import Parallel, delayed\n",
    "from sklearn.metrics import r2_score\n",
    "from sklearn.metrics import mean_absolute_error\n",
    "from sklearn.metrics import mean_squared_error\n",
    "from statsmodels.graphics.tsaplots import plot_pacf\n",
    "from sklearn.ensemble import RandomForestRegressor\n",
    "%matplotlib inline \n",
    "import numpy as np\n",
    "plt.rcParams['figure.figsize'] = (16, 8)\n",
    "from tqdm import tqdm_notebook as tqdm\n",
    "import warnings\n",
    "warnings.filterwarnings(action=\"ignore\")\n",
    "warnings.filterwarnings(action=\"ignore\", module=\"scipy\", message=\"^internal gelsd\")\n",
    "\n",
    "import utils"
   ]
  },
  {
   "cell_type": "markdown",
   "metadata": {},
   "source": [
    "In the previous notebook we learned how to formulate time series multi-step forecasting as a regression problem where any ML model can be applied. But the airlines dataset is quite different from the ones you'll find in the wild. In this notebook we'll exlore a dataset that contains the customers that a store had with daily frequency. We'll learn about data pre-processing, feature engineering and play with gradient boosting as an alternative to linear regression."
   ]
  },
  {
   "cell_type": "code",
   "execution_count": 2,
   "metadata": {},
   "outputs": [],
   "source": [
    "store = utils.get_store_data()\n",
    "store['date'] = pd.to_datetime(store['date'], format='%Y-%m-%d')\n",
    "store = store.set_index('date')\n",
    "store = store.sort_index()"
   ]
  },
  {
   "cell_type": "markdown",
   "metadata": {},
   "source": [
    "## Functions"
   ]
  },
  {
   "cell_type": "code",
   "execution_count": 3,
   "metadata": {},
   "outputs": [],
   "source": [
    "def build_target(series_, number_of_periods_ahead):\n",
    "    \"\"\" \n",
    "    takes a series, turns it into a dataframe, and adds a new column called target\n",
    "    This column is the input series, lagged number_of_periods_ahead into the future\n",
    "    \"\"\"\n",
    "    \n",
    "    # make a copy \n",
    "    series_ = series_.copy()\n",
    "    series_.name = 'customers'\n",
    "    \n",
    "    # make a dataframe from the series\n",
    "    df_ = pd.DataFrame(series_)\n",
    "    \n",
    "    # the target column will be the input series, lagged into the future\n",
    "    df_['target'] = series_.shift(-number_of_periods_ahead)\n",
    "    return df_"
   ]
  },
  {
   "cell_type": "code",
   "execution_count": 4,
   "metadata": {},
   "outputs": [],
   "source": [
    "def separate_last_day(df_):\n",
    "    \n",
    "    \"\"\"\n",
    "    takes a dataset which has the target and features built \n",
    "    and separates it into the last day\n",
    "    \"\"\"\n",
    "    # take the last period \n",
    "    last_period = df_.iloc[-1]\n",
    "    \n",
    "    # the last period is now a series, so it's name will be the timestamp\n",
    "    training_data = df_.loc[df_.index < last_period.name]\n",
    "\n",
    "    return last_period, training_data"
   ]
  },
  {
   "cell_type": "code",
   "execution_count": 5,
   "metadata": {},
   "outputs": [],
   "source": [
    "def build_some_features(df_, num_periods_lagged=1, num_periods_diffed=0, weekday=False, month=False, rolling=[], holidays=False): \n",
    "    \"\"\"\n",
    "    Builds some features by calculating differences between periods  \n",
    "    \"\"\"\n",
    "    # make a copy \n",
    "    df_ = df_.copy()\n",
    "        \n",
    "    # for a few values, get the lags  \n",
    "    for i in range(1, num_periods_lagged+1):\n",
    "        # make a new feature, with the lags in the observed values column\n",
    "        df_['lagged_%s' % str(i)] = df_['customers'].shift(i)\n",
    "        \n",
    "    # for a few values, get the diffs  \n",
    "    for i in range(1, num_periods_diffed+1):\n",
    "        # make a new feature, with the diffs in the observed values column\n",
    "        df_['diff_%s' % str(i)] = df_['customers'].diff(i)\n",
    "    \n",
    "    for stat in rolling:\n",
    "        df_['rolling_%s'%str(stat)] = df_['customers'].rolling('7D').aggregate(stat)\n",
    "        \n",
    "    if weekday == True:\n",
    "        df_['sin_weekday'] = np.sin(2*np.pi*df_.index.weekday/7)\n",
    "        df_['cos_weekday'] = np.sin(2*np.pi*df_.index.weekday/7)\n",
    "        \n",
    "    if month == True:\n",
    "        df_['sin_month'] = np.sin(2*np.pi*df_.index.month/12)\n",
    "        df_['cos_month'] = np.sin(2*np.pi*df_.index.month/12)\n",
    "        \n",
    "    if holidays == True:\n",
    "        holidays = df_[((df_.index.month==12) & (df_.index.day==25))\n",
    "              |((df_.index.month==1) & (df_.index.day==1))].customers\n",
    "        df_['holidays'] = holidays + 1\n",
    "        df_['holidays'] = df_['holidays'].fillna(0)\n",
    "    \n",
    "    return df_"
   ]
  },
  {
   "cell_type": "code",
   "execution_count": 6,
   "metadata": {},
   "outputs": [],
   "source": [
    "def separate_train_and_test_set(last_period_, training_data_, target='target'): \n",
    "    \n",
    "    \"\"\" \n",
    "    separates training and test set (clue was in the name, really... )\n",
    "    Ok, we were lazy and left the target hardcoded as 'target'. Shame on us. \n",
    "    \"\"\"\n",
    "    \n",
    "    # anything that isn't a target is a feature \n",
    "    features = [feature for feature in training_data_.columns if feature != target]\n",
    "    \n",
    "    # adding a sneaky little dropna to avoid the missing data problem above \n",
    "    X_train = training_data_.dropna()[features]\n",
    "    y_train = training_data_.dropna()[target]\n",
    "    \n",
    "    X_last_period = last_period_[features]\n",
    "    \n",
    "    return X_train, y_train, X_last_period"
   ]
  },
  {
   "cell_type": "code",
   "execution_count": 7,
   "metadata": {},
   "outputs": [],
   "source": [
    "def prepare_for_prediction(series_, number_of_periods_ahead, num_periods_lagged, num_periods_diffed, weekday, month, rolling, holidays):\n",
    "    \n",
    "    \"\"\" \n",
    "    Wrapper to go from the original series to X_train, y_train, X_last_period \n",
    "    \n",
    "    \"\"\"\n",
    "    \n",
    "    # build the target \n",
    "    data_with_target = build_target(series_, \n",
    "                                    number_of_periods_ahead)\n",
    "    \n",
    "    # build the features \n",
    "    data_with_target_and_features = build_some_features(data_with_target, \n",
    "                                                        num_periods_lagged=num_periods_lagged,\n",
    "                                                       num_periods_diffed=num_periods_diffed,\n",
    "                                                       weekday=weekday,\n",
    "                                                       month=month,\n",
    "                                                       rolling=rolling,\n",
    "                                                       holidays=holidays)\n",
    "    # separate train and test data \n",
    "    last_period, training_data = separate_last_day(data_with_target_and_features)\n",
    "\n",
    "    # separate X_train, y_train, and X_test \n",
    "    X_train, y_train, X_last_period = separate_train_and_test_set(last_period, \n",
    "                                                           training_data, \n",
    "                                                           target='target')\n",
    "    \n",
    "    # return ALL OF THE THINGS! (well, actually just the ones we need)\n",
    "    return X_train, y_train, X_last_period "
   ]
  },
  {
   "cell_type": "code",
   "execution_count": 8,
   "metadata": {},
   "outputs": [],
   "source": [
    "def predict_period_n(series_, model, number_of_periods_ahead, num_periods_lagged, num_periods_diffed, weekday, month, rolling, holidays): \n",
    "    \n",
    "        X_train, y_train, X_last_period = prepare_for_prediction(series_, \n",
    "                                                             number_of_periods_ahead, \n",
    "                                                             num_periods_lagged,\n",
    "                                                             num_periods_diffed,\n",
    "                                                             weekday,\n",
    "                                                             month,\n",
    "                                                             rolling,\n",
    "                                                             holidays)\n",
    "        \n",
    "        model.fit(X_train, y_train)\n",
    "        return model.predict(X_last_period.values.reshape(1, -1))"
   ]
  },
  {
   "cell_type": "code",
   "execution_count": 9,
   "metadata": {},
   "outputs": [],
   "source": [
    "def predict_n_periods(series_, n_periods, model, num_periods_lagged, num_periods_diffed=0, weekday=False, month=False,rolling=[], holidays=False): \n",
    "    predictions = []\n",
    "\n",
    "    for period_ahead in range(1, n_periods+1):\n",
    "        pred = predict_period_n(series_=series_, \n",
    "                                model=model, \n",
    "                                number_of_periods_ahead=period_ahead, \n",
    "                                num_periods_lagged=num_periods_lagged,\n",
    "                                num_periods_diffed=num_periods_diffed,\n",
    "                                weekday=weekday,\n",
    "                                month=month,\n",
    "                                rolling=rolling,\n",
    "                                holidays=holidays)\n",
    "        \n",
    "        predictions.append(pred[0])\n",
    "        \n",
    "    return predictions "
   ]
  },
  {
   "cell_type": "markdown",
   "metadata": {},
   "source": [
    "# Data Pre-processing"
   ]
  },
  {
   "cell_type": "markdown",
   "metadata": {},
   "source": [
    "Whenever analysing time series data it's always important to verify if it has all the timestamps. Let's look at our data:"
   ]
  },
  {
   "cell_type": "code",
   "execution_count": 10,
   "metadata": {},
   "outputs": [
    {
     "data": {
      "text/html": [
       "<div>\n",
       "<style scoped>\n",
       "    .dataframe tbody tr th:only-of-type {\n",
       "        vertical-align: middle;\n",
       "    }\n",
       "\n",
       "    .dataframe tbody tr th {\n",
       "        vertical-align: top;\n",
       "    }\n",
       "\n",
       "    .dataframe thead th {\n",
       "        text-align: right;\n",
       "    }\n",
       "</style>\n",
       "<table border=\"1\" class=\"dataframe\">\n",
       "  <thead>\n",
       "    <tr style=\"text-align: right;\">\n",
       "      <th></th>\n",
       "      <th>customers</th>\n",
       "    </tr>\n",
       "    <tr>\n",
       "      <th>date</th>\n",
       "      <th></th>\n",
       "    </tr>\n",
       "  </thead>\n",
       "  <tbody>\n",
       "    <tr>\n",
       "      <th>2013-01-02</th>\n",
       "      <td>2111</td>\n",
       "    </tr>\n",
       "    <tr>\n",
       "      <th>2013-01-03</th>\n",
       "      <td>1833</td>\n",
       "    </tr>\n",
       "    <tr>\n",
       "      <th>2013-01-04</th>\n",
       "      <td>1863</td>\n",
       "    </tr>\n",
       "    <tr>\n",
       "      <th>2013-01-05</th>\n",
       "      <td>1509</td>\n",
       "    </tr>\n",
       "    <tr>\n",
       "      <th>2013-01-06</th>\n",
       "      <td>520</td>\n",
       "    </tr>\n",
       "  </tbody>\n",
       "</table>\n",
       "</div>"
      ],
      "text/plain": [
       "            customers\n",
       "date                 \n",
       "2013-01-02       2111\n",
       "2013-01-03       1833\n",
       "2013-01-04       1863\n",
       "2013-01-05       1509\n",
       "2013-01-06        520"
      ]
     },
     "execution_count": 10,
     "metadata": {},
     "output_type": "execute_result"
    }
   ],
   "source": [
    "store.head()"
   ]
  },
  {
   "cell_type": "code",
   "execution_count": 11,
   "metadata": {},
   "outputs": [
    {
     "data": {
      "text/plain": [
       "customers    0\n",
       "dtype: int64"
      ]
     },
     "execution_count": 11,
     "metadata": {},
     "output_type": "execute_result"
    }
   ],
   "source": [
    "store.isnull().sum()"
   ]
  },
  {
   "cell_type": "markdown",
   "metadata": {},
   "source": [
    "It seems to have daily frequency. To make sure we have no missing days we can resample the data to a daily frequency. This will add all possibly non-existing days as NaNs."
   ]
  },
  {
   "cell_type": "code",
   "execution_count": 12,
   "metadata": {},
   "outputs": [],
   "source": [
    "store_resampled = store.resample('D').mean()"
   ]
  },
  {
   "cell_type": "code",
   "execution_count": 13,
   "metadata": {},
   "outputs": [
    {
     "data": {
      "text/plain": [
       "customers    11\n",
       "dtype: int64"
      ]
     },
     "execution_count": 13,
     "metadata": {},
     "output_type": "execute_result"
    }
   ],
   "source": [
    "store_resampled.isnull().sum()"
   ]
  },
  {
   "cell_type": "markdown",
   "metadata": {},
   "source": [
    "Ok! So there were 11 missing days. Let's check which days where these:"
   ]
  },
  {
   "cell_type": "code",
   "execution_count": 14,
   "metadata": {},
   "outputs": [
    {
     "data": {
      "text/html": [
       "<div>\n",
       "<style scoped>\n",
       "    .dataframe tbody tr th:only-of-type {\n",
       "        vertical-align: middle;\n",
       "    }\n",
       "\n",
       "    .dataframe tbody tr th {\n",
       "        vertical-align: top;\n",
       "    }\n",
       "\n",
       "    .dataframe thead th {\n",
       "        text-align: right;\n",
       "    }\n",
       "</style>\n",
       "<table border=\"1\" class=\"dataframe\">\n",
       "  <thead>\n",
       "    <tr style=\"text-align: right;\">\n",
       "      <th></th>\n",
       "      <th>customers</th>\n",
       "    </tr>\n",
       "    <tr>\n",
       "      <th>date</th>\n",
       "      <th></th>\n",
       "    </tr>\n",
       "  </thead>\n",
       "  <tbody>\n",
       "    <tr>\n",
       "      <th>2013-12-25</th>\n",
       "      <td>NaN</td>\n",
       "    </tr>\n",
       "    <tr>\n",
       "      <th>2014-01-01</th>\n",
       "      <td>NaN</td>\n",
       "    </tr>\n",
       "    <tr>\n",
       "      <th>2014-12-25</th>\n",
       "      <td>NaN</td>\n",
       "    </tr>\n",
       "    <tr>\n",
       "      <th>2015-01-01</th>\n",
       "      <td>NaN</td>\n",
       "    </tr>\n",
       "    <tr>\n",
       "      <th>2015-07-07</th>\n",
       "      <td>NaN</td>\n",
       "    </tr>\n",
       "    <tr>\n",
       "      <th>2015-12-25</th>\n",
       "      <td>NaN</td>\n",
       "    </tr>\n",
       "    <tr>\n",
       "      <th>2016-01-01</th>\n",
       "      <td>NaN</td>\n",
       "    </tr>\n",
       "    <tr>\n",
       "      <th>2016-01-02</th>\n",
       "      <td>NaN</td>\n",
       "    </tr>\n",
       "    <tr>\n",
       "      <th>2016-01-03</th>\n",
       "      <td>NaN</td>\n",
       "    </tr>\n",
       "    <tr>\n",
       "      <th>2016-12-25</th>\n",
       "      <td>NaN</td>\n",
       "    </tr>\n",
       "    <tr>\n",
       "      <th>2017-01-01</th>\n",
       "      <td>NaN</td>\n",
       "    </tr>\n",
       "  </tbody>\n",
       "</table>\n",
       "</div>"
      ],
      "text/plain": [
       "            customers\n",
       "date                 \n",
       "2013-12-25        NaN\n",
       "2014-01-01        NaN\n",
       "2014-12-25        NaN\n",
       "2015-01-01        NaN\n",
       "2015-07-07        NaN\n",
       "2015-12-25        NaN\n",
       "2016-01-01        NaN\n",
       "2016-01-02        NaN\n",
       "2016-01-03        NaN\n",
       "2016-12-25        NaN\n",
       "2017-01-01        NaN"
      ]
     },
     "execution_count": 14,
     "metadata": {},
     "output_type": "execute_result"
    }
   ],
   "source": [
    "store_resampled[store_resampled.isnull()['customers']]"
   ]
  },
  {
   "cell_type": "markdown",
   "metadata": {},
   "source": [
    "Interesting! During Christmas and New Year the store should be closed, hence why there was no entry for the number of customers. Since we have no extra information regarding the other days we'll assume the store was also closed. So we have to replace this NaNs be 0s."
   ]
  },
  {
   "cell_type": "code",
   "execution_count": 15,
   "metadata": {},
   "outputs": [],
   "source": [
    "store_cleaned = store_resampled.fillna(0)"
   ]
  },
  {
   "cell_type": "code",
   "execution_count": 16,
   "metadata": {},
   "outputs": [
    {
     "data": {
      "text/plain": [
       "customers    0\n",
       "dtype: int64"
      ]
     },
     "execution_count": 16,
     "metadata": {},
     "output_type": "execute_result"
    }
   ],
   "source": [
    "store_cleaned.isnull().sum()"
   ]
  },
  {
   "cell_type": "markdown",
   "metadata": {},
   "source": [
    "# Feature Engineering"
   ]
  },
  {
   "cell_type": "markdown",
   "metadata": {},
   "source": [
    "In the last BLU we used the simplest feature to predict time series: lags. But there's a lot more you can do! First let's see what a model with lags similar to the one we were using before can do."
   ]
  },
  {
   "cell_type": "code",
   "execution_count": 17,
   "metadata": {},
   "outputs": [],
   "source": [
    "split_date = '2017-6'\n",
    "train = store_cleaned.loc[store_cleaned.index < split_date]\n",
    "test = store_cleaned.loc[store_cleaned.index >= split_date]"
   ]
  },
  {
   "cell_type": "code",
   "execution_count": 18,
   "metadata": {},
   "outputs": [],
   "source": [
    "predictions = predict_n_periods(series_=train, \n",
    "                  n_periods=len(test), \n",
    "                  model=LinearRegression(), \n",
    "                  num_periods_lagged=30\n",
    "                  )"
   ]
  },
  {
   "cell_type": "code",
   "execution_count": 19,
   "metadata": {},
   "outputs": [
    {
     "data": {
      "image/png": "[encoded data removed]",
      "text/plain": [
       "<Figure size 432x288 with 1 Axes>"
      ]
     },
     "metadata": {
      "needs_background": "light"
     },
     "output_type": "display_data"
    }
   ],
   "source": [
    "store[1500:].plot(label=\"original data\")\n",
    "pd.Series(predictions, index=test.index).plot(label=\"pred\")\n",
    "plt.legend();"
   ]
  },
  {
   "cell_type": "code",
   "execution_count": 20,
   "metadata": {},
   "outputs": [
    {
     "data": {
      "text/plain": [
       "154.90308385316635"
      ]
     },
     "execution_count": 20,
     "metadata": {},
     "output_type": "execute_result"
    }
   ],
   "source": [
    "mean_absolute_error(test,predictions)"
   ]
  },
  {
   "cell_type": "markdown",
   "metadata": {},
   "source": [
    "### Lags and Diffs"
   ]
  },
  {
   "cell_type": "markdown",
   "metadata": {},
   "source": [
    "Similar to lags, we can also use diffs of the time series to predict it. It's possible that knowing if the sales are increasing or decreasing can help predict better the next step. We can add this feature by simply doing:"
   ]
  },
  {
   "cell_type": "code",
   "execution_count": 21,
   "metadata": {},
   "outputs": [],
   "source": [
    "store_features = store_cleaned.copy()"
   ]
  },
  {
   "cell_type": "code",
   "execution_count": 22,
   "metadata": {},
   "outputs": [],
   "source": [
    "store_features['diff'] = store_cleaned.diff()"
   ]
  },
  {
   "cell_type": "code",
   "execution_count": 23,
   "metadata": {},
   "outputs": [
    {
     "data": {
      "text/html": [
       "<div>\n",
       "<style scoped>\n",
       "    .dataframe tbody tr th:only-of-type {\n",
       "        vertical-align: middle;\n",
       "    }\n",
       "\n",
       "    .dataframe tbody tr th {\n",
       "        vertical-align: top;\n",
       "    }\n",
       "\n",
       "    .dataframe thead th {\n",
       "        text-align: right;\n",
       "    }\n",
       "</style>\n",
       "<table border=\"1\" class=\"dataframe\">\n",
       "  <thead>\n",
       "    <tr style=\"text-align: right;\">\n",
       "      <th></th>\n",
       "      <th>customers</th>\n",
       "    </tr>\n",
       "    <tr>\n",
       "      <th>date</th>\n",
       "      <th></th>\n",
       "    </tr>\n",
       "  </thead>\n",
       "  <tbody>\n",
       "    <tr>\n",
       "      <th>2013-01-02</th>\n",
       "      <td>2111.0</td>\n",
       "    </tr>\n",
       "    <tr>\n",
       "      <th>2013-01-03</th>\n",
       "      <td>1833.0</td>\n",
       "    </tr>\n",
       "    <tr>\n",
       "      <th>2013-01-04</th>\n",
       "      <td>1863.0</td>\n",
       "    </tr>\n",
       "    <tr>\n",
       "      <th>2013-01-05</th>\n",
       "      <td>1509.0</td>\n",
       "    </tr>\n",
       "    <tr>\n",
       "      <th>2013-01-06</th>\n",
       "      <td>520.0</td>\n",
       "    </tr>\n",
       "  </tbody>\n",
       "</table>\n",
       "</div>"
      ],
      "text/plain": [
       "            customers\n",
       "date                 \n",
       "2013-01-02     2111.0\n",
       "2013-01-03     1833.0\n",
       "2013-01-04     1863.0\n",
       "2013-01-05     1509.0\n",
       "2013-01-06      520.0"
      ]
     },
     "execution_count": 23,
     "metadata": {},
     "output_type": "execute_result"
    }
   ],
   "source": [
    "store_cleaned.head()"
   ]
  },
  {
   "cell_type": "code",
   "execution_count": 24,
   "metadata": {},
   "outputs": [
    {
     "data": {
      "text/html": [
       "<div>\n",
       "<style scoped>\n",
       "    .dataframe tbody tr th:only-of-type {\n",
       "        vertical-align: middle;\n",
       "    }\n",
       "\n",
       "    .dataframe tbody tr th {\n",
       "        vertical-align: top;\n",
       "    }\n",
       "\n",
       "    .dataframe thead th {\n",
       "        text-align: right;\n",
       "    }\n",
       "</style>\n",
       "<table border=\"1\" class=\"dataframe\">\n",
       "  <thead>\n",
       "    <tr style=\"text-align: right;\">\n",
       "      <th></th>\n",
       "      <th>customers</th>\n",
       "      <th>diff</th>\n",
       "    </tr>\n",
       "    <tr>\n",
       "      <th>date</th>\n",
       "      <th></th>\n",
       "      <th></th>\n",
       "    </tr>\n",
       "  </thead>\n",
       "  <tbody>\n",
       "    <tr>\n",
       "      <th>2013-01-02</th>\n",
       "      <td>2111.0</td>\n",
       "      <td>NaN</td>\n",
       "    </tr>\n",
       "    <tr>\n",
       "      <th>2013-01-03</th>\n",
       "      <td>1833.0</td>\n",
       "      <td>-278.0</td>\n",
       "    </tr>\n",
       "    <tr>\n",
       "      <th>2013-01-04</th>\n",
       "      <td>1863.0</td>\n",
       "      <td>30.0</td>\n",
       "    </tr>\n",
       "    <tr>\n",
       "      <th>2013-01-05</th>\n",
       "      <td>1509.0</td>\n",
       "      <td>-354.0</td>\n",
       "    </tr>\n",
       "    <tr>\n",
       "      <th>2013-01-06</th>\n",
       "      <td>520.0</td>\n",
       "      <td>-989.0</td>\n",
       "    </tr>\n",
       "  </tbody>\n",
       "</table>\n",
       "</div>"
      ],
      "text/plain": [
       "            customers   diff\n",
       "date                        \n",
       "2013-01-02     2111.0    NaN\n",
       "2013-01-03     1833.0 -278.0\n",
       "2013-01-04     1863.0   30.0\n",
       "2013-01-05     1509.0 -354.0\n",
       "2013-01-06      520.0 -989.0"
      ]
     },
     "execution_count": 24,
     "metadata": {},
     "output_type": "execute_result"
    }
   ],
   "source": [
    "store_features.head()"
   ]
  },
  {
   "cell_type": "markdown",
   "metadata": {},
   "source": [
    "### Rolling Window features"
   ]
  },
  {
   "cell_type": "markdown",
   "metadata": {},
   "source": [
    "Another type of feature that may be relevant are rolling window features. As you may recall, a rolling window refers to a window of days before the current step. We can extract features from that window such as the minimum, mean, maximum and standard deviation. To give information to the model about the recent statistical properties of the time series. "
   ]
  },
  {
   "cell_type": "code",
   "execution_count": 25,
   "metadata": {},
   "outputs": [],
   "source": [
    "store_features['rolling_max'] = store_features['customers'].rolling('7D').max()\n",
    "store_features['rolling_min'] = store_features['customers'].rolling('7D').min()\n",
    "store_features['rolling_mean'] = store_features['customers'].rolling('7D').mean()\n",
    "store_features['rolling_std'] = store_features['customers'].rolling('7D').std()"
   ]
  },
  {
   "cell_type": "markdown",
   "metadata": {},
   "source": [
    "### Datetime features"
   ]
  },
  {
   "cell_type": "markdown",
   "metadata": {},
   "source": [
    "Datetime features refer to those you can extract simply from the timestamp. For example, giving information regarding which day of the week it is, which month, etc. can go a long way to help the model understand the time series better. For example, in our case we already know that the store is closed in Christmas and the New Year so we can one-hot encode those as a feature to the model."
   ]
  },
  {
   "cell_type": "code",
   "execution_count": 26,
   "metadata": {},
   "outputs": [],
   "source": [
    "holidays = store_features[((store_features.index.month==12) & (store_features.index.day==25))\n",
    "              |((store_features.index.month==1) & (store_features.index.day==1))].customers"
   ]
  },
  {
   "cell_type": "code",
   "execution_count": 27,
   "metadata": {},
   "outputs": [],
   "source": [
    "store_features['holidays'] = holidays + 1"
   ]
  },
  {
   "cell_type": "code",
   "execution_count": 28,
   "metadata": {},
   "outputs": [],
   "source": [
    "store_features['holidays'] = store_features['holidays'].fillna(0)"
   ]
  },
  {
   "cell_type": "markdown",
   "metadata": {},
   "source": [
    "Now let's add the day of the week and month features:"
   ]
  },
  {
   "cell_type": "code",
   "execution_count": 29,
   "metadata": {},
   "outputs": [],
   "source": [
    "store_features['day_of_week'] = store_features.index.weekday\n",
    "store_features['month'] = store_features.index.month"
   ]
  },
  {
   "cell_type": "code",
   "execution_count": 30,
   "metadata": {},
   "outputs": [
    {
     "data": {
      "text/html": [
       "<div>\n",
       "<style scoped>\n",
       "    .dataframe tbody tr th:only-of-type {\n",
       "        vertical-align: middle;\n",
       "    }\n",
       "\n",
       "    .dataframe tbody tr th {\n",
       "        vertical-align: top;\n",
       "    }\n",
       "\n",
       "    .dataframe thead th {\n",
       "        text-align: right;\n",
       "    }\n",
       "</style>\n",
       "<table border=\"1\" class=\"dataframe\">\n",
       "  <thead>\n",
       "    <tr style=\"text-align: right;\">\n",
       "      <th></th>\n",
       "      <th>customers</th>\n",
       "      <th>diff</th>\n",
       "      <th>rolling_max</th>\n",
       "      <th>rolling_min</th>\n",
       "      <th>rolling_mean</th>\n",
       "      <th>rolling_std</th>\n",
       "      <th>holidays</th>\n",
       "      <th>day_of_week</th>\n",
       "      <th>month</th>\n",
       "    </tr>\n",
       "    <tr>\n",
       "      <th>date</th>\n",
       "      <th></th>\n",
       "      <th></th>\n",
       "      <th></th>\n",
       "      <th></th>\n",
       "      <th></th>\n",
       "      <th></th>\n",
       "      <th></th>\n",
       "      <th></th>\n",
       "      <th></th>\n",
       "    </tr>\n",
       "  </thead>\n",
       "  <tbody>\n",
       "    <tr>\n",
       "      <th>2013-01-02</th>\n",
       "      <td>2111.0</td>\n",
       "      <td>NaN</td>\n",
       "      <td>2111.0</td>\n",
       "      <td>2111.0</td>\n",
       "      <td>2111.000000</td>\n",
       "      <td>NaN</td>\n",
       "      <td>0.0</td>\n",
       "      <td>2</td>\n",
       "      <td>1</td>\n",
       "    </tr>\n",
       "    <tr>\n",
       "      <th>2013-01-03</th>\n",
       "      <td>1833.0</td>\n",
       "      <td>-278.0</td>\n",
       "      <td>2111.0</td>\n",
       "      <td>1833.0</td>\n",
       "      <td>1972.000000</td>\n",
       "      <td>196.575685</td>\n",
       "      <td>0.0</td>\n",
       "      <td>3</td>\n",
       "      <td>1</td>\n",
       "    </tr>\n",
       "    <tr>\n",
       "      <th>2013-01-04</th>\n",
       "      <td>1863.0</td>\n",
       "      <td>30.0</td>\n",
       "      <td>2111.0</td>\n",
       "      <td>1833.0</td>\n",
       "      <td>1935.666667</td>\n",
       "      <td>152.582218</td>\n",
       "      <td>0.0</td>\n",
       "      <td>4</td>\n",
       "      <td>1</td>\n",
       "    </tr>\n",
       "    <tr>\n",
       "      <th>2013-01-05</th>\n",
       "      <td>1509.0</td>\n",
       "      <td>-354.0</td>\n",
       "      <td>2111.0</td>\n",
       "      <td>1509.0</td>\n",
       "      <td>1829.000000</td>\n",
       "      <td>247.046554</td>\n",
       "      <td>0.0</td>\n",
       "      <td>5</td>\n",
       "      <td>1</td>\n",
       "    </tr>\n",
       "    <tr>\n",
       "      <th>2013-01-06</th>\n",
       "      <td>520.0</td>\n",
       "      <td>-989.0</td>\n",
       "      <td>2111.0</td>\n",
       "      <td>520.0</td>\n",
       "      <td>1567.200000</td>\n",
       "      <td>623.273776</td>\n",
       "      <td>0.0</td>\n",
       "      <td>6</td>\n",
       "      <td>1</td>\n",
       "    </tr>\n",
       "    <tr>\n",
       "      <th>2013-01-07</th>\n",
       "      <td>1807.0</td>\n",
       "      <td>1287.0</td>\n",
       "      <td>2111.0</td>\n",
       "      <td>520.0</td>\n",
       "      <td>1607.166667</td>\n",
       "      <td>566.003681</td>\n",
       "      <td>0.0</td>\n",
       "      <td>0</td>\n",
       "      <td>1</td>\n",
       "    </tr>\n",
       "    <tr>\n",
       "      <th>2013-01-08</th>\n",
       "      <td>1869.0</td>\n",
       "      <td>62.0</td>\n",
       "      <td>2111.0</td>\n",
       "      <td>520.0</td>\n",
       "      <td>1644.571429</td>\n",
       "      <td>526.080430</td>\n",
       "      <td>0.0</td>\n",
       "      <td>1</td>\n",
       "      <td>1</td>\n",
       "    </tr>\n",
       "    <tr>\n",
       "      <th>2013-01-09</th>\n",
       "      <td>1910.0</td>\n",
       "      <td>41.0</td>\n",
       "      <td>1910.0</td>\n",
       "      <td>520.0</td>\n",
       "      <td>1615.857143</td>\n",
       "      <td>501.279838</td>\n",
       "      <td>0.0</td>\n",
       "      <td>2</td>\n",
       "      <td>1</td>\n",
       "    </tr>\n",
       "    <tr>\n",
       "      <th>2013-01-10</th>\n",
       "      <td>1679.0</td>\n",
       "      <td>-231.0</td>\n",
       "      <td>1910.0</td>\n",
       "      <td>520.0</td>\n",
       "      <td>1593.857143</td>\n",
       "      <td>493.480303</td>\n",
       "      <td>0.0</td>\n",
       "      <td>3</td>\n",
       "      <td>1</td>\n",
       "    </tr>\n",
       "    <tr>\n",
       "      <th>2013-01-11</th>\n",
       "      <td>1813.0</td>\n",
       "      <td>134.0</td>\n",
       "      <td>1910.0</td>\n",
       "      <td>520.0</td>\n",
       "      <td>1586.714286</td>\n",
       "      <td>489.279305</td>\n",
       "      <td>0.0</td>\n",
       "      <td>4</td>\n",
       "      <td>1</td>\n",
       "    </tr>\n",
       "  </tbody>\n",
       "</table>\n",
       "</div>"
      ],
      "text/plain": [
       "            customers    diff  rolling_max  rolling_min  rolling_mean  \\\n",
       "date                                                                    \n",
       "2013-01-02     2111.0     NaN       2111.0       2111.0   2111.000000   \n",
       "2013-01-03     1833.0  -278.0       2111.0       1833.0   1972.000000   \n",
       "2013-01-04     1863.0    30.0       2111.0       1833.0   1935.666667   \n",
       "2013-01-05     1509.0  -354.0       2111.0       1509.0   1829.000000   \n",
       "2013-01-06      520.0  -989.0       2111.0        520.0   1567.200000   \n",
       "2013-01-07     1807.0  1287.0       2111.0        520.0   1607.166667   \n",
       "2013-01-08     1869.0    62.0       2111.0        520.0   1644.571429   \n",
       "2013-01-09     1910.0    41.0       1910.0        520.0   1615.857143   \n",
       "2013-01-10     1679.0  -231.0       1910.0        520.0   1593.857143   \n",
       "2013-01-11     1813.0   134.0       1910.0        520.0   1586.714286   \n",
       "\n",
       "            rolling_std  holidays  day_of_week  month  \n",
       "date                                                   \n",
       "2013-01-02          NaN       0.0            2      1  \n",
       "2013-01-03   196.575685       0.0            3      1  \n",
       "2013-01-04   152.582218       0.0            4      1  \n",
       "2013-01-05   247.046554       0.0            5      1  \n",
       "2013-01-06   623.273776       0.0            6      1  \n",
       "2013-01-07   566.003681       0.0            0      1  \n",
       "2013-01-08   526.080430       0.0            1      1  \n",
       "2013-01-09   501.279838       0.0            2      1  \n",
       "2013-01-10   493.480303       0.0            3      1  \n",
       "2013-01-11   489.279305       0.0            4      1  "
      ]
     },
     "execution_count": 30,
     "metadata": {},
     "output_type": "execute_result"
    }
   ],
   "source": [
    "store_features.head(10)"
   ]
  },
  {
   "cell_type": "markdown",
   "metadata": {},
   "source": [
    "So, regarding day of week you can check pandas [documentation](https://pandas.pydata.org/pandas-docs/stable/reference/api/pandas.DatetimeIndex.dayofweek.html) on what each number means. Basically, Monday is 0 and Sunday is 6. But this brings a good point, is Monday closer to Sunday than to Thursday? \"Of course it is closer, what kind of question is that?!\" Well, the issue is that the current mapping between day of the week and number is the following:"
   ]
  },
  {
   "cell_type": "markdown",
   "metadata": {},
   "source": [
    "- Monday: 0\n",
    "- Thursday: 3\n",
    "- Sunday: 6"
   ]
  },
  {
   "cell_type": "markdown",
   "metadata": {},
   "source": [
    "This means that the distance between Monday and Thursday is smaller than Monday and Sunday, which gives wrong intuition to the model. This is particularly important for linear models, as well as kNNm K-means and neural networks. This means that we have to encode these features in a such a way that they convey their cyclical nature to the model."
   ]
  },
  {
   "cell_type": "markdown",
   "metadata": {},
   "source": [
    "### Circular Encoding"
   ]
  },
  {
   "cell_type": "markdown",
   "metadata": {},
   "source": [
    "So how can we encode these features while mantaining their cyclical nature? We can use circular encoding. Basically, the idea is to encode these features using the sine and the cosine. For more information on this, check the optional notebook of this BLU. In practice this is how you add them:"
   ]
  },
  {
   "cell_type": "code",
   "execution_count": 31,
   "metadata": {},
   "outputs": [],
   "source": [
    "store_features['sin_weekday'] = np.sin(2*np.pi*store_features.index.weekday/7)\n",
    "store_features['cos_weekday'] = np.sin(2*np.pi*store_features.index.weekday/7)\n",
    "        \n",
    "store_features['sin_month'] = np.sin(2*np.pi*store_features.index.month/12)\n",
    "store_features['cos_month'] = np.sin(2*np.pi*store_features.index.month/12)"
   ]
  },
  {
   "cell_type": "markdown",
   "metadata": {},
   "source": [
    "Now let's drop the previous datetime features that were not encoded"
   ]
  },
  {
   "cell_type": "code",
   "execution_count": 32,
   "metadata": {},
   "outputs": [],
   "source": [
    "store_features = store_features.drop(['day_of_week','month'], axis=1)"
   ]
  },
  {
   "cell_type": "markdown",
   "metadata": {},
   "source": [
    "So our dataframe has a couple more features now:"
   ]
  },
  {
   "cell_type": "code",
   "execution_count": 33,
   "metadata": {},
   "outputs": [
    {
     "data": {
      "text/html": [
       "<div>\n",
       "<style scoped>\n",
       "    .dataframe tbody tr th:only-of-type {\n",
       "        vertical-align: middle;\n",
       "    }\n",
       "\n",
       "    .dataframe tbody tr th {\n",
       "        vertical-align: top;\n",
       "    }\n",
       "\n",
       "    .dataframe thead th {\n",
       "        text-align: right;\n",
       "    }\n",
       "</style>\n",
       "<table border=\"1\" class=\"dataframe\">\n",
       "  <thead>\n",
       "    <tr style=\"text-align: right;\">\n",
       "      <th></th>\n",
       "      <th>customers</th>\n",
       "      <th>diff</th>\n",
       "      <th>rolling_max</th>\n",
       "      <th>rolling_min</th>\n",
       "      <th>rolling_mean</th>\n",
       "      <th>rolling_std</th>\n",
       "      <th>holidays</th>\n",
       "      <th>sin_weekday</th>\n",
       "      <th>cos_weekday</th>\n",
       "      <th>sin_month</th>\n",
       "      <th>cos_month</th>\n",
       "    </tr>\n",
       "    <tr>\n",
       "      <th>date</th>\n",
       "      <th></th>\n",
       "      <th></th>\n",
       "      <th></th>\n",
       "      <th></th>\n",
       "      <th></th>\n",
       "      <th></th>\n",
       "      <th></th>\n",
       "      <th></th>\n",
       "      <th></th>\n",
       "      <th></th>\n",
       "      <th></th>\n",
       "    </tr>\n",
       "  </thead>\n",
       "  <tbody>\n",
       "    <tr>\n",
       "      <th>2013-01-02</th>\n",
       "      <td>2111.0</td>\n",
       "      <td>NaN</td>\n",
       "      <td>2111.0</td>\n",
       "      <td>2111.0</td>\n",
       "      <td>2111.000000</td>\n",
       "      <td>NaN</td>\n",
       "      <td>0.0</td>\n",
       "      <td>0.974928</td>\n",
       "      <td>0.974928</td>\n",
       "      <td>0.5</td>\n",
       "      <td>0.5</td>\n",
       "    </tr>\n",
       "    <tr>\n",
       "      <th>2013-01-03</th>\n",
       "      <td>1833.0</td>\n",
       "      <td>-278.0</td>\n",
       "      <td>2111.0</td>\n",
       "      <td>1833.0</td>\n",
       "      <td>1972.000000</td>\n",
       "      <td>196.575685</td>\n",
       "      <td>0.0</td>\n",
       "      <td>0.433884</td>\n",
       "      <td>0.433884</td>\n",
       "      <td>0.5</td>\n",
       "      <td>0.5</td>\n",
       "    </tr>\n",
       "    <tr>\n",
       "      <th>2013-01-04</th>\n",
       "      <td>1863.0</td>\n",
       "      <td>30.0</td>\n",
       "      <td>2111.0</td>\n",
       "      <td>1833.0</td>\n",
       "      <td>1935.666667</td>\n",
       "      <td>152.582218</td>\n",
       "      <td>0.0</td>\n",
       "      <td>-0.433884</td>\n",
       "      <td>-0.433884</td>\n",
       "      <td>0.5</td>\n",
       "      <td>0.5</td>\n",
       "    </tr>\n",
       "    <tr>\n",
       "      <th>2013-01-05</th>\n",
       "      <td>1509.0</td>\n",
       "      <td>-354.0</td>\n",
       "      <td>2111.0</td>\n",
       "      <td>1509.0</td>\n",
       "      <td>1829.000000</td>\n",
       "      <td>247.046554</td>\n",
       "      <td>0.0</td>\n",
       "      <td>-0.974928</td>\n",
       "      <td>-0.974928</td>\n",
       "      <td>0.5</td>\n",
       "      <td>0.5</td>\n",
       "    </tr>\n",
       "    <tr>\n",
       "      <th>2013-01-06</th>\n",
       "      <td>520.0</td>\n",
       "      <td>-989.0</td>\n",
       "      <td>2111.0</td>\n",
       "      <td>520.0</td>\n",
       "      <td>1567.200000</td>\n",
       "      <td>623.273776</td>\n",
       "      <td>0.0</td>\n",
       "      <td>-0.781831</td>\n",
       "      <td>-0.781831</td>\n",
       "      <td>0.5</td>\n",
       "      <td>0.5</td>\n",
       "    </tr>\n",
       "  </tbody>\n",
       "</table>\n",
       "</div>"
      ],
      "text/plain": [
       "            customers   diff  rolling_max  rolling_min  rolling_mean  \\\n",
       "date                                                                   \n",
       "2013-01-02     2111.0    NaN       2111.0       2111.0   2111.000000   \n",
       "2013-01-03     1833.0 -278.0       2111.0       1833.0   1972.000000   \n",
       "2013-01-04     1863.0   30.0       2111.0       1833.0   1935.666667   \n",
       "2013-01-05     1509.0 -354.0       2111.0       1509.0   1829.000000   \n",
       "2013-01-06      520.0 -989.0       2111.0        520.0   1567.200000   \n",
       "\n",
       "            rolling_std  holidays  sin_weekday  cos_weekday  sin_month  \\\n",
       "date                                                                     \n",
       "2013-01-02          NaN       0.0     0.974928     0.974928        0.5   \n",
       "2013-01-03   196.575685       0.0     0.433884     0.433884        0.5   \n",
       "2013-01-04   152.582218       0.0    -0.433884    -0.433884        0.5   \n",
       "2013-01-05   247.046554       0.0    -0.974928    -0.974928        0.5   \n",
       "2013-01-06   623.273776       0.0    -0.781831    -0.781831        0.5   \n",
       "\n",
       "            cos_month  \n",
       "date                   \n",
       "2013-01-02        0.5  \n",
       "2013-01-03        0.5  \n",
       "2013-01-04        0.5  \n",
       "2013-01-05        0.5  \n",
       "2013-01-06        0.5  "
      ]
     },
     "execution_count": 33,
     "metadata": {},
     "output_type": "execute_result"
    }
   ],
   "source": [
    "store_features.head()"
   ]
  },
  {
   "cell_type": "markdown",
   "metadata": {},
   "source": [
    "So let's see if any of these actually improve our model, but we have to test all these models in a validation set."
   ]
  },
  {
   "cell_type": "markdown",
   "metadata": {},
   "source": [
    "Note: With domain knowledge you can add even more features, such as: is it an holiday? is there a special Event? Even the weather! Feature engineering has a lot to do with creativity and thinking outside of the box. "
   ]
  },
  {
   "cell_type": "markdown",
   "metadata": {},
   "source": [
    "# Validation"
   ]
  },
  {
   "cell_type": "markdown",
   "metadata": {},
   "source": [
    "To test which features actually improve model performance we'll add them to the _build_some_features_ function:"
   ]
  },
  {
   "cell_type": "code",
   "execution_count": 34,
   "metadata": {},
   "outputs": [],
   "source": [
    "def build_some_features(df_, num_periods_lagged=1, num_periods_diffed=0, weekday=False, month=False, rolling=[], holidays=False): \n",
    "    \"\"\"\n",
    "    Builds some features by calculating differences between periods  \n",
    "    \"\"\"\n",
    "    # make a copy \n",
    "    df_ = df_.copy()\n",
    "        \n",
    "    # for a few values, get the lags  \n",
    "    for i in range(1, num_periods_lagged+1):\n",
    "        # make a new feature, with the lags in the observed values column\n",
    "        df_['lagged_%s' % str(i)] = df_['customers'].shift(i)\n",
    "        \n",
    "    # for a few values, get the diffs  \n",
    "    for i in range(1, num_periods_diffed+1):\n",
    "        # make a new feature, with the diffs in the observed values column\n",
    "        df_['diff_%s' % str(i)] = df_['customers'].diff(i)\n",
    "    \n",
    "    for stat in rolling:\n",
    "        df_['rolling_%s'%str(stat)] = df_['customers'].rolling('7D').aggregate(stat)\n",
    "        \n",
    "    if weekday == True:\n",
    "        df_['sin_weekday'] = np.sin(2*np.pi*df_.index.weekday/7)\n",
    "        df_['cos_weekday'] = np.sin(2*np.pi*df_.index.weekday/7)\n",
    "        \n",
    "    if month == True:\n",
    "        df_['sin_month'] = np.sin(2*np.pi*df_.index.month/12)\n",
    "        df_['cos_month'] = np.sin(2*np.pi*df_.index.month/12)\n",
    "        \n",
    "    if holidays == True:\n",
    "        holidays = df_[((df_.index.month==12) & (df_.index.day==25)) |((df_.index.month==1) & (df_.index.day==1))].customers\n",
    "        df_['holidays'] = holidays + 1\n",
    "        df_['holidays'] = df_['holidays'].fillna(0)\n",
    "    \n",
    "    return df_"
   ]
  },
  {
   "cell_type": "markdown",
   "metadata": {},
   "source": [
    "Now let's create a parameter grid with the combinations we want to test using sklearn's [ParameterGrid](https://scikit-learn.org/stable/modules/generated/sklearn.model_selection.ParameterGrid.html). The more combinations the more time it will take to run, so we'll just assume that the rolling statistics and the holidays improve the model. But feel free to add more options to the parameter grid and see if it improves the performance on the validation set.\n",
    "\n",
    "Note that we're also adding the gradient boosting regressor model, to see if it obtains better results than the vanilla linear regression."
   ]
  },
  {
   "cell_type": "code",
   "execution_count": 35,
   "metadata": {},
   "outputs": [],
   "source": [
    "from sklearn.model_selection import ParameterGrid\n",
    "param_grid = {'model': [LinearRegression(), GradientBoostingRegressor()], \n",
    "              'num_periods_lagged':np.arange(1,3),\n",
    "              'num_periods_diffed':np.arange(0,3),\n",
    "              'weekday':[True,False],\n",
    "              'month':[True,False],\n",
    "              'holidays': [True],\n",
    "              'rolling' : [[np.mean,np.min,np.max,np.std]]\n",
    "             }\n",
    "\n",
    "grid = ParameterGrid(param_grid)"
   ]
  },
  {
   "cell_type": "markdown",
   "metadata": {},
   "source": [
    "Now we can test on a validation set to see which combination of features gives best performance!"
   ]
  },
  {
   "cell_type": "code",
   "execution_count": 36,
   "metadata": {},
   "outputs": [],
   "source": [
    "val_split_date = '2017-3'\n",
    "test_split_date = '2017-6'\n",
    "train = store_cleaned.loc[store_cleaned.index < val_split_date]\n",
    "val = store_cleaned.loc[(val_split_date <= store_cleaned.index) & (store_cleaned.index < test_split_date)]\n",
    "test = store_cleaned.loc[store_cleaned.index >= test_split_date]"
   ]
  },
  {
   "cell_type": "markdown",
   "metadata": {},
   "source": [
    "The commented cell below implements the for loop that runs through the grid we created and finds the parameter group that minimizes the MAE in the validation set. It is commented because it takes some time. The other cell makes use of the Joblib library to parallelize the code and is considerably faster. In this laptop it takes about 3 minutes."
   ]
  },
  {
   "cell_type": "code",
   "execution_count": 37,
   "metadata": {},
   "outputs": [],
   "source": [
    "#error_lst = []\n",
    "\n",
    "#for params in tqdm(grid):\n",
    "#    predictions = predict_n_periods(series_=train, \n",
    "#                      n_periods=30, \n",
    "#                      model=params['model'], \n",
    "#                      num_periods_lagged=params['num_periods_lagged'],\n",
    "#                      num_periods_diffed=params['num_periods_diffed'],\n",
    "#                      weekday=params['weekday'],\n",
    "#                      month=params['month'],\n",
    "#                      rolling=[np.mean,np.max,np.min]\n",
    "#                    )\n",
    "#\n",
    "#    error_lst.append(mean_absolute_error(val,predictions))\n",
    "# pd.Series(error_lst).idxmin()"
   ]
  },
  {
   "cell_type": "code",
   "execution_count": 38,
   "metadata": {},
   "outputs": [
    {
     "data": {
      "application/vnd.jupyter.widget-view+json": {
       "model_id": "97dc3f2f31a1492fae8ff05749d22907",
       "version_major": 2,
       "version_minor": 0
      },
      "text/plain": [
       "HBox(children=(IntProgress(value=0, max=48), HTML(value='')))"
      ]
     },
     "metadata": {},
     "output_type": "display_data"
    },
    {
     "name": "stdout",
     "output_type": "stream",
     "text": [
      "\n",
      "CPU times: user 844 ms, sys: 59 ms, total: 903 ms\n",
      "Wall time: 3min 6s\n"
     ]
    }
   ],
   "source": [
    "%%time \n",
    "# This is another cell that will take a long time to run. \n",
    "\n",
    "def wrap_model_selection(params): \n",
    "    predictions = predict_n_periods(series_=train, \n",
    "                      n_periods=len(val), \n",
    "                      model=params['model'], \n",
    "                      num_periods_lagged=params['num_periods_lagged'],\n",
    "                      num_periods_diffed=params['num_periods_diffed'],\n",
    "                      weekday=params['weekday'],\n",
    "                      month=params['month'],\n",
    "                      rolling=[np.mean,np.max,np.min]\n",
    "                    )\n",
    "    return [params,mean_absolute_error(val,predictions)]\n",
    "\n",
    "res = Parallel(n_jobs=-1)(delayed(wrap_model_selection)(params=params) \n",
    "                          for params in tqdm(grid))"
   ]
  },
  {
   "cell_type": "code",
   "execution_count": 39,
   "metadata": {},
   "outputs": [
    {
     "data": {
      "text/html": [
       "<div>\n",
       "<style scoped>\n",
       "    .dataframe tbody tr th:only-of-type {\n",
       "        vertical-align: middle;\n",
       "    }\n",
       "\n",
       "    .dataframe tbody tr th {\n",
       "        vertical-align: top;\n",
       "    }\n",
       "\n",
       "    .dataframe thead th {\n",
       "        text-align: right;\n",
       "    }\n",
       "</style>\n",
       "<table border=\"1\" class=\"dataframe\">\n",
       "  <thead>\n",
       "    <tr style=\"text-align: right;\">\n",
       "      <th></th>\n",
       "      <th>params</th>\n",
       "      <th>error</th>\n",
       "    </tr>\n",
       "  </thead>\n",
       "  <tbody>\n",
       "    <tr>\n",
       "      <th>38</th>\n",
       "      <td>{'holidays': True, 'model': ([DecisionTreeRegr...</td>\n",
       "      <td>104.514297</td>\n",
       "    </tr>\n",
       "    <tr>\n",
       "      <th>24</th>\n",
       "      <td>{'holidays': True, 'model': ([DecisionTreeRegr...</td>\n",
       "      <td>114.085019</td>\n",
       "    </tr>\n",
       "    <tr>\n",
       "      <th>36</th>\n",
       "      <td>{'holidays': True, 'model': ([DecisionTreeRegr...</td>\n",
       "      <td>115.787645</td>\n",
       "    </tr>\n",
       "    <tr>\n",
       "      <th>26</th>\n",
       "      <td>{'holidays': True, 'model': ([DecisionTreeRegr...</td>\n",
       "      <td>115.872227</td>\n",
       "    </tr>\n",
       "    <tr>\n",
       "      <th>42</th>\n",
       "      <td>{'holidays': True, 'model': ([DecisionTreeRegr...</td>\n",
       "      <td>139.583841</td>\n",
       "    </tr>\n",
       "  </tbody>\n",
       "</table>\n",
       "</div>"
      ],
      "text/plain": [
       "                                               params       error\n",
       "38  {'holidays': True, 'model': ([DecisionTreeRegr...  104.514297\n",
       "24  {'holidays': True, 'model': ([DecisionTreeRegr...  114.085019\n",
       "36  {'holidays': True, 'model': ([DecisionTreeRegr...  115.787645\n",
       "26  {'holidays': True, 'model': ([DecisionTreeRegr...  115.872227\n",
       "42  {'holidays': True, 'model': ([DecisionTreeRegr...  139.583841"
      ]
     },
     "execution_count": 39,
     "metadata": {},
     "output_type": "execute_result"
    }
   ],
   "source": [
    "df = pd.DataFrame(res, columns=['params','error'])\n",
    "df.sort_values('error').head()"
   ]
  },
  {
   "cell_type": "markdown",
   "metadata": {},
   "source": [
    "Let's inspect our best model a bit better:"
   ]
  },
  {
   "cell_type": "code",
   "execution_count": 40,
   "metadata": {},
   "outputs": [
    {
     "data": {
      "text/plain": [
       "{'holidays': True,\n",
       " 'model': GradientBoostingRegressor(alpha=0.9, criterion='friedman_mse', init=None,\n",
       "                           learning_rate=0.1, loss='ls', max_depth=3,\n",
       "                           max_features=None, max_leaf_nodes=None,\n",
       "                           min_impurity_decrease=0.0, min_impurity_split=None,\n",
       "                           min_samples_leaf=1, min_samples_split=2,\n",
       "                           min_weight_fraction_leaf=0.0, n_estimators=100,\n",
       "                           n_iter_no_change=None, presort='auto',\n",
       "                           random_state=None, subsample=1.0, tol=0.0001,\n",
       "                           validation_fraction=0.1, verbose=0, warm_start=False),\n",
       " 'month': False,\n",
       " 'num_periods_diffed': 0,\n",
       " 'num_periods_lagged': 2,\n",
       " 'rolling': [<function numpy.mean(a, axis=None, dtype=None, out=None, keepdims=<no value>)>,\n",
       "  <function numpy.amin(a, axis=None, out=None, keepdims=<no value>, initial=<no value>, where=<no value>)>,\n",
       "  <function numpy.amax(a, axis=None, out=None, keepdims=<no value>, initial=<no value>, where=<no value>)>,\n",
       "  <function numpy.std(a, axis=None, dtype=None, out=None, ddof=0, keepdims=<no value>)>],\n",
       " 'weekday': True}"
      ]
     },
     "execution_count": 40,
     "metadata": {},
     "output_type": "execute_result"
    }
   ],
   "source": [
    "df.sort_values('error').iloc[0][0]"
   ]
  },
  {
   "cell_type": "markdown",
   "metadata": {},
   "source": [
    "It seems like the diffed feature and the month didn't really help. On the other hand the weekday feature and the gradient boosting regressor improved the performance."
   ]
  },
  {
   "cell_type": "markdown",
   "metadata": {},
   "source": [
    "# Testing"
   ]
  },
  {
   "cell_type": "markdown",
   "metadata": {},
   "source": [
    "Now we can finally test on the test set with the best parameters and see if it improved since our dataset without feature engineering. But first we need to append the validation set to the training set"
   ]
  },
  {
   "cell_type": "code",
   "execution_count": 41,
   "metadata": {},
   "outputs": [],
   "source": [
    "train = train.append(val)"
   ]
  },
  {
   "cell_type": "code",
   "execution_count": 42,
   "metadata": {},
   "outputs": [],
   "source": [
    "predictions = predict_n_periods(series_=train, \n",
    "                  n_periods=len(test), \n",
    "                  model=GradientBoostingRegressor(), \n",
    "                  num_periods_lagged=2,\n",
    "                  num_periods_diffed=0,\n",
    "                  weekday=True,\n",
    "                  month=False,\n",
    "                  rolling=[np.mean,np.min,np.max,np.std],\n",
    "                  holidays=True\n",
    "                  )"
   ]
  },
  {
   "cell_type": "code",
   "execution_count": 43,
   "metadata": {},
   "outputs": [
    {
     "data": {
      "image/png": "[encoded data removed]",
      "text/plain": [
       "<Figure size 432x288 with 1 Axes>"
      ]
     },
     "metadata": {
      "needs_background": "light"
     },
     "output_type": "display_data"
    }
   ],
   "source": [
    "store[1500:].plot(label=\"original data\")\n",
    "pd.Series(predictions, index=test.index).plot(label=\"pred\")\n",
    "plt.legend();"
   ]
  },
  {
   "cell_type": "code",
   "execution_count": 44,
   "metadata": {},
   "outputs": [
    {
     "data": {
      "text/plain": [
       "99.18473447845079"
      ]
     },
     "execution_count": 44,
     "metadata": {},
     "output_type": "execute_result"
    }
   ],
   "source": [
    "mean_absolute_error(test,predictions)"
   ]
  },
  {
   "cell_type": "markdown",
   "metadata": {},
   "source": [
    "Wow, that's a big improvement from the non-feature-engineered model which had an MAE of 154. Feature engineering works!"
   ]
  },
  {
   "cell_type": "markdown",
   "metadata": {},
   "source": [
    "But it's interesting that the MAE for the test is 99, while for the validations set it was 106. This rarely happens, because we chose the best features for the validation set. Remember when we talked about stationarity in the last BLU? Well, we'll talk about it in the next notebook."
   ]
  }
 ],
 "metadata": {
  "kernelspec": {
   "display_name": "Python 3",
   "language": "python",
   "name": "python3"
  },
  "language_info": {
   "codemirror_mode": {
    "name": "ipython",
    "version": 3
   },
   "file_extension": ".py",
   "mimetype": "text/x-python",
   "name": "python",
   "nbconvert_exporter": "python",
   "pygments_lexer": "ipython3",
   "version": "3.7.3"
  }
 },
 "nbformat": 4,
 "nbformat_minor": 2
}
