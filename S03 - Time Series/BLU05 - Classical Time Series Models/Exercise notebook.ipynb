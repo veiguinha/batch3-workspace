{
 "cells": [
  {
   "cell_type": "markdown",
   "metadata": {
    "deletable": false,
    "editable": false,
    "nbgrader": {
     "grade": false,
     "grade_id": "cell-3db1b7eb6aade580",
     "locked": true,
     "schema_version": 1,
     "solution": false
    }
   },
   "source": [
    "# BLU05  - Exercise Notebook "
   ]
  },
  {
   "cell_type": "code",
   "execution_count": null,
   "metadata": {
    "deletable": false,
    "editable": false,
    "nbgrader": {
     "grade": false,
     "grade_id": "cell-d9b262915f7cb1e5",
     "locked": true,
     "schema_version": 1,
     "solution": false
    }
   },
   "outputs": [],
   "source": [
    "import pandas as pd\n",
    "import matplotlib.pyplot as plt\n",
    "import warnings\n",
    "idx = pd.IndexSlice\n",
    "warnings.simplefilter(action='ignore', category=FutureWarning)   \n",
    "from random import seed\n",
    "from sklearn.metrics import mean_absolute_error\n",
    "import statsmodels.api as sm\n",
    "from statsmodels.tsa.stattools import adfuller\n",
    "from statsmodels.tsa.statespace.sarimax import SARIMAX\n",
    "from sklearn.linear_model import LinearRegression\n",
    "import numpy as np\n",
    "from sklearn.metrics import mean_squared_error\n",
    "import math\n",
    "import itertools\n",
    "from statsmodels.tsa.seasonal import seasonal_decompose\n",
    "from statsmodels.graphics.tsaplots import plot_acf, plot_pacf\n",
    "from statsmodels.tsa import stattools\n",
    "import hashlib # for grading purposes\n",
    "# these are just for the asserts \n",
    "from statsmodels.tsa.statespace.sarimax import SARIMAXResultsWrapper\n",
    "from statsmodels.tsa.statespace.mlemodel import PredictionResultsWrapper\n",
    "\n",
    "from pandas.plotting import lag_plot\n",
    "from statsmodels.tsa.arima_model import ARIMA\n",
    "plt.rcParams['figure.figsize'] = (12, 4)\n",
    "\n",
    "%matplotlib inline"
   ]
  },
  {
   "cell_type": "markdown",
   "metadata": {
    "deletable": false,
    "editable": false,
    "nbgrader": {
     "grade": false,
     "grade_id": "cell-9bd6c84962e8c3d2",
     "locked": true,
     "schema_version": 1,
     "solution": false
    }
   },
   "source": [
    "# Functions"
   ]
  },
  {
   "cell_type": "code",
   "execution_count": null,
   "metadata": {
    "deletable": false,
    "editable": false,
    "nbgrader": {
     "grade": false,
     "grade_id": "cell-4d6c7fb60ae18a12",
     "locked": true,
     "schema_version": 1,
     "solution": false
    }
   },
   "outputs": [],
   "source": [
    "def get_aic(series_, params):\n",
    "    p = params[0] \n",
    "    d = params[1] \n",
    "    q = params[2] \n",
    "    P = params[3]\n",
    "    D = params[4] \n",
    "    Q = params[5]\n",
    "    S = params[6]\n",
    "    \n",
    "    model = sm.tsa.statespace.SARIMAX(series_,\n",
    "                                      order=(p, d, q),\n",
    "                                      seasonal_order=(P, D, Q, S),\n",
    "                                      enforce_stationarity=False,\n",
    "                                      enforce_invertibility=False)\n",
    "    results = model.fit(maxiter=100)\n",
    "    \n",
    "    return results.aic"
   ]
  },
  {
   "cell_type": "code",
   "execution_count": null,
   "metadata": {
    "deletable": false,
    "editable": false,
    "nbgrader": {
     "grade": false,
     "grade_id": "cell-d67171ebd5dc6a84",
     "locked": true,
     "schema_version": 1,
     "solution": false
    }
   },
   "outputs": [],
   "source": [
    "def get_mae(series_, params, prediction_window):\n",
    "    p = params[0] \n",
    "    d = params[1] \n",
    "    q = params[2] \n",
    "    P = params[3]\n",
    "    D = params[4] \n",
    "    Q = params[5]\n",
    "    S = params[6]\n",
    "    \n",
    "    lenght = len(series_)\n",
    "    series_train = series_[:-prediction_window]\n",
    "    series_test = series_[-prediction_window:]\n",
    "    \n",
    "    model = sm.tsa.statespace.SARIMAX(series_train,\n",
    "                                      order=(p, d, q),\n",
    "                                      seasonal_order=(P, D, Q, S),\n",
    "                                      enforce_stationarity=False,\n",
    "                                      enforce_invertibility=False)\n",
    "\n",
    "    results = model.fit(maxiter=500)\n",
    "    predictions = results.get_forecast(steps=prediction_window)\n",
    "    predicted_mean_logged = predictions.predicted_mean\n",
    "    predicted_mean = predicted_mean_logged\n",
    "    \n",
    "    return mean_absolute_error(series_test,predicted_mean)"
   ]
  },
  {
   "cell_type": "code",
   "execution_count": null,
   "metadata": {
    "deletable": false,
    "editable": false,
    "nbgrader": {
     "grade": false,
     "grade_id": "cell-0dc908871fcc57e4",
     "locked": true,
     "schema_version": 1,
     "solution": false
    }
   },
   "outputs": [],
   "source": [
    "def load_emissions_data():\n",
    "    emissions = pd.read_csv('data/emissions.csv')\n",
    "    emissions = emissions[emissions.Description=='Coal Electric Power Sector CO2 Emissions']\n",
    "    emissions['YYYYMM'] = emissions['YYYYMM'].astype(str)\n",
    "    emissions['YYYYMM'] = pd.to_datetime(emissions['YYYYMM'],format='%Y%m', errors='coerce').dropna()\n",
    "    emissions = emissions.set_index('YYYYMM')\n",
    "    emissions = emissions.sort_index()\n",
    "    emissions['Value'] = emissions.Value.astype(float)\n",
    "    emissions.index = emissions.index.rename('date')\n",
    "    emissions = emissions['Value']\n",
    "    emissions = emissions[:'2000']\n",
    "    emissions = emissions.resample('M').mean()\n",
    "    return emissions"
   ]
  },
  {
   "cell_type": "markdown",
   "metadata": {
    "deletable": false,
    "editable": false,
    "nbgrader": {
     "grade": false,
     "grade_id": "cell-c9a3e566cc624451",
     "locked": true,
     "schema_version": 1,
     "solution": false
    }
   },
   "source": [
    "# Let's predict CO2 emissions!"
   ]
  },
  {
   "cell_type": "code",
   "execution_count": null,
   "metadata": {
    "deletable": false,
    "editable": false,
    "nbgrader": {
     "grade": false,
     "grade_id": "cell-15a023e1124b90c0",
     "locked": true,
     "schema_version": 1,
     "solution": false
    }
   },
   "outputs": [],
   "source": [
    "emissions = load_emissions_data()"
   ]
  },
  {
   "cell_type": "code",
   "execution_count": null,
   "metadata": {
    "deletable": false,
    "editable": false,
    "nbgrader": {
     "grade": false,
     "grade_id": "cell-d451a5e011b09c6c",
     "locked": true,
     "schema_version": 1,
     "solution": false
    }
   },
   "outputs": [],
   "source": [
    "emissions_train = emissions[:'1997']\n",
    "emissions_test = emissions['1998':'2000']"
   ]
  },
  {
   "cell_type": "markdown",
   "metadata": {
    "deletable": false,
    "editable": false,
    "nbgrader": {
     "grade": false,
     "grade_id": "cell-5db0587a41ba75ab",
     "locked": true,
     "schema_version": 1,
     "solution": false
    }
   },
   "source": [
    "##### Plot the series to get an idea of what's going on"
   ]
  },
  {
   "cell_type": "code",
   "execution_count": null,
   "metadata": {
    "deletable": false,
    "editable": false,
    "nbgrader": {
     "grade": false,
     "grade_id": "cell-846a66e59e645d8e",
     "locked": true,
     "schema_version": 1,
     "solution": false
    }
   },
   "outputs": [],
   "source": [
    "emissions_train.plot(figsize=(16, 6));"
   ]
  },
  {
   "cell_type": "markdown",
   "metadata": {
    "deletable": false,
    "editable": false,
    "nbgrader": {
     "grade": false,
     "grade_id": "cell-a342eff0c4d27f6b",
     "locked": true,
     "schema_version": 1,
     "solution": false
    }
   },
   "source": [
    "Get a feel for the data:\n",
    " - Is the magnitude of the variance changing? \n",
    " - Is there seasonality? \n",
    " - Does it have an apparent trend? "
   ]
  },
  {
   "cell_type": "markdown",
   "metadata": {
    "deletable": false,
    "editable": false,
    "nbgrader": {
     "grade": false,
     "grade_id": "cell-50c774b21ff04b4b",
     "locked": true,
     "schema_version": 1,
     "solution": false
    }
   },
   "source": [
    "### Q1: Make the time series stationary"
   ]
  },
  {
   "cell_type": "code",
   "execution_count": null,
   "metadata": {
    "deletable": false,
    "nbgrader": {
     "grade": false,
     "grade_id": "cell-4673648012938702",
     "locked": false,
     "schema_version": 1,
     "solution": true
    }
   },
   "outputs": [],
   "source": [
    "# emissions_train_log = \n",
    "# emissions_train_log_detrend = \n",
    "# emissions_train_log_detrend =  \n",
    "\n",
    "# YOUR CODE HERE\n",
    "raise NotImplementedError()"
   ]
  },
  {
   "cell_type": "code",
   "execution_count": null,
   "metadata": {
    "deletable": false,
    "editable": false,
    "nbgrader": {
     "grade": true,
     "grade_id": "cell-37f19bfc31b2d1e0",
     "locked": true,
     "points": 2,
     "schema_version": 1,
     "solution": false
    }
   },
   "outputs": [],
   "source": [
    "expected_hash = '0326e5c47adcd7fdcb672aa16aaae11465d0fe01286a73616c19146325111b25'\n",
    "assert hashlib.sha256(str(np.round(emissions_train_log_detrend_without_nans[0],5)).encode()).hexdigest() == expected_hash"
   ]
  },
  {
   "cell_type": "markdown",
   "metadata": {
    "deletable": false,
    "editable": false,
    "nbgrader": {
     "grade": false,
     "grade_id": "cell-ef1184e061dcce01",
     "locked": true,
     "schema_version": 1,
     "solution": false
    }
   },
   "source": [
    "### Q2: Use autocorrelations to look for seasonality."
   ]
  },
  {
   "cell_type": "code",
   "execution_count": null,
   "metadata": {
    "deletable": false,
    "nbgrader": {
     "grade": false,
     "grade_id": "cell-b2bfb6431053bbb1",
     "locked": false,
     "schema_version": 1,
     "solution": true
    }
   },
   "outputs": [],
   "source": [
    "#plot_acf(what goes here?)  \n",
    "#plt.xlabel('lag')\n",
    "#plt.ylabel('Autocorrelation')\n",
    "#plt.show()\n",
    "\n",
    "#plot_pacf(what goes here?)  \n",
    "#plt.xlabel('lag')\n",
    "#plt.ylabel('Autocorrelation')\n",
    "#plt.show()\n",
    "\n",
    "# S = \n",
    "\n",
    "# YOUR CODE HERE\n",
    "raise NotImplementedError()"
   ]
  },
  {
   "cell_type": "code",
   "execution_count": null,
   "metadata": {
    "deletable": false,
    "editable": false,
    "nbgrader": {
     "grade": true,
     "grade_id": "cell-31fe58e5b06199fb",
     "locked": true,
     "points": 1,
     "schema_version": 1,
     "solution": false
    }
   },
   "outputs": [],
   "source": [
    "assert isinstance(S, int)\n",
    "expected_hash = '6b51d431df5d7f141cbececcf79edf3dd861c3b4069f0b11661a3eefacbba918'\n",
    "assert hashlib.sha256(str(S).encode()).hexdigest() == expected_hash"
   ]
  },
  {
   "cell_type": "markdown",
   "metadata": {
    "deletable": false,
    "editable": false,
    "nbgrader": {
     "grade": false,
     "grade_id": "cell-a5824aabddaf7b2b",
     "locked": true,
     "schema_version": 1,
     "solution": false
    }
   },
   "source": [
    "### Q3: Get one-step ahead predictions from a SARIMAX model with S according to what you see in the autocorrelation plots and get the MAE.\n",
    "\n",
    "Choose the seasonality for your SARIMAX model based on what you have seen on the autocorrelation\n",
    "Also, for all the SARIMAX models in this notebook you need to select `enforce_stationarity=False` and `enforce_invertibility=False` when creating the model, as shown in the template below."
   ]
  },
  {
   "cell_type": "code",
   "execution_count": null,
   "metadata": {
    "deletable": false,
    "nbgrader": {
     "grade": false,
     "grade_id": "cell-6312e30d5d2437ff",
     "locked": false,
     "schema_version": 1,
     "solution": true
    }
   },
   "outputs": [],
   "source": [
    "# hint: one-step ahead is learning notebook 2.\n",
    "# hint2: given the value of d should you use the emissions_train_log or the detrended version? check notebook 2 \n",
    "\n",
    "# For the other parameters use:\n",
    "# p = 1\n",
    "# d = 1  # interesting...\n",
    "# q = 1\n",
    "# P = 1\n",
    "# D = 0\n",
    "# Q = 0\n",
    "\n",
    "# model = SARIMAX(is this related with our choice of d...?, order=(p, d, q), seasonal_order=(P, D, Q, S),\n",
    "               # enforce_stationarity=False,\n",
    "               # enforce_invertibility=False)\n",
    "# results =\n",
    "# predictions = \n",
    "# predicted_mean = \n",
    "\n",
    "# YOUR CODE HERE\n",
    "raise NotImplementedError()"
   ]
  },
  {
   "cell_type": "code",
   "execution_count": null,
   "metadata": {
    "deletable": false,
    "editable": false,
    "nbgrader": {
     "grade": true,
     "grade_id": "cell-70c443f3d02f4229",
     "locked": true,
     "points": 2,
     "schema_version": 1,
     "solution": false
    }
   },
   "outputs": [],
   "source": [
    "assert isinstance(results, SARIMAXResultsWrapper)\n",
    "assert isinstance(predictions, PredictionResultsWrapper)\n",
    "assert predicted_mean.shape == (300,)\n",
    "expected_hash = 'a71c01c7598f070cc8511f2e0f40247ce1c9b511812c6956b2242b5fb9c5738a'\n",
    "assert hashlib.sha256(str(np.round(predicted_mean.sum())).encode()).hexdigest() == expected_hash"
   ]
  },
  {
   "cell_type": "markdown",
   "metadata": {
    "deletable": false,
    "editable": false,
    "nbgrader": {
     "grade": false,
     "grade_id": "cell-ee915637230b4e53",
     "locked": true,
     "schema_version": 1,
     "solution": false
    }
   },
   "source": [
    "### Q4: Tunning one-step ahead"
   ]
  },
  {
   "cell_type": "markdown",
   "metadata": {
    "deletable": false,
    "editable": false,
    "nbgrader": {
     "grade": false,
     "grade_id": "cell-4eb666b54e2bb768",
     "locked": true,
     "schema_version": 1,
     "solution": false
    }
   },
   "source": [
    "### Q4.1 Get the best parameters\n",
    "Make use of the function `get_best_params` and `get_sarimax_grid` below this cell. Be sure to select the method `AIC` or `validation split`. You must also select the predictive window, which is only used for the latter method.\n"
   ]
  },
  {
   "cell_type": "code",
   "execution_count": null,
   "metadata": {
    "deletable": false,
    "editable": false,
    "nbgrader": {
     "grade": false,
     "grade_id": "cell-1684e28b0c01e52a",
     "locked": true,
     "schema_version": 1,
     "solution": false
    }
   },
   "outputs": [],
   "source": [
    "def get_sarimax_grid():\n",
    "    p = d = q = P = D = Q = range(0, 2)\n",
    "    S = 12\n",
    "\n",
    "    params_combinations = list(itertools.product(p, d, q, P, D, Q))\n",
    "    inputs = [[x[0], x[1], x[2], x[3], x[4], x[5], S] for x in params_combinations]\n",
    "    return inputs"
   ]
  },
  {
   "cell_type": "code",
   "execution_count": null,
   "metadata": {
    "deletable": false,
    "editable": false,
    "nbgrader": {
     "grade": false,
     "grade_id": "cell-c9ec068bb812c8dd",
     "locked": true,
     "schema_version": 1,
     "solution": false
    }
   },
   "outputs": [],
   "source": [
    "def get_best_params(series_, inputs, method ,prediction_window):\n",
    "    # grid searches over inputs to find the best SARIMAX model for the series_ according to method.\n",
    "    # The method can be 'aic' or 'validation split' which you learned in the notebooks. For the latter you should\n",
    "    # select the desired prediction_window\n",
    "    \n",
    "    scores = {}\n",
    "    params_index = {}\n",
    "\n",
    "    for i in range(len(inputs)):\n",
    "        # this just prints a kind of progress bar, you can use tqdm if you like \n",
    "        print('%0.1f%%' % (i/len(inputs)*100), end=', ')\n",
    "\n",
    "        param_set = inputs[i]\n",
    "        if method=='validation split':\n",
    "            score= get_mae(series_, param_set, prediction_window)\n",
    "        elif method=='aic':\n",
    "            score = get_aic(series_, param_set)\n",
    "        scores[i] = score\n",
    "        params_index[i] = param_set\n",
    "\n",
    "\n",
    "    temp = pd.DataFrame(params_index).T\n",
    "    temp.columns = ['p', 'd', 'q', 'P', 'D', 'Q', 'S']\n",
    "    temp['score'] = pd.Series(scores)\n",
    "    temp.sort_values('score').head()\n",
    "\n",
    "    best_model_params = temp.score.idxmin()\n",
    "\n",
    "    return temp.loc[best_model_params][:-1].astype(int)"
   ]
  },
  {
   "cell_type": "code",
   "execution_count": null,
   "metadata": {
    "deletable": false,
    "nbgrader": {
     "grade": false,
     "grade_id": "cell-893836dce142cc23",
     "locked": false,
     "schema_version": 1,
     "solution": true
    }
   },
   "outputs": [],
   "source": [
    "# hint: we expect you to use the AIC since this is for one step forecasting.\n",
    "# hint2: we expect you to use the emissions_train_log, because normally\n",
    "# it's preferable to let SARIMAX chose the diferencing for us\n",
    "\n",
    "# best_params =\n",
    "# print(\"\\n\")\n",
    "# print(best_params)\n",
    "\n",
    "# YOUR CODE HERE\n",
    "raise NotImplementedError()"
   ]
  },
  {
   "cell_type": "code",
   "execution_count": null,
   "metadata": {
    "deletable": false,
    "editable": false,
    "nbgrader": {
     "grade": true,
     "grade_id": "cell-0d4a733870055a7a",
     "locked": true,
     "points": 1,
     "schema_version": 1,
     "solution": false
    }
   },
   "outputs": [],
   "source": [
    "assert best_params.shape == (7,)\n",
    "expected_hash = '7619d28bc856172c56d4ee608f29e82885cdc5b12c3e8a587fea6fa7e7757e45'\n",
    "assert hashlib.sha256(str(best_params).encode()).hexdigest() == expected_hash"
   ]
  },
  {
   "cell_type": "markdown",
   "metadata": {
    "deletable": false,
    "editable": false,
    "nbgrader": {
     "grade": false,
     "grade_id": "cell-e9b7350c0f7474f7",
     "locked": true,
     "schema_version": 1,
     "solution": false
    }
   },
   "source": [
    "### Q4.2 Use best params to fit SARIMAX and get one-step predictions"
   ]
  },
  {
   "cell_type": "code",
   "execution_count": null,
   "metadata": {
    "deletable": false,
    "nbgrader": {
     "grade": false,
     "grade_id": "cell-7df87d54c98920a1",
     "locked": false,
     "schema_version": 1,
     "solution": true
    }
   },
   "outputs": [],
   "source": [
    "# don't forget to set enforce_stationarity and enforce_invertibility as False\n",
    "\n",
    "#model = \n",
    "#results = \n",
    "#predictions = \n",
    "#predicted_mean = \n",
    "#predicted_mean_delogged = \n",
    "\n",
    "# YOUR CODE HERE\n",
    "raise NotImplementedError()"
   ]
  },
  {
   "cell_type": "code",
   "execution_count": null,
   "metadata": {
    "deletable": false,
    "editable": false,
    "nbgrader": {
     "grade": true,
     "grade_id": "cell-bb5f9d7036959ca8",
     "locked": true,
     "points": 2,
     "schema_version": 1,
     "solution": false
    }
   },
   "outputs": [],
   "source": [
    "assert isinstance(results, SARIMAXResultsWrapper)\n",
    "assert isinstance(predictions, PredictionResultsWrapper)\n",
    "assert isinstance(predicted_mean, pd.Series)\n",
    "assert predicted_mean.shape == (300,)\n",
    "assert predicted_mean_delogged.shape == (300,)\n",
    "\n",
    "expected_hash = '2afdd7f1fcff0d88635b41b02139149b84b21a14d98b38cd5a9567b4e5d15c66'\n",
    "assert hashlib.sha256(str(np.int(predicted_mean_delogged.sum())).encode()).hexdigest() == expected_hash"
   ]
  },
  {
   "cell_type": "markdown",
   "metadata": {
    "deletable": false,
    "editable": false,
    "nbgrader": {
     "grade": false,
     "grade_id": "cell-d6261c9789b85eef",
     "locked": true,
     "schema_version": 1,
     "solution": false
    }
   },
   "source": [
    "### Q4.3 Get the MAE for your predictions"
   ]
  },
  {
   "cell_type": "code",
   "execution_count": null,
   "metadata": {
    "deletable": false,
    "nbgrader": {
     "grade": false,
     "grade_id": "cell-31d0dfc073a764a7",
     "locked": false,
     "schema_version": 1,
     "solution": true
    }
   },
   "outputs": [],
   "source": [
    "# hint: check the end of notebook 2\n",
    "\n",
    "# predicted_mean_delogged = \n",
    "# mae = \n",
    "\n",
    "# YOUR CODE HERE\n",
    "raise NotImplementedError()"
   ]
  },
  {
   "cell_type": "code",
   "execution_count": null,
   "metadata": {
    "deletable": false,
    "editable": false,
    "nbgrader": {
     "grade": true,
     "grade_id": "cell-a89774a4f207e248",
     "locked": true,
     "points": 2,
     "schema_version": 1,
     "solution": false
    }
   },
   "outputs": [],
   "source": [
    "assert predicted_mean_delogged_loc.shape == (299,)\n",
    "assert isinstance(mae, float)\n",
    "expected_hash = '4b227777d4dd1fc61c6f884f48641d02b4d121d3fd328cb08b5531fcacdabf8a'\n",
    "assert hashlib.sha256(str(np.int(mae)).encode()).hexdigest() == expected_hash"
   ]
  },
  {
   "cell_type": "markdown",
   "metadata": {
    "deletable": false,
    "editable": false,
    "nbgrader": {
     "grade": false,
     "grade_id": "cell-364b0448fafeb1ae",
     "locked": true,
     "schema_version": 1,
     "solution": false
    }
   },
   "source": [
    "### Q4.4 Get the MAE for the one-step ahead baseline"
   ]
  },
  {
   "cell_type": "code",
   "execution_count": null,
   "metadata": {
    "deletable": false,
    "nbgrader": {
     "grade": false,
     "grade_id": "cell-79205cd72d5e9b4f",
     "locked": false,
     "schema_version": 1,
     "solution": true
    }
   },
   "outputs": [],
   "source": [
    "# baseline = \n",
    "# mae_baseline = \n",
    "\n",
    "# YOUR CODE HERE\n",
    "raise NotImplementedError()"
   ]
  },
  {
   "cell_type": "code",
   "execution_count": null,
   "metadata": {
    "deletable": false,
    "editable": false,
    "nbgrader": {
     "grade": true,
     "grade_id": "cell-56e5308ef28e1a88",
     "locked": true,
     "points": 2,
     "schema_version": 1,
     "solution": false
    }
   },
   "outputs": [],
   "source": [
    "assert baseline.shape == (300,)\n",
    "assert isinstance(mae_baseline, float)\n",
    "expected_hash = '7902699be42c8a8e46fbbb4501726517e86b22c56a189f7625a6da49081b2451'\n",
    "assert hashlib.sha256(str(np.int(mae_baseline)).encode()).hexdigest() == expected_hash"
   ]
  },
  {
   "cell_type": "markdown",
   "metadata": {
    "deletable": false,
    "editable": false,
    "nbgrader": {
     "grade": false,
     "grade_id": "cell-a3b64322fb011e9d",
     "locked": true,
     "schema_version": 1,
     "solution": false
    }
   },
   "source": [
    "### Q5: Use the SARIMAX you've built to predict the test set and get the corresponding MAE"
   ]
  },
  {
   "cell_type": "code",
   "execution_count": null,
   "metadata": {
    "deletable": false,
    "nbgrader": {
     "grade": false,
     "grade_id": "cell-6521a35d52a5d441",
     "locked": false,
     "schema_version": 1,
     "solution": true
    }
   },
   "outputs": [],
   "source": [
    "# hint: this is multi-step prediction\n",
    "# hint2: what did we say in the learning notebook 3 about the size of the prediction \n",
    "# window (lenght of the validation set) ?\n",
    "\n",
    "# prediction_window = \n",
    "# predictions = \n",
    "# predicted_mean = \n",
    "# predicted_mean_delogged = \n",
    "# mae = \n",
    "\n",
    "# YOUR CODE HERE\n",
    "raise NotImplementedError()"
   ]
  },
  {
   "cell_type": "code",
   "execution_count": null,
   "metadata": {
    "deletable": false,
    "editable": false,
    "nbgrader": {
     "grade": true,
     "grade_id": "cell-a9b483a1c99e37b4",
     "locked": true,
     "points": 3,
     "schema_version": 1,
     "solution": false
    }
   },
   "outputs": [],
   "source": [
    "assert isinstance(prediction_window, int)\n",
    "assert isinstance(predictions, PredictionResultsWrapper)\n",
    "assert isinstance(predicted_mean, pd.Series)\n",
    "expected_hash = 'e7f6c011776e8db7cd330b54174fd76f7d0216b612387a5ffcfb81e6f0919683'\n",
    "\n",
    "assert hashlib.sha256(str(np.int(mae)).encode()).hexdigest() == expected_hash"
   ]
  },
  {
   "cell_type": "markdown",
   "metadata": {
    "deletable": false,
    "editable": false,
    "nbgrader": {
     "grade": false,
     "grade_id": "cell-3797164d84bad44e",
     "locked": true,
     "schema_version": 1,
     "solution": false
    }
   },
   "source": [
    "### Q6 Tune the SARIMAX for multi-step forecasting"
   ]
  },
  {
   "cell_type": "markdown",
   "metadata": {
    "deletable": false,
    "editable": false,
    "nbgrader": {
     "grade": false,
     "grade_id": "cell-6e64a99f7c881ef7",
     "locked": true,
     "schema_version": 1,
     "solution": false
    }
   },
   "source": [
    "### Q6.1 Find best params"
   ]
  },
  {
   "cell_type": "code",
   "execution_count": null,
   "metadata": {
    "deletable": false,
    "nbgrader": {
     "grade": false,
     "grade_id": "cell-07a67c4dfe37b1c1",
     "locked": false,
     "schema_version": 1,
     "solution": true
    }
   },
   "outputs": [],
   "source": [
    "# hint1: this is multi-step forecasting so we expect you to use the validation split method.\n",
    "\n",
    "# prediction_window = \n",
    "# best_params_multistep = \n",
    "\n",
    "# YOUR CODE HERE\n",
    "raise NotImplementedError()"
   ]
  },
  {
   "cell_type": "code",
   "execution_count": null,
   "metadata": {
    "deletable": false,
    "editable": false,
    "nbgrader": {
     "grade": true,
     "grade_id": "cell-efb28240d3134418",
     "locked": true,
     "points": 2,
     "schema_version": 1,
     "solution": false
    }
   },
   "outputs": [],
   "source": [
    "assert isinstance(prediction_window, int)\n",
    "assert isinstance(best_params_multistep, pd.Series)\n",
    "expected_hash = 'd369f9e8accc3c85b48d84c04261312a56551f884932783ecb1beb9ac04e45df'\n",
    "assert hashlib.sha256(str(best_params_multistep).encode()).hexdigest() == expected_hash"
   ]
  },
  {
   "cell_type": "markdown",
   "metadata": {
    "deletable": false,
    "editable": false,
    "nbgrader": {
     "grade": false,
     "grade_id": "cell-1c2f6935fb3bb9b4",
     "locked": true,
     "schema_version": 1,
     "solution": false
    }
   },
   "source": [
    "### Q6.2 Fit SARIMAX with params"
   ]
  },
  {
   "cell_type": "code",
   "execution_count": null,
   "metadata": {
    "deletable": false,
    "nbgrader": {
     "grade": false,
     "grade_id": "cell-445884e51543c404",
     "locked": false,
     "schema_version": 1,
     "solution": true
    }
   },
   "outputs": [],
   "source": [
    "# results = \n",
    "# predictions = \n",
    "# predicted_mean = \n",
    "# predicted_mean_delogged = \n",
    "# mae =\n",
    "\n",
    "# YOUR CODE HERE\n",
    "raise NotImplementedError()"
   ]
  },
  {
   "cell_type": "code",
   "execution_count": null,
   "metadata": {
    "deletable": false,
    "editable": false,
    "nbgrader": {
     "grade": true,
     "grade_id": "cell-928157bf21ba68f2",
     "locked": true,
     "points": 3,
     "schema_version": 1,
     "solution": false
    }
   },
   "outputs": [],
   "source": [
    "assert isinstance(results, SARIMAXResultsWrapper)\n",
    "assert isinstance(predictions, PredictionResultsWrapper)\n",
    "assert isinstance(predicted_mean, pd.Series)\n",
    "assert predicted_mean.shape == (36,)\n",
    "assert predicted_mean_delogged.shape == (36,)\n",
    "\n",
    "\n",
    "expected_hash = '4a44dc15364204a80fe80e9039455cc1608281820fe2b24f1e5233ade6af1dd5'\n",
    "assert hashlib.sha256(str(np.int(mae)).encode()).hexdigest() == expected_hash"
   ]
  },
  {
   "cell_type": "markdown",
   "metadata": {
    "deletable": false,
    "editable": false,
    "nbgrader": {
     "grade": false,
     "grade_id": "cell-9ca0e9816dec8a8b",
     "locked": true,
     "schema_version": 1,
     "solution": false
    }
   },
   "source": [
    "**So, which tunning worked best for the multi-step forecasting this time?**"
   ]
  }
 ],
 "metadata": {
  "kernelspec": {
   "display_name": "Python 3",
   "language": "python",
   "name": "python3"
  },
  "language_info": {
   "codemirror_mode": {
    "name": "ipython",
    "version": 3
   },
   "file_extension": ".py",
   "mimetype": "text/x-python",
   "name": "python",
   "nbconvert_exporter": "python",
   "pygments_lexer": "ipython3",
   "version": "3.7.3"
  }
 },
 "nbformat": 4,
 "nbformat_minor": 2
}
