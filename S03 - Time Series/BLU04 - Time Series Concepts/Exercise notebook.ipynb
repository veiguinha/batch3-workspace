{
 "cells": [
  {
   "cell_type": "markdown",
   "metadata": {
    "deletable": false,
    "editable": false,
    "nbgrader": {
     "grade": false,
     "grade_id": "cell-db2d786acdddc37d",
     "locked": true,
     "schema_version": 1,
     "solution": false
    }
   },
   "source": [
    "Yay! Exercises! "
   ]
  },
  {
   "cell_type": "code",
   "execution_count": 24,
   "metadata": {
    "deletable": false,
    "editable": false,
    "nbgrader": {
     "grade": false,
     "grade_id": "cell-5631f63a56ce36ad",
     "locked": true,
     "schema_version": 3,
     "solution": false,
     "task": false
    }
   },
   "outputs": [],
   "source": [
    "import pandas as pd \n",
    "from matplotlib import pyplot as plt \n",
    "from sklearn.linear_model import LinearRegression\n",
    "import numpy as np\n",
    "import hashlib # for grading purposes\n",
    "%matplotlib inline \n",
    "import utils"
   ]
  },
  {
   "cell_type": "markdown",
   "metadata": {
    "deletable": false,
    "editable": false,
    "nbgrader": {
     "grade": false,
     "grade_id": "cell-5a13c9450f7cf9c8",
     "locked": true,
     "schema_version": 1,
     "solution": false
    }
   },
   "source": [
    "### You're hired\n",
    "\n",
    "You've been hired as the data scientist for a supermarket chain that wants to start exctracting insights from their data. First you'll start with a specific store.\n",
    "\n",
    "Let's get our data:"
   ]
  },
  {
   "cell_type": "code",
   "execution_count": 2,
   "metadata": {
    "deletable": false,
    "editable": false,
    "nbgrader": {
     "grade": false,
     "grade_id": "cell-1cf2c842a2026f77",
     "locked": true,
     "schema_version": 3,
     "solution": false,
     "task": false
    }
   },
   "outputs": [
    {
     "data": {
      "text/html": [
       "<div>\n",
       "<style scoped>\n",
       "    .dataframe tbody tr th:only-of-type {\n",
       "        vertical-align: middle;\n",
       "    }\n",
       "\n",
       "    .dataframe tbody tr th {\n",
       "        vertical-align: top;\n",
       "    }\n",
       "\n",
       "    .dataframe thead th {\n",
       "        text-align: right;\n",
       "    }\n",
       "</style>\n",
       "<table border=\"1\" class=\"dataframe\">\n",
       "  <thead>\n",
       "    <tr style=\"text-align: right;\">\n",
       "      <th></th>\n",
       "      <th>date</th>\n",
       "      <th>customers</th>\n",
       "    </tr>\n",
       "  </thead>\n",
       "  <tbody>\n",
       "    <tr>\n",
       "      <th>67528</th>\n",
       "      <td>2016-10-18</td>\n",
       "      <td>1655</td>\n",
       "    </tr>\n",
       "    <tr>\n",
       "      <th>55251</th>\n",
       "      <td>2016-02-27</td>\n",
       "      <td>1314</td>\n",
       "    </tr>\n",
       "    <tr>\n",
       "      <th>49000</th>\n",
       "      <td>2015-10-28</td>\n",
       "      <td>1784</td>\n",
       "    </tr>\n",
       "    <tr>\n",
       "      <th>54244</th>\n",
       "      <td>2016-02-08</td>\n",
       "      <td>417</td>\n",
       "    </tr>\n",
       "    <tr>\n",
       "      <th>48311</th>\n",
       "      <td>2015-10-15</td>\n",
       "      <td>1725</td>\n",
       "    </tr>\n",
       "  </tbody>\n",
       "</table>\n",
       "</div>"
      ],
      "text/plain": [
       "             date  customers\n",
       "67528  2016-10-18       1655\n",
       "55251  2016-02-27       1314\n",
       "49000  2015-10-28       1784\n",
       "54244  2016-02-08        417\n",
       "48311  2015-10-15       1725"
      ]
     },
     "execution_count": 2,
     "metadata": {},
     "output_type": "execute_result"
    }
   ],
   "source": [
    "store = utils.get_store_data()\n",
    "store.head()"
   ]
  },
  {
   "cell_type": "markdown",
   "metadata": {
    "deletable": false,
    "editable": false,
    "nbgrader": {
     "grade": false,
     "grade_id": "cell-d73283b149f131dd",
     "locked": true,
     "schema_version": 3,
     "solution": false,
     "task": false
    }
   },
   "source": [
    "#### Q1: make the index the datetime of the dates. "
   ]
  },
  {
   "cell_type": "code",
   "execution_count": 3,
   "metadata": {
    "deletable": false,
    "nbgrader": {
     "grade": false,
     "grade_id": "cell-c5dde6c9d4e1e881",
     "locked": false,
     "schema_version": 1,
     "solution": true,
     "task": false
    }
   },
   "outputs": [],
   "source": [
    "# We expect the solution to be a dataframe\n",
    "\n",
    "store['date'] = pd.to_datetime(store.date, format = '%Y-%m-%d')\n",
    "store = store.set_index('date')\n",
    "store = store.sort_index()            # Don't forget best practices"
   ]
  },
  {
   "cell_type": "code",
   "execution_count": 4,
   "metadata": {
    "deletable": false,
    "editable": false,
    "nbgrader": {
     "grade": true,
     "grade_id": "cell-018ff5132531d38c",
     "locked": true,
     "points": 1,
     "schema_version": 3,
     "solution": false,
     "task": false
    }
   },
   "outputs": [],
   "source": [
    "expected_hash = '24e6fe346ad970255e2da6db24d4721d0a240cbb5a00a58fe731b4ad767d6ab0'\n",
    "assert hashlib.sha256(str(store.iloc[25].name).encode()).hexdigest() == expected_hash\n",
    "assert hashlib.sha256(str(store.index.dtype).encode()).hexdigest() == '261738f2e43a1c47a16f043b46deb993943d61f4a2bbe5ef4b03c3fb1af362b5'\n",
    "\n",
    "\n",
    "# clue: if this assert is failing, and your iloc[25].name is '18/02/2015', \n",
    "# then you are missing the \"best practices\" part. \n",
    "# What did we say in the Learning notebook about this? "
   ]
  },
  {
   "cell_type": "markdown",
   "metadata": {
    "deletable": false,
    "editable": false,
    "nbgrader": {
     "grade": false,
     "grade_id": "cell-5d9d2353db3910f1",
     "locked": true,
     "schema_version": 3,
     "solution": false,
     "task": false
    }
   },
   "source": [
    "#### Q2: what was the worse day in terms of customers on December 2016?"
   ]
  },
  {
   "cell_type": "code",
   "execution_count": 5,
   "metadata": {
    "deletable": false,
    "nbgrader": {
     "grade": false,
     "grade_id": "cell-f3ba0f907ca7e1b7",
     "locked": false,
     "schema_version": 1,
     "solution": true
    }
   },
   "outputs": [],
   "source": [
    "# hint: the answer should be a timestamp\n",
    "\n",
    "worst_day = store.loc['2016-12-01':'2016-12-31','customers'].idxmin()"
   ]
  },
  {
   "cell_type": "code",
   "execution_count": 6,
   "metadata": {
    "deletable": false,
    "editable": false,
    "nbgrader": {
     "grade": true,
     "grade_id": "cell-141eb4112e911043",
     "locked": true,
     "points": 2,
     "schema_version": 3,
     "solution": false,
     "task": false
    }
   },
   "outputs": [],
   "source": [
    "expected_hash = 'a857d04e7b105cd2c922665d08abcba6474f8adbc46d68f34ad851ed99ae6b40'\n",
    "assert hashlib.sha256(str(worst_day).encode()).hexdigest() == expected_hash"
   ]
  },
  {
   "cell_type": "markdown",
   "metadata": {
    "deletable": false,
    "editable": false,
    "nbgrader": {
     "grade": false,
     "grade_id": "cell-20106072ecdc80bd",
     "locked": true,
     "schema_version": 3,
     "solution": false,
     "task": false
    }
   },
   "source": [
    "#### Q3: last wednesday there were 2800 customers, your boss said he's never seen so much people on a wednesday. To confirm if it is true, can you find the maximum number of customers that we've ever had on a wednesday?"
   ]
  },
  {
   "cell_type": "markdown",
   "metadata": {
    "deletable": false,
    "editable": false,
    "nbgrader": {
     "grade": false,
     "grade_id": "cell-dda7ebe9974c3e53",
     "locked": true,
     "schema_version": 3,
     "solution": false,
     "task": false
    }
   },
   "source": [
    "- _hint #1: you can use the methods at the bottom of this [page](https://pandas.pydata.org/pandas-docs/stable/reference/api/pandas.DatetimeIndex.html) directly on the index_  \n",
    "- _hint #2: when operating directly on the index, you do not need to use `.dt` to use the methods_"
   ]
  },
  {
   "cell_type": "markdown",
   "metadata": {},
   "source": [
    "- Wednesday is represented by the number 2, according to this function the week starts at a monday and it is denotated by 0"
   ]
  },
  {
   "cell_type": "code",
   "execution_count": 7,
   "metadata": {
    "deletable": false,
    "nbgrader": {
     "grade": false,
     "grade_id": "cell-089cdded3864f17b",
     "locked": false,
     "schema_version": 1,
     "solution": true,
     "task": false
    }
   },
   "outputs": [],
   "source": [
    "max_customers_wednesday = store[store.index.weekday == 2]['customers'].max()"
   ]
  },
  {
   "cell_type": "code",
   "execution_count": 8,
   "metadata": {
    "deletable": false,
    "editable": false,
    "nbgrader": {
     "grade": true,
     "grade_id": "cell-6d882e41cf9413ae",
     "locked": true,
     "points": 2,
     "schema_version": 3,
     "solution": false,
     "task": false
    }
   },
   "outputs": [],
   "source": [
    "expected_hash = '99dbbc4aad5da980a3b5035ff28d2e9f828d973cf7be91cdf3b6886741879371'\n",
    "assert hashlib.sha256(str(max_customers_wednesday).encode()).hexdigest() == expected_hash"
   ]
  },
  {
   "cell_type": "markdown",
   "metadata": {
    "deletable": false,
    "editable": false,
    "nbgrader": {
     "grade": false,
     "grade_id": "cell-ee1325836f0e198b",
     "locked": true,
     "schema_version": 3,
     "solution": false,
     "task": false
    }
   },
   "source": [
    "#### Q4: \"today there were news about an approaching zombie apocalypse, everyone came to buy stuff. I've never seen such an absolute increase in sales from one day to the next. Yesterday there were 100 customers, today there were 5000.\" To confirm if what your boss is saying is true, can you find the maximum increase in sales from one day to the next?"
   ]
  },
  {
   "cell_type": "code",
   "execution_count": 37,
   "metadata": {
    "deletable": false,
    "nbgrader": {
     "grade": false,
     "grade_id": "cell-f19f56a68b7febcb",
     "locked": false,
     "schema_version": 1,
     "solution": true,
     "task": false
    }
   },
   "outputs": [],
   "source": [
    "# hint: the solution expects a float\n",
    "max_increase = store['customers'].diff().max()"
   ]
  },
  {
   "cell_type": "code",
   "execution_count": 38,
   "metadata": {
    "deletable": false,
    "editable": false,
    "nbgrader": {
     "grade": true,
     "grade_id": "cell-0703bbeda85d0834",
     "locked": true,
     "points": 2,
     "schema_version": 3,
     "solution": false,
     "task": false
    }
   },
   "outputs": [],
   "source": [
    "expected_hash = '879f277341e3578a03df02d7f9a1e98da6b7678e09b8490db4fa87a64b77c414'\n",
    "assert hashlib.sha256(str(max_increase).encode()).hexdigest() == expected_hash"
   ]
  },
  {
   "cell_type": "markdown",
   "metadata": {
    "deletable": false,
    "editable": false,
    "nbgrader": {
     "grade": false,
     "grade_id": "cell-63c93292193b0090",
     "locked": true,
     "schema_version": 3,
     "solution": false,
     "task": false
    }
   },
   "source": [
    "#### Q5: It turned out the zombie apocalypse was fake news, but it still was a week with a signficant total amount of customers: 13000. What was the last week we had more transactions than this?"
   ]
  },
  {
   "cell_type": "code",
   "execution_count": 11,
   "metadata": {
    "deletable": false,
    "nbgrader": {
     "grade": false,
     "grade_id": "cell-3745ea4d56722003",
     "locked": false,
     "schema_version": 1,
     "solution": true,
     "task": false
    }
   },
   "outputs": [],
   "source": [
    "# We expect the answer to be a weekly time period (freq='W-SUN'), so answers  \n",
    "# which are of the form \"the first monday of that week\" will not pass the grader. \n",
    "# hint: by default pandas uses freq='W-SUN'\n",
    "\n",
    "# I want the cumulative sum of costumers per week\n",
    "\n",
    "total_weekly_customers = store.resample('W').customers.sum().loc[store.resample('W').customers.sum()\\\n",
    "                                                                 .loc[store.resample('W').customers.sum()>13000].index.max()]\n",
    "# I do not need to write the name of the column, because not only is a series as it returns only one value\n",
    "\n",
    "last_week_customers = store.resample('W').customers.sum()[store.resample('W').customers.sum()>13000].index.max()\n",
    "\n"
   ]
  },
  {
   "cell_type": "code",
   "execution_count": 12,
   "metadata": {
    "deletable": false,
    "editable": false,
    "nbgrader": {
     "grade": true,
     "grade_id": "cell-e8248641ed113328",
     "locked": true,
     "points": 3,
     "schema_version": 3,
     "solution": false,
     "task": false
    }
   },
   "outputs": [],
   "source": [
    "expected_hash = '392462e1c962b89eb0b84a245f954a54f7d3c7ac930508ef8df909ee02586613'\n",
    "assert hashlib.sha256(str(last_week_customers).encode()).hexdigest() == expected_hash"
   ]
  },
  {
   "cell_type": "markdown",
   "metadata": {
    "deletable": false,
    "editable": false,
    "nbgrader": {
     "grade": false,
     "grade_id": "cell-56d1a5764f9b4860",
     "locked": true,
     "schema_version": 3,
     "solution": false,
     "task": false
    }
   },
   "source": [
    "### Congrats!\n",
    "\n",
    "Your work is proving useful, so your boss has asked to expand your analysis to the whole chain. \n",
    "\n",
    "Let's get the new data:"
   ]
  },
  {
   "cell_type": "code",
   "execution_count": 13,
   "metadata": {
    "deletable": false,
    "editable": false,
    "nbgrader": {
     "grade": false,
     "grade_id": "cell-cad95b3a90fe0f8d",
     "locked": true,
     "schema_version": 3,
     "solution": false,
     "task": false
    }
   },
   "outputs": [
    {
     "data": {
      "text/html": [
       "<div>\n",
       "<style scoped>\n",
       "    .dataframe tbody tr th:only-of-type {\n",
       "        vertical-align: middle;\n",
       "    }\n",
       "\n",
       "    .dataframe tbody tr th {\n",
       "        vertical-align: top;\n",
       "    }\n",
       "\n",
       "    .dataframe thead th {\n",
       "        text-align: right;\n",
       "    }\n",
       "</style>\n",
       "<table border=\"1\" class=\"dataframe\">\n",
       "  <thead>\n",
       "    <tr style=\"text-align: right;\">\n",
       "      <th></th>\n",
       "      <th>date</th>\n",
       "      <th>store_nbr</th>\n",
       "      <th>customers</th>\n",
       "    </tr>\n",
       "  </thead>\n",
       "  <tbody>\n",
       "    <tr>\n",
       "      <th>43273</th>\n",
       "      <td>2015-07-09</td>\n",
       "      <td>7</td>\n",
       "      <td>1830</td>\n",
       "    </tr>\n",
       "    <tr>\n",
       "      <th>18371</th>\n",
       "      <td>2014-02-02</td>\n",
       "      <td>6</td>\n",
       "      <td>2210</td>\n",
       "    </tr>\n",
       "    <tr>\n",
       "      <th>32615</th>\n",
       "      <td>2014-12-01</td>\n",
       "      <td>10</td>\n",
       "      <td>1107</td>\n",
       "    </tr>\n",
       "    <tr>\n",
       "      <th>62678</th>\n",
       "      <td>2016-07-16</td>\n",
       "      <td>10</td>\n",
       "      <td>1002</td>\n",
       "    </tr>\n",
       "    <tr>\n",
       "      <th>58823</th>\n",
       "      <td>2016-05-04</td>\n",
       "      <td>24</td>\n",
       "      <td>2306</td>\n",
       "    </tr>\n",
       "  </tbody>\n",
       "</table>\n",
       "</div>"
      ],
      "text/plain": [
       "             date  store_nbr  customers\n",
       "43273  2015-07-09          7       1830\n",
       "18371  2014-02-02          6       2210\n",
       "32615  2014-12-01         10       1107\n",
       "62678  2016-07-16         10       1002\n",
       "58823  2016-05-04         24       2306"
      ]
     },
     "execution_count": 13,
     "metadata": {},
     "output_type": "execute_result"
    }
   ],
   "source": [
    "stores = utils.get_stores_data()\n",
    "stores.head()"
   ]
  },
  {
   "cell_type": "code",
   "execution_count": 14,
   "metadata": {
    "deletable": false,
    "editable": false,
    "nbgrader": {
     "grade": false,
     "grade_id": "cell-76bf1854f1a0871d",
     "locked": true,
     "schema_version": 1,
     "solution": false
    }
   },
   "outputs": [
    {
     "name": "stdout",
     "output_type": "stream",
     "text": [
      "We now have 83488 data points. Wooooow!\n"
     ]
    }
   ],
   "source": [
    "data = utils.get_stores_data()\n",
    "print('We now have %0.0f data points. Wooooow!' % len(data))"
   ]
  },
  {
   "cell_type": "markdown",
   "metadata": {
    "deletable": false,
    "editable": false,
    "nbgrader": {
     "grade": false,
     "grade_id": "cell-ed2483e8e17c72b5",
     "locked": true,
     "schema_version": 1,
     "solution": false
    }
   },
   "source": [
    "The thing is, we can't just set the index to be the day, as we now have multiple stores on the same day. \n",
    "\n",
    "Looks like we have to go into multi-indexing..."
   ]
  },
  {
   "cell_type": "markdown",
   "metadata": {
    "deletable": false,
    "editable": false,
    "nbgrader": {
     "grade": false,
     "grade_id": "cell-e013da3aa9d00a70",
     "locked": true,
     "schema_version": 3,
     "solution": false,
     "task": false
    }
   },
   "source": [
    "#### Q6: make the date into a datetime, and then set the index to be `[Date, Store]`"
   ]
  },
  {
   "cell_type": "code",
   "execution_count": 15,
   "metadata": {
    "deletable": false,
    "nbgrader": {
     "grade": false,
     "grade_id": "cell-76e9757d88ddc4b1",
     "locked": false,
     "schema_version": 1,
     "solution": true,
     "task": false
    }
   },
   "outputs": [],
   "source": [
    "stores['date'] = pd.to_datetime(stores['date'], format='%Y-%m-%d')\n",
    "stores = stores.set_index(['date','store_nbr'])\n",
    "stores = stores.sort_index(level='date')"
   ]
  },
  {
   "cell_type": "code",
   "execution_count": 16,
   "metadata": {
    "deletable": false,
    "editable": false,
    "nbgrader": {
     "grade": true,
     "grade_id": "cell-90a9c56f23c1116b",
     "locked": true,
     "points": 1,
     "schema_version": 3,
     "solution": false,
     "task": false
    }
   },
   "outputs": [],
   "source": [
    "assert hashlib.sha256(str(stores.index.get_level_values(0)).encode()).hexdigest() ==  \\\n",
    "        'aff1142eb44c03cc16656f3c3541ade7b5c151abcb4340fb14a058a7fec7e46b'\n",
    "assert hashlib.sha256(str(stores.index.get_level_values(1)).encode()).hexdigest() ==  \\\n",
    "        'd28cc6e9308dd2e399e100566cc5366b0ef79b74d84a5d666d792c4514704bfb'\n",
    "assert hashlib.sha256(str(stores.index.get_level_values(0).dtype).encode()).hexdigest() == \\\n",
    "        '261738f2e43a1c47a16f043b46deb993943d61f4a2bbe5ef4b03c3fb1af362b5'"
   ]
  },
  {
   "cell_type": "markdown",
   "metadata": {
    "deletable": false,
    "editable": false,
    "nbgrader": {
     "grade": false,
     "grade_id": "cell-9133d869946ecfee",
     "locked": true,
     "schema_version": 3,
     "solution": false,
     "task": false
    }
   },
   "source": [
    "#### Q7: when did store 20 open?"
   ]
  },
  {
   "cell_type": "code",
   "execution_count": 17,
   "metadata": {
    "deletable": false,
    "nbgrader": {
     "grade": false,
     "grade_id": "cell-bc9fe27354d7f35b",
     "locked": false,
     "schema_version": 1,
     "solution": true,
     "task": false
    }
   },
   "outputs": [],
   "source": [
    "# hint: the answer should be a timestamp\n",
    "idx = pd.IndexSlice\n",
    "store_20_open= stores.loc[idx[:,20],'customers'].index[0][0]"
   ]
  },
  {
   "cell_type": "code",
   "execution_count": 18,
   "metadata": {
    "deletable": false,
    "editable": false,
    "nbgrader": {
     "grade": true,
     "grade_id": "cell-ec809d4ad7cf82c7",
     "locked": true,
     "points": 2,
     "schema_version": 3,
     "solution": false,
     "task": false
    }
   },
   "outputs": [],
   "source": [
    "expected_hash = '789fe6da1fa44792a15fa1285ef9a11021bf3f7771255545462153f69338b3c9'\n",
    "assert hashlib.sha256(str(store_20_open).encode()).hexdigest() == expected_hash"
   ]
  },
  {
   "cell_type": "markdown",
   "metadata": {
    "deletable": false,
    "editable": false,
    "nbgrader": {
     "grade": false,
     "grade_id": "cell-5edabf7ec5d8ab98",
     "locked": true,
     "schema_version": 3,
     "solution": false,
     "task": false
    }
   },
   "source": [
    "#### Q8: how many stores opened in 2015?"
   ]
  },
  {
   "cell_type": "code",
   "execution_count": 19,
   "metadata": {
    "deletable": false,
    "nbgrader": {
     "grade": false,
     "grade_id": "cell-ff6e9c588b6ab2bf",
     "locked": false,
     "schema_version": 1,
     "solution": true,
     "task": false
    }
   },
   "outputs": [],
   "source": [
    "# hint: you can assume that no stores closed in 2015.\n",
    "nr_stores_2014 = len(stores.loc[idx['2014',:],'customers'].groupby(level='store_nbr').count().index)\n",
    "nr_stores_2015 = len(stores.loc[idx['2015',:],'customers'].groupby(level='store_nbr').count().index)\n",
    "nr_stores_opened_2015 = nr_stores_2015-nr_stores_2014"
   ]
  },
  {
   "cell_type": "code",
   "execution_count": 20,
   "metadata": {
    "deletable": false,
    "editable": false,
    "nbgrader": {
     "grade": true,
     "grade_id": "cell-85511006b783f6f0",
     "locked": true,
     "points": 2,
     "schema_version": 3,
     "solution": false,
     "task": false
    }
   },
   "outputs": [],
   "source": [
    "expected_hash = 'ef2d127de37b942baad06145e54b0c619a1f22327b2ebbcfbec78f5564afe39d'\n",
    "assert hashlib.sha256(str(nr_stores_opened_2015).encode()).hexdigest() == expected_hash"
   ]
  },
  {
   "cell_type": "markdown",
   "metadata": {
    "deletable": false,
    "editable": false,
    "nbgrader": {
     "grade": false,
     "grade_id": "cell-d1675ece9d7ebb68",
     "locked": true,
     "schema_version": 3,
     "solution": false,
     "task": false
    }
   },
   "source": [
    "#### Q9: Does the total number of customers that go to stores have a stronger weekly or bi-weekly seasonality during 2016?"
   ]
  },
  {
   "cell_type": "code",
   "execution_count": 61,
   "metadata": {
    "deletable": false,
    "nbgrader": {
     "grade": false,
     "grade_id": "cell-90ce7e7916ff582b",
     "locked": false,
     "schema_version": 1,
     "solution": true,
     "task": false
    }
   },
   "outputs": [],
   "source": [
    "# We expect you to use correlation as a proxy for seasonality.\n",
    "\n",
    "# hint 1: Get the total sales per day (sum over all stores), and see whether seasonality\n",
    "# stores.groupby(level='date').sum().plot(figsize=(16,4))\n",
    "# is bigger for 7 or for 14 days.\n",
    "\n",
    "# hint2: the order suggested below has a reason. You can think about what would \n",
    "# happen if you did it in the opposite order.\n",
    "# stores.rolling(14,min_periods=0).sum().plot(figsize=(16,4))\n",
    "# hint3: we expect you to use correlation as a proxy for seasonality. \n",
    "# the grader expects you to use the pandas method for correlation\n",
    "\n",
    "# hint4: use a negative shift\n",
    "\n",
    "total_sales_per_day = stores.groupby(level='date').sum()['customers']\n",
    "\n",
    "total_sales_per_day_week_before = total_sales_per_day.shift(-7)\n",
    "total_sales_per_day_2_weeks_before = total_sales_per_day.shift(-14)\n",
    "\n",
    "total_sales_per_day_2016_week_before = total_sales_per_day_week_before.loc['2016']\n",
    "total_sales_per_day_2016_2_weeks_before = total_sales_per_day_2_weeks_before['2016']\n",
    "\n",
    "weekly_corr = total_sales_per_day.loc['2016'].corr(total_sales_per_day_2016_week_before)\n",
    "biweekly_corr = total_sales_per_day.loc['2016'].corr(total_sales_per_day_2016_2_weeks_before)"
   ]
  },
  {
   "cell_type": "code",
   "execution_count": 62,
   "metadata": {
    "deletable": false,
    "editable": false,
    "nbgrader": {
     "grade": true,
     "grade_id": "cell-f44cea818496f41b",
     "locked": true,
     "points": 2,
     "schema_version": 3,
     "solution": false,
     "task": false
    }
   },
   "outputs": [],
   "source": [
    "expected_hash1 = '96cc11d2ee80bddd4e7241aa7b6abac54810adc28140198c1525a4f1ba9a78db'\n",
    "expected_hash2 = '2c66c7d6bee05863b57168ff4f235a7811905085e937d492bf379d379cd3ed95'\n",
    "assert hashlib.sha256(str(weekly_corr).encode()).hexdigest() == expected_hash1\n",
    "assert hashlib.sha256(str(biweekly_corr).encode()).hexdigest() == expected_hash2"
   ]
  },
  {
   "cell_type": "markdown",
   "metadata": {
    "deletable": false,
    "editable": false,
    "nbgrader": {
     "grade": false,
     "grade_id": "cell-b3eb9420d4d4966f",
     "locked": true,
     "schema_version": 3,
     "solution": false,
     "task": false
    }
   },
   "source": [
    "#### **Q10: What is the store with the strongest positive trend? Only including stores that were open since 2013**"
   ]
  },
  {
   "cell_type": "code",
   "execution_count": 112,
   "metadata": {
    "deletable": false,
    "nbgrader": {
     "grade": false,
     "grade_id": "cell-3eba3fa23da4ac51",
     "locked": false,
     "schema_version": 1,
     "solution": true,
     "task": false
    }
   },
   "outputs": [],
   "source": [
    "# This one is a bit harder and there are several ways to solve it. For this reasons the\n",
    "# body of the solution is not presented as in the previous questions. \n",
    "\n",
    "# A few clues:\n",
    "# don't forget to select only the stores that were open since 2013. \n",
    "stores_2013 = stores.loc[idx['2013',:],'customers'].groupby(level='store_nbr').count().index.tolist()\n",
    "# most solutions are going to require a for loop to run through the various stores\n",
    "# assume linear trends, where the trend is characterized by the slope of the linear regression\n",
    "\n",
    "results = []\n",
    "\n",
    "\n",
    "for store in stores_2013:\n",
    "    data = stores.loc[idx[:,store],'customers'].groupby('date').sum()\n",
    "    X = data.reset_index().index.values.reshape(-1, 1)\n",
    "\n",
    "    slr = LinearRegression(fit_intercept=True)\n",
    "\n",
    "    slr.fit(X, data)\n",
    "    \n",
    "    a = slr.coef_\n",
    "     \n",
    "    results.append((store,a[0]))\n",
    "\n",
    "results_df = pd.DataFrame(results,columns=['store','avg_trend'])\n",
    "results_df = results_df.set_index('store')\n",
    "\n",
    "max_trend_store = results_df.idxmax()"
   ]
  },
  {
   "cell_type": "code",
   "execution_count": 111,
   "metadata": {
    "deletable": false,
    "editable": false,
    "nbgrader": {
     "grade": true,
     "grade_id": "cell-0b050707a83767ed",
     "locked": true,
     "points": 3,
     "schema_version": 3,
     "solution": false,
     "task": false
    }
   },
   "outputs": [],
   "source": [
    "expected_hash = '0e17daca5f3e175f448bacace3bc0da47d0655a74c8dd0dc497a3afbdad95f1f'\n",
    "assert hashlib.sha256(str(max_trend_store).encode()).hexdigest() == expected_hash"
   ]
  }
 ],
 "metadata": {
  "kernelspec": {
   "display_name": "Python 3",
   "language": "python",
   "name": "python3"
  },
  "language_info": {
   "codemirror_mode": {
    "name": "ipython",
    "version": 3
   },
   "file_extension": ".py",
   "mimetype": "text/x-python",
   "name": "python",
   "nbconvert_exporter": "python",
   "pygments_lexer": "ipython3",
   "version": "3.7.3"
  }
 },
 "nbformat": 4,
 "nbformat_minor": 2
}
