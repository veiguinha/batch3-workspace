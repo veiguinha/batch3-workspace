{
 "cells": [
  {
   "cell_type": "markdown",
   "metadata": {},
   "source": [
    "# SLU03-Visualization with Pandas & Matplotlib: Exercise notebook"
   ]
  },
  {
   "cell_type": "markdown",
   "metadata": {
    "hide_input": false
   },
   "source": [
    "In this notebook you will practice the following:\n",
    "\n",
    "- Scatterplots\n",
    "- Line charts\n",
    "- Bar charts\n",
    "- Histograms\n",
    "- Box plots\n",
    "- Scaling plots"
   ]
  },
  {
   "cell_type": "markdown",
   "metadata": {},
   "source": [
    "To learn about data visualization, we are going to use a modified version of [The Movies Dataset](https://www.kaggle.com/rounakbanik/the-movies-dataset) which has information about movies\n",
    "\n",
    "The dataset is located at `data/movies.csv`, and has the following fields\n",
    "\n",
    "```\n",
    "    budget: Movie budget (in $).\n",
    "    genre: Genre the movie belongs to.\n",
    "    original_language: Language the movie was originally filmed in.\n",
    "    production_company: Name of the production company.\n",
    "    production_country: Country where the movie was produced.\n",
    "    release_year: Year the movie was released.\n",
    "    revenue: Movie ticket sales (in $).\n",
    "    runtime: Movie duration (in minutes).\n",
    "    title: Movie title.\n",
    "    vote_average: Average rating in MovieLens.\n",
    "    vote_count: Number of votes in MovieLens.\n",
    "    release_year: Year the movie was released\n",
    "```"
   ]
  },
  {
   "cell_type": "code",
   "execution_count": 1,
   "metadata": {},
   "outputs": [],
   "source": [
    "import pandas as pd\n",
    "import numpy as np"
   ]
  },
  {
   "cell_type": "code",
   "execution_count": 2,
   "metadata": {},
   "outputs": [],
   "source": [
    "movies = pd.read_csv(\"data/movies.csv\")"
   ]
  },
  {
   "cell_type": "code",
   "execution_count": 3,
   "metadata": {},
   "outputs": [
    {
     "data": {
      "text/plain": [
       "(756, 11)"
      ]
     },
     "execution_count": 3,
     "metadata": {},
     "output_type": "execute_result"
    }
   ],
   "source": [
    "movies.shape"
   ]
  },
  {
   "cell_type": "code",
   "execution_count": 4,
   "metadata": {},
   "outputs": [
    {
     "data": {
      "text/html": [
       "<div>\n",
       "<style scoped>\n",
       "    .dataframe tbody tr th:only-of-type {\n",
       "        vertical-align: middle;\n",
       "    }\n",
       "\n",
       "    .dataframe tbody tr th {\n",
       "        vertical-align: top;\n",
       "    }\n",
       "\n",
       "    .dataframe thead th {\n",
       "        text-align: right;\n",
       "    }\n",
       "</style>\n",
       "<table border=\"1\" class=\"dataframe\">\n",
       "  <thead>\n",
       "    <tr style=\"text-align: right;\">\n",
       "      <th></th>\n",
       "      <th>budget</th>\n",
       "      <th>genre</th>\n",
       "      <th>original_language</th>\n",
       "      <th>production_company</th>\n",
       "      <th>production_country</th>\n",
       "      <th>revenue</th>\n",
       "      <th>runtime</th>\n",
       "      <th>title</th>\n",
       "      <th>vote_average</th>\n",
       "      <th>vote_count</th>\n",
       "      <th>release_year</th>\n",
       "    </tr>\n",
       "  </thead>\n",
       "  <tbody>\n",
       "    <tr>\n",
       "      <th>0</th>\n",
       "      <td>3500000.0</td>\n",
       "      <td>Comedy</td>\n",
       "      <td>en</td>\n",
       "      <td>New Line Cinema</td>\n",
       "      <td>United States of America</td>\n",
       "      <td>28215918.0</td>\n",
       "      <td>91.0</td>\n",
       "      <td>Friday</td>\n",
       "      <td>7.0</td>\n",
       "      <td>513.0</td>\n",
       "      <td>1995.0</td>\n",
       "    </tr>\n",
       "    <tr>\n",
       "      <th>1</th>\n",
       "      <td>12000000.0</td>\n",
       "      <td>Comedy</td>\n",
       "      <td>en</td>\n",
       "      <td>Universal Pictures</td>\n",
       "      <td>United States of America</td>\n",
       "      <td>41205099.0</td>\n",
       "      <td>92.0</td>\n",
       "      <td>Happy Gilmore</td>\n",
       "      <td>6.5</td>\n",
       "      <td>767.0</td>\n",
       "      <td>1996.0</td>\n",
       "    </tr>\n",
       "    <tr>\n",
       "      <th>2</th>\n",
       "      <td>31000000.0</td>\n",
       "      <td>Comedy</td>\n",
       "      <td>en</td>\n",
       "      <td>United Artists</td>\n",
       "      <td>United States of America</td>\n",
       "      <td>185260553.0</td>\n",
       "      <td>117.0</td>\n",
       "      <td>The Birdcage</td>\n",
       "      <td>6.7</td>\n",
       "      <td>303.0</td>\n",
       "      <td>1996.0</td>\n",
       "    </tr>\n",
       "    <tr>\n",
       "      <th>3</th>\n",
       "      <td>52000000.0</td>\n",
       "      <td>Drama</td>\n",
       "      <td>en</td>\n",
       "      <td>Imagine Entertainment</td>\n",
       "      <td>United States of America</td>\n",
       "      <td>355237933.0</td>\n",
       "      <td>140.0</td>\n",
       "      <td>Apollo 13</td>\n",
       "      <td>7.3</td>\n",
       "      <td>1637.0</td>\n",
       "      <td>1995.0</td>\n",
       "    </tr>\n",
       "    <tr>\n",
       "      <th>4</th>\n",
       "      <td>2000000.0</td>\n",
       "      <td>Comedy</td>\n",
       "      <td>en</td>\n",
       "      <td>Miramax Films</td>\n",
       "      <td>United States of America</td>\n",
       "      <td>1275000.0</td>\n",
       "      <td>83.0</td>\n",
       "      <td>Blue in the Face</td>\n",
       "      <td>6.8</td>\n",
       "      <td>28.0</td>\n",
       "      <td>1995.0</td>\n",
       "    </tr>\n",
       "  </tbody>\n",
       "</table>\n",
       "</div>"
      ],
      "text/plain": [
       "       budget   genre original_language     production_company  \\\n",
       "0   3500000.0  Comedy                en        New Line Cinema   \n",
       "1  12000000.0  Comedy                en     Universal Pictures   \n",
       "2  31000000.0  Comedy                en         United Artists   \n",
       "3  52000000.0   Drama                en  Imagine Entertainment   \n",
       "4   2000000.0  Comedy                en          Miramax Films   \n",
       "\n",
       "         production_country      revenue  runtime             title  \\\n",
       "0  United States of America   28215918.0     91.0            Friday   \n",
       "1  United States of America   41205099.0     92.0     Happy Gilmore   \n",
       "2  United States of America  185260553.0    117.0      The Birdcage   \n",
       "3  United States of America  355237933.0    140.0         Apollo 13   \n",
       "4  United States of America    1275000.0     83.0  Blue in the Face   \n",
       "\n",
       "   vote_average  vote_count  release_year  \n",
       "0           7.0       513.0        1995.0  \n",
       "1           6.5       767.0        1996.0  \n",
       "2           6.7       303.0        1996.0  \n",
       "3           7.3      1637.0        1995.0  \n",
       "4           6.8        28.0        1995.0  "
      ]
     },
     "execution_count": 4,
     "metadata": {},
     "output_type": "execute_result"
    }
   ],
   "source": [
    "movies.head()"
   ]
  },
  {
   "cell_type": "markdown",
   "metadata": {},
   "source": [
    "Import matplotlib, pyplot and the matplotlib inline magic."
   ]
  },
  {
   "cell_type": "code",
   "execution_count": 5,
   "metadata": {
    "deletable": false,
    "nbgrader": {
     "grade": false,
     "grade_id": "cell-96c602a1da8f81e5",
     "locked": false,
     "schema_version": 1,
     "solution": true
    }
   },
   "outputs": [],
   "source": [
    "# YOUR CODE HERE\n",
    "import matplotlib.pyplot as plt"
   ]
  },
  {
   "cell_type": "code",
   "execution_count": 6,
   "metadata": {
    "deletable": false,
    "editable": false,
    "nbgrader": {
     "grade": true,
     "grade_id": "cell-f150c73eacb8515f",
     "locked": true,
     "points": 2,
     "schema_version": 1,
     "solution": false
    }
   },
   "outputs": [],
   "source": [
    "assert plt"
   ]
  },
  {
   "cell_type": "markdown",
   "metadata": {},
   "source": [
    "Change the default chart size to 8 inches width and 8 inches height"
   ]
  },
  {
   "cell_type": "code",
   "execution_count": 7,
   "metadata": {
    "deletable": false,
    "nbgrader": {
     "grade": false,
     "grade_id": "rcParams_answer",
     "locked": false,
     "schema_version": 1,
     "solution": true
    }
   },
   "outputs": [],
   "source": [
    "# YOUR CODE HERE\n",
    "plt.rcParams[\"figure.figsize\"] = [8, 8]"
   ]
  },
  {
   "cell_type": "code",
   "execution_count": 8,
   "metadata": {
    "deletable": false,
    "editable": false,
    "nbgrader": {
     "grade": true,
     "grade_id": "rcParams_test",
     "locked": true,
     "points": 2,
     "schema_version": 1,
     "solution": false
    }
   },
   "outputs": [],
   "source": [
    "assert plt.rcParams[\"figure.figsize\"][0] == 8\n",
    "assert plt.rcParams[\"figure.figsize\"][1] == 8"
   ]
  },
  {
   "cell_type": "markdown",
   "metadata": {},
   "source": [
    "<hr>"
   ]
  },
  {
   "cell_type": "markdown",
   "metadata": {},
   "source": [
    "### Note about the grading\n",
    "\n",
    "Grading plots is difficult, we are using `plotchecker` to grade the plots with nbgrader. \n",
    "For `plotchecker` to work with nbgrader, we need to add on each cell, the line\n",
    "\n",
    "`axis = plt.gca();`\n",
    "\n",
    "<div class=\"alert alert-danger\">\n",
    "<b>NOTE:</b>If you get the ImportError, plotchecker not defined, make sure you activate the right environment for this unit!\n",
    "</div>\n",
    "\n",
    "**After the code required to do the plot**.\n",
    "\n",
    "For example, if we want to plot a scatter plot showing the relationship between revenue and runtime we would do as follows:"
   ]
  },
  {
   "cell_type": "code",
   "execution_count": 9,
   "metadata": {},
   "outputs": [
    {
     "data": {
      "image/png": "[encoded data removed]",
      "text/plain": [
       "<Figure size 576x576 with 1 Axes>"
      ]
     },
     "metadata": {
      "needs_background": "light"
     },
     "output_type": "display_data"
    }
   ],
   "source": [
    "# code required to plot\n",
    "movies[[\"budget\", \"revenue\"]].plot.scatter(x=\"budget\",y=\"revenue\" )\n",
    "\n",
    "# last line in the cell required to \"capture\" the cell and being able to grade it with nbgrader\n",
    "axis = plt.gca();"
   ]
  },
  {
   "cell_type": "markdown",
   "metadata": {},
   "source": [
    "<hr>"
   ]
  },
  {
   "cell_type": "markdown",
   "metadata": {},
   "source": [
    "### How does the vote count correlate with the revenue?"
   ]
  },
  {
   "cell_type": "code",
   "execution_count": 10,
   "metadata": {
    "deletable": false,
    "nbgrader": {
     "grade": false,
     "grade_id": "budget_revenue_scatter_answer",
     "locked": false,
     "schema_version": 1,
     "solution": true
    }
   },
   "outputs": [
    {
     "data": {
      "image/png": "[encoded data removed]",
      "text/plain": [
       "<Figure size 576x576 with 1 Axes>"
      ]
     },
     "metadata": {
      "needs_background": "light"
     },
     "output_type": "display_data"
    }
   ],
   "source": [
    "# YOUR CODE HERE\n",
    "movies[[\"vote_count\", \"revenue\"]].plot.scatter(x=\"vote_count\",y=\"revenue\" )\n",
    "axis = plt.gca();"
   ]
  },
  {
   "cell_type": "code",
   "execution_count": 11,
   "metadata": {
    "deletable": false,
    "editable": false,
    "nbgrader": {
     "grade": true,
     "grade_id": "budget_revenue_scatter_test",
     "locked": true,
     "points": 3,
     "schema_version": 1,
     "solution": false
    }
   },
   "outputs": [
    {
     "name": "stdout",
     "output_type": "stream",
     "text": [
      "Success!\n"
     ]
    }
   ],
   "source": [
    "from plotchecker import PlotChecker\n",
    "def get_data(p, ax=0):\n",
    "    all_x_data = []\n",
    "    lines = p.axis.get_lines()\n",
    "    collections = axis.collections\n",
    "    if len(lines) > 0:\n",
    "        all_x_data.append(np.concatenate([x.get_xydata()[:, ax] for x in lines]))\n",
    "    if len(collections) > 0:\n",
    "        all_x_data.append(np.concatenate([x.get_offsets()[:, ax] for x in collections]))\n",
    "    return np.concatenate(all_x_data, axis=0)\n",
    "\n",
    "pc = PlotChecker(axis)\n",
    "data = get_data(pc)\n",
    "assert len(data) == 707\n",
    "assert set([pc.xlabel] + [pc.ylabel]) == set([\"revenue\", \"vote_count\"])\n",
    "np.testing.assert_equal(get_data(pc,1), movies[movies.revenue.notnull()].revenue)\n",
    "print(\"Success!\")"
   ]
  },
  {
   "cell_type": "markdown",
   "metadata": {},
   "source": [
    "### How does the average revenue of movies evolves over time? Set the plot title to \"Average Movie Revenue by year\" "
   ]
  },
  {
   "cell_type": "markdown",
   "metadata": {},
   "source": [
    "To calculate the average revenue by year we need to perform an [aggregation](https://jakevdp.github.io/PythonDataScienceHandbook/03.08-aggregation-and-grouping.html), pandas support this by doing a technique called [Split-Apply-Combine](https://pandas.pydata.org/pandas-docs/stable/user_guide/groupby.html). This will be explained in the Data Wrangling Specialization."
   ]
  },
  {
   "cell_type": "markdown",
   "metadata": {},
   "source": [
    "For now we will do the grouping for you:"
   ]
  },
  {
   "cell_type": "code",
   "execution_count": 16,
   "metadata": {},
   "outputs": [
    {
     "data": {
      "text/html": [
       "<div>\n",
       "<style scoped>\n",
       "    .dataframe tbody tr th:only-of-type {\n",
       "        vertical-align: middle;\n",
       "    }\n",
       "\n",
       "    .dataframe tbody tr th {\n",
       "        vertical-align: top;\n",
       "    }\n",
       "\n",
       "    .dataframe thead th {\n",
       "        text-align: right;\n",
       "    }\n",
       "</style>\n",
       "<table border=\"1\" class=\"dataframe\">\n",
       "  <thead>\n",
       "    <tr style=\"text-align: right;\">\n",
       "      <th></th>\n",
       "      <th>release_year</th>\n",
       "      <th>avg_revenue</th>\n",
       "    </tr>\n",
       "  </thead>\n",
       "  <tbody>\n",
       "    <tr>\n",
       "      <th>0</th>\n",
       "      <td>1951.0</td>\n",
       "      <td>3.616667e+06</td>\n",
       "    </tr>\n",
       "    <tr>\n",
       "      <th>1</th>\n",
       "      <td>1952.0</td>\n",
       "      <td>8.000000e+06</td>\n",
       "    </tr>\n",
       "    <tr>\n",
       "      <th>2</th>\n",
       "      <td>1953.0</td>\n",
       "      <td>1.850000e+07</td>\n",
       "    </tr>\n",
       "    <tr>\n",
       "      <th>3</th>\n",
       "      <td>1955.0</td>\n",
       "      <td>5.000000e+00</td>\n",
       "    </tr>\n",
       "    <tr>\n",
       "      <th>4</th>\n",
       "      <td>1956.0</td>\n",
       "      <td>8.880000e+06</td>\n",
       "    </tr>\n",
       "  </tbody>\n",
       "</table>\n",
       "</div>"
      ],
      "text/plain": [
       "   release_year   avg_revenue\n",
       "0        1951.0  3.616667e+06\n",
       "1        1952.0  8.000000e+06\n",
       "2        1953.0  1.850000e+07\n",
       "3        1955.0  5.000000e+00\n",
       "4        1956.0  8.880000e+06"
      ]
     },
     "execution_count": 16,
     "metadata": {},
     "output_type": "execute_result"
    }
   ],
   "source": [
    "avg_revenue_by_year = movies.groupby(\"release_year\")[\"revenue\"].mean().reset_index()\n",
    "avg_revenue_by_year.columns = [\"release_year\", \"avg_revenue\"]\n",
    "avg_revenue_by_year.head()"
   ]
  },
  {
   "cell_type": "markdown",
   "metadata": {},
   "source": [
    "<div class=\"alert alert-danger\">\n",
    "<b>NOTE:</b>Make sure you use the dataframe named avg_revenue_by_year for the next exercise\n",
    "</div>"
   ]
  },
  {
   "cell_type": "code",
   "execution_count": 22,
   "metadata": {
    "deletable": false,
    "nbgrader": {
     "grade": false,
     "grade_id": "duration_year_line_answer",
     "locked": false,
     "schema_version": 1,
     "solution": true
    }
   },
   "outputs": [
    {
     "data": {
      "image/png": "[encoded data removed]",
      "text/plain": [
       "<Figure size 576x576 with 1 Axes>"
      ]
     },
     "metadata": {
      "needs_background": "light"
     },
     "output_type": "display_data"
    }
   ],
   "source": [
    "# YOUR CODE HERE\n",
    "movies.groupby(\"release_year\")[\"revenue\"].mean().plot()\n",
    "plt.xlabel(\"release_year\")\n",
    "plt.ylabel('revenue')\n",
    "plt.title('Average Movie Revenue by year')\n",
    "axis = plt.gca();"
   ]
  },
  {
   "cell_type": "code",
   "execution_count": 23,
   "metadata": {
    "deletable": false,
    "editable": false,
    "nbgrader": {
     "grade": true,
     "grade_id": "duration_year_line_test",
     "locked": true,
     "points": 3,
     "schema_version": 1,
     "solution": false
    }
   },
   "outputs": [
    {
     "name": "stdout",
     "output_type": "stream",
     "text": [
      "Success!\n"
     ]
    }
   ],
   "source": [
    "pc = PlotChecker(axis)\n",
    "np.testing.assert_equal(get_data(pc), sorted(movies[movies.runtime.notnull()].release_year.unique()))\n",
    "np.testing.assert_equal(get_data(pc, ax=1), movies.groupby(\"release_year\")[\"revenue\"].mean())\n",
    "\n",
    "assert set([pc.xlabel] + [pc.ylabel]) == set([\"release_year\", \"revenue\"])\n",
    "pc.assert_title_equal(\"Average Movie Revenue by year\")\n",
    "print(\"Success!\")"
   ]
  },
  {
   "cell_type": "markdown",
   "metadata": {},
   "source": [
    "### How does the median revenue vary by movie genre? Label the x-axis as \"Median Revenue\""
   ]
  },
  {
   "cell_type": "markdown",
   "metadata": {},
   "source": [
    "Again, we will do the grouping for you:"
   ]
  },
  {
   "cell_type": "code",
   "execution_count": null,
   "metadata": {},
   "outputs": [],
   "source": [
    "median_revenue_by_genre = movies.groupby(\"genre\")[\"revenue\"].median().reset_index()\n",
    "median_revenue_by_genre.columns = [\"genre\", \"median_revenue\"]\n",
    "median_revenue_by_genre"
   ]
  },
  {
   "cell_type": "markdown",
   "metadata": {},
   "source": [
    "<div class=\"alert alert-danger\">\n",
    "<b>NOTE:</b>Make sure you use the dataframe named median_revenue_by_genre for the next exercise\n",
    "</div>"
   ]
  },
  {
   "cell_type": "code",
   "execution_count": 24,
   "metadata": {
    "deletable": false,
    "nbgrader": {
     "grade": false,
     "grade_id": "revenue_genre_barh_answer",
     "locked": false,
     "schema_version": 1,
     "solution": true
    }
   },
   "outputs": [
    {
     "data": {
      "image/png": "[encoded data removed]",
      "text/plain": [
       "<Figure size 576x576 with 1 Axes>"
      ]
     },
     "metadata": {
      "needs_background": "light"
     },
     "output_type": "display_data"
    }
   ],
   "source": [
    "# YOUR CODE HERE\n",
    "movies.groupby(\"genre\")[\"revenue\"].median().plot.barh()\n",
    "plt.xlabel('Median Revenue')\n",
    "plt.tight_layout()\n",
    "axis = plt.gca();"
   ]
  },
  {
   "cell_type": "code",
   "execution_count": 25,
   "metadata": {
    "deletable": false,
    "editable": false,
    "nbgrader": {
     "grade": true,
     "grade_id": "revenue_genre_barh_test",
     "locked": true,
     "points": 3,
     "schema_version": 1,
     "solution": false
    }
   },
   "outputs": [
    {
     "name": "stdout",
     "output_type": "stream",
     "text": [
      "Success!\n"
     ]
    }
   ],
   "source": [
    "pc = PlotChecker(axis)\n",
    "pc._patches = np.array(pc.axis.patches)\n",
    "pc._patches = pc._patches[np.argsort([p.get_x() for p in pc._patches])]\n",
    "pc.widths = np.array([p.get_width() for p in pc._patches])\n",
    "pc.heights = np.array([p.get_height() for p in pc._patches])\n",
    "assert len(pc._patches) == len(movies.groupby(\"genre\").groups)\n",
    "np.testing.assert_equal(pc.widths, movies.groupby(\"genre\")[\"revenue\"].median().values)\n",
    "pc.assert_xlabel_equal(\"Median Revenue\")\n",
    "print(\"Success!\")"
   ]
  },
  {
   "cell_type": "markdown",
   "metadata": {},
   "source": [
    "### How is the variable vote_average distributed? (set the x axis limit to [0, 9] and the number of bins to 10. Change the bar color to `red`"
   ]
  },
  {
   "cell_type": "code",
   "execution_count": null,
   "metadata": {
    "deletable": false,
    "nbgrader": {
     "grade": false,
     "grade_id": "hist_answer",
     "locked": false,
     "schema_version": 1,
     "solution": true
    }
   },
   "outputs": [],
   "source": [
    "# YOUR CODE HERE\n",
    "raise NotImplementedError()\n",
    "axis = plt.gca();"
   ]
  },
  {
   "cell_type": "code",
   "execution_count": null,
   "metadata": {
    "deletable": false,
    "editable": false,
    "nbgrader": {
     "grade": true,
     "grade_id": "hist_test",
     "locked": true,
     "points": 3,
     "schema_version": 1,
     "solution": false
    }
   },
   "outputs": [],
   "source": [
    "pc = PlotChecker(axis)\n",
    "pc._patches = np.array(pc.axis.patches)\n",
    "pc._patches = pc._patches[np.argsort([p.get_x() for p in pc._patches])]\n",
    "pc.widths = np.array([p.get_width() for p in pc._patches])\n",
    "pc.heights = np.array([p.get_height() for p in pc._patches])\n",
    "\n",
    "np.testing.assert_allclose(pc.heights, [  5.,   1.,   1.,   8.,  14.,  58., 202., 231., 172.,  20.])\n",
    "np.testing.assert_allclose(pc.widths, [0.86 for i in range(len(pc.widths))])\n",
    "assert pc.xlim[1] == 9\n",
    "assert pc._patches[0].get_facecolor() == (1., 0., 0., 1.)\n",
    "print(\"Success!\")"
   ]
  },
  {
   "cell_type": "markdown",
   "metadata": {},
   "source": [
    "### Change the default plot style to `ggplot`. Make a plot that displays the vote count broken by movie language and that allows us to check if there are outliers."
   ]
  },
  {
   "cell_type": "code",
   "execution_count": 28,
   "metadata": {
    "deletable": false,
    "nbgrader": {
     "grade": false,
     "grade_id": "boxplot_answer",
     "locked": false,
     "schema_version": 1,
     "solution": true
    }
   },
   "outputs": [
    {
     "data": {
      "image/png": "[encoded data removed]",
      "text/plain": [
       "<Figure size 576x576 with 1 Axes>"
      ]
     },
     "metadata": {},
     "output_type": "display_data"
    }
   ],
   "source": [
    "# YOUR CODE HERE\n",
    "plt.style.use('ggplot')\n",
    "movies.boxplot(column='vote_count',by='original_language');\n",
    "axis = plt.gca();"
   ]
  },
  {
   "cell_type": "code",
   "execution_count": 29,
   "metadata": {
    "deletable": false,
    "editable": false,
    "nbgrader": {
     "grade": true,
     "grade_id": "boxplot_test",
     "locked": true,
     "points": 4,
     "schema_version": 1,
     "solution": false
    }
   },
   "outputs": [
    {
     "name": "stdout",
     "output_type": "stream",
     "text": [
      "Success!\n"
     ]
    }
   ],
   "source": [
    "pc = PlotChecker(axis)\n",
    "pc._lines = pc.axis.get_lines()\n",
    "pc.colors = np.array([pc._color2rgb(x.get_color()) for x in pc._lines])\n",
    "np.testing.assert_allclose(pc.colors[0],[0.88627451, 0.29019608, 0.2])\n",
    "np.testing.assert_allclose(pc.yticks,np.array([-1,0,1,2,3,4,5,6])*1e3)\n",
    "assert pc.xticklabels == ['en', 'fr', 'hi', 'it', 'ru']\n",
    "print(\"Success!\")"
   ]
  },
  {
   "cell_type": "markdown",
   "metadata": {},
   "source": [
    "\n",
    "# Ungraded Exercise\n",
    "Load the file misterious_data.csv and use data visualization to answer the following questions:\n",
    "\n",
    "* How is the distribution of x in general?\n",
    "* Are there any outlier in any of the fields?\n",
    "* Which 2 charts better represent the underlying data?. Change their style to `bmh` and add titles to each chart explaining them \n"
   ]
  }
 ],
 "metadata": {
  "kernelspec": {
   "display_name": "Python 3",
   "language": "python",
   "name": "python3"
  },
  "language_info": {
   "codemirror_mode": {
    "name": "ipython",
    "version": 3
   },
   "file_extension": ".py",
   "mimetype": "text/x-python",
   "name": "python",
   "nbconvert_exporter": "python",
   "pygments_lexer": "ipython3",
   "version": "3.7.3"
  }
 },
 "nbformat": 4,
 "nbformat_minor": 2
}
