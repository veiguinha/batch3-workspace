{
 "cells": [
  {
   "cell_type": "markdown",
   "metadata": {},
   "source": [
    "# SLU15: Feature Engineering (aka Real World Data): Examples notebook\n",
    "---\n",
    "\n",
    "In this notebook we will cover the following:\n",
    "* Types of statistical data\n",
    "* Dealing with numerical features\n",
    "* Dealing with categorical features"
   ]
  },
  {
   "cell_type": "code",
   "execution_count": 1,
   "metadata": {},
   "outputs": [],
   "source": [
    "import numpy as np\n",
    "import pandas as pd\n",
    "import matplotlib.pyplot as plt\n",
    "%matplotlib inline\n",
    "\n",
    "import warnings\n",
    "warnings.filterwarnings('ignore')"
   ]
  },
  {
   "cell_type": "code",
   "execution_count": 2,
   "metadata": {},
   "outputs": [],
   "source": [
    "avengers = pd.read_csv('data/avengers.csv')"
   ]
  },
  {
   "cell_type": "markdown",
   "metadata": {},
   "source": [
    "# 2. Types of data in Pandas\n",
    "\n",
    "## 2.1. Numerical and object dtypes"
   ]
  },
  {
   "cell_type": "code",
   "execution_count": 3,
   "metadata": {},
   "outputs": [
    {
     "data": {
      "text/plain": [
       "Name            object\n",
       "Active          object\n",
       "Gender          object\n",
       "Membership      object\n",
       "Universe        object\n",
       "Appearances      int64\n",
       "TotalDeaths      int64\n",
       "TotalReturns     int64\n",
       "dtype: object"
      ]
     },
     "execution_count": 3,
     "metadata": {},
     "output_type": "execute_result"
    }
   ],
   "source": [
    "avengers.dtypes"
   ]
  },
  {
   "cell_type": "code",
   "execution_count": 4,
   "metadata": {
    "scrolled": true
   },
   "outputs": [
    {
     "data": {
      "text/html": [
       "<div>\n",
       "<style scoped>\n",
       "    .dataframe tbody tr th:only-of-type {\n",
       "        vertical-align: middle;\n",
       "    }\n",
       "\n",
       "    .dataframe tbody tr th {\n",
       "        vertical-align: top;\n",
       "    }\n",
       "\n",
       "    .dataframe thead th {\n",
       "        text-align: right;\n",
       "    }\n",
       "</style>\n",
       "<table border=\"1\" class=\"dataframe\">\n",
       "  <thead>\n",
       "    <tr style=\"text-align: right;\">\n",
       "      <th></th>\n",
       "      <th>Name</th>\n",
       "      <th>Active</th>\n",
       "      <th>Gender</th>\n",
       "      <th>Membership</th>\n",
       "      <th>Universe</th>\n",
       "    </tr>\n",
       "  </thead>\n",
       "  <tbody>\n",
       "    <tr>\n",
       "      <th>0</th>\n",
       "      <td>Henry Jonathan \"Hank\" Pym</td>\n",
       "      <td>YES</td>\n",
       "      <td>MALE</td>\n",
       "      <td>Full</td>\n",
       "      <td>Earth-616</td>\n",
       "    </tr>\n",
       "    <tr>\n",
       "      <th>1</th>\n",
       "      <td>Janet van Dyne</td>\n",
       "      <td>YES</td>\n",
       "      <td>FEMALE</td>\n",
       "      <td>Full</td>\n",
       "      <td>Earth-616</td>\n",
       "    </tr>\n",
       "    <tr>\n",
       "      <th>2</th>\n",
       "      <td>Anthony Edward \"Tony\" Stark</td>\n",
       "      <td>YES</td>\n",
       "      <td>MALE</td>\n",
       "      <td>Full</td>\n",
       "      <td>Earth-616</td>\n",
       "    </tr>\n",
       "  </tbody>\n",
       "</table>\n",
       "</div>"
      ],
      "text/plain": [
       "                          Name Active  Gender Membership   Universe\n",
       "0    Henry Jonathan \"Hank\" Pym    YES    MALE       Full  Earth-616\n",
       "1               Janet van Dyne    YES  FEMALE       Full  Earth-616\n",
       "2  Anthony Edward \"Tony\" Stark    YES    MALE       Full  Earth-616"
      ]
     },
     "execution_count": 4,
     "metadata": {},
     "output_type": "execute_result"
    }
   ],
   "source": [
    "(avengers.select_dtypes(include='object')\n",
    "         .head(3))"
   ]
  },
  {
   "cell_type": "markdown",
   "metadata": {},
   "source": [
    "## 2.2. Category dtype"
   ]
  },
  {
   "cell_type": "code",
   "execution_count": 5,
   "metadata": {},
   "outputs": [],
   "source": [
    "avengers_cat = avengers.copy()\n",
    "avengers_cat = avengers_cat.assign(Universe=avengers['Universe'].astype('category'))"
   ]
  },
  {
   "cell_type": "code",
   "execution_count": 6,
   "metadata": {},
   "outputs": [
    {
     "data": {
      "text/plain": [
       "Index(['Earth-13034', 'Earth-616', 'Earth-6311', 'Earth-691', 'Earth-8009',\n",
       "       'Earth-921', 'Earth-96020'],\n",
       "      dtype='object')"
      ]
     },
     "execution_count": 6,
     "metadata": {},
     "output_type": "execute_result"
    }
   ],
   "source": [
    "avengers_cat['Universe'].cat.categories"
   ]
  },
  {
   "cell_type": "code",
   "execution_count": 7,
   "metadata": {},
   "outputs": [
    {
     "data": {
      "text/plain": [
       "False"
      ]
     },
     "execution_count": 7,
     "metadata": {},
     "output_type": "execute_result"
    }
   ],
   "source": [
    "avengers_cat['Universe'].cat.ordered"
   ]
  },
  {
   "cell_type": "markdown",
   "metadata": {},
   "source": [
    "### Ordinal data"
   ]
  },
  {
   "cell_type": "code",
   "execution_count": 8,
   "metadata": {},
   "outputs": [
    {
     "data": {
      "text/plain": [
       "Index(['Academy', 'Full', 'Honorary', 'Probationary'], dtype='object')"
      ]
     },
     "execution_count": 8,
     "metadata": {},
     "output_type": "execute_result"
    }
   ],
   "source": [
    "avengers_ord = avengers.copy()\n",
    "avengers_ord = avengers_ord.assign(Membership=avengers['Membership'].astype('category'))\n",
    "\n",
    "avengers_ord['Membership'].cat.categories"
   ]
  },
  {
   "cell_type": "code",
   "execution_count": 9,
   "metadata": {},
   "outputs": [
    {
     "data": {
      "text/plain": [
       "('Honorary', 'Full')"
      ]
     },
     "execution_count": 9,
     "metadata": {},
     "output_type": "execute_result"
    }
   ],
   "source": [
    "ordered_cats = ['Honorary', 'Academy', 'Probationary', 'Full']\n",
    "avengers_ord = avengers_ord.assign(Membership=avengers_ord['Membership'].cat.set_categories(ordered_cats, ordered=True))\n",
    "\n",
    "avengers_ord['Membership'].min(), avengers_ord['Membership'].max()"
   ]
  },
  {
   "cell_type": "markdown",
   "metadata": {},
   "source": [
    "# 3. Types of statistical data"
   ]
  },
  {
   "cell_type": "markdown",
   "metadata": {},
   "source": [
    "## 3.1. Dealing with numerical data"
   ]
  },
  {
   "cell_type": "markdown",
   "metadata": {},
   "source": [
    "### 3.1.1. Introducing sklearn-like transformers"
   ]
  },
  {
   "cell_type": "code",
   "execution_count": 10,
   "metadata": {},
   "outputs": [],
   "source": [
    "from sklearn.preprocessing import KBinsDiscretizer\n",
    "from sklearn.preprocessing import Binarizer\n",
    "from sklearn.preprocessing import MinMaxScaler\n",
    "from sklearn.preprocessing import Normalizer\n",
    "from sklearn.preprocessing import StandardScaler\n",
    "from sklearn.preprocessing import RobustScaler"
   ]
  },
  {
   "cell_type": "markdown",
   "metadata": {},
   "source": [
    "### 3.1.2. Discretization of numerical data\n",
    "\n",
    "#### Binning"
   ]
  },
  {
   "cell_type": "code",
   "execution_count": 11,
   "metadata": {},
   "outputs": [],
   "source": [
    "# save column as a dataframe, as required by the transformer\n",
    "X = avengers[['Appearances']]\n",
    "\n",
    "# initialize transformer with desired options\n",
    "binner = KBinsDiscretizer(n_bins=10, encode='ordinal', strategy='uniform')\n",
    "\n",
    "# fit transformer to data\n",
    "binner.fit(X)\n",
    "\n",
    "# create new feature by transforming the data\n",
    "avengers['Appearances_bins'] = binner.transform(X)"
   ]
  },
  {
   "cell_type": "code",
   "execution_count": 12,
   "metadata": {},
   "outputs": [
    {
     "data": {
      "text/plain": [
       "array([array([2.0000e+00, 4.3510e+02, 8.6820e+02, 1.3013e+03, 1.7344e+03,\n",
       "       2.1675e+03, 2.6006e+03, 3.0337e+03, 3.4668e+03, 3.8999e+03,\n",
       "       4.3330e+03])], dtype=object)"
      ]
     },
     "execution_count": 12,
     "metadata": {},
     "output_type": "execute_result"
    }
   ],
   "source": [
    "binner.bin_edges_"
   ]
  },
  {
   "cell_type": "markdown",
   "metadata": {},
   "source": [
    "#### Binarization"
   ]
  },
  {
   "cell_type": "code",
   "execution_count": 13,
   "metadata": {},
   "outputs": [
    {
     "data": {
      "image/png": "[encoded data removed]",
      "text/plain": [
       "<Figure size 288x360 with 1 Axes>"
      ]
     },
     "metadata": {
      "needs_background": "light"
     },
     "output_type": "display_data"
    }
   ],
   "source": [
    "# initialize transformer with desired options\n",
    "binarizer = Binarizer(threshold = 1000)\n",
    "\n",
    "# save data to binarize\n",
    "X = avengers[['Appearances']]\n",
    "\n",
    "# fit transformer to data\n",
    "binarizer.fit(X)\n",
    "\n",
    "# create new feature by transforming the data\n",
    "avengers['Appearances_binary'] = binarizer.transform(X)\n",
    "\n",
    "# plot histogram\n",
    "avengers['Appearances_binary'].plot.hist(figsize=(4, 5));\n",
    "plt.xlim(0,1);\n",
    "plt.title('Number of appearances after binarization');"
   ]
  },
  {
   "cell_type": "markdown",
   "metadata": {},
   "source": [
    "### 3.1.3. Scaling of numerical data\n",
    "\n",
    "#### [MinMaxScaler](https://scikit-learn.org/stable/modules/generated/sklearn.preprocessing.MinMaxScaler.html#sklearn.preprocessing.MinMaxScaler)"
   ]
  },
  {
   "cell_type": "code",
   "execution_count": 14,
   "metadata": {},
   "outputs": [
    {
     "data": {
      "image/png": "[encoded data removed]",
      "text/plain": [
       "<Figure size 576x360 with 1 Axes>"
      ]
     },
     "metadata": {
      "needs_background": "light"
     },
     "output_type": "display_data"
    }
   ],
   "source": [
    "# initialize transformer with desired options\n",
    "minmaxscaler = MinMaxScaler(feature_range=(0,1))\n",
    "\n",
    "# save data to scale\n",
    "X = avengers[['Appearances']]\n",
    "\n",
    "# fit transformer to data\n",
    "minmaxscaler.fit(X)\n",
    "\n",
    "# create new feature by transforming the data\n",
    "avengers['Appearances_minmax'] = minmaxscaler.transform(X)\n",
    "\n",
    "# plot histogram\n",
    "avengers['Appearances_minmax'].plot.hist(figsize=(8, 5));\n",
    "plt.xlim(0, 1);\n",
    "plt.title('Number of appearances after min-max scaling');"
   ]
  },
  {
   "cell_type": "markdown",
   "metadata": {},
   "source": [
    "#### [Normalizer](https://scikit-learn.org/stable/modules/generated/sklearn.preprocessing.Normalizer.html)"
   ]
  },
  {
   "cell_type": "code",
   "execution_count": 15,
   "metadata": {},
   "outputs": [
    {
     "data": {
      "image/png": "[encoded data removed]",
      "text/plain": [
       "<Figure size 576x360 with 1 Axes>"
      ]
     },
     "metadata": {
      "needs_background": "light"
     },
     "output_type": "display_data"
    }
   ],
   "source": [
    "# initialize transformer with desired options\n",
    "normalizer = Normalizer(norm='l2')\n",
    "\n",
    "# save numerical columns to normalize\n",
    "X = avengers[['Appearances', 'TotalDeaths', 'TotalReturns']]\n",
    "\n",
    "# fit transformer to data\n",
    "normalizer.fit(X)\n",
    "\n",
    "# create new features by transforming the data\n",
    "X_normalized = normalizer.transform(X)  # recall that output is a numpy array\n",
    "avengers['Appearances_normalized'] = X_normalized[:, 0]\n",
    "avengers['TotalDeaths_normalized'] = X_normalized[:, 1]\n",
    "avengers['TotalReturns_normalized'] = X_normalized[:, 2]\n",
    "\n",
    "# plot histogram of normalized appearances\n",
    "avengers['Appearances_normalized'].plot.hist(figsize=(8, 5));\n",
    "plt.xlim(0.88, 1);\n",
    "plt.title('Number of appearances after normalization');"
   ]
  },
  {
   "cell_type": "markdown",
   "metadata": {},
   "source": [
    "#### [StandardScaler](https://scikit-learn.org/stable/modules/generated/sklearn.preprocessing.StandardScaler.html#sklearn.preprocessing.StandardScaler)"
   ]
  },
  {
   "cell_type": "code",
   "execution_count": 16,
   "metadata": {
    "scrolled": true
   },
   "outputs": [
    {
     "data": {
      "image/png": "[encoded data removed]",
      "text/plain": [
       "<Figure size 576x360 with 1 Axes>"
      ]
     },
     "metadata": {
      "needs_background": "light"
     },
     "output_type": "display_data"
    }
   ],
   "source": [
    "# initialize transformer with desired options\n",
    "standardscaler = StandardScaler()\n",
    "\n",
    "# save data to scale\n",
    "X = avengers[['Appearances']]\n",
    "\n",
    "# fit transformer to data\n",
    "standardscaler.fit(X)\n",
    "\n",
    "# create new feature by transforming the data\n",
    "avengers['Appearances_standard_scaled'] = standardscaler.transform(X)\n",
    "\n",
    "# plot histogram\n",
    "avengers['Appearances_standard_scaled'].plot.hist(figsize=(8, 5));\n",
    "plt.title('Number of appearances after standard scaling');"
   ]
  },
  {
   "cell_type": "markdown",
   "metadata": {},
   "source": [
    "#### [RobustScaler](https://scikit-learn.org/stable/modules/generated/sklearn.preprocessing.RobustScaler.html#sklearn.preprocessing.RobustScaler)"
   ]
  },
  {
   "cell_type": "code",
   "execution_count": 17,
   "metadata": {},
   "outputs": [
    {
     "data": {
      "image/png": "[encoded data removed]",
      "text/plain": [
       "<Figure size 576x360 with 1 Axes>"
      ]
     },
     "metadata": {
      "needs_background": "light"
     },
     "output_type": "display_data"
    }
   ],
   "source": [
    "# initialize transformer with desired options\n",
    "robustscaler = RobustScaler()\n",
    "\n",
    "# save data to scale\n",
    "X = avengers[['Appearances']]\n",
    "\n",
    "# fit transformer to data\n",
    "robustscaler.fit(X)\n",
    "\n",
    "# create new feature by transforming the data\n",
    "avengers['Appearances_robust_scaled'] = robustscaler.transform(X)\n",
    "\n",
    "# plot histogram\n",
    "avengers['Appearances_robust_scaled'].plot.hist(figsize=(8, 5));\n",
    "plt.title('Number of appearances after robust scaling');"
   ]
  },
  {
   "cell_type": "markdown",
   "metadata": {},
   "source": [
    "## 3.2. Dealing with categorical data"
   ]
  },
  {
   "cell_type": "markdown",
   "metadata": {},
   "source": [
    "### 3.2.1. Binary data"
   ]
  },
  {
   "cell_type": "code",
   "execution_count": 18,
   "metadata": {},
   "outputs": [
    {
     "data": {
      "text/html": [
       "<div>\n",
       "<style scoped>\n",
       "    .dataframe tbody tr th:only-of-type {\n",
       "        vertical-align: middle;\n",
       "    }\n",
       "\n",
       "    .dataframe tbody tr th {\n",
       "        vertical-align: top;\n",
       "    }\n",
       "\n",
       "    .dataframe thead th {\n",
       "        text-align: right;\n",
       "    }\n",
       "</style>\n",
       "<table border=\"1\" class=\"dataframe\">\n",
       "  <thead>\n",
       "    <tr style=\"text-align: right;\">\n",
       "      <th></th>\n",
       "      <th>Name</th>\n",
       "      <th>Active</th>\n",
       "      <th>Gender</th>\n",
       "      <th>Membership</th>\n",
       "      <th>Universe</th>\n",
       "      <th>Appearances</th>\n",
       "      <th>TotalDeaths</th>\n",
       "      <th>TotalReturns</th>\n",
       "      <th>Active_mapped</th>\n",
       "      <th>Gender_mapped</th>\n",
       "    </tr>\n",
       "  </thead>\n",
       "  <tbody>\n",
       "    <tr>\n",
       "      <th>143</th>\n",
       "      <td>David Alleyne</td>\n",
       "      <td>YES</td>\n",
       "      <td>MALE</td>\n",
       "      <td>Full</td>\n",
       "      <td>Earth-616</td>\n",
       "      <td>115</td>\n",
       "      <td>0</td>\n",
       "      <td>0</td>\n",
       "      <td>1</td>\n",
       "      <td>1</td>\n",
       "    </tr>\n",
       "    <tr>\n",
       "      <th>152</th>\n",
       "      <td>Victor Alvarez</td>\n",
       "      <td>YES</td>\n",
       "      <td>MALE</td>\n",
       "      <td>Full</td>\n",
       "      <td>Earth-616</td>\n",
       "      <td>45</td>\n",
       "      <td>0</td>\n",
       "      <td>0</td>\n",
       "      <td>1</td>\n",
       "      <td>1</td>\n",
       "    </tr>\n",
       "    <tr>\n",
       "      <th>106</th>\n",
       "      <td>Dennis Sykes</td>\n",
       "      <td>NO</td>\n",
       "      <td>MALE</td>\n",
       "      <td>Full</td>\n",
       "      <td>Earth-616</td>\n",
       "      <td>6</td>\n",
       "      <td>1</td>\n",
       "      <td>0</td>\n",
       "      <td>0</td>\n",
       "      <td>1</td>\n",
       "    </tr>\n",
       "    <tr>\n",
       "      <th>145</th>\n",
       "      <td>Phillip Coulson</td>\n",
       "      <td>YES</td>\n",
       "      <td>MALE</td>\n",
       "      <td>Full</td>\n",
       "      <td>Earth-616</td>\n",
       "      <td>69</td>\n",
       "      <td>0</td>\n",
       "      <td>0</td>\n",
       "      <td>1</td>\n",
       "      <td>1</td>\n",
       "    </tr>\n",
       "    <tr>\n",
       "      <th>10</th>\n",
       "      <td>Jacques Duquesne</td>\n",
       "      <td>NO</td>\n",
       "      <td>MALE</td>\n",
       "      <td>Full</td>\n",
       "      <td>Earth-616</td>\n",
       "      <td>115</td>\n",
       "      <td>1</td>\n",
       "      <td>1</td>\n",
       "      <td>0</td>\n",
       "      <td>1</td>\n",
       "    </tr>\n",
       "  </tbody>\n",
       "</table>\n",
       "</div>"
      ],
      "text/plain": [
       "                 Name Active Gender Membership   Universe  Appearances  \\\n",
       "143     David Alleyne    YES   MALE       Full  Earth-616          115   \n",
       "152    Victor Alvarez    YES   MALE       Full  Earth-616           45   \n",
       "106      Dennis Sykes     NO   MALE       Full  Earth-616            6   \n",
       "145   Phillip Coulson    YES   MALE       Full  Earth-616           69   \n",
       "10   Jacques Duquesne     NO   MALE       Full  Earth-616          115   \n",
       "\n",
       "     TotalDeaths  TotalReturns  Active_mapped  Gender_mapped  \n",
       "143            0             0              1              1  \n",
       "152            0             0              1              1  \n",
       "106            1             0              0              1  \n",
       "145            0             0              1              1  \n",
       "10             1             1              0              1  "
      ]
     },
     "execution_count": 18,
     "metadata": {},
     "output_type": "execute_result"
    }
   ],
   "source": [
    "avengers = pd.read_csv('data/avengers.csv')\n",
    "\n",
    "(avengers.assign(Active_mapped = avengers['Active'].map({'YES': 1, 'NO': 0}),\n",
    "                 Gender_mapped = avengers['Gender'].map({'MALE': 1, 'FEMALE': 0}))\n",
    "         .sample(5))"
   ]
  },
  {
   "cell_type": "markdown",
   "metadata": {},
   "source": [
    "### 3.2.2. Enconding categorical features"
   ]
  },
  {
   "cell_type": "code",
   "execution_count": 19,
   "metadata": {},
   "outputs": [],
   "source": [
    "import category_encoders as ce"
   ]
  },
  {
   "cell_type": "markdown",
   "metadata": {},
   "source": [
    "#### Ordinal encoding"
   ]
  },
  {
   "cell_type": "code",
   "execution_count": 20,
   "metadata": {},
   "outputs": [
    {
     "data": {
      "text/html": [
       "<div>\n",
       "<style scoped>\n",
       "    .dataframe tbody tr th:only-of-type {\n",
       "        vertical-align: middle;\n",
       "    }\n",
       "\n",
       "    .dataframe tbody tr th {\n",
       "        vertical-align: top;\n",
       "    }\n",
       "\n",
       "    .dataframe thead th {\n",
       "        text-align: right;\n",
       "    }\n",
       "</style>\n",
       "<table border=\"1\" class=\"dataframe\">\n",
       "  <thead>\n",
       "    <tr style=\"text-align: right;\">\n",
       "      <th></th>\n",
       "      <th>Universe</th>\n",
       "    </tr>\n",
       "  </thead>\n",
       "  <tbody>\n",
       "    <tr>\n",
       "      <th>73</th>\n",
       "      <td>4</td>\n",
       "    </tr>\n",
       "    <tr>\n",
       "      <th>51</th>\n",
       "      <td>3</td>\n",
       "    </tr>\n",
       "    <tr>\n",
       "      <th>89</th>\n",
       "      <td>1</td>\n",
       "    </tr>\n",
       "    <tr>\n",
       "      <th>122</th>\n",
       "      <td>1</td>\n",
       "    </tr>\n",
       "    <tr>\n",
       "      <th>26</th>\n",
       "      <td>2</td>\n",
       "    </tr>\n",
       "  </tbody>\n",
       "</table>\n",
       "</div>"
      ],
      "text/plain": [
       "     Universe\n",
       "73          4\n",
       "51          3\n",
       "89          1\n",
       "122         1\n",
       "26          2"
      ]
     },
     "execution_count": 20,
     "metadata": {},
     "output_type": "execute_result"
    }
   ],
   "source": [
    "# initialize transformer with desired options\n",
    "ordinalencoder = ce.ordinal.OrdinalEncoder()\n",
    "\n",
    "# save data to scale (no need to reshape)\n",
    "X = avengers[['Universe']]\n",
    "\n",
    "# fit transformer to data\n",
    "ordinalencoder.fit(X)\n",
    "\n",
    "# create new feature by transforming the data\n",
    "X_encoded = ordinalencoder.transform(X)\n",
    "X_encoded.sample(5, random_state=9)"
   ]
  },
  {
   "cell_type": "code",
   "execution_count": 21,
   "metadata": {},
   "outputs": [
    {
     "data": {
      "text/plain": [
       "[{'col': 'Universe', 'data_type': dtype('O'), 'mapping': Earth-616      1\n",
       "  Earth-691      2\n",
       "  Earth-6311     3\n",
       "  Earth-921      4\n",
       "  Earth-96020    5\n",
       "  Earth-8009     6\n",
       "  Earth-13034    7\n",
       "  NaN           -2\n",
       "  dtype: int64}]"
      ]
     },
     "execution_count": 21,
     "metadata": {},
     "output_type": "execute_result"
    }
   ],
   "source": [
    "ordinalencoder.category_mapping"
   ]
  },
  {
   "cell_type": "markdown",
   "metadata": {},
   "source": [
    "#### One-hot encoding"
   ]
  },
  {
   "cell_type": "code",
   "execution_count": 22,
   "metadata": {},
   "outputs": [
    {
     "data": {
      "text/html": [
       "<div>\n",
       "<style scoped>\n",
       "    .dataframe tbody tr th:only-of-type {\n",
       "        vertical-align: middle;\n",
       "    }\n",
       "\n",
       "    .dataframe tbody tr th {\n",
       "        vertical-align: top;\n",
       "    }\n",
       "\n",
       "    .dataframe thead th {\n",
       "        text-align: right;\n",
       "    }\n",
       "</style>\n",
       "<table border=\"1\" class=\"dataframe\">\n",
       "  <thead>\n",
       "    <tr style=\"text-align: right;\">\n",
       "      <th></th>\n",
       "      <th>Universe_Earth-616</th>\n",
       "      <th>Universe_Earth-691</th>\n",
       "      <th>Universe_Earth-6311</th>\n",
       "      <th>Universe_Earth-921</th>\n",
       "      <th>Universe_Earth-96020</th>\n",
       "      <th>Universe_Earth-8009</th>\n",
       "      <th>Universe_Earth-13034</th>\n",
       "      <th>Universe_-1</th>\n",
       "    </tr>\n",
       "  </thead>\n",
       "  <tbody>\n",
       "    <tr>\n",
       "      <th>73</th>\n",
       "      <td>0</td>\n",
       "      <td>0</td>\n",
       "      <td>0</td>\n",
       "      <td>1</td>\n",
       "      <td>0</td>\n",
       "      <td>0</td>\n",
       "      <td>0</td>\n",
       "      <td>0</td>\n",
       "    </tr>\n",
       "    <tr>\n",
       "      <th>51</th>\n",
       "      <td>0</td>\n",
       "      <td>0</td>\n",
       "      <td>1</td>\n",
       "      <td>0</td>\n",
       "      <td>0</td>\n",
       "      <td>0</td>\n",
       "      <td>0</td>\n",
       "      <td>0</td>\n",
       "    </tr>\n",
       "    <tr>\n",
       "      <th>89</th>\n",
       "      <td>1</td>\n",
       "      <td>0</td>\n",
       "      <td>0</td>\n",
       "      <td>0</td>\n",
       "      <td>0</td>\n",
       "      <td>0</td>\n",
       "      <td>0</td>\n",
       "      <td>0</td>\n",
       "    </tr>\n",
       "    <tr>\n",
       "      <th>122</th>\n",
       "      <td>1</td>\n",
       "      <td>0</td>\n",
       "      <td>0</td>\n",
       "      <td>0</td>\n",
       "      <td>0</td>\n",
       "      <td>0</td>\n",
       "      <td>0</td>\n",
       "      <td>0</td>\n",
       "    </tr>\n",
       "    <tr>\n",
       "      <th>26</th>\n",
       "      <td>0</td>\n",
       "      <td>1</td>\n",
       "      <td>0</td>\n",
       "      <td>0</td>\n",
       "      <td>0</td>\n",
       "      <td>0</td>\n",
       "      <td>0</td>\n",
       "      <td>0</td>\n",
       "    </tr>\n",
       "  </tbody>\n",
       "</table>\n",
       "</div>"
      ],
      "text/plain": [
       "     Universe_Earth-616  Universe_Earth-691  Universe_Earth-6311  \\\n",
       "73                    0                   0                    0   \n",
       "51                    0                   0                    1   \n",
       "89                    1                   0                    0   \n",
       "122                   1                   0                    0   \n",
       "26                    0                   1                    0   \n",
       "\n",
       "     Universe_Earth-921  Universe_Earth-96020  Universe_Earth-8009  \\\n",
       "73                    1                     0                    0   \n",
       "51                    0                     0                    0   \n",
       "89                    0                     0                    0   \n",
       "122                   0                     0                    0   \n",
       "26                    0                     0                    0   \n",
       "\n",
       "     Universe_Earth-13034  Universe_-1  \n",
       "73                      0            0  \n",
       "51                      0            0  \n",
       "89                      0            0  \n",
       "122                     0            0  \n",
       "26                      0            0  "
      ]
     },
     "execution_count": 22,
     "metadata": {},
     "output_type": "execute_result"
    }
   ],
   "source": [
    "# initialize transformer with desired options\n",
    "ohe = ce.one_hot.OneHotEncoder(use_cat_names=True, handle_unknown='indicator')\n",
    "\n",
    "# save data to scale (no need to reshape)\n",
    "X = avengers[['Universe']]\n",
    "\n",
    "# fit transformer to data\n",
    "ohe.fit(X)\n",
    "\n",
    "# create new feature by transforming the data\n",
    "X_ohe = ohe.transform(X)\n",
    "X_ohe.sample(5, random_state=9)"
   ]
  }
 ],
 "metadata": {
  "kernelspec": {
   "display_name": "Python 3",
   "language": "python",
   "name": "python3"
  },
  "language_info": {
   "codemirror_mode": {
    "name": "ipython",
    "version": 3
   },
   "file_extension": ".py",
   "mimetype": "text/x-python",
   "name": "python",
   "nbconvert_exporter": "python",
   "pygments_lexer": "ipython3",
   "version": "3.7.3"
  }
 },
 "nbformat": 4,
 "nbformat_minor": 2
}
