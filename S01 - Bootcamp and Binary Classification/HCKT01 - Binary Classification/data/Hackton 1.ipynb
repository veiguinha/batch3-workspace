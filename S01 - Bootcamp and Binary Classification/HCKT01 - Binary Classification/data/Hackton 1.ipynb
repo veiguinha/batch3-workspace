{
 "cells": [
  {
   "cell_type": "markdown",
   "metadata": {},
   "source": [
    "# 1 Getting the Data\n",
    "\n",
    "\n",
    "- The main goal is to predict which transactions are fraudulent and which ones are genuine. You will work with training data that spans 8 days, and make predictions for test data, that spans the 2 following days."
   ]
  },
  {
   "cell_type": "markdown",
   "metadata": {},
   "source": [
    "# Recommendations \n",
    "\n",
    "\n",
    "- Bear in mind that the dataset is imbalanced. The provided dataset to illustrate Feedzai use case, has a rate of positive class cases (fraud) of about 10%. Though this is larger than typical fraud rates at Feedzai (which can be 1% or smaller), it will already allow you to explore some strategies adapted to imbalanced datasets.\n",
    "\n",
    "\n",
    "- Note that the dataset contains time dependencies so you will have to be careful on how to split your dataset for training and validation of the model (hint, hint: sorting on the timestamp sorts on time)\n",
    "\n",
    "\n",
    "- You may have high cardinality categoricals. \n",
    "\n",
    "\n",
    "- There are categorical values that may exist in the test set, but not in the train set. You’ll need to be clever in how you deal with this. \n",
    "\n",
    "\n",
    "- If at any moment if looks like your computer is about to fly, you might find useful to work with samples. You may also find that heavier operations may take really long (or even crash your machine) on such a big dataset, so be smart about how your use your resources.\n",
    "\n",
    "\n",
    "- Remember: “weeks of programming can save hours of planning”, so work with your team to plan and distribute work before diving in! \n",
    "\n",
    "\n",
    "- Focus on feature engineering and data understanding/exploration, which type of features you can build to characterize user past behavior.\n",
    "\n",
    "\n",
    "- Make sure that you get to and submit a baseline ASAP! Then work on improving it"
   ]
  },
  {
   "cell_type": "code",
   "execution_count": 1,
   "metadata": {},
   "outputs": [],
   "source": [
    "import pandas as pd\n",
    "import numpy as np \n",
    "import matplotlib.pyplot as plt\n",
    "import seaborn as sns\n",
    "import datetime\n",
    "import category_encoders as ce\n",
    "from sklearn.pipeline import make_pipeline\n",
    "from sklearn.base import TransformerMixin\n",
    "%matplotlib inline"
   ]
  },
  {
   "cell_type": "code",
   "execution_count": 2,
   "metadata": {},
   "outputs": [],
   "source": [
    "df = pd.read_csv('train.csv')"
   ]
  },
  {
   "cell_type": "markdown",
   "metadata": {},
   "source": [
    "# Sorting and Setting column ID as Index"
   ]
  },
  {
   "cell_type": "code",
   "execution_count": 3,
   "metadata": {},
   "outputs": [],
   "source": [
    "df = df.sort_values('timestamp')"
   ]
  },
  {
   "cell_type": "code",
   "execution_count": 4,
   "metadata": {},
   "outputs": [],
   "source": [
    "df = df.set_index('id')"
   ]
  },
  {
   "cell_type": "code",
   "execution_count": 5,
   "metadata": {},
   "outputs": [
    {
     "data": {
      "text/html": [
       "<div>\n",
       "<style scoped>\n",
       "    .dataframe tbody tr th:only-of-type {\n",
       "        vertical-align: middle;\n",
       "    }\n",
       "\n",
       "    .dataframe tbody tr th {\n",
       "        vertical-align: top;\n",
       "    }\n",
       "\n",
       "    .dataframe thead th {\n",
       "        text-align: right;\n",
       "    }\n",
       "</style>\n",
       "<table border=\"1\" class=\"dataframe\">\n",
       "  <thead>\n",
       "    <tr style=\"text-align: right;\">\n",
       "      <th></th>\n",
       "      <th>timestamp</th>\n",
       "      <th>product_id</th>\n",
       "      <th>product_department</th>\n",
       "      <th>product_category</th>\n",
       "      <th>card_id</th>\n",
       "      <th>user_id</th>\n",
       "      <th>C15</th>\n",
       "      <th>C16</th>\n",
       "      <th>C17</th>\n",
       "      <th>C18</th>\n",
       "      <th>C19</th>\n",
       "      <th>C20</th>\n",
       "      <th>C21</th>\n",
       "      <th>amount</th>\n",
       "      <th>isfraud</th>\n",
       "    </tr>\n",
       "    <tr>\n",
       "      <th>id</th>\n",
       "      <th></th>\n",
       "      <th></th>\n",
       "      <th></th>\n",
       "      <th></th>\n",
       "      <th></th>\n",
       "      <th></th>\n",
       "      <th></th>\n",
       "      <th></th>\n",
       "      <th></th>\n",
       "      <th></th>\n",
       "      <th></th>\n",
       "      <th></th>\n",
       "      <th></th>\n",
       "      <th></th>\n",
       "      <th></th>\n",
       "    </tr>\n",
       "  </thead>\n",
       "  <tbody>\n",
       "    <tr>\n",
       "      <th>96186</th>\n",
       "      <td>1413849604595</td>\n",
       "      <td>c4e18dd6</td>\n",
       "      <td>85f751fd</td>\n",
       "      <td>50e219e0</td>\n",
       "      <td>92e72531</td>\n",
       "      <td>a99f214a</td>\n",
       "      <td>320</td>\n",
       "      <td>50</td>\n",
       "      <td>2480</td>\n",
       "      <td>3</td>\n",
       "      <td>297</td>\n",
       "      <td>100111</td>\n",
       "      <td>61</td>\n",
       "      <td>191.77</td>\n",
       "      <td>0</td>\n",
       "    </tr>\n",
       "    <tr>\n",
       "      <th>114679</th>\n",
       "      <td>1413849611766</td>\n",
       "      <td>c4e18dd6</td>\n",
       "      <td>85f751fd</td>\n",
       "      <td>50e219e0</td>\n",
       "      <td>e71aba61</td>\n",
       "      <td>a99f214a</td>\n",
       "      <td>320</td>\n",
       "      <td>50</td>\n",
       "      <td>1722</td>\n",
       "      <td>0</td>\n",
       "      <td>35</td>\n",
       "      <td>-1</td>\n",
       "      <td>79</td>\n",
       "      <td>191.77</td>\n",
       "      <td>1</td>\n",
       "    </tr>\n",
       "    <tr>\n",
       "      <th>60688</th>\n",
       "      <td>1413849613367</td>\n",
       "      <td>dd7026ee</td>\n",
       "      <td>15d93b0b</td>\n",
       "      <td>50e219e0</td>\n",
       "      <td>ecad2386</td>\n",
       "      <td>5c7c1b02</td>\n",
       "      <td>320</td>\n",
       "      <td>50</td>\n",
       "      <td>2495</td>\n",
       "      <td>2</td>\n",
       "      <td>167</td>\n",
       "      <td>100173</td>\n",
       "      <td>23</td>\n",
       "      <td>227.63</td>\n",
       "      <td>0</td>\n",
       "    </tr>\n",
       "    <tr>\n",
       "      <th>45825</th>\n",
       "      <td>1413849619068</td>\n",
       "      <td>c4e18dd6</td>\n",
       "      <td>85f751fd</td>\n",
       "      <td>50e219e0</td>\n",
       "      <td>5e3f096f</td>\n",
       "      <td>ba2d210a</td>\n",
       "      <td>320</td>\n",
       "      <td>50</td>\n",
       "      <td>2161</td>\n",
       "      <td>0</td>\n",
       "      <td>35</td>\n",
       "      <td>100051</td>\n",
       "      <td>157</td>\n",
       "      <td>191.77</td>\n",
       "      <td>0</td>\n",
       "    </tr>\n",
       "    <tr>\n",
       "      <th>87991</th>\n",
       "      <td>1413849625209</td>\n",
       "      <td>c4e18dd6</td>\n",
       "      <td>85f751fd</td>\n",
       "      <td>50e219e0</td>\n",
       "      <td>39947756</td>\n",
       "      <td>0ddad6d9</td>\n",
       "      <td>320</td>\n",
       "      <td>50</td>\n",
       "      <td>1955</td>\n",
       "      <td>3</td>\n",
       "      <td>163</td>\n",
       "      <td>100192</td>\n",
       "      <td>71</td>\n",
       "      <td>191.77</td>\n",
       "      <td>0</td>\n",
       "    </tr>\n",
       "  </tbody>\n",
       "</table>\n",
       "</div>"
      ],
      "text/plain": [
       "            timestamp product_id product_department product_category  \\\n",
       "id                                                                     \n",
       "96186   1413849604595   c4e18dd6           85f751fd         50e219e0   \n",
       "114679  1413849611766   c4e18dd6           85f751fd         50e219e0   \n",
       "60688   1413849613367   dd7026ee           15d93b0b         50e219e0   \n",
       "45825   1413849619068   c4e18dd6           85f751fd         50e219e0   \n",
       "87991   1413849625209   c4e18dd6           85f751fd         50e219e0   \n",
       "\n",
       "         card_id   user_id  C15  C16   C17  C18  C19     C20  C21  amount  \\\n",
       "id                                                                          \n",
       "96186   92e72531  a99f214a  320   50  2480    3  297  100111   61  191.77   \n",
       "114679  e71aba61  a99f214a  320   50  1722    0   35      -1   79  191.77   \n",
       "60688   ecad2386  5c7c1b02  320   50  2495    2  167  100173   23  227.63   \n",
       "45825   5e3f096f  ba2d210a  320   50  2161    0   35  100051  157  191.77   \n",
       "87991   39947756  0ddad6d9  320   50  1955    3  163  100192   71  191.77   \n",
       "\n",
       "        isfraud  \n",
       "id               \n",
       "96186         0  \n",
       "114679        1  \n",
       "60688         0  \n",
       "45825         0  \n",
       "87991         0  "
      ]
     },
     "execution_count": 5,
     "metadata": {},
     "output_type": "execute_result"
    }
   ],
   "source": [
    "# The measures above do not need to be included in the pipepline\n",
    "df.head()"
   ]
  },
  {
   "cell_type": "markdown",
   "metadata": {},
   "source": [
    "# Variables Description\n",
    "\n",
    "- id - an anonymous id unique to a given transaction **(this column will represent the index)**\n",
    "\n",
    "\n",
    "- timestamp - timestamp in unix ms of the transaction **(should be important this variable)**\n",
    "\n",
    "\n",
    "- product_id - product id of the product present in the transaction **(Need to encode this variable)**\n",
    "\n",
    "\n",
    "- product_department - product department of the product present in the transaction \n",
    "\n",
    "\n",
    "- product_category - product category of the product present in the transaction\n",
    "\n",
    "\n",
    "- card_id - card id of the card used in the transaction\n",
    "\n",
    "\n",
    "- user_id - user id of the user that did the transaction\n",
    "\n",
    "\n",
    "- {C15, C16, C17, C18, C19, C20, C21} - anonymized categorical variables that characterize the transaction\n",
    "\n",
    "\n",
    "- amount - amount of the transaction\n",
    "\n",
    "\n",
    "- isfraud - binary variable that marks a transaction as fraud or not\n"
   ]
  },
  {
   "cell_type": "markdown",
   "metadata": {},
   "source": [
    "## Undersampling Unbalanced Dataset with TimeSeries"
   ]
  },
  {
   "cell_type": "code",
   "execution_count": 14,
   "metadata": {},
   "outputs": [
    {
     "data": {
      "text/plain": [
       "0    89.43\n",
       "1    10.57\n",
       "Name: isfraud, dtype: float64"
      ]
     },
     "execution_count": 14,
     "metadata": {},
     "output_type": "execute_result"
    }
   ],
   "source": [
    "# This result is in percentages\n",
    "round((df['isfraud'].value_counts()/len(df))*100,2)"
   ]
  },
  {
   "cell_type": "code",
   "execution_count": null,
   "metadata": {},
   "outputs": [],
   "source": []
  },
  {
   "cell_type": "code",
   "execution_count": null,
   "metadata": {},
   "outputs": [],
   "source": []
  },
  {
   "cell_type": "code",
   "execution_count": null,
   "metadata": {},
   "outputs": [],
   "source": []
  },
  {
   "cell_type": "markdown",
   "metadata": {},
   "source": [
    "# 2 Data Analysis and Preparation"
   ]
  },
  {
   "cell_type": "code",
   "execution_count": null,
   "metadata": {},
   "outputs": [],
   "source": [
    "df.info()"
   ]
  },
  {
   "cell_type": "markdown",
   "metadata": {},
   "source": [
    "1. We have a Dataframe with 522 412 observations and 16 columns.\n",
    "\n",
    "2. The target column is **\"isfraud\"**.\n",
    "\n",
    "3. We have **12** Categorical Variables. \n",
    "    3.1. The variables with the prefix C are classified as int64, but they actually represent categorical variables.\n",
    "    \n",
    "4. We have **1** ID variable\n",
    "\n",
    "5. We have **1** datetime variable, which is classified as int664\n",
    "\n",
    "6. **Amount** is the only true numerical variable that we have"
   ]
  },
  {
   "cell_type": "markdown",
   "metadata": {},
   "source": [
    "### 2.1 Data Analysis\n",
    "\n",
    "1. Check for missing values\n",
    "2. Check for outliers \n",
    "3. Check for correlations\n",
    "4. Check Categorical Variables\n",
    "5. check fraud rate per variables"
   ]
  },
  {
   "cell_type": "code",
   "execution_count": null,
   "metadata": {},
   "outputs": [],
   "source": [
    "# Split the data into an X Dataframe and y Dataframe \n",
    "X = df.drop(['isfraud'],axis=1)\n",
    "y = df['isfraud']"
   ]
  },
  {
   "cell_type": "code",
   "execution_count": null,
   "metadata": {},
   "outputs": [],
   "source": [
    "def number_of_uniques(dataframe):\n",
    "    dictionary = {column : dataframe[column].nunique() for column in dataframe.columns}\n",
    "    return dictionary"
   ]
  },
  {
   "cell_type": "code",
   "execution_count": null,
   "metadata": {},
   "outputs": [],
   "source": [
    "uniques = number_of_uniques(X)\n",
    "uniques"
   ]
  },
  {
   "cell_type": "markdown",
   "metadata": {},
   "source": [
    "#### 2.1.1 Missing Values "
   ]
  },
  {
   "cell_type": "code",
   "execution_count": null,
   "metadata": {},
   "outputs": [],
   "source": [
    "df.info()"
   ]
  },
  {
   "cell_type": "markdown",
   "metadata": {},
   "source": [
    "- there are no missing values"
   ]
  },
  {
   "cell_type": "markdown",
   "metadata": {},
   "source": [
    "#### 2.1.2 Outliers \n",
    "- We only have one numeric variable, **amount**.\n",
    "\n",
    "- We should not remove the individuals who are considered as na outlier in this type of dataset, as they can be potential outliers"
   ]
  },
  {
   "cell_type": "code",
   "execution_count": null,
   "metadata": {},
   "outputs": [],
   "source": [
    "df['amount'].describe()"
   ]
  },
  {
   "cell_type": "code",
   "execution_count": null,
   "metadata": {},
   "outputs": [],
   "source": [
    "df.groupby('isfraud')['amount'].hist()\n",
    "plt.show()"
   ]
  },
  {
   "cell_type": "markdown",
   "metadata": {},
   "source": [
    "- In general the actual fraudsters tend to follow the spending the distribution of the individuals in this sample."
   ]
  },
  {
   "cell_type": "markdown",
   "metadata": {},
   "source": [
    "#### 2.1.3 Correlation \n",
    "\n",
    "- Since we only have numerical variable we should not compute the correlation of the variables"
   ]
  },
  {
   "cell_type": "markdown",
   "metadata": {},
   "source": [
    "#### 2.1.4 Checking Categorical variables"
   ]
  },
  {
   "cell_type": "code",
   "execution_count": null,
   "metadata": {},
   "outputs": [],
   "source": [
    "# product_id \n",
    "# df.groupby('isfraud')['product_id'].hist()"
   ]
  },
  {
   "cell_type": "markdown",
   "metadata": {},
   "source": [
    "# Creating a Pipeline "
   ]
  },
  {
   "cell_type": "code",
   "execution_count": null,
   "metadata": {},
   "outputs": [],
   "source": []
  }
 ],
 "metadata": {
  "kernelspec": {
   "display_name": "Python 3",
   "language": "python",
   "name": "python3"
  },
  "language_info": {
   "codemirror_mode": {
    "name": "ipython",
    "version": 3
   },
   "file_extension": ".py",
   "mimetype": "text/x-python",
   "name": "python",
   "nbconvert_exporter": "python",
   "pygments_lexer": "ipython3",
   "version": "3.7.1"
  }
 },
 "nbformat": 4,
 "nbformat_minor": 2
}
