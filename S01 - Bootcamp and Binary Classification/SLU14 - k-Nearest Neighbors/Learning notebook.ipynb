{
 "cells": [
  {
   "cell_type": "markdown",
   "metadata": {},
   "source": [
    "# SLU14 - k-Nearest Neighbours (kNN)\n",
    "\n",
    "In this notebook we will be covering the following:\n",
    "\n",
    "- k-Nearest Neighbours Algorithm\n",
    "- A Primer on Distance\n",
    "- Some considerations about kNN\n",
    "- Using kNN\n"
   ]
  },
  {
   "cell_type": "markdown",
   "metadata": {},
   "source": [
    "## 1. k-Nearest Neighbours Algorithm\n",
    "\n",
    "k-Nearest Neighbours (or kNN) is a supervised learning algorithm, that can be used both for classification and regression.\n",
    "\n",
    "Its main advantages are that it is very simple to understand and implement (as you'll see here!) and that it can be used in a wide range of problems.\n",
    "\n",
    "Its main disadvantages are that it doesn't scale very well to large datasets and to high dimensional spaces (without some optimisations)."
   ]
  },
  {
   "cell_type": "markdown",
   "metadata": {},
   "source": [
    "### 1.1 How does it work\n",
    "\n",
    "The principle behind k-nearest neighbour methods is to find a predefined number of training samples closest to the point we want to find a prediction for, and predict the label from these. The predifined number of samples is a user-defined constant `k`.\n",
    "\n",
    "The assumption here is that if two points are similar, i.e, close together in the features space, then their labels should also be similar.\n",
    "\n",
    "We'll be more careful in the definition of similarity, but let's first begin with one example on how can we use kNN for classification and another for regression."
   ]
  },
  {
   "cell_type": "markdown",
   "metadata": {},
   "source": [
    "![pic](media/knn.png)"
   ]
  },
  {
   "cell_type": "markdown",
   "metadata": {},
   "source": [
    "In the **Classification with kNN** figure, we can see how kNN can be used for classification.\n",
    "\n",
    "We have a point for which we want to predict a class, in this case it's the yellow star. We start by finding the _k_ points in the training data that are the closest to the star: these are the k-nearest neighbours. Then, we select as the predicted class for the star, the most common class among the k-nearest neighbours.\n",
    "\n",
    "In this example above, if we use _k = 3_, the star's nearest neighbours are the two red circles and the blue square that are inside the smallest dashed circle. The most common class among the nearest neighbours is class B (red circles), so that is the class that we'll predict for the star.\n",
    "\n",
    "Can you figure out what would be the predicted class if we used _k = 7_?"
   ]
  },
  {
   "cell_type": "markdown",
   "metadata": {},
   "source": [
    "In the **Regression with kNN** figure, we can see how kNN can be used for regression.\n",
    "\n",
    "We have a point for which we know the x-value want to predict the y-value (which is the star!). Again we need to find the k-nearest neighbours, and then, select as the predicted value, the average y-value of the k-nearest neighbours.\n",
    "\n",
    "In this example above, we know the star's x-value, which is 8, and we want to predict its y-value.\n",
    "If we use _k = 3_, the star's nearest neighbours (measured in the x-axis) are the three points within the shaded area. \n",
    "To get the predicted y-value for the star, we average the y-values of the nearest neighbours:\n",
    "\n",
    "$$\\frac{2+4+5}{3} = 3.67$$\n",
    "\n",
    "Can you figure out what would be the predicted y-value for the star if we used _k = 5_?"
   ]
  },
  {
   "cell_type": "markdown",
   "metadata": {},
   "source": [
    "## 2. A Primer on Distance\n",
    "\n",
    "As we mentioned before, in order to find the k-nearest neighbours of a point, we need to have a measure of similarity, in order to actually understand how \"near\" two points are.\n",
    "\n",
    "The most common way to handle this is to use a **distance function**, that gives us a numerical measurement of how far apart two points are. Once we have such a function, we can select the nearest neighbours of a certain point by finding the neighbours for which the distance is the smallest.\n",
    "\n",
    "In most of the cases, using a distance function to measure distances between data points requires all the features in a dataset to be numerical. So, in case you have any categorical variables, you will need to represent them as numbers (or drop them!), before measuring distances in your dataset.\n",
    "\n",
    "Let's see some examples."
   ]
  },
  {
   "cell_type": "markdown",
   "metadata": {},
   "source": [
    "### 2.1 Euclidean distance\n",
    "\n",
    "Remeber when you were in high school and had to compute vector norms and distances between vectors? Cool, because you were using the Euclidean distance back then!\n",
    "\n",
    "Let's define it."
   ]
  },
  {
   "cell_type": "markdown",
   "metadata": {},
   "source": [
    "**The one dimensional case**\n",
    "\n",
    "In the one dimensional case, we have two one-dimensional points $p$ and $q$.\n",
    "\n",
    "$$d(p, q) = \\sqrt{(q - p)^2} = |q - p|$$"
   ]
  },
  {
   "cell_type": "markdown",
   "metadata": {},
   "source": [
    "**The two dimensional case**\n",
    "\n",
    "In the two dimensional case, we have two two-dimensional points or vectors $\\mathbf{p}$ and $\\mathbf{q}$.\n",
    "\n",
    "$$d(\\mathbf{p}, \\mathbf{q}) = \\sqrt{(q_1 - p_1)^2 + (q_2 - p_2)^2}$$"
   ]
  },
  {
   "cell_type": "markdown",
   "metadata": {},
   "source": [
    "**The n dimensional case**\n",
    "\n",
    "In the n dimensional case, we have two n-dimensional points or vectors $\\mathbf{p}$ and $\\mathbf{q}$.\n",
    "\n",
    "$$d(\\mathbf{p}, \\mathbf{q}) = \\sqrt{(q_1 - p_1)^2 + (q_2 - p_2)^2 + ... + (q_n - p_n)^2} = \\sqrt{ \\sum_{i=1}^n (q_i - p_i)^2}$$"
   ]
  },
  {
   "cell_type": "markdown",
   "metadata": {},
   "source": [
    "The euclidean distance is a good choice when the features are more or less in the same range of values. Can you figure out why this is the case?"
   ]
  },
  {
   "cell_type": "markdown",
   "metadata": {},
   "source": [
    "### 2.2 Dot product (*)\n",
    "\n",
    "The dot product between two n-dimensional vectors $\\mathbf{u}$ and $\\mathbf{v}$ is defined as\n",
    "\n",
    "$$\\mathbf{u} \\; .  \\mathbf{v} = \\sum_{i=1}^n u_i v_i = u_1v_1 + u_2v_2 + ... + u_nv_n$$\n",
    "\n",
    "Given the angle formed by the two vectors, $\\theta$, and the norms of the vectors $|.|$, we can also define the dot product between $\\mathbf{u}$ and $\\mathbf{v}$ as\n",
    "\n",
    "$$\\mathbf{u} \\; .  \\mathbf{v} = |\\mathbf{u}| \\; |\\mathbf{v}| \\; cos(\\theta)$$\n",
    "\n",
    "In fact, this second definition makes it easier to understand how the dot product can be used as a distance.\n",
    "The dot product measures the projection of one vector onto the other, which basically means that we're measuring the vectors' norms and how much the two vectors are pointing in the same direction.\n",
    "\n",
    "Let's use the following image and consider some particular cases to get a better intuition on this.\n",
    "\n",
    "![pic](media/dot_product.png)\n",
    "\n",
    "This image shows a representation of the dot product between vectors $\\mathbf{u}$ and $\\mathbf{v}$.\n",
    "Consider the following cases:\n",
    "\n",
    "* $\\theta = 0$:\n",
    "In this case, $cos(\\theta) = 1 $, which means the two vectors are collinear. This is when $\\mathbf{u} \\; .  \\mathbf{v} = |\\mathbf{u}| \\; |\\mathbf{v}|$ has the maximum value.\n",
    "\n",
    "\n",
    "* $0 < \\theta < \\frac{\\pi}{2}$:\n",
    "In this case, $0 < cos(\\theta) < 1$, meaning that $|\\mathbf{u}| \\; |\\mathbf{v}|$ is multiplied by a number between 0 and 1, and it gets smaller. The wider the angle (or difference in direction) between the two vectors, the smaller the dot product gets.\n",
    "\n",
    "\n",
    "* $\\theta = \\frac{\\pi}{2}$:\n",
    "In this case, $cos(\\theta) = 0$, which means the two vectors are orthogonal. This is when $\\mathbf{u} \\; .  \\mathbf{v} = 0$.\n",
    "\n",
    "\n",
    "* $\\frac{\\pi}{2} < \\theta < \\pi $:\n",
    "In this case, $-1 < cos(\\theta) < 0$, meaning that $|\\mathbf{u}| \\; |\\mathbf{v}|$ is multiplied by a number between -1 and 0, and it gets smaller in absolute value, and negative. This means that the two vectors have started to point in very different directions. Again, the wider the angle between the two vectors, the smaller the dot product gets.\n",
    "\n",
    "\n",
    "* $\\theta = \\pi$:\n",
    "In this case, $cos(\\theta) = -1$, which means the two vectors are parallel, but pointing in opposite directions. This is when $\\mathbf{u} \\; .  \\mathbf{v} = -|\\mathbf{u}| \\; |\\mathbf{v}|$ has the minimum value."
   ]
  },
  {
   "cell_type": "markdown",
   "metadata": {},
   "source": [
    "### 2.3 Cosine distance (*)\n",
    "\n",
    "As we saw above, there is a relationship between the dot product and the cosine of two vectors:\n",
    "\n",
    "$$cos(\\theta) = \\frac{\\mathbf{u} \\; . \\mathbf{v}}{|\\mathbf{u}| \\; |\\mathbf{v}|}$$\n",
    "\n",
    "With the cosine, we are measuring how similar is the direction of the two vectors, and disregarding the vectors' norms.\n",
    "\n",
    "Now we just need to convert this similarity into a distance. Since the domain of the cosine function is $[-1, 1]$, we can do this in the following way:\n",
    "\n",
    "$$cos\\_dist(\\mathbf{u}, \\mathbf{v}) = 1 - cos(\\mathbf{u}, \\mathbf{v})$$\n",
    "\n",
    "The cosine distance works very well in cases where the features have values in different ranges. This is because dividing the dot product by the norms of the vectors works as a kind of normalisation!"
   ]
  },
  {
   "cell_type": "markdown",
   "metadata": {},
   "source": [
    "**(*) Note for the math nerds**\n",
    "\n",
    "Neither the dot product not the cosine are distances, as per the mathematical definition of a [distance function](https://en.wikipedia.org/wiki/Distance#General_metric). Because of that, we cannot use some of scikit's optimisations that make kNN run faster. But that is a bit out of scope here!"
   ]
  },
  {
   "cell_type": "markdown",
   "metadata": {},
   "source": [
    "## 3. Some considerations about kNN\n",
    "\n",
    "Now that we have some intuition on how kNN works, and we've seen some functions that can be used as a distance (i.e, a measure of similarity), let's go through some considerations about this algorithm.\n",
    "\n",
    "\n",
    "### Non-parametric\n",
    "\n",
    "kNN is a non-parametric model because its structure is not specified a priori but is instead determined from the data.\n",
    "\n",
    "To better understand what this means, we can think of a counter example: Linear Regression, which is a parametric model, assumes that the data follows a linear distribution.\n",
    "\n",
    "\n",
    "### No learning\n",
    "\n",
    "When we described how does kNN work, you may have noticed a key difference between this algorithm and other algorithms that you've seen before, like Linear Regression or Logistic Regression: in kNN we don't actually learn anything!\n",
    "\n",
    "Taking Linear Regression as an example, in the traning phase, we used training data to learn some parameters ($\\theta$) that were later used in the prediction phase to make predictions on unseen data.\n",
    "\n",
    "In kNN we don't learn any parameters, and in the training phase we don´t do more than just loading the training dataset into memory. Instead, most of the action takes place at prediction time, when we determine the nearest neighbours (using training data), and make predictions based on them. This is why we say that kNN is a **lazy** method.\n",
    "\n",
    "\n",
    "### How to chose the value of _k_\n",
    "\n",
    "The optimal choice of the value *k* is highly data-dependent: in general a larger _k_ suppresses the effects of noise, but making it too large results in more prediction errors.\n",
    "\n",
    "In `SLU18 - Hyperparameter Tuning`, we'll learn how to systematically find the best value for _k_.\n",
    "\n",
    "\n",
    "### kNN and high dimensional spaces\n",
    "\n",
    "When we increase the number of features in our model, we need more dimensions to represent the data points.\n",
    "\n",
    "The problem with high dimensional spaces is that the data gets very sparse, and consequently, points tend not to be close to each other. In particular, the k-nearest neighbours of a point won't be much closer to it than any other random points, which breaks the algorithm's assumption that points that are close are also similar.\n",
    "\n",
    "This phenomenon, called **curse of dimensionality**, is very well explained with an example [here](http://www.cs.cornell.edu/courses/cs4780/2018fa/lectures/lecturenote02_kNN.html).\n",
    "\n",
    "This problem exists when we use the euclidean distance and the dot product, as these two distances measure amplitudes.\n",
    "The same doesn't happen with the cosine distance, that just considers directions.\n",
    "\n",
    "Another way to avoid this is to use dimensionality reduction techinques, in order to simplify our data. This won't be covered in this course.\n",
    "\n",
    "\n",
    "### kNN and large datasets\n",
    "\n",
    "Given a dataset with _N_ training points, when we try to get a prediction for a certain point, we need to load the entire dataset into memory and compute the distance between this point and all the other points.\n",
    "\n",
    "This means that the time that it takes to yield a prediction, depends on the dataset size. In fact, it grows linearly with it!\n",
    "\n",
    "Given these considerations, it's easy to understand that kNN is not the best choice when the dataset is very large.\n",
    "\n",
    "There are some ways to make kNN run faster, but these are out of the scope of this SLU!"
   ]
  },
  {
   "cell_type": "markdown",
   "metadata": {},
   "source": [
    "## 4. Using kNN\n",
    "\n",
    "Let's now see how can we use kNN in classification and regression problems.\n",
    "\n",
    "Let's start with the usual imports."
   ]
  },
  {
   "cell_type": "code",
   "execution_count": 1,
   "metadata": {},
   "outputs": [],
   "source": [
    "import numpy as np\n",
    "import pandas as pd\n",
    "\n",
    "from matplotlib import pyplot as plt\n",
    "%matplotlib inline"
   ]
  },
  {
   "cell_type": "markdown",
   "metadata": {},
   "source": [
    "### 4.1 Classification on the iris dataset\n",
    "\n",
    "We'll use kNN to solve the iris classification problem.\n",
    "\n",
    "The [iris flower dataset](https://en.wikipedia.org/wiki/Iris_flower_data_set) is a well known dataset for classification.\n",
    "\n",
    "In the dataset, each row (or observation) represents an iris flower. The features that describe the flower are _sepal length_, _sepal width_, _petal length_ and _petal width_.\n",
    "\n",
    "The goal is to predict the iris' type, that can be one of _setosa_, _versicolor_ and _virginica_."
   ]
  },
  {
   "cell_type": "markdown",
   "metadata": {},
   "source": [
    "![iris](media/iris.png)"
   ]
  },
  {
   "cell_type": "markdown",
   "metadata": {},
   "source": [
    "Here we're doing a bunch of imports:\n",
    "\n",
    "* scikit's datasets: this is a package that allows up to load the iris dataset\n",
    "* accuracy score: this is to evaluate our classification model\n",
    "* train_test_split: this is to split out dataset into training and testing sets\n",
    "* **KNeighborsClassifier**: this is our kNN classifier"
   ]
  },
  {
   "cell_type": "code",
   "execution_count": 2,
   "metadata": {},
   "outputs": [],
   "source": [
    "from sklearn import datasets\n",
    "from sklearn.metrics import accuracy_score\n",
    "from sklearn.model_selection import train_test_split\n",
    "from sklearn.neighbors import KNeighborsClassifier"
   ]
  },
  {
   "cell_type": "markdown",
   "metadata": {},
   "source": [
    "We'll start by loading the iris dataset and then split the dataset into training and testing."
   ]
  },
  {
   "cell_type": "code",
   "execution_count": 3,
   "metadata": {},
   "outputs": [
    {
     "name": "stdout",
     "output_type": "stream",
     "text": [
      "Train data size: 100\n",
      "Test data size: 50\n"
     ]
    }
   ],
   "source": [
    "# Loading the iris dataset\n",
    "iris = datasets.load_iris()\n",
    "\n",
    "# Splitting the data into train and test\n",
    "X_train, X_test, y_train, y_test = train_test_split(iris.data, iris.target, test_size=0.33, random_state=42)\n",
    "print(f\"Train data size: {len(X_train)}\\nTest data size: {len(X_test)}\")"
   ]
  },
  {
   "cell_type": "markdown",
   "metadata": {},
   "source": [
    "We'll create a DataFrame with the features and target in the training set, just to quickly check their values and check their ranges with a boxplot."
   ]
  },
  {
   "cell_type": "code",
   "execution_count": 4,
   "metadata": {},
   "outputs": [
    {
     "data": {
      "text/html": [
       "<div>\n",
       "<style scoped>\n",
       "    .dataframe tbody tr th:only-of-type {\n",
       "        vertical-align: middle;\n",
       "    }\n",
       "\n",
       "    .dataframe tbody tr th {\n",
       "        vertical-align: top;\n",
       "    }\n",
       "\n",
       "    .dataframe thead th {\n",
       "        text-align: right;\n",
       "    }\n",
       "</style>\n",
       "<table border=\"1\" class=\"dataframe\">\n",
       "  <thead>\n",
       "    <tr style=\"text-align: right;\">\n",
       "      <th></th>\n",
       "      <th>sepal length (cm)</th>\n",
       "      <th>sepal width (cm)</th>\n",
       "      <th>petal length (cm)</th>\n",
       "      <th>petal width (cm)</th>\n",
       "      <th>target</th>\n",
       "    </tr>\n",
       "  </thead>\n",
       "  <tbody>\n",
       "    <tr>\n",
       "      <th>0</th>\n",
       "      <td>5.7</td>\n",
       "      <td>2.9</td>\n",
       "      <td>4.2</td>\n",
       "      <td>1.3</td>\n",
       "      <td>1</td>\n",
       "    </tr>\n",
       "    <tr>\n",
       "      <th>1</th>\n",
       "      <td>7.6</td>\n",
       "      <td>3.0</td>\n",
       "      <td>6.6</td>\n",
       "      <td>2.1</td>\n",
       "      <td>2</td>\n",
       "    </tr>\n",
       "    <tr>\n",
       "      <th>2</th>\n",
       "      <td>5.6</td>\n",
       "      <td>3.0</td>\n",
       "      <td>4.5</td>\n",
       "      <td>1.5</td>\n",
       "      <td>1</td>\n",
       "    </tr>\n",
       "    <tr>\n",
       "      <th>3</th>\n",
       "      <td>5.1</td>\n",
       "      <td>3.5</td>\n",
       "      <td>1.4</td>\n",
       "      <td>0.2</td>\n",
       "      <td>0</td>\n",
       "    </tr>\n",
       "    <tr>\n",
       "      <th>4</th>\n",
       "      <td>7.7</td>\n",
       "      <td>2.8</td>\n",
       "      <td>6.7</td>\n",
       "      <td>2.0</td>\n",
       "      <td>2</td>\n",
       "    </tr>\n",
       "  </tbody>\n",
       "</table>\n",
       "</div>"
      ],
      "text/plain": [
       "   sepal length (cm)  sepal width (cm)  petal length (cm)  petal width (cm)  \\\n",
       "0                5.7               2.9                4.2               1.3   \n",
       "1                7.6               3.0                6.6               2.1   \n",
       "2                5.6               3.0                4.5               1.5   \n",
       "3                5.1               3.5                1.4               0.2   \n",
       "4                7.7               2.8                6.7               2.0   \n",
       "\n",
       "   target  \n",
       "0       1  \n",
       "1       2  \n",
       "2       1  \n",
       "3       0  \n",
       "4       2  "
      ]
     },
     "execution_count": 4,
     "metadata": {},
     "output_type": "execute_result"
    }
   ],
   "source": [
    "df_train = pd.DataFrame(X_train, columns=iris['feature_names'])\n",
    "df_train['target'] = y_train\n",
    "df_train.head()"
   ]
  },
  {
   "cell_type": "code",
   "execution_count": 19,
   "metadata": {
    "scrolled": true
   },
   "outputs": [
    {
     "data": {
      "image/png": "[encoded data removed]",
      "text/plain": [
       "<Figure size 432x288 with 1 Axes>"
      ]
     },
     "metadata": {
      "needs_background": "light"
     },
     "output_type": "display_data"
    }
   ],
   "source": [
    "df_train.boxplot(vert=False);"
   ]
  },
  {
   "cell_type": "markdown",
   "metadata": {},
   "source": [
    "Now, our goal is to predict labels for the data points in the testing set.\n",
    "\n",
    "First, let's get a baseline, which is the accuracy of the simplest model we can think of. Our model must be better than that!\n",
    "\n",
    "The simplest model is to always predict the most frequent class. So let's see how to do that."
   ]
  },
  {
   "cell_type": "code",
   "execution_count": 22,
   "metadata": {},
   "outputs": [
    {
     "data": {
      "text/plain": [
       "1"
      ]
     },
     "execution_count": 22,
     "metadata": {},
     "output_type": "execute_result"
    }
   ],
   "source": [
    "df_train.target.value_counts(sort=True).index[0]"
   ]
  },
  {
   "cell_type": "code",
   "execution_count": 6,
   "metadata": {},
   "outputs": [
    {
     "data": {
      "text/plain": [
       "array([1., 1., 1., 1., 1., 1., 1., 1., 1., 1., 1., 1., 1., 1., 1., 1., 1.,\n",
       "       1., 1., 1., 1., 1., 1., 1., 1., 1., 1., 1., 1., 1., 1., 1., 1., 1.,\n",
       "       1., 1., 1., 1., 1., 1., 1., 1., 1., 1., 1., 1., 1., 1., 1., 1.])"
      ]
     },
     "execution_count": 6,
     "metadata": {},
     "output_type": "execute_result"
    }
   ],
   "source": [
    "test_size = len(y_test)\n",
    "most_common_target = df_train.target.value_counts(sort=True).index[0]\n",
    "\n",
    "y_pred = np.ones(test_size) * most_common_target\n",
    "y_pred"
   ]
  },
  {
   "cell_type": "code",
   "execution_count": 7,
   "metadata": {},
   "outputs": [
    {
     "data": {
      "text/plain": [
       "0.3"
      ]
     },
     "execution_count": 7,
     "metadata": {},
     "output_type": "execute_result"
    }
   ],
   "source": [
    "accuracy_score(y_test, y_pred)"
   ]
  },
  {
   "cell_type": "markdown",
   "metadata": {},
   "source": [
    "So, we need to improve upon a 0.3 accuracy score. Let's see if we can do it with our kNN classifier.\n",
    "\n",
    "For each point in the testing set, kNN will search for the k nearest neighbours in the training set, and predict the most frequent label among the the neighbours.\n",
    "\n",
    "For now let's use the default value for k, which is 5."
   ]
  },
  {
   "cell_type": "code",
   "execution_count": 8,
   "metadata": {
    "scrolled": true
   },
   "outputs": [
    {
     "data": {
      "text/plain": [
       "0.98"
      ]
     },
     "execution_count": 8,
     "metadata": {},
     "output_type": "execute_result"
    }
   ],
   "source": [
    "clf = KNeighborsClassifier(n_neighbors=5)\n",
    "clf.fit(X_train, y_train)\n",
    "y_pred = clf.predict(X_test)\n",
    "accuracy_score(y_test, y_pred)"
   ]
  },
  {
   "cell_type": "markdown",
   "metadata": {},
   "source": [
    "0.98 accuracy! That's way better than our baseline. kNN did a good job :)"
   ]
  },
  {
   "cell_type": "markdown",
   "metadata": {},
   "source": [
    "### 4.2 Regression on the diabetes dataset"
   ]
  },
  {
   "cell_type": "markdown",
   "metadata": {},
   "source": [
    "For the example with regression, we'll use the [diabetes dataset](https://scikit-learn.org/stable/datasets/index.html#diabetes-dataset).\n",
    "\n",
    "Each data point represents one person who has diabetes. The features have information like the person's age, sex, body mass index, and other health metrics. The target is a quantitative measure of disease progression one year after a certain baseline.\n",
    "\n",
    "Our goal is to predict this quantitative measure for unseen data."
   ]
  },
  {
   "cell_type": "markdown",
   "metadata": {},
   "source": [
    "We'll start with some additional imports:\n",
    "\n",
    "* **KNeighborsRegressor**: this is our kNN regression model\n",
    "* mean_squared_error: this is to evaluate our model\n",
    "* scipy's cosine: this is for us to try the cosine distance in the kNN algorithm"
   ]
  },
  {
   "cell_type": "code",
   "execution_count": 9,
   "metadata": {},
   "outputs": [],
   "source": [
    "from sklearn.neighbors import KNeighborsRegressor\n",
    "from sklearn.metrics import mean_squared_error\n",
    "from scipy.spatial.distance import cosine as cos_dist"
   ]
  },
  {
   "cell_type": "markdown",
   "metadata": {},
   "source": [
    "As we did before, we'll load the dataset from scikit's datasets and then, do a train and test split."
   ]
  },
  {
   "cell_type": "code",
   "execution_count": 10,
   "metadata": {},
   "outputs": [
    {
     "name": "stdout",
     "output_type": "stream",
     "text": [
      "Train data size: 296\n",
      "Test data size: 146\n"
     ]
    }
   ],
   "source": [
    "diabetes = datasets.load_diabetes()\n",
    "X_train, X_test, y_train, y_test = train_test_split(diabetes.data, diabetes.target, test_size=0.33, random_state=42)\n",
    "print(f\"Train data size: {len(X_train)}\\nTest data size: {len(X_test)}\")"
   ]
  },
  {
   "cell_type": "markdown",
   "metadata": {},
   "source": [
    "Here we're loading the features into a DataFrame in order to quickly visualise them with the help of a boxplot."
   ]
  },
  {
   "cell_type": "code",
   "execution_count": 11,
   "metadata": {},
   "outputs": [
    {
     "data": {
      "text/html": [
       "<div>\n",
       "<style scoped>\n",
       "    .dataframe tbody tr th:only-of-type {\n",
       "        vertical-align: middle;\n",
       "    }\n",
       "\n",
       "    .dataframe tbody tr th {\n",
       "        vertical-align: top;\n",
       "    }\n",
       "\n",
       "    .dataframe thead th {\n",
       "        text-align: right;\n",
       "    }\n",
       "</style>\n",
       "<table border=\"1\" class=\"dataframe\">\n",
       "  <thead>\n",
       "    <tr style=\"text-align: right;\">\n",
       "      <th></th>\n",
       "      <th>age</th>\n",
       "      <th>sex</th>\n",
       "      <th>bmi</th>\n",
       "      <th>bp</th>\n",
       "      <th>s1</th>\n",
       "      <th>s2</th>\n",
       "      <th>s3</th>\n",
       "      <th>s4</th>\n",
       "      <th>s5</th>\n",
       "      <th>s6</th>\n",
       "    </tr>\n",
       "  </thead>\n",
       "  <tbody>\n",
       "    <tr>\n",
       "      <th>0</th>\n",
       "      <td>0.009016</td>\n",
       "      <td>-0.044642</td>\n",
       "      <td>-0.030996</td>\n",
       "      <td>0.021872</td>\n",
       "      <td>0.008063</td>\n",
       "      <td>0.008707</td>\n",
       "      <td>0.004460</td>\n",
       "      <td>-0.002592</td>\n",
       "      <td>0.009436</td>\n",
       "      <td>0.011349</td>\n",
       "    </tr>\n",
       "    <tr>\n",
       "      <th>1</th>\n",
       "      <td>-0.001882</td>\n",
       "      <td>-0.044642</td>\n",
       "      <td>0.054152</td>\n",
       "      <td>-0.066495</td>\n",
       "      <td>0.072732</td>\n",
       "      <td>0.056619</td>\n",
       "      <td>-0.043401</td>\n",
       "      <td>0.084863</td>\n",
       "      <td>0.084495</td>\n",
       "      <td>0.048628</td>\n",
       "    </tr>\n",
       "    <tr>\n",
       "      <th>2</th>\n",
       "      <td>0.009016</td>\n",
       "      <td>0.050680</td>\n",
       "      <td>-0.005128</td>\n",
       "      <td>-0.064199</td>\n",
       "      <td>0.069981</td>\n",
       "      <td>0.083863</td>\n",
       "      <td>-0.039719</td>\n",
       "      <td>0.071210</td>\n",
       "      <td>0.039540</td>\n",
       "      <td>0.019633</td>\n",
       "    </tr>\n",
       "    <tr>\n",
       "      <th>3</th>\n",
       "      <td>0.038076</td>\n",
       "      <td>0.050680</td>\n",
       "      <td>-0.009439</td>\n",
       "      <td>0.002363</td>\n",
       "      <td>0.001183</td>\n",
       "      <td>0.037517</td>\n",
       "      <td>-0.054446</td>\n",
       "      <td>0.050176</td>\n",
       "      <td>-0.025952</td>\n",
       "      <td>0.106617</td>\n",
       "    </tr>\n",
       "    <tr>\n",
       "      <th>4</th>\n",
       "      <td>0.027178</td>\n",
       "      <td>0.050680</td>\n",
       "      <td>0.025051</td>\n",
       "      <td>0.014987</td>\n",
       "      <td>0.025950</td>\n",
       "      <td>0.048477</td>\n",
       "      <td>-0.039719</td>\n",
       "      <td>0.034309</td>\n",
       "      <td>0.007837</td>\n",
       "      <td>0.023775</td>\n",
       "    </tr>\n",
       "  </tbody>\n",
       "</table>\n",
       "</div>"
      ],
      "text/plain": [
       "        age       sex       bmi        bp        s1        s2        s3  \\\n",
       "0  0.009016 -0.044642 -0.030996  0.021872  0.008063  0.008707  0.004460   \n",
       "1 -0.001882 -0.044642  0.054152 -0.066495  0.072732  0.056619 -0.043401   \n",
       "2  0.009016  0.050680 -0.005128 -0.064199  0.069981  0.083863 -0.039719   \n",
       "3  0.038076  0.050680 -0.009439  0.002363  0.001183  0.037517 -0.054446   \n",
       "4  0.027178  0.050680  0.025051  0.014987  0.025950  0.048477 -0.039719   \n",
       "\n",
       "         s4        s5        s6  \n",
       "0 -0.002592  0.009436  0.011349  \n",
       "1  0.084863  0.084495  0.048628  \n",
       "2  0.071210  0.039540  0.019633  \n",
       "3  0.050176 -0.025952  0.106617  \n",
       "4  0.034309  0.007837  0.023775  "
      ]
     },
     "execution_count": 11,
     "metadata": {},
     "output_type": "execute_result"
    }
   ],
   "source": [
    "df_X_train = pd.DataFrame(X_train, columns=diabetes['feature_names'])\n",
    "df_X_train.head()"
   ]
  },
  {
   "cell_type": "code",
   "execution_count": 12,
   "metadata": {},
   "outputs": [
    {
     "data": {
      "image/png": "[encoded data removed]",
      "text/plain": [
       "<Figure size 432x288 with 1 Axes>"
      ]
     },
     "metadata": {
      "needs_background": "light"
     },
     "output_type": "display_data"
    }
   ],
   "source": [
    "df_X_train.boxplot(vert=False);"
   ]
  },
  {
   "cell_type": "markdown",
   "metadata": {},
   "source": [
    "Again, let's get a baseline. In this case, we'll always predict the mean value of the targets in the training set.\n",
    "\n",
    "We'll be using the mean_squared_error to evaluate our model."
   ]
  },
  {
   "cell_type": "code",
   "execution_count": 13,
   "metadata": {},
   "outputs": [
    {
     "data": {
      "text/plain": [
       "5755.467149460409"
      ]
     },
     "execution_count": 13,
     "metadata": {},
     "output_type": "execute_result"
    }
   ],
   "source": [
    "# baseline with predicting the average\n",
    "y_pred = np.ones(len(y_test)) * y_train.mean()\n",
    "mean_squared_error(y_test, y_pred)"
   ]
  },
  {
   "cell_type": "markdown",
   "metadata": {},
   "source": [
    "Now let's get the predictions using the kNN regressor. We'll use k=5, which is the default value, as a starting point."
   ]
  },
  {
   "cell_type": "code",
   "execution_count": 23,
   "metadata": {},
   "outputs": [
    {
     "data": {
      "text/plain": [
       "3224.3695890410954"
      ]
     },
     "execution_count": 23,
     "metadata": {},
     "output_type": "execute_result"
    }
   ],
   "source": [
    "reg = KNeighborsRegressor(n_neighbors=5)\n",
    "reg.fit(X_train, y_train)\n",
    "y_pred = reg.predict(X_test)\n",
    "mean_squared_error(y_test, y_pred)"
   ]
  },
  {
   "cell_type": "markdown",
   "metadata": {},
   "source": [
    "This was a big improvement upon our baseline! Let's see if we can still do better, by chosing a different value for k.\n",
    "\n",
    "We'll learn how to do hyperparameter tuning properly in a later SLU, but for now let's go with this method.\n",
    "\n",
    "Plotting values of k vs the mean squared error will show us how does the error change with k. Then, we can select the value of k that minimises the error."
   ]
  },
  {
   "cell_type": "code",
   "execution_count": 24,
   "metadata": {},
   "outputs": [
    {
     "data": {
      "image/png": "[encoded data removed]",
      "text/plain": [
       "<Figure size 432x288 with 1 Axes>"
      ]
     },
     "metadata": {
      "needs_background": "light"
     },
     "output_type": "display_data"
    }
   ],
   "source": [
    "# this list will save the different values for k and mean squared error\n",
    "k_rmse = []\n",
    "\n",
    "# for each value of k between 1 and 100, we'll compute the mean squared error\n",
    "# and save it in the k_rmse list like [(k1, error1), (k2, error2), ..., (k100, error100)]\n",
    "for k in range(1, 100):\n",
    "    reg = KNeighborsRegressor(k)\n",
    "    reg.fit(X_train, y_train)\n",
    "    y_pred = reg.predict(X_test)\n",
    "    k_rmse.append((k, mean_squared_error(y_test, y_pred)))\n",
    "\n",
    "# here we're separating the k values from the error values into two lists\n",
    "k_values, rmse_values = zip(*k_rmse)\n",
    "\n",
    "# and here we're plotting k vs the error\n",
    "plt.plot(k_values, rmse_values)\n",
    "plt.xlabel('k')\n",
    "plt.ylabel('mean squared error')\n",
    "plt.title('Mean squared error vs number of nearest neighbours (k)');"
   ]
  },
  {
   "cell_type": "markdown",
   "metadata": {},
   "source": [
    "We can see that at first, the value of the error decreases a lot by adding more neighbours, and then we reach a point, around k=20, where by adding more neighbours we actually make the error worse!\n",
    "\n",
    "So let's stick to `k=20` and see what's our mean squared error."
   ]
  },
  {
   "cell_type": "code",
   "execution_count": 31,
   "metadata": {},
   "outputs": [
    {
     "data": {
      "text/plain": [
       "2979.621421232877"
      ]
     },
     "execution_count": 31,
     "metadata": {},
     "output_type": "execute_result"
    }
   ],
   "source": [
    "reg = KNeighborsRegressor(n_neighbors=20)\n",
    "reg.fit(X_train, y_train)\n",
    "y_pred = reg.predict(X_test)\n",
    "mean_squared_error(y_test, y_pred)"
   ]
  },
  {
   "cell_type": "markdown",
   "metadata": {},
   "source": [
    "We still managed to improve a bit from our first attempt with k=5.\n",
    "\n",
    "Let's finish by checking how can we use the cosine distance instead of the euclidean distance (which is the default in scikit)."
   ]
  },
  {
   "cell_type": "code",
   "execution_count": 32,
   "metadata": {},
   "outputs": [
    {
     "data": {
      "text/plain": [
       "2864.440273972603"
      ]
     },
     "execution_count": 32,
     "metadata": {},
     "output_type": "execute_result"
    }
   ],
   "source": [
    "reg = KNeighborsRegressor(metric=cos_dist)\n",
    "reg.fit(X_train, y_train)\n",
    "y_pred = reg.predict(X_test)\n",
    "mean_squared_error(y_test, y_pred)"
   ]
  },
  {
   "cell_type": "code",
   "execution_count": 33,
   "metadata": {},
   "outputs": [
    {
     "data": {
      "text/plain": [
       "2788.6160958904106"
      ]
     },
     "execution_count": 33,
     "metadata": {},
     "output_type": "execute_result"
    }
   ],
   "source": [
    "reg = KNeighborsRegressor(metric=cos_dist, n_neighbors=20)\n",
    "reg.fit(X_train, y_train)\n",
    "y_pred = reg.predict(X_test)\n",
    "mean_squared_error(y_test, y_pred)"
   ]
  },
  {
   "cell_type": "markdown",
   "metadata": {},
   "source": [
    "The mean squared error decreases slightly, but not significantly.\n",
    "As we saw before, the cosine distance tends to work better than the euclidean distance when we have a lot of features (because of the curse of dimensionality) or when the features are within very different ranges.\n",
    "\n",
    "Neither of these two situations verifies here, so there is no great benefit in using the cosine distance.\n",
    "\n",
    "In fact, using the cosine distance is probably worse, as we'll not benefit from scikit's built in optimisations for kNN. If you try to find the best k in this scenario, using the method that we used above, you'll see that it will run much slower than with the euclidean distance."
   ]
  }
 ],
 "metadata": {
  "kernelspec": {
   "display_name": "Python 3",
   "language": "python",
   "name": "python3"
  },
  "language_info": {
   "codemirror_mode": {
    "name": "ipython",
    "version": 3
   },
   "file_extension": ".py",
   "mimetype": "text/x-python",
   "name": "python",
   "nbconvert_exporter": "python",
   "pygments_lexer": "ipython3",
   "version": "3.7.3"
  }
 },
 "nbformat": 4,
 "nbformat_minor": 2
}
