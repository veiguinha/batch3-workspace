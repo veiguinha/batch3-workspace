{
 "cells": [
  {
   "cell_type": "markdown",
   "metadata": {
    "deletable": false,
    "editable": false,
    "nbgrader": {
     "grade": false,
     "grade_id": "cell-f1f108c2efb94d44",
     "locked": true,
     "schema_version": 1,
     "solution": false
    }
   },
   "source": [
    "# Basic Workflow"
   ]
  },
  {
   "cell_type": "code",
   "execution_count": null,
   "metadata": {
    "deletable": false,
    "editable": false,
    "nbgrader": {
     "grade": false,
     "grade_id": "cell-4781dbdb443e5573",
     "locked": true,
     "schema_version": 1,
     "solution": false
    }
   },
   "outputs": [],
   "source": [
    "# Always have your imports at the top\n",
    "import pandas as pd\n",
    "from sklearn.pipeline import make_pipeline\n",
    "from sklearn.impute import SimpleImputer\n",
    "from sklearn.ensemble import RandomForestClassifier\n",
    "from sklearn.base import TransformerMixin\n",
    "\n",
    "from hashlib import sha1 # just for grading purposes\n",
    "import json # just for grading purposes\n",
    "\n",
    "def _hash(obj, salt='none'):\n",
    "    if type(obj) is not str:\n",
    "        obj = json.dumps(obj)\n",
    "    to_encode = obj + salt\n",
    "    return sha1(to_encode.encode()).hexdigest()"
   ]
  },
  {
   "cell_type": "markdown",
   "metadata": {
    "deletable": false,
    "editable": false,
    "nbgrader": {
     "grade": false,
     "grade_id": "cell-807bf81f8230f266",
     "locked": true,
     "schema_version": 1,
     "solution": false
    }
   },
   "source": [
    "# Workflow Steps\n",
    "\n",
    "What are the basic workflow steps?\n",
    "\n",
    "It's incredibly obvious what the steps are since you can see them graded in plain text. However we deem it worth actually making you type each one of the steps and take a moment to think about it and internalize them.\n",
    "\n",
    "Please do actually type them rather than just copy-pasting as fast as you can. Type it out character by character and internalize."
   ]
  },
  {
   "cell_type": "code",
   "execution_count": null,
   "metadata": {
    "deletable": false,
    "nbgrader": {
     "grade": false,
     "grade_id": "cell-6c8218e1615228f0",
     "locked": false,
     "schema_version": 1,
     "solution": true
    }
   },
   "outputs": [],
   "source": [
    "# step_1 = ...\n",
    "# step_2 = ...\n",
    "# step_2_a = ...\n",
    "# step_2_b = ...\n",
    "# step_2_c = ...\n",
    "# step_2_d = ...\n",
    "# step_3 = ...\n",
    "# step_4 = ...\n",
    "# step_5 = ...\n",
    "\n",
    "# YOUR CODE HERE\n",
    "raise NotImplementedError()\n"
   ]
  },
  {
   "cell_type": "code",
   "execution_count": null,
   "metadata": {
    "deletable": false,
    "editable": false,
    "nbgrader": {
     "grade": true,
     "grade_id": "cell-d15af97ae329a075",
     "locked": true,
     "points": 4,
     "schema_version": 1,
     "solution": false
    }
   },
   "outputs": [],
   "source": [
    "### BEGIN TESTS\n",
    "assert step_1 == 'Get the data'\n",
    "assert step_2 == 'Data analysis and preparation'\n",
    "assert step_2_a == 'Data analysis'\n",
    "assert step_2_b == 'Dealing with data problems'\n",
    "assert step_2_c == 'Feature engineering'\n",
    "assert step_2_d == 'Feature selection'\n",
    "assert step_3 == 'Train model'\n",
    "assert step_4 == 'Evaluate results'\n",
    "assert step_5 == 'Iterate'\n",
    "### END TESTS"
   ]
  },
  {
   "cell_type": "markdown",
   "metadata": {
    "deletable": false,
    "editable": false,
    "nbgrader": {
     "grade": false,
     "grade_id": "cell-fb212306fe32d1fc",
     "locked": true,
     "schema_version": 1,
     "solution": false
    }
   },
   "source": [
    "# Specific workflow questions\n",
    "\n",
    "Here are some more specific questions about individual workflow steps."
   ]
  },
  {
   "cell_type": "code",
   "execution_count": null,
   "metadata": {
    "deletable": false,
    "nbgrader": {
     "grade": false,
     "grade_id": "cell-53dadb4a6c1cb987",
     "locked": false,
     "schema_version": 1,
     "solution": true
    }
   },
   "outputs": [],
   "source": [
    "# True or False, it's super easy to gather your dataset in a production environment\n",
    "# real_world_dataset_gathering_easy = ...\n",
    "\n",
    "# True or False, it's super easy to gather your dataset in the context of the academy\n",
    "# academy_dataset_gathering_easy = ...\n",
    "\n",
    "# True or False, you should try as hard as you can to get the best possible score\n",
    "# on your test set by iterating until you can't get your test set score any higher\n",
    "# by any means possible\n",
    "# test_set_optimization_is_good = ...\n",
    "\n",
    "# True or False, you should choose one metric by which to evaluate your model and\n",
    "# never consider using another one\n",
    "# one_metric_should_rule_them_all = ...\n",
    "\n",
    "# YOUR CODE HERE\n",
    "raise NotImplementedError()"
   ]
  },
  {
   "cell_type": "code",
   "execution_count": null,
   "metadata": {
    "deletable": false,
    "editable": false,
    "nbgrader": {
     "grade": true,
     "grade_id": "cell-f1cfeb62360089e3",
     "locked": true,
     "points": 6,
     "schema_version": 1,
     "solution": false
    }
   },
   "outputs": [],
   "source": [
    "### BEGIN TESTS\n",
    "assert _hash(real_world_dataset_gathering_easy, 'salt1') == '63b5b9a8f2d359e1fc175c3b01b907ef87590484'\n",
    "assert _hash(academy_dataset_gathering_easy, 'salt2') == 'dd7dee495a153c95d28c7aa95289c0415242f5d8'\n",
    "assert _hash(test_set_optimization_is_good, 'salt3') == 'f24a294afb4a09f7f9df9ee13eb18e7d341c439d'\n",
    "assert _hash(one_metric_should_rule_them_all, 'salt4') == '2360691a582e4f0fbefa238ab6ced1cbfbfe8a50'\n",
    "### END TESTS"
   ]
  },
  {
   "cell_type": "markdown",
   "metadata": {
    "deletable": false,
    "editable": false,
    "nbgrader": {
     "grade": false,
     "grade_id": "cell-5790b6079fcdd3a1",
     "locked": true,
     "schema_version": 1,
     "solution": false
    }
   },
   "source": [
    "# scikit pipelines\n",
    "\n",
    "Make a simple pipeline that\n",
    "1. Drops all columns that start with the string `evil`\n",
    "1. Fills all nulls with the median"
   ]
  },
  {
   "cell_type": "code",
   "execution_count": null,
   "metadata": {
    "deletable": false,
    "nbgrader": {
     "grade": false,
     "grade_id": "cell-e9663ebd68ad68f8",
     "locked": false,
     "schema_version": 1,
     "solution": true
    }
   },
   "outputs": [],
   "source": [
    "# Create a pipeline step called RemoveEvilColumns the removed any\n",
    "# column whose name starts with the string 'evil'\n",
    "\n",
    "# YOUR CODE HERE\n",
    "raise NotImplementedError()\n",
    "\n",
    "\n",
    "# Create an pipeline using make_pipeline\n",
    "# 1. removes evil columns\n",
    "# 2. imputes with the mean\n",
    "# 3. has a random forest classifier as the last step\n",
    "\n",
    "# YOUR CODE HERE\n",
    "raise NotImplementedError()"
   ]
  },
  {
   "cell_type": "code",
   "execution_count": null,
   "metadata": {
    "deletable": false,
    "editable": false,
    "nbgrader": {
     "grade": true,
     "grade_id": "cell-87b055898e579a1a",
     "locked": true,
     "points": 10,
     "schema_version": 1,
     "solution": false
    }
   },
   "outputs": [],
   "source": [
    "X = pd.DataFrame({\n",
    "    'evil_1': ['a'] * 100,\n",
    "    'evil_2': ['b'] * 100,\n",
    "    'not_so_evil': list(range(0, 100))\n",
    "})\n",
    "y = pd.Series([x % 2 for x in range(0, 100)])\n",
    "\n",
    "pipeline.fit(X, y)\n",
    "\n",
    "### BEGIN TESTS\n",
    "assert pipeline.steps[0][0] == 'removeevilcolumns', pipeline.steps[0][0]\n",
    "assert pipeline.steps[1][0] == 'simpleimputer', pipeline.steps[1][0]\n",
    "assert pipeline.steps[2][0] == 'randomforestclassifier', pipeline.steps[2][0]\n",
    "### END TESTS"
   ]
  }
 ],
 "metadata": {
  "kernelspec": {
   "display_name": "Python 3",
   "language": "python",
   "name": "python3"
  },
  "language_info": {
   "codemirror_mode": {
    "name": "ipython",
    "version": 3
   },
   "file_extension": ".py",
   "mimetype": "text/x-python",
   "name": "python",
   "nbconvert_exporter": "python",
   "pygments_lexer": "ipython3",
   "version": "3.7.3"
  }
 },
 "nbformat": 4,
 "nbformat_minor": 2
}
