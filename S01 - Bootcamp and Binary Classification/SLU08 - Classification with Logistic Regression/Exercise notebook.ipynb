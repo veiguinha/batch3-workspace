{
 "cells": [
  {
   "cell_type": "markdown",
   "metadata": {
    "deletable": false,
    "editable": false,
    "nbgrader": {
     "grade": false,
     "grade_id": "cell-bdd5aa2da3067e63",
     "locked": true,
     "schema_version": 1,
     "solution": false
    }
   },
   "source": [
    "# SLU08 - Classification With Logistic Regression: Exercise notebook"
   ]
  },
  {
   "cell_type": "code",
   "execution_count": null,
   "metadata": {
    "deletable": false,
    "editable": false,
    "nbgrader": {
     "grade": false,
     "grade_id": "cell-e2a09fb80383b343",
     "locked": true,
     "schema_version": 1,
     "solution": false
    }
   },
   "outputs": [],
   "source": [
    "import pandas as pd \n",
    "import numpy as np \n",
    "import hashlib"
   ]
  },
  {
   "cell_type": "markdown",
   "metadata": {
    "deletable": false,
    "editable": false,
    "nbgrader": {
     "grade": false,
     "grade_id": "cell-27488522ce0b142e",
     "locked": true,
     "schema_version": 1,
     "solution": false
    }
   },
   "source": [
    "In this notebook you will practice the following: \n",
    "\n",
    "    - What classification is for\n",
    "    - Logistic regression\n",
    "    - Cost function\n",
    "    - Binary classification\n",
    "    \n",
    "You thought that you would get away without implementing your own little Logistic Regression? Hah!\n",
    "\n",
    "\n",
    "# Exercise 1. Implement the Sigmoid Function\n",
    "*aka the logistic function*\n",
    "\n",
    "As a very simple warmup, you will implement the sigmoid function. Let's keep this simple!\n",
    "\n",
    "Here's a quick reminder of the formula:\n",
    "\n",
    "$$\\hat{p} = \\frac{1}{1 + e^{-z}}$$\n",
    "\n",
    "**Complete here:**"
   ]
  },
  {
   "cell_type": "code",
   "execution_count": null,
   "metadata": {
    "deletable": false,
    "nbgrader": {
     "grade": false,
     "grade_id": "cell-ad53d6e01c034eec",
     "locked": false,
     "schema_version": 1,
     "solution": true
    }
   },
   "outputs": [],
   "source": [
    "def sigmoid_function(z):\n",
    "    \"\"\" \n",
    "    Implementation of the sigmoid function by hand\n",
    "    \n",
    "    Args:\n",
    "        z (np.float64): a float\n",
    "\n",
    "    Returns:\n",
    "        proba (np.float64): the predicted probability for a given observation\n",
    "\n",
    "    \"\"\"\n",
    "    \n",
    "    # obtain the predicted probability \n",
    "    # clue: you can use np.exp()\n",
    "    proba = None\n",
    "    # YOUR CODE HERE\n",
    "    raise NotImplementedError()\n",
    "    return proba"
   ]
  },
  {
   "cell_type": "code",
   "execution_count": null,
   "metadata": {
    "deletable": false,
    "editable": false,
    "nbgrader": {
     "grade": false,
     "grade_id": "cell-9f387e5a9aa527fc",
     "locked": true,
     "schema_version": 1,
     "solution": false
    }
   },
   "outputs": [],
   "source": [
    "z = 0.2\n",
    "print('Predicted probability: %.2f' % sigmoid_function(z))"
   ]
  },
  {
   "cell_type": "markdown",
   "metadata": {
    "deletable": false,
    "editable": false,
    "nbgrader": {
     "grade": false,
     "grade_id": "cell-b318c632b90c5f18",
     "locked": true,
     "schema_version": 1,
     "solution": false
    }
   },
   "source": [
    "Expected output:\n",
    "\n",
    "    Predicted probability: 0.55"
   ]
  },
  {
   "cell_type": "code",
   "execution_count": null,
   "metadata": {
    "deletable": false,
    "editable": false,
    "nbgrader": {
     "grade": true,
     "grade_id": "cell-218ac735743f5bfb",
     "locked": true,
     "points": 2,
     "schema_version": 1,
     "solution": false
    }
   },
   "outputs": [],
   "source": [
    "z = 1.1\n",
    "assert hashlib.md5(np.round(sigmoid_function(z),2)).hexdigest() == 'c12ba117c0d1805163e06e53c8c3bd81'\n",
    "\n",
    "z = -5\n",
    "assert hashlib.md5(np.round(sigmoid_function(z),2)).hexdigest() == '815d609ae70b810f80cec52c8d9349bc'"
   ]
  },
  {
   "cell_type": "markdown",
   "metadata": {
    "deletable": false,
    "editable": false,
    "nbgrader": {
     "grade": false,
     "grade_id": "cell-6f40cf4a6bb066df",
     "locked": true,
     "schema_version": 1,
     "solution": false
    }
   },
   "source": [
    "# Exercise 2: Make Predictions From Observations\n",
    "\n",
    "The next step is to implement a function that receives observations and returns predicted probabilities.\n",
    "\n",
    "For instance, remember that for an observation with two variables we have:\n",
    "\n",
    "$$z = \\beta_0 + \\beta_1 x_1 + \\beta_2 x_2$$\n",
    "\n",
    "where $\\beta_0$ is the intercept and $\\beta_1, \\beta_2$ are the coefficients.\n",
    "\n",
    "**Complete here:**"
   ]
  },
  {
   "cell_type": "code",
   "execution_count": null,
   "metadata": {
    "deletable": false,
    "nbgrader": {
     "grade": false,
     "grade_id": "cell-4207cb1317b5cea0",
     "locked": false,
     "schema_version": 1,
     "solution": true
    }
   },
   "outputs": [],
   "source": [
    "def predict_proba(x_train, coefficients):\n",
    "    \"\"\" \n",
    "    Implementation of a function that returns predicted probabilities for a given set of data samples\n",
    "    \n",
    "    Args:\n",
    "        x_train (np.array): a numpy array of shape (m,n)\n",
    "            - m: number of training observations\n",
    "            - n: number of variables\n",
    "        coefficients (np.array): a numpy array of shape (n + 1,)\n",
    "            - coefficients[0]: intercept\n",
    "            - coefficients[1:]: remaining coefficients\n",
    "\n",
    "    Returns:\n",
    "        proba (np.array): the predicted probabilities for a given set of data samples\n",
    "\n",
    "    \"\"\"\n",
    "\n",
    "    # start by assigning the intercept to z \n",
    "    # clue: the intercept is the first element of the list of coefficients\n",
    "    z = None\n",
    "    # YOUR CODE HERE\n",
    "    raise NotImplementedError()\n",
    "    \n",
    "    # sum the remaining variable * coefficient products to z\n",
    "    # clue: the variables and coefficients indeces are not exactly aligned, but correctly ordered\n",
    "    for i in []:                     # replace the empty list with range and iterate through the observation variables (clue: you can use np.shape())\n",
    "        z += None                    # multiply the variable value by its coefficient and add to z (clue: use x[:, 0] to access the first variable over all samples)\n",
    "    # YOUR CODE HERE\n",
    "    raise NotImplementedError()\n",
    "    \n",
    "    # obtain the predicted probability from z\n",
    "    # clue: we already implemented something that can give us that\n",
    "    proba = None\n",
    "    # YOUR CODE HERE\n",
    "    raise NotImplementedError()\n",
    "\n",
    "    return proba"
   ]
  },
  {
   "cell_type": "code",
   "execution_count": null,
   "metadata": {
    "deletable": false,
    "editable": false,
    "nbgrader": {
     "grade": false,
     "grade_id": "cell-cb42278953481879",
     "locked": true,
     "schema_version": 1,
     "solution": false
    }
   },
   "outputs": [],
   "source": [
    "x = np.array([[1.3, 1.1, 0.4, 2.2],\n",
    "             [1.0, 2.0, 0.5, 0.1]])\n",
    "coefficients = np.array([1.1,5,-4, 10, -3])\n",
    "\n",
    "print('Predicted probabilities:  %.3f and %.3f' % (predict_proba(x, coefficients)[0], predict_proba(x, coefficients)[1]))"
   ]
  },
  {
   "cell_type": "markdown",
   "metadata": {
    "deletable": false,
    "editable": false,
    "nbgrader": {
     "grade": false,
     "grade_id": "cell-c2afb353cd17406e",
     "locked": true,
     "schema_version": 1,
     "solution": false
    }
   },
   "source": [
    "Expected output:\n",
    "\n",
    "    Predicted probabilities:  0.646 and 0.943"
   ]
  },
  {
   "cell_type": "code",
   "execution_count": null,
   "metadata": {
    "deletable": false,
    "editable": false,
    "nbgrader": {
     "grade": true,
     "grade_id": "cell-5d746da0f61f9d3a",
     "locked": true,
     "points": 3,
     "schema_version": 1,
     "solution": false
    }
   },
   "outputs": [],
   "source": [
    "x = np.array([[2, 0.1, -1.1], [-1.2, 1.2, 3.2]])\n",
    "coefficients = np.array([-0.1,1,-3, 1.3])\n",
    "assert hashlib.md5(np.round(predict_proba(x, coefficients),2)).hexdigest() == 'e1e3a8f137e127c9c8f047843ba9a187'"
   ]
  },
  {
   "cell_type": "markdown",
   "metadata": {
    "deletable": false,
    "editable": false,
    "nbgrader": {
     "grade": false,
     "grade_id": "cell-6444271eaf86b4f5",
     "locked": true,
     "schema_version": 1,
     "solution": false
    }
   },
   "source": [
    "# Exercise 3: Compute the Maximum Log-Likelihood Cost Function\n",
    "\n",
    "As you will implement stochastic gradient descent, you only have to do the following for each prediction: \n",
    "\n",
    "$$H_{\\hat{p}}(y) =  - (y \\log(\\hat{p}) + (1-y) \\log (1-\\hat{p}))$$\n",
    "\n",
    "**Complete here:**"
   ]
  },
  {
   "cell_type": "code",
   "execution_count": null,
   "metadata": {
    "deletable": false,
    "nbgrader": {
     "grade": false,
     "grade_id": "cell-daa84c9da629c861",
     "locked": false,
     "schema_version": 1,
     "solution": true
    }
   },
   "outputs": [],
   "source": [
    "def maximum_log_likelihood(y, proba):\n",
    "    \"\"\" \n",
    "    Implementation of a function that returns the Maximum-Log-Likelihood loss\n",
    "    \n",
    "    Args:\n",
    "        y (np.int64): an integer\n",
    "        proba (np.float64): a float\n",
    "\n",
    "    Returns:\n",
    "        loss (np.float): a float with the resulting loss for a given prediction\n",
    "\n",
    "    \"\"\"\n",
    "    \n",
    "    # compute the inner right side of the loss function (for when y == 0)\n",
    "    inner_right = None\n",
    "    # YOUR CODE HERE\n",
    "    raise NotImplementedError()\n",
    "    \n",
    "    # compute the inner left side of the loss function (for when y == 1)\n",
    "    # clue: use np.log()\n",
    "    inner_left = None\n",
    "    # YOUR CODE HERE\n",
    "    raise NotImplementedError()\n",
    "    \n",
    "    # compute the total loss\n",
    "    total_loss = None\n",
    "    # YOUR CODE HERE\n",
    "    raise NotImplementedError()\n",
    "    return total_loss"
   ]
  },
  {
   "cell_type": "code",
   "execution_count": null,
   "metadata": {
    "deletable": false,
    "editable": false,
    "nbgrader": {
     "grade": false,
     "grade_id": "cell-759edb2d638d14eb",
     "locked": true,
     "schema_version": 1,
     "solution": false
    }
   },
   "outputs": [],
   "source": [
    "y = 1\n",
    "proba = 0.2\n",
    "print('Computed loss:  %.3f' % maximum_log_likelihood(y, proba))"
   ]
  },
  {
   "cell_type": "markdown",
   "metadata": {
    "deletable": false,
    "editable": false,
    "nbgrader": {
     "grade": false,
     "grade_id": "cell-73aa2b5fc2e95825",
     "locked": true,
     "schema_version": 1,
     "solution": false
    }
   },
   "source": [
    "Expected output:\n",
    "    \n",
    "    Computed loss:  1.609"
   ]
  },
  {
   "cell_type": "code",
   "execution_count": null,
   "metadata": {
    "deletable": false,
    "editable": false,
    "nbgrader": {
     "grade": true,
     "grade_id": "cell-328918be0c37238a",
     "locked": true,
     "points": 5,
     "schema_version": 1,
     "solution": false
    }
   },
   "outputs": [],
   "source": [
    "y = 1\n",
    "proba = 0.11\n",
    "assert hashlib.md5(np.round(maximum_log_likelihood(y, proba),3)).hexdigest() == 'c32ab5f1bb15b402788647e939fca19c'\n",
    "\n",
    "y = 1\n",
    "proba = 0.98\n",
    "assert hashlib.md5(np.round(maximum_log_likelihood(y, proba),3)).hexdigest() == '3c0098685eae68ef1f7ce8a5bbd1c641'"
   ]
  },
  {
   "cell_type": "markdown",
   "metadata": {
    "deletable": false,
    "editable": false,
    "nbgrader": {
     "grade": false,
     "grade_id": "cell-eb7dca3ebe6d82c8",
     "locked": true,
     "schema_version": 1,
     "solution": false
    }
   },
   "source": [
    "# Exercise 4: Obtain the Optimized Coefficients \n",
    "\n",
    "Now that the warmup is done, let's do the most interesting exercise. Here you will implement the optimized coefficients through Batch Gradient Descent.\n",
    "\n",
    "## Quick reminders:\n",
    "\n",
    "For Stochastic gradient descent:\n",
    "\n",
    "$$H_{\\hat{p}}(y) = - \\frac{1}{N}\\sum_{i=1}^{N} \\left [{ y_i \\ \\log(\\hat{p}_i) + (1-y_i) \\ \\log (1-\\hat{p}_i)} \\right ]$$\n",
    "\n",
    "and\n",
    "\n",
    "$$\\beta_{0(t+1)} = \\beta_{0(t)} - learning\\_rate \\frac{\\partial H_{\\hat{p}}(y)}{\\partial \\beta_{0(t)}}$$\n",
    "\n",
    "$$\\beta_{t+1} = \\beta_t - learning\\_rate \\frac{\\partial H_{\\hat{p}}(y)}{\\partial \\beta_t}$$\n",
    "\n",
    "which can be simplified to\n",
    "\n",
    "$$\\beta_{0(t+1)} = \\beta_{0(t)} + learning\\_rate \\left [(y - \\hat{p}) \\ \\hat{p} \\ (1 - \\hat{p})\\right]$$\n",
    "\n",
    "$$\\beta_{t+1} = \\beta_t + learning\\_rate \\left [(y - \\hat{p}) \\ \\hat{p} \\ (1 - \\hat{p}) \\ x \\right]$$\n",
    "\n",
    "Then for Batch Gradient Descent:\n",
    "\n",
    "$$\\beta_{t+1} = \\beta_t + learning\\_rate \\frac{1}{N} \\sum_{i=1}^{N} \\left [(y_i - \\hat{p}_i) \\ \\hat{p}_i \\ (1 - \\hat{p}_i) \\ x_i \\right]$$\n",
    "\n",
    "And the intercept:\n",
    "\n",
    "$$\\beta_{0(t+1)} = \\beta_{0(t)} + learning\\_rate \\frac{1}{N} \\sum_{i=1}^{N} \\left [(y_i - \\hat{p}_i) \\ \\hat{p}_i \\ (1 - \\hat{p}_i) \\right]$$\n",
    "\n",
    "You will have to initialize a numpy array full of zeros for the coefficients. If you have a training set $X$, you can initialize it this way:\n",
    "```python\n",
    "coefficients = np.zeros(X.shape[1]+1)\n",
    "```\n",
    "\n",
    "where the $+1$ is adding the intercept.\n",
    "\n",
    "**Complete here:**"
   ]
  },
  {
   "cell_type": "code",
   "execution_count": null,
   "metadata": {
    "deletable": false,
    "nbgrader": {
     "grade": false,
     "grade_id": "cell-7ea9376a785c999d",
     "locked": false,
     "schema_version": 1,
     "solution": true
    }
   },
   "outputs": [],
   "source": [
    "def compute_coefficients(x_train, y_train, learning_rate = 0.1, n_epoch = 50, verbose = False):\n",
    "    \"\"\" \n",
    "    Implementation of a function that returns the optimized intercept and coefficients\n",
    "\n",
    "    Args:\n",
    "        x_train (np.array): a numpy array of shape (m, n)\n",
    "            m: number of training observations\n",
    "            n: number of variables\n",
    "        y_train (np.array): a numpy array of shape (m,)\n",
    "        learning_rate (np.float64): a float\n",
    "        n_epoch (np.int64): an integer of the number of full training cycles to perform on the training set\n",
    "\n",
    "    Returns:\n",
    "        coefficients (np.array): a numpy array of shape (n+1,)\n",
    "\n",
    "    \"\"\"\n",
    "\n",
    "    # initialize the coefficients array with zeros\n",
    "    # clue: use np.zeros()\n",
    "    coefficients = None\n",
    "    # YOUR CODE HERE\n",
    "    raise NotImplementedError()\n",
    "\n",
    "    # run the batch gradient descent algorithm n_epoch times and update the coefficients\n",
    "    for epoch in []:                    # replace the empty list with range and iterate n_epoch times\n",
    "        proba = None                    # compute the predicted probability\n",
    "        coefficients[0] += None         # update the intercept (clue: use np.mean())         \n",
    "        for i in []:                    # replace the empty list with range and iterate through the data variables (clue: use np.shape())\n",
    "            coefficients[i + 1] += None # update each coefficient (clue: use np.mean())\n",
    "        loss = None                     # average the obtained maximum log likelihoods (clue: use np.mean())\n",
    "        # YOUR CODE HERE\n",
    "        raise NotImplementedError()\n",
    "\n",
    "        if((epoch%10==0) & verbose):\n",
    "            print('>epoch=%d, learning_rate=%.3f, error=%.3f' % (epoch, learning_rate, loss))\n",
    "    return coefficients"
   ]
  },
  {
   "cell_type": "code",
   "execution_count": null,
   "metadata": {
    "deletable": false,
    "editable": false,
    "nbgrader": {
     "grade": false,
     "grade_id": "cell-89fd2c5d48b7d01b",
     "locked": true,
     "schema_version": 1,
     "solution": false
    }
   },
   "outputs": [],
   "source": [
    "x_train = np.array([[1,2,3], [2,5,9], [3,1,4], [8,2,9]])\n",
    "y_train = np.array([0,1,0,1])\n",
    "learning_rate = 0.1\n",
    "n_epoch = 200\n",
    "coefficients = compute_coefficients(x_train, y_train, learning_rate=learning_rate, n_epoch=n_epoch, verbose=True)\n",
    "print('Computed coefficients:')\n",
    "print(coefficients)"
   ]
  },
  {
   "cell_type": "markdown",
   "metadata": {
    "deletable": false,
    "editable": false,
    "nbgrader": {
     "grade": false,
     "grade_id": "cell-47f232d2602cef89",
     "locked": true,
     "schema_version": 1,
     "solution": false
    }
   },
   "source": [
    "Expected output:\n",
    "\n",
    "    >epoch=0, learning_rate=0.100, error=0.693\n",
    "    >epoch=10, learning_rate=0.100, error=0.607\n",
    "    >epoch=20, learning_rate=0.100, error=0.599\n",
    "    >epoch=30, learning_rate=0.100, error=0.592\n",
    "    >epoch=40, learning_rate=0.100, error=0.584\n",
    "    >epoch=50, learning_rate=0.100, error=0.576\n",
    "    >epoch=60, learning_rate=0.100, error=0.569\n",
    "    >epoch=70, learning_rate=0.100, error=0.562\n",
    "    >epoch=80, learning_rate=0.100, error=0.555\n",
    "    >epoch=90, learning_rate=0.100, error=0.548\n",
    "    >epoch=100, learning_rate=0.100, error=0.541\n",
    "    >epoch=110, learning_rate=0.100, error=0.534\n",
    "    >epoch=120, learning_rate=0.100, error=0.527\n",
    "    >epoch=130, learning_rate=0.100, error=0.521\n",
    "    >epoch=140, learning_rate=0.100, error=0.514\n",
    "    >epoch=150, learning_rate=0.100, error=0.508\n",
    "    >epoch=160, learning_rate=0.100, error=0.502\n",
    "    >epoch=170, learning_rate=0.100, error=0.496\n",
    "    >epoch=180, learning_rate=0.100, error=0.490\n",
    "    >epoch=190, learning_rate=0.100, error=0.484\n",
    "    Computed coefficients:\n",
    "    [-0.77946284 -0.02035626 -0.04034926  0.23211248]"
   ]
  },
  {
   "cell_type": "code",
   "execution_count": null,
   "metadata": {
    "deletable": false,
    "editable": false,
    "nbgrader": {
     "grade": true,
     "grade_id": "cell-b8ae10de7a8a357b",
     "locked": true,
     "points": 5,
     "schema_version": 1,
     "solution": false
    }
   },
   "outputs": [],
   "source": [
    "x_train = np.array([[3,1,3], [1,0,9], [3,3,4], [2,-1,10]])\n",
    "y_train = np.array([0,1,0,1])\n",
    "learning_rate = 0.3\n",
    "n_epoch = 200\n",
    "coefficients = compute_coefficients(x_train, y_train, learning_rate=learning_rate, n_epoch=n_epoch, verbose=False)\n",
    "assert np.allclose(coefficients, np.array([-0.22368326, -0.98713492, -0.7708793 ,  0.4834609 ]))\n",
    "\n",
    "x_train = np.array([[3,-1,-2], [-6,9,3], [3,-1,4], [5,1,6]])\n",
    "coefficients = compute_coefficients(x_train, y_train, learning_rate=learning_rate, n_epoch=n_epoch, verbose=False)\n",
    "assert np.allclose(coefficients, np.array([-0.40768566, -0.21773974,  1.65415715,  0.28374746]))"
   ]
  },
  {
   "cell_type": "markdown",
   "metadata": {
    "deletable": false,
    "editable": false,
    "nbgrader": {
     "grade": false,
     "grade_id": "cell-3a1387ec5d3ac2d3",
     "locked": true,
     "schema_version": 1,
     "solution": false
    }
   },
   "source": [
    "# Exercise 5: Normalize Data\n",
    "\n",
    "Just a quick and easy function to normalize the data. It is crucial that your variables are adjusted between $[0;1]$ (normalized) or standardized so that you can correctly analyse some logistic regression coefficients for your possible future employer.\n",
    "\n",
    "You only have to implement this formula\n",
    "\n",
    "$$ x_{normalized} = \\frac{x - x_{min}}{x_{max} - x_{min}}$$\n",
    "\n",
    "Don't forget that the `axis` argument is critical when obtaining the maximum, minimum and mean values! As you want to obtain the maximum and minimum values of each individual feature, you have to specify `axis=0`. Thus, if you wanted to obtain the maximum values of each feature of data $X$, you would do the following:\n",
    "\n",
    "```python\n",
    "X_max = np.max(X, axis=0)\n",
    "```\n",
    "\n",
    "**Complete here:**"
   ]
  },
  {
   "cell_type": "code",
   "execution_count": null,
   "metadata": {
    "deletable": false,
    "nbgrader": {
     "grade": false,
     "grade_id": "cell-d4e20d91c912030a",
     "locked": false,
     "schema_version": 1,
     "solution": true
    }
   },
   "outputs": [],
   "source": [
    "def normalize_data(X):\n",
    "    \"\"\" \n",
    "    Implementation of a function that normalizes your data variables\n",
    "    \n",
    "    Args:\n",
    "        X (np.array): a numpy array of shape (m, n)\n",
    "            m: number of observations\n",
    "            n: number of variables\n",
    "\n",
    "    Returns:\n",
    "        normalized_data (np.array): a numpy array of shape (m, n)\n",
    "\n",
    "    \"\"\"\n",
    "    # compute the numerator\n",
    "    # clue: use np.min()\n",
    "    numerator = None\n",
    "    # YOUR CODE HERE\n",
    "    raise NotImplementedError()\n",
    "    \n",
    "    # compute the numerator\n",
    "    # clue: use np.max() and np.min()\n",
    "    denominator = None\n",
    "    # YOUR CODE HERE\n",
    "    raise NotImplementedError()\n",
    "    \n",
    "    # obtain the normalized data\n",
    "    normalized_X = None\n",
    "    # YOUR CODE HERE\n",
    "    raise NotImplementedError()\n",
    "    \n",
    "    return normalized_X"
   ]
  },
  {
   "cell_type": "code",
   "execution_count": null,
   "metadata": {
    "deletable": false,
    "editable": false,
    "nbgrader": {
     "grade": false,
     "grade_id": "cell-334419ee9c78c698",
     "locked": true,
     "schema_version": 1,
     "solution": false
    }
   },
   "outputs": [],
   "source": [
    "data = np.array([[7,7,3], [2,2,11], [9,5,2], [0,9,5], [10,1,3], [1,5,2]])\n",
    "normalized_data = normalize_data(data)\n",
    "print('Before normalization:')\n",
    "print(data)\n",
    "print('\\n-------------------\\n')\n",
    "print('After normalization:')\n",
    "print(normalized_data)"
   ]
  },
  {
   "cell_type": "markdown",
   "metadata": {
    "deletable": false,
    "editable": false,
    "nbgrader": {
     "grade": false,
     "grade_id": "cell-194d7aa04c4e007c",
     "locked": true,
     "schema_version": 1,
     "solution": false
    }
   },
   "source": [
    "Expected output:\n",
    "    \n",
    "    Before normalization:\n",
    "    [[ 7  7  3]\n",
    "     [ 2  2 11]\n",
    "     [ 9  5  2]\n",
    "     [ 0  9  5]\n",
    "     [10  1  3]\n",
    "     [ 1  5  2]]\n",
    "\n",
    "    -------------------\n",
    "\n",
    "After normalization:\n",
    "\n",
    "    [[0.7        0.75       0.11111111]\n",
    "     [0.2        0.125      1.        ]\n",
    "     [0.9        0.5        0.        ]\n",
    "     [0.         1.         0.33333333]\n",
    "     [1.         0.         0.11111111]\n",
    "     [0.1        0.5        0.        ]]"
   ]
  },
  {
   "cell_type": "code",
   "execution_count": null,
   "metadata": {
    "deletable": false,
    "editable": false,
    "nbgrader": {
     "grade": true,
     "grade_id": "cell-5b95087a05a56d10",
     "locked": true,
     "points": 5,
     "schema_version": 1,
     "solution": false
    }
   },
   "outputs": [],
   "source": [
    "data = np.array([[2,2,11,1], [7,5,1,3], [9,5,2,6]])\n",
    "normalized_data = normalize_data(data)\n",
    "assert hashlib.md5(normalized_data).hexdigest() == '277af6f0e6721a66ca19931c726aeb86'\n",
    "\n",
    "data = np.array([[1,3,1,3], [9,5,3,1], [2,2,4,6]])\n",
    "normalized_data = normalize_data(data)\n",
    "assert hashlib.md5(normalized_data).hexdigest() == '2548d399591b9f950ab5fed9cc89a4e5'"
   ]
  },
  {
   "cell_type": "markdown",
   "metadata": {
    "deletable": false,
    "editable": false,
    "nbgrader": {
     "grade": false,
     "grade_id": "cell-b63df0cf2303b692",
     "locked": true,
     "schema_version": 1,
     "solution": false
    }
   },
   "source": [
    "# Exercise 6: Putting it All Together\n",
    "\n",
    "## The Banknote Authentication Dataset\n",
    "\n",
    "There are 1372 items (images of banknotes — think Euro or dollar bill). There are 4 predictor variables (variance of image, skewness, kurtosis, entropy). The variable to predict is encoded as 0 (authentic) or 1 (forgery).\n",
    "\n",
    "Your quest, is to first analyze this dataset from the materials that you've learned in the previous SLUs and then create a logistic regression model that can correctly classify forged banknotes from authentic ones.\n",
    "\n",
    "The data is loaded for you below."
   ]
  },
  {
   "cell_type": "code",
   "execution_count": null,
   "metadata": {
    "deletable": false,
    "editable": false,
    "nbgrader": {
     "grade": false,
     "grade_id": "cell-85f8a5b605f1a8fa",
     "locked": true,
     "schema_version": 1,
     "solution": false
    }
   },
   "outputs": [],
   "source": [
    "columns = ['variance','skewness','kurtosis','entropy', 'forgery']\n",
    "data = pd.read_csv('data/data_banknote_authentication.txt',names=columns).sample(frac=1, random_state=1)\n",
    "X = data.drop(columns='forgery').values\n",
    "y_train = data.forgery.values"
   ]
  },
  {
   "cell_type": "markdown",
   "metadata": {
    "deletable": false,
    "editable": false,
    "nbgrader": {
     "grade": false,
     "grade_id": "cell-d788f651986616fa",
     "locked": true,
     "schema_version": 1,
     "solution": false
    }
   },
   "source": [
    "You will also have to return several values, such as the number of forged and authentic banknotes. To do so, remember that you can do masks in numpy arrays. If you had a numpy array of labels called `labels` and wanted to obtain the ones with label $1$, you would do the following:\n",
    "\n",
    "```python\n",
    "filtered_labels = labels[labels==1]\n",
    "```\n",
    "\n",
    "You will additionally be asked to obtain the number of correct forged banknotes predictions. Imagine that you have a numpy array with the predictions called `predictions` and a numpy array with the correct labels called `labels` and you wanted to obtain the number of correct predictions of a label $1$. You would do the following:\n",
    "\n",
    "```python\n",
    "n_correct_predictions = labels[(labels==1) & (predictions==1)].shape[0]\n",
    "```\n",
    "\n",
    "Also, don't forget to use these values for your logistic regression!"
   ]
  },
  {
   "cell_type": "code",
   "execution_count": null,
   "metadata": {
    "deletable": false,
    "editable": false,
    "nbgrader": {
     "grade": false,
     "grade_id": "cell-e580d4b8a0715014",
     "locked": true,
     "schema_version": 1,
     "solution": false
    }
   },
   "outputs": [],
   "source": [
    "# Hyperparameters\n",
    "learning_rate = 0.3\n",
    "n_epoch = 200\n",
    "\n",
    "# For validation\n",
    "verbose = True"
   ]
  },
  {
   "cell_type": "markdown",
   "metadata": {
    "deletable": false,
    "editable": false,
    "nbgrader": {
     "grade": false,
     "grade_id": "cell-fc2bba765f6718cf",
     "locked": true,
     "schema_version": 1,
     "solution": false
    }
   },
   "source": [
    "Now let's do this!\n",
    "\n",
    "**Complete here:**"
   ]
  },
  {
   "cell_type": "code",
   "execution_count": null,
   "metadata": {
    "deletable": false,
    "nbgrader": {
     "grade": false,
     "grade_id": "cell-12fca244a20276be",
     "locked": false,
     "schema_version": 1,
     "solution": true
    }
   },
   "outputs": [],
   "source": [
    "from sklearn.linear_model import LogisticRegression\n",
    "# STEP ONE: Initial analysis and data processing\n",
    "# How many banknotes are forged? (clue: use y_train)\n",
    "n_forged = None\n",
    "# YOUR CODE HERE\n",
    "raise NotImplementedError()\n",
    "\n",
    "# How many banknotes are authentic? (clue: use y_train)\n",
    "n_authentic = None\n",
    "# YOUR CODE HERE\n",
    "raise NotImplementedError()\n",
    "\n",
    "# Normalize the training data X (clue: we have already implemented this)\n",
    "x_train = None\n",
    "# YOUR CODE HERE\n",
    "raise NotImplementedError()\n",
    "\n",
    "print(\"Number of forged banknotes: %i\" % n_forged)\n",
    "\n",
    "print(\"\\nThe last three normalized rows:\")\n",
    "print(x_train[-3:])\n"
   ]
  },
  {
   "cell_type": "markdown",
   "metadata": {
    "deletable": false,
    "editable": false,
    "nbgrader": {
     "grade": false,
     "grade_id": "cell-d36da31b08c8c036",
     "locked": true,
     "schema_version": 1,
     "solution": false
    }
   },
   "source": [
    "\n",
    "Expected output:\n",
    "\n",
    "    Number of forged banknotes: 610\n",
    "\n",
    "    The last three normalized rows:\n",
    "    [[0.19293425 0.74247045 0.25236091 0.28018586]\n",
    "     [0.65542407 0.59132937 0.3214595  0.76966693]\n",
    "     [0.34091253 0.65257608 0.19769531 0.6638479 ]]"
   ]
  },
  {
   "cell_type": "code",
   "execution_count": null,
   "metadata": {
    "deletable": false,
    "nbgrader": {
     "grade": false,
     "grade_id": "cell-38cbff1a547b1418",
     "locked": false,
     "schema_version": 1,
     "solution": true
    }
   },
   "outputs": [],
   "source": [
    "# STEP TWO: Model training and predictions\n",
    "# What coefficients can we get? (clue: we have already implemented this)\n",
    "# note: don't forget to use all the hyperparameters defined above\n",
    "coefficients = None\n",
    "# YOUR CODE HERE\n",
    "raise NotImplementedError()\n",
    "\n",
    "# What are the predicted probabilities on the training data?\n",
    "probas = None   # get the predicted probabilities (clue: we already implemented this)\n",
    "    \n",
    "# YOUR CODE HERE\n",
    "raise NotImplementedError()\n",
    "\n",
    "# If we had to say whether a banknote was forged or not, what are the predictions?\n",
    "# clue 1: Hard assign the predicted probabilities by rounding them to the nearest integer\n",
    "# clue 2: use np.round()\n",
    "preds = None\n",
    "# YOUR CODE HERE\n",
    "raise NotImplementedError()\n",
    "\n",
    "print(\"\\nThe last three coefficients:\")\n",
    "print(coefficients[-3:])\n",
    "\n",
    "print(\"\\nThe last three obtained probas:\")\n",
    "print(probas[-3:])\n",
    "\n",
    "print(\"\\nThe last three predictions:\")\n",
    "print(preds[-3:])"
   ]
  },
  {
   "cell_type": "markdown",
   "metadata": {
    "deletable": false,
    "editable": false,
    "nbgrader": {
     "grade": false,
     "grade_id": "cell-9b84678df577950a",
     "locked": true,
     "schema_version": 1,
     "solution": false
    }
   },
   "source": [
    "Expected output:\n",
    "\n",
    "    >epoch=0, learning_rate=0.300, error=0.693\n",
    "    >epoch=10, learning_rate=0.300, error=0.680\n",
    "    >epoch=20, learning_rate=0.300, error=0.673\n",
    "    >epoch=30, learning_rate=0.300, error=0.667\n",
    "    >epoch=40, learning_rate=0.300, error=0.662\n",
    "    >epoch=50, learning_rate=0.300, error=0.658\n",
    "    >epoch=60, learning_rate=0.300, error=0.654\n",
    "    >epoch=70, learning_rate=0.300, error=0.650\n",
    "    >epoch=80, learning_rate=0.300, error=0.647\n",
    "    >epoch=90, learning_rate=0.300, error=0.643\n",
    "    >epoch=100, learning_rate=0.300, error=0.639\n",
    "    >epoch=110, learning_rate=0.300, error=0.636\n",
    "    >epoch=120, learning_rate=0.300, error=0.632\n",
    "    >epoch=130, learning_rate=0.300, error=0.629\n",
    "    >epoch=140, learning_rate=0.300, error=0.626\n",
    "    >epoch=150, learning_rate=0.300, error=0.623\n",
    "    >epoch=160, learning_rate=0.300, error=0.620\n",
    "    >epoch=170, learning_rate=0.300, error=0.617\n",
    "    >epoch=180, learning_rate=0.300, error=0.614\n",
    "    >epoch=190, learning_rate=0.300, error=0.611\n",
    "\n",
    "    The last three coefficients:\n",
    "    [-0.46533509  0.21801537  0.13774932]\n",
    "\n",
    "    The last three obtained probas:\n",
    "    [0.46480018 0.40605379 0.45419773]\n",
    "\n",
    "    The last three predictions:\n",
    "    [0. 0. 0.]"
   ]
  },
  {
   "cell_type": "code",
   "execution_count": null,
   "metadata": {
    "deletable": false,
    "nbgrader": {
     "grade": false,
     "grade_id": "cell-8387dc18c3e0f789",
     "locked": false,
     "schema_version": 1,
     "solution": true
    }
   },
   "outputs": [],
   "source": [
    "# STEP THREE: Results analysis\n",
    "# How many banknotes were predicted as forged? (clue: use preds and len() or .shape)\n",
    "n_predicted_forged = None\n",
    "# YOUR CODE HERE\n",
    "raise NotImplementedError()\n",
    "\n",
    "# How many forged banknotes were correctly detected? (clue: use y_train, preds and len() or .shape)\n",
    "n_correct_forged_predictions = None\n",
    "# YOUR CODE HERE\n",
    "raise NotImplementedError()\n",
    "\n",
    "print(\"Number of correct forged predictions: %i\" % n_correct_forged_predictions)"
   ]
  },
  {
   "cell_type": "markdown",
   "metadata": {
    "deletable": false,
    "editable": false,
    "nbgrader": {
     "grade": false,
     "grade_id": "cell-8f04909dc6afe1e7",
     "locked": true,
     "schema_version": 1,
     "solution": false
    }
   },
   "source": [
    "Expected output:\n",
    "\n",
    "    Number of correct forged predictions: 165"
   ]
  },
  {
   "cell_type": "code",
   "execution_count": null,
   "metadata": {
    "deletable": false,
    "editable": false,
    "nbgrader": {
     "grade": false,
     "grade_id": "cell-84ca2370adc7d541",
     "locked": true,
     "schema_version": 1,
     "solution": false
    }
   },
   "outputs": [],
   "source": [
    "print('You have a dataset with %s forged banknotes and %s authentic banknotes. \\n\\n'\n",
    "     'After analysing the data and training your own logistic regression classifier you find out that it correctly '\n",
    "     'identified %s out of %s forged banknotes. But you know that it still did not detect most of the forged banknotes.'% \n",
    "      (n_forged, n_authentic, n_predicted_forged, n_correct_forged_predictions))"
   ]
  }
 ],
 "metadata": {
  "kernelspec": {
   "display_name": "Python 3",
   "language": "python",
   "name": "python3"
  },
  "language_info": {
   "codemirror_mode": {
    "name": "ipython",
    "version": 3
   },
   "file_extension": ".py",
   "mimetype": "text/x-python",
   "name": "python",
   "nbconvert_exporter": "python",
   "pygments_lexer": "ipython3",
   "version": "3.7.3"
  }
 },
 "nbformat": 4,
 "nbformat_minor": 2
}
