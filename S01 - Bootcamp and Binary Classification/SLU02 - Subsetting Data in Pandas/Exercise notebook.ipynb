{
 "cells": [
  {
   "cell_type": "markdown",
   "metadata": {
    "deletable": false,
    "editable": false,
    "nbgrader": {
     "grade": false,
     "grade_id": "cell-63aee61ad7c5ad78",
     "locked": true,
     "schema_version": 1,
     "solution": false
    }
   },
   "source": [
    "# SLU2 - Subsetting data: Exercise notebook\n",
    "\n",
    "In this notebook you'll practice the following:\n",
    "    - Setting pandas Dataframe index\n",
    "    - Selecting columns (brackets and dot notation)\n",
    "    - Selecting rows (loc and iloc)\n",
    "    - Chain indexing (not good) vs Multi-axis indexing (good)\n",
    "    - Masks\n",
    "    - Where\n",
    "    - Subsetting on conditions\n",
    "    - Removing and Adding columns"
   ]
  },
  {
   "cell_type": "code",
   "execution_count": null,
   "metadata": {
    "deletable": false,
    "editable": false,
    "nbgrader": {
     "grade": false,
     "grade_id": "cell-c4fc286960a67c7f",
     "locked": true,
     "schema_version": 1,
     "solution": false
    }
   },
   "outputs": [],
   "source": [
    "import pandas as pd\n",
    "\n",
    "pd.options.display.max_rows = 10"
   ]
  },
  {
   "cell_type": "markdown",
   "metadata": {
    "deletable": false,
    "editable": false,
    "nbgrader": {
     "grade": false,
     "grade_id": "cell-1dc0734066ab2665",
     "locked": true,
     "schema_version": 1,
     "solution": false
    }
   },
   "source": [
    "For these exercices we will be using a zomato dataset containing the description and ratings of several restaurants.\n",
    "\n",
    "In each exercise, you'll be asked to implement a function. In order to test it before you submit the assignement, add a new cell and call the function to inspect it's output."
   ]
  },
  {
   "cell_type": "code",
   "execution_count": null,
   "metadata": {
    "deletable": false,
    "editable": false,
    "nbgrader": {
     "grade": false,
     "grade_id": "cell-0a59c17d9c2a28bf",
     "locked": true,
     "schema_version": 1,
     "solution": false
    }
   },
   "outputs": [],
   "source": [
    "# Read restaurants dataset and set restaurant name column as index\n",
    "restaurants = pd.read_csv('data/zomato_restaurants.csv',index_col='restaurant id').sort_index()\n",
    "\n",
    "# Show first 5 lines\n",
    "restaurants.head(5)"
   ]
  },
  {
   "cell_type": "markdown",
   "metadata": {
    "deletable": false,
    "editable": false,
    "nbgrader": {
     "grade": false,
     "grade_id": "cell-986fc6db0e7fb3e8",
     "locked": true,
     "schema_version": 1,
     "solution": false
    }
   },
   "source": [
    "## Exercise 1\n",
    "\n",
    "Selecting columns\n",
    "\n",
    "Select the column __*city*__."
   ]
  },
  {
   "cell_type": "code",
   "execution_count": null,
   "metadata": {
    "deletable": false,
    "nbgrader": {
     "grade": false,
     "grade_id": "exercice_1",
     "locked": false,
     "schema_version": 1,
     "solution": true
    }
   },
   "outputs": [],
   "source": [
    "def exercise_1(df):\n",
    "    \"\"\" \n",
    "    Select the column city of the DataFrame\n",
    "    \n",
    "    Args:\n",
    "        df (pd.DataFrame): the input DataFrame\n",
    "\n",
    "    Returns:\n",
    "        (pd.Series): city column\n",
    "\n",
    "    \"\"\"\n",
    "    \n",
    "    # YOUR CODE HERE\n",
    "    raise NotImplementedError()\n",
    "    "
   ]
  },
  {
   "cell_type": "code",
   "execution_count": null,
   "metadata": {
    "deletable": false,
    "editable": false,
    "nbgrader": {
     "grade": true,
     "grade_id": "exercice_1_corect",
     "locked": true,
     "points": 1.5,
     "schema_version": 1,
     "solution": false
    }
   },
   "outputs": [],
   "source": [
    "# This cell is what will test your code, please ignore it!\n",
    "df_test = exercise_1(restaurants)\n",
    "assert isinstance(df_test, pd.Series)\n",
    "assert df_test.name == 'city'\n",
    "assert df_test.shape[0] == restaurants.shape[0]\n",
    "#pd.testing.assert_series_equal(df_test, df_true)"
   ]
  },
  {
   "cell_type": "markdown",
   "metadata": {},
   "source": [
    "## Exercise 2\n",
    "\n",
    "Selecting columns.\n",
    "\n",
    "Select columns __*aggregate_rating*__ and __*average_cost_for_two*__."
   ]
  },
  {
   "cell_type": "code",
   "execution_count": null,
   "metadata": {
    "deletable": false,
    "nbgrader": {
     "grade": false,
     "grade_id": "exercice_2",
     "locked": false,
     "schema_version": 1,
     "solution": true
    }
   },
   "outputs": [],
   "source": [
    "def exercise_2(df):\n",
    "    \"\"\" \n",
    "    Select columns aggregate_rating and average_cost_for_two\n",
    "    \n",
    "    Args:\n",
    "        df (pd.DataFrame): the input DataFrame\n",
    "\n",
    "    Returns:\n",
    "        (pd.DataFrame): aggregate_rating and average_cost_for_two columns\n",
    "\n",
    "    \"\"\"\n",
    "    # YOUR CODE HERE\n",
    "    raise NotImplementedError()"
   ]
  },
  {
   "cell_type": "code",
   "execution_count": null,
   "metadata": {
    "deletable": false,
    "editable": false,
    "nbgrader": {
     "grade": true,
     "grade_id": "exercice_2_correct",
     "locked": true,
     "points": 1.5,
     "schema_version": 1,
     "solution": false
    }
   },
   "outputs": [],
   "source": [
    "# This cell is what will test your code, please ignore it!\n",
    "df_test = exercise_2(restaurants)\n",
    "assert isinstance(exercise_2(restaurants), pd.DataFrame)\n",
    "assert df_test.columns.tolist() == ['aggregate_rating', 'average_cost_for_two']\n",
    "assert df_test.shape[0] == restaurants.shape[0]"
   ]
  },
  {
   "cell_type": "markdown",
   "metadata": {},
   "source": [
    "## Exercise 3\n",
    "Selecting rows.\n",
    "\n",
    "Select the **78th**, the **156th** and the **390th** rows."
   ]
  },
  {
   "cell_type": "code",
   "execution_count": null,
   "metadata": {
    "deletable": false,
    "nbgrader": {
     "grade": false,
     "grade_id": "exercice_3",
     "locked": false,
     "schema_version": 1,
     "solution": true
    }
   },
   "outputs": [],
   "source": [
    "def exercise_3(df):\n",
    "    \"\"\" \n",
    "    Select the 78, the 156 and the 390 rows\n",
    "    \n",
    "    Args:\n",
    "        df (pd.DataFrame): the input DataFrame\n",
    "\n",
    "    Returns:\n",
    "        (pd.DataFrame): subsetted df\n",
    "\n",
    "    \"\"\"\n",
    "    \n",
    "    # YOUR CODE HERE\n",
    "    raise NotImplementedError()"
   ]
  },
  {
   "cell_type": "code",
   "execution_count": null,
   "metadata": {
    "deletable": false,
    "editable": false,
    "nbgrader": {
     "grade": true,
     "grade_id": "exercice_3_correct",
     "locked": true,
     "points": 1.5,
     "schema_version": 1,
     "solution": false
    }
   },
   "outputs": [],
   "source": [
    "# This cell is what will test your code, please ignore it!\n",
    "df_test = exercise_3(restaurants)\n",
    "assert isinstance(df_test, pd.DataFrame)\n",
    "assert df_test.shape[1] == restaurants.shape[1]\n",
    "assert df_test.index.values.tolist() == [6114650, 8302994, 17836438]"
   ]
  },
  {
   "cell_type": "markdown",
   "metadata": {
    "deletable": false,
    "editable": false,
    "nbgrader": {
     "grade": false,
     "grade_id": "cell-cf9e255f531d08cf",
     "locked": true,
     "schema_version": 1,
     "solution": false
    }
   },
   "source": [
    "## Exercise 4\n",
    "Selecting rows and columns\n",
    "\n",
    "Select columns __*aggregate_rating*__  and __*restaurant name*__  for restaurants whose **id** is __8202867__ or __16553285__."
   ]
  },
  {
   "cell_type": "code",
   "execution_count": null,
   "metadata": {
    "deletable": false,
    "nbgrader": {
     "grade": false,
     "grade_id": "exercise_4",
     "locked": false,
     "schema_version": 1,
     "solution": true
    }
   },
   "outputs": [],
   "source": [
    "def exercise_4(df):\n",
    "    \"\"\" \n",
    "    Select columns aggregate_rating and restaurant name for rooms 8202867 and 16553285\n",
    "    \n",
    "    Args:\n",
    "        df (pd.DataFrame): the input DataFrame\n",
    "\n",
    "    Returns:\n",
    "        (pd.DataFrame): subsetted df\n",
    "\n",
    "    \"\"\"\n",
    "    \n",
    "    # YOUR CODE HERE\n",
    "    raise NotImplementedError()"
   ]
  },
  {
   "cell_type": "code",
   "execution_count": null,
   "metadata": {
    "deletable": false,
    "editable": false,
    "nbgrader": {
     "grade": true,
     "grade_id": "exercise_4_correct",
     "locked": true,
     "points": 2,
     "schema_version": 1,
     "solution": false
    }
   },
   "outputs": [],
   "source": [
    "# This cell is what will test your code, please ignore it!\n",
    "df_test = exercise_4(restaurants)\n",
    "assert isinstance(df_test, pd.DataFrame)\n",
    "assert df_test.index.values.tolist() == [8202867, 16553285]\n",
    "assert df_test.columns.tolist() == ['aggregate_rating', 'restaurant name']"
   ]
  },
  {
   "cell_type": "markdown",
   "metadata": {
    "deletable": false,
    "editable": false,
    "nbgrader": {
     "grade": false,
     "grade_id": "cell-2a00e05ad6de7869",
     "locked": true,
     "schema_version": 1,
     "solution": false
    }
   },
   "source": [
    "## Exercise 5\n",
    "Using the __mask__ function\n",
    "\n",
    "Use the mask function to hide all the restaurants in London."
   ]
  },
  {
   "cell_type": "code",
   "execution_count": null,
   "metadata": {
    "deletable": false,
    "nbgrader": {
     "grade": false,
     "grade_id": "exercice_5",
     "locked": false,
     "schema_version": 1,
     "solution": true
    }
   },
   "outputs": [],
   "source": [
    "def exercise_5(df):\n",
    "    \"\"\" \n",
    "    Use the mask function to hide all the restaurants in London\n",
    "    \n",
    "    Args:\n",
    "        df (pd.DataFrame): the input DataFrame\n",
    "\n",
    "    Returns:\n",
    "        (pd.DataFrame): df with hidden (NaN) rows\n",
    "\n",
    "    \"\"\"\n",
    "    # YOUR CODE HERE\n",
    "    raise NotImplementedError()"
   ]
  },
  {
   "cell_type": "code",
   "execution_count": null,
   "metadata": {
    "deletable": false,
    "editable": false,
    "nbgrader": {
     "grade": true,
     "grade_id": "exercise_5_correct",
     "locked": true,
     "points": 1.5,
     "schema_version": 1,
     "solution": false
    }
   },
   "outputs": [],
   "source": [
    "# This cell is what will test your code, please ignore it!\n",
    "df_test = exercise_5(restaurants)\n",
    "assert isinstance(df_test, pd.DataFrame)\n",
    "assert df_test.shape == restaurants.shape\n",
    "assert sum(df_test.city=='London') == 0"
   ]
  },
  {
   "cell_type": "markdown",
   "metadata": {},
   "source": [
    "## Exercise 6\n",
    "Using the __where__ function\n",
    "\n",
    "Use the where function to hide all the restaurants that **do not have table booking**."
   ]
  },
  {
   "cell_type": "code",
   "execution_count": null,
   "metadata": {
    "deletable": false,
    "nbgrader": {
     "grade": false,
     "grade_id": "exercise_6",
     "locked": false,
     "schema_version": 1,
     "solution": true
    }
   },
   "outputs": [],
   "source": [
    "def exercise_6(df):\n",
    "    \"\"\" \n",
    "    Use the where function to hide all the restaurants that do not have table booking\n",
    "    \n",
    "    Args:\n",
    "        df (pd.DataFrame): the input DataFrame\n",
    "\n",
    "    Returns:\n",
    "        (pd.DataFrame): df with hidden (NaN) rows\n",
    "\n",
    "    \"\"\"\n",
    "    \n",
    "    \n",
    "    # YOUR CODE HERE\n",
    "    raise NotImplementedError()"
   ]
  },
  {
   "cell_type": "code",
   "execution_count": null,
   "metadata": {
    "deletable": false,
    "editable": false,
    "nbgrader": {
     "grade": true,
     "grade_id": "exercise_6_correct",
     "locked": true,
     "points": 1.5,
     "schema_version": 1,
     "solution": false
    }
   },
   "outputs": [],
   "source": [
    "# This cell is what will test your code, please ignore it!\n",
    "df_test = exercise_6(restaurants)\n",
    "assert isinstance(df_test, pd.DataFrame)\n",
    "assert df_test.shape == restaurants.shape\n",
    "assert sum(df_test.has_table_booking==0) == 0"
   ]
  },
  {
   "cell_type": "markdown",
   "metadata": {
    "deletable": false,
    "editable": false,
    "nbgrader": {
     "grade": false,
     "grade_id": "cell-d1d81e24a5119351",
     "locked": true,
     "schema_version": 1,
     "solution": false
    }
   },
   "source": [
    "## Exercise 7\n",
    "Using slice operation.\n",
    "\n",
    "Use the slice operation to pick the **restaurants** whose **id** are between **6122300** and **6130000**.\n"
   ]
  },
  {
   "cell_type": "code",
   "execution_count": null,
   "metadata": {
    "deletable": false,
    "nbgrader": {
     "grade": false,
     "grade_id": "exercice_7",
     "locked": false,
     "schema_version": 1,
     "solution": true
    }
   },
   "outputs": [],
   "source": [
    "def exercise_7(df):\n",
    "    \"\"\" \n",
    "    Use the slice operation to pick all restaurants whose id is between 6122300 and 6130000.\n",
    "    \n",
    "    Args:\n",
    "        df (pd.DataFrame): the input DataFrame\n",
    "\n",
    "    Returns:\n",
    "        (pd.DataFrame): df subset of rows\n",
    "\n",
    "    \"\"\"\n",
    "    \n",
    "    # YOUR CODE HERE\n",
    "    raise NotImplementedError()"
   ]
  },
  {
   "cell_type": "code",
   "execution_count": null,
   "metadata": {
    "deletable": false,
    "editable": false,
    "nbgrader": {
     "grade": true,
     "grade_id": "exercice_7_correct",
     "locked": true,
     "points": 1.5,
     "schema_version": 1,
     "solution": false
    }
   },
   "outputs": [],
   "source": [
    "# This cell is what will test your code, please ignore it!\n",
    "df_test = exercise_7(restaurants)\n",
    "assert isinstance(df_test, pd.DataFrame)\n",
    "assert df_test.index.values.tolist() == [6122355, 6124820, 6125672, 6127163]\n",
    "assert df_test.columns.tolist() == restaurants.columns.tolist()"
   ]
  },
  {
   "cell_type": "markdown",
   "metadata": {
    "deletable": false,
    "editable": false,
    "nbgrader": {
     "grade": false,
     "grade_id": "cell-4ce398405164b68c",
     "locked": true,
     "schema_version": 1,
     "solution": false
    }
   },
   "source": [
    "## Exercise 8\n",
    "Picking a tasty ice cream for Maria!\n",
    "\n",
    "Maria has been working in Rome (Roma in portuguese) for two months now. Summer is just starting and she would like to try one of the famous ice creams that Italy is known for. She wants to try the best that Rome has to offer and so she is only picking an ice cream shop with a rating bigger than 4.5\n",
    "\n",
    "Find the options that fullfill these criteria. Select only the following columns:\n",
    "**neighbourhood**,\n",
    "**aggregate_rating**,\n",
    "**votes**,\n",
    "**average_cost_for_two**"
   ]
  },
  {
   "cell_type": "code",
   "execution_count": null,
   "metadata": {
    "deletable": false,
    "nbgrader": {
     "grade": false,
     "grade_id": "exercice_8",
     "locked": false,
     "schema_version": 1,
     "solution": true
    }
   },
   "outputs": [],
   "source": [
    "def exercise_8(df):\n",
    "    \"\"\" \n",
    "    Pick an Ice Cream Shop for Maria.\n",
    "    \n",
    "    Args:\n",
    "        df (pd.DataFrame): the input DataFrame\n",
    "\n",
    "    Returns:\n",
    "        (pd.DataFrame): subsetted df\n",
    "\n",
    "    \"\"\"\n",
    "    # YOUR CODE HERE\n",
    "    raise NotImplementedError()"
   ]
  },
  {
   "cell_type": "code",
   "execution_count": null,
   "metadata": {
    "deletable": false,
    "editable": false,
    "nbgrader": {
     "grade": true,
     "grade_id": "exercice_8_correct",
     "locked": true,
     "points": 2,
     "schema_version": 1,
     "solution": false
    }
   },
   "outputs": [],
   "source": [
    "# This cell is what will test your code, please ignore it!\n",
    "df_test = exercise_8(restaurants)\n",
    "assert isinstance(df_test, pd.DataFrame)\n",
    "assert len(df_test.columns) == 4\n",
    "assert len(df_test.index) == 3\n",
    "assert sum(df_test.votes) == 483\n",
    "assert round(sum(df_test.aggregate_rating),1) == 14.5\n",
    "assert sum(df_test.average_cost_for_two) == 52\n",
    "assert 'Veneto' in df_test.neighbourhood.values"
   ]
  },
  {
   "cell_type": "markdown",
   "metadata": {
    "deletable": false,
    "editable": false,
    "nbgrader": {
     "grade": false,
     "grade_id": "cell-c3ea67ba48876252",
     "locked": true,
     "schema_version": 1,
     "solution": false
    }
   },
   "source": [
    "## Exercise 9\n",
    "\n",
    "__Find a restaurant for Toni!__\n",
    "\n",
    "Toni is visiting Porto with  a friend and they really want to get some nice food next Saturday night. They have a total budget of 50€ and they want a restaurant with a rating bigger than 4.5. As their hotel is near Baixa neighbourhood they would prefer to pick a restaurant close by. \n",
    "\n",
    "Find the options that fullfill Tony criteria.\n",
    "\n",
    "In the end, present only the **restaurant name**, **neighbourhood**, **aggregate_rating**, **average_cost_for_two** and the **has_table_booking**."
   ]
  },
  {
   "cell_type": "code",
   "execution_count": null,
   "metadata": {
    "deletable": false,
    "nbgrader": {
     "grade": false,
     "grade_id": "exercice_9",
     "locked": false,
     "schema_version": 1,
     "solution": true
    }
   },
   "outputs": [],
   "source": [
    "def exercise_9(df):\n",
    "    \"\"\" \n",
    "    Pick a restaurant for Toni and his friend\n",
    "    \n",
    "    Args:\n",
    "        df (pd.DataFrame): the input DataFrame\n",
    "\n",
    "    Returns:\n",
    "        (pd.DataFrame): subsetted df\n",
    "\n",
    "    \"\"\"\n",
    "    # YOUR CODE HERE\n",
    "    raise NotImplementedError()"
   ]
  },
  {
   "cell_type": "code",
   "execution_count": null,
   "metadata": {
    "deletable": false,
    "editable": false,
    "nbgrader": {
     "grade": true,
     "grade_id": "exercice_9_correct",
     "locked": true,
     "points": 2,
     "schema_version": 1,
     "solution": false
    }
   },
   "outputs": [],
   "source": [
    "# This cell is what will test your code, please ignore it!\n",
    "df_test = exercise_9(restaurants)\n",
    "assert isinstance(df_test, pd.DataFrame)\n",
    "assert len(df_test.columns) == 5\n",
    "assert len(df_test.index) == 6\n",
    "assert 'Miss Pavlova' in df_test['restaurant name'].values\n",
    "assert round(sum(df_test.aggregate_rating),1) == 28.3\n",
    "assert sum(df_test.has_table_booking) == 2\n",
    "assert sum(df_test.average_cost_for_two) == 195\n",
    "assert sum(df_test.neighbourhood == 'Baixa') == 6"
   ]
  },
  {
   "cell_type": "markdown",
   "metadata": {
    "deletable": false,
    "editable": false,
    "nbgrader": {
     "grade": false,
     "grade_id": "cell-4ccac3fa748e29d4",
     "locked": true,
     "schema_version": 1,
     "solution": false
    }
   },
   "source": [
    "##  Exercise 10\n",
    "Working with dataframe index.\n",
    "\n",
    "Set column __*restaurant name*__ as index and sort it.\n",
    "Make sure you keep the old index as column in the resulting dataframe"
   ]
  },
  {
   "cell_type": "code",
   "execution_count": null,
   "metadata": {
    "deletable": false,
    "nbgrader": {
     "grade": false,
     "grade_id": "exercice_10",
     "locked": false,
     "schema_version": 1,
     "solution": true
    }
   },
   "outputs": [],
   "source": [
    "def exercise_10(df):\n",
    "    \"\"\" \n",
    "    Set column restaurant name as index. Keep old index as column in the new dataframe\n",
    "    Sort the index.\n",
    "    \n",
    "    Args:\n",
    "        beers (pd.DataFrame): the input DataFrame\n",
    "\n",
    "    Returns:\n",
    "        beers (pd.DataFrame): the transformed DataFrame\n",
    "\n",
    "    \"\"\"\n",
    "    \n",
    "    # YOUR CODE HERE\n",
    "    raise NotImplementedError()\n"
   ]
  },
  {
   "cell_type": "code",
   "execution_count": null,
   "metadata": {
    "deletable": false,
    "editable": false,
    "nbgrader": {
     "grade": true,
     "grade_id": "exercice_10_correct",
     "locked": true,
     "points": 2,
     "schema_version": 1,
     "solution": false
    }
   },
   "outputs": [],
   "source": [
    "df_test= exercise_10(restaurants)\n",
    "assert isinstance(df_test, pd.DataFrame)\n",
    "assert df_test.index.name == 'restaurant name'\n",
    "assert 'restaurant id' in df_test.columns.tolist()\n",
    "assert df_test.index.values[0] == '100 Montaditos' and df_test.index.values[-1] == 'daTerra'"
   ]
  },
  {
   "cell_type": "markdown",
   "metadata": {
    "deletable": false,
    "editable": false,
    "nbgrader": {
     "grade": false,
     "grade_id": "cell-4212e90aa62ae782",
     "locked": true,
     "schema_version": 1,
     "solution": false
    }
   },
   "source": [
    "## Exercise 11\n",
    "\n",
    "Adding columns\n",
    "\n",
    "Add a column with the the average cost for 10 people and name it __*average_cost_for_ten*__\n",
    "\n",
    "Add a column with the photo_count per vote and name it __*photo_count_per_vote*__"
   ]
  },
  {
   "cell_type": "code",
   "execution_count": null,
   "metadata": {
    "deletable": false,
    "nbgrader": {
     "grade": false,
     "grade_id": "exercise_11",
     "locked": false,
     "schema_version": 1,
     "solution": true
    }
   },
   "outputs": [],
   "source": [
    "def exercise_11(df):\n",
    "    \"\"\" \n",
    "    Add a column average_cost_for_ten and column photo_count_per_vote\n",
    "    \n",
    "    Args:\n",
    "        beers (pd.DataFrame): the input DataFrame\n",
    "\n",
    "    Returns:\n",
    "        beers (pd.DataFrame): DataFrame with 2 extra columns\n",
    "\n",
    "    \"\"\"\n",
    "    \n",
    "    # YOUR CODE HERE\n",
    "    raise NotImplementedError()"
   ]
  },
  {
   "cell_type": "code",
   "execution_count": null,
   "metadata": {
    "deletable": false,
    "editable": false,
    "nbgrader": {
     "grade": true,
     "grade_id": "exercise_11_correct",
     "locked": true,
     "points": 1.5,
     "schema_version": 1,
     "solution": false
    }
   },
   "outputs": [],
   "source": [
    "assert isinstance(exercise_11(restaurants), pd.DataFrame)\n",
    "df_test= exercise_11(restaurants)\n",
    "df_true=restaurants\n",
    "df_true['average_cost_for_ten'] = df_true['average_cost_for_two']*5\n",
    "df_true['photo_count_per_vote'] = df_true['photo_count']/df_true['votes']\n",
    "pd.testing.assert_frame_equal(df_test, df_true)"
   ]
  },
  {
   "cell_type": "markdown",
   "metadata": {
    "deletable": false,
    "editable": false,
    "nbgrader": {
     "grade": false,
     "grade_id": "cell-1555eb3c48fdd797",
     "locked": true,
     "schema_version": 1,
     "solution": false
    }
   },
   "source": [
    "## Exercice 12\n",
    "Dropping columns\n",
    "\n",
    "Drop the columns __*timings*__ and __*has_online_delivery*__."
   ]
  },
  {
   "cell_type": "code",
   "execution_count": null,
   "metadata": {
    "deletable": false,
    "nbgrader": {
     "grade": false,
     "grade_id": "exercice_12",
     "locked": false,
     "schema_version": 1,
     "solution": true
    }
   },
   "outputs": [],
   "source": [
    "def exercise_12(df):\n",
    "    \"\"\" \n",
    "    Drop columns timmings and has_online_delivery\n",
    "    \n",
    "    Args:\n",
    "        beers (pd.DataFrame): the input DataFrame\n",
    "\n",
    "    Returns:\n",
    "        beers (pd.DataFrame): the transformed DataFrame\n",
    "\n",
    "    \"\"\"\n",
    "    \n",
    "    # YOUR CODE HERE\n",
    "    raise NotImplementedError()"
   ]
  },
  {
   "cell_type": "code",
   "execution_count": null,
   "metadata": {
    "deletable": false,
    "editable": false,
    "nbgrader": {
     "grade": true,
     "grade_id": "exercise_12_correct",
     "locked": true,
     "points": 1.5,
     "schema_version": 1,
     "solution": false
    }
   },
   "outputs": [],
   "source": [
    "df_test = exercise_12(restaurants)\n",
    "assert isinstance(df_test, pd.DataFrame)\n",
    "assert ['timings','has_online_delivery'] not in df_test.columns.tolist()\n",
    "assert df_test.shape[0] == restaurants.shape[0]\n",
    "assert df_test.shape[1] == restaurants.shape[1]-2"
   ]
  }
 ],
 "metadata": {
  "kernelspec": {
   "display_name": "Python 3",
   "language": "python",
   "name": "python3"
  },
  "language_info": {
   "codemirror_mode": {
    "name": "ipython",
    "version": 3
   },
   "file_extension": ".py",
   "mimetype": "text/x-python",
   "name": "python",
   "nbconvert_exporter": "python",
   "pygments_lexer": "ipython3",
   "version": "3.7.3"
  }
 },
 "nbformat": 4,
 "nbformat_minor": 2
}
