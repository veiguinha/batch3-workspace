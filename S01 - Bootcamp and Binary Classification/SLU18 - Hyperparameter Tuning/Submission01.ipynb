{
 "cells": [
  {
   "cell_type": "markdown",
   "metadata": {},
   "source": [
    "First submission code by Rodrigo Veríssimo.\n",
    "\n",
    "Note: Removed the calculated Day of the week and the timedelta variable in hours between the most recent transation in the training set the the observed transaction. Because we only have 5 days worth of data and I don't really believe in the timedelta one. They slightly improved validation results and still have to confirm by submitting in the portal again."
   ]
  },
  {
   "cell_type": "code",
   "execution_count": 2,
   "metadata": {},
   "outputs": [],
   "source": [
    "from typing import List, Tuple\n",
    "\n",
    "import numpy as np\n",
    "import pandas as pd\n",
    "\n",
    "from sklearn.linear_model import LogisticRegression\n",
    "from sklearn.pipeline import Pipeline\n",
    "from sklearn.base import TransformerMixin, ClassifierMixin\n",
    "from sklearn.model_selection import cross_val_score\n",
    "from category_encoders.target_encoder import TargetEncoder\n",
    "\n",
    "RANDOM_STATE: int = 1\n",
    "SUBMISSION_VERSION: int = 1\n",
    "cat_columns: List[str] = ['product_id', 'product_department',\n",
    "       'product_category', 'card_id', 'user_id', 'C15', 'C16', 'C17', 'C18',\n",
    "       'C19', 'C20', 'C21']"
   ]
  },
  {
   "cell_type": "code",
   "execution_count": 4,
   "metadata": {},
   "outputs": [],
   "source": [
    "def load_data() -> Tuple[pd.DataFrame, pd.DataFrame]:\n",
    "    return (pd.read_csv('data/train.csv'),\n",
    "           pd.read_csv('data/test.csv'))\n",
    "\n",
    "def submit_submission(df_transactions: pd.DataFrame,\n",
    "                     model: Pipeline,\n",
    "                     submission_version: int) -> None:\n",
    "    df_submission: pd.DataFrame = df_transactions['id'].to_frame()\n",
    "    df_submission['isfraud'] = model.predict_proba(df_transactions)[:,1]\n",
    "    df_submission.to_csv(f'submission_{submission_version}.csv', index=False)\n",
    "\n",
    "class ColumnTypeConverter(TransformerMixin):\n",
    "    def __init__(self) -> None:\n",
    "        self.cat_columns = ['product_id', 'product_department',\n",
    "       'product_category', 'card_id', 'user_id', 'C15', 'C16', 'C17', 'C18',\n",
    "       'C19', 'C20', 'C21']\n",
    "    \n",
    "    def fit(self, df_transactions: pd.DataFrame, _):\n",
    "        return self\n",
    "    \n",
    "    def transform(self, df_transactions: pd.DataFrame) -> pd.DataFrame:\n",
    "        new_df_transactions: pd.DataFrame = df_transactions.copy()\n",
    "        new_df_transactions.timestamp = pd.to_datetime(new_df_transactions.timestamp, unit='ms')\n",
    "        new_df_transactions[cat_columns] = df_transactions[self.cat_columns].astype('category')\n",
    "        return new_df_transactions\n",
    "    \n",
    "class ExtractDatetimeFeatures(TransformerMixin):\n",
    "    def __init__(self) -> None:\n",
    "        pass\n",
    "    \n",
    "    def fit(self, df_transactions: pd.DataFrame, _):\n",
    "        return self\n",
    "    \n",
    "    def transform(self, df_transactions: pd.DataFrame) -> pd.DataFrame:\n",
    "        return(df_transactions.pipe(self.build_temporal_features)\n",
    "                              .pipe(self.cyclical_transform))\n",
    "\n",
    "    def build_temporal_features(\n",
    "        self, df_transactions: pd.DataFrame\n",
    "    ) -> pd.DataFrame:\n",
    "\n",
    "        return df_transactions.assign(\n",
    "            HourDay=df_transactions.timestamp.dt.hour\n",
    "            + df_transactions.timestamp.dt.minute / 59,\n",
    "            DayWeek=df_transactions.timestamp.dt.dayofweek,\n",
    "        )\n",
    "\n",
    "    def cyclical_transform(self, df_transactions) -> pd.DataFrame:\n",
    "        return (\n",
    "            df_transactions.pipe(self.compute_cyclical, 'HourDay', 23)\n",
    "        )\n",
    "\n",
    "    def compute_cyclical(self, df_transactions: pd.DataFrame, \n",
    "                         feature_name: str, period: int) -> pd.DataFrame:\n",
    "        df_transactions[feature_name + \"Cos\"] = np.cos(\n",
    "            2*np.pi*df_transactions[feature_name] / period\n",
    "        )\n",
    "        df_transactions[feature_name + \"Sin\"] = np.sin(\n",
    "            2*np.pi*df_transactions[feature_name] / period\n",
    "        )\n",
    "        return df_transactions\n",
    "\n",
    "class Model(ClassifierMixin):\n",
    "    def __init__(self, random_state: int) -> None:\n",
    "        self.columns: List[str] = ['product_id', 'product_department',\n",
    "       'product_category', 'card_id', 'user_id', 'C15', 'C16', 'C17', 'C18',\n",
    "       'C19', 'C20', 'C21', 'amount', 'HourDayCos', 'HourDaySin']\n",
    "        self.model: LogisticRegression = LogisticRegression(random_state=random_state,\n",
    "                                       solver='liblinear')\n",
    "\n",
    "    def fit(self, df_transactions: pd.DataFrame, is_fraud: pd.Series):\n",
    "        self.model.fit(df_transactions[self.columns], is_fraud)\n",
    "        return self\n",
    "    \n",
    "    def predict_proba(self, df_transactions: pd.DataFrame) -> pd.DataFrame:\n",
    "        return self.model.predict_proba(df_transactions[self.columns])"
   ]
  },
  {
   "cell_type": "code",
   "execution_count": 5,
   "metadata": {},
   "outputs": [],
   "source": [
    "df_train, df_test = load_data()"
   ]
  },
  {
   "cell_type": "code",
   "execution_count": 6,
   "metadata": {},
   "outputs": [],
   "source": [
    "pipeline: Pipeline = Pipeline(\n",
    "            [\n",
    "                ('dtype_converter',\n",
    "                ColumnTypeConverter()),\n",
    "                ('datetime_extractor',\n",
    "                ExtractDatetimeFeatures()),\n",
    "                ('categorical_encoder',\n",
    "                TargetEncoder(cols=cat_columns, \n",
    "                              min_samples_leaf=20)),\n",
    "                ('model',\n",
    "                Model(random_state=RANDOM_STATE))\n",
    "            ]\n",
    "        ).fit(df_train.drop(columns='isfraud'), \n",
    "              df_train.isfraud)"
   ]
  },
  {
   "cell_type": "code",
   "execution_count": 7,
   "metadata": {},
   "outputs": [],
   "source": [
    "submit_submission(df_transactions=df_test, model=pipeline, submission_version=SUBMISSION_VERSION)"
   ]
  }
 ],
 "metadata": {
  "kernelspec": {
   "display_name": "Python 3",
   "language": "python",
   "name": "python3"
  },
  "language_info": {
   "codemirror_mode": {
    "name": "ipython",
    "version": 3
   },
   "file_extension": ".py",
   "mimetype": "text/x-python",
   "name": "python",
   "nbconvert_exporter": "python",
   "pygments_lexer": "ipython3",
   "version": "3.7.3"
  }
 },
 "nbformat": 4,
 "nbformat_minor": 2
}
