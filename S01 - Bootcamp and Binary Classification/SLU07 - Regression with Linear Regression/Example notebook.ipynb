{
 "cells": [
  {
   "cell_type": "markdown",
   "metadata": {},
   "source": [
    "# SLU7 - Regression with Linar Regression: Example notebook\n",
    "---"
   ]
  },
  {
   "cell_type": "markdown",
   "metadata": {},
   "source": [
    "# 1 Writing linear models\n",
    "\n",
    "In this section you have a few examples on how to implement simple and multiple linear models.\n",
    "\n",
    "Let's start by implementing the following:\n",
    "\n",
    "$$ y = 1.25 + 5x $$"
   ]
  },
  {
   "cell_type": "code",
   "execution_count": 3,
   "metadata": {},
   "outputs": [
    {
     "data": {
      "text/plain": [
       "6.25"
      ]
     },
     "execution_count": 3,
     "metadata": {},
     "output_type": "execute_result"
    }
   ],
   "source": [
    "def first_linear_model(x):\n",
    "    \"\"\"\n",
    "    Implements y = 1.25 + 5*x\n",
    "    \n",
    "    Args: \n",
    "        x : float - input of model\n",
    "        a : float - intercept of model\n",
    "        b : float - coefficient of model\n",
    "\n",
    "    Returns:\n",
    "        y : float - output of linear model\n",
    "    \"\"\"\n",
    "\n",
    "    y = 1.25 + 5 * x\n",
    "    \n",
    "    return y\n",
    "\n",
    "first_linear_model(1)"
   ]
  },
  {
   "cell_type": "markdown",
   "metadata": {},
   "source": [
    "You should be thinking that this is too easy. So let's generalize it a bit. We'll write the code for the next equation:\n",
    "\n",
    "$$ y = a + bx $$"
   ]
  },
  {
   "cell_type": "code",
   "execution_count": 4,
   "metadata": {},
   "outputs": [
    {
     "data": {
      "text/plain": [
       "6.25"
      ]
     },
     "execution_count": 4,
     "metadata": {},
     "output_type": "execute_result"
    }
   ],
   "source": [
    "def second_linear_model(x, a, b):\n",
    "    \"\"\"\n",
    "    Implements y = a + b * x\n",
    "\n",
    "    Args: \n",
    "        x : float - input of model\n",
    "        a : float - intercept of model\n",
    "        b : float - coefficient of model\n",
    "\n",
    "    Returns:\n",
    "        y : float - output of linear model\n",
    "    \"\"\"\n",
    "\n",
    "    y = a + b * x\n",
    "    return y\n",
    "\n",
    "second_linear_model(1, 1.25, 5)"
   ]
  },
  {
   "cell_type": "markdown",
   "metadata": {},
   "source": [
    "Still very simple, right? Now what if we want to have a linear model with multiple variables, such as this one:\n",
    "\n",
    "$$ y = a + bx_1 + cx_2 + dx_3 $$\n",
    "\n",
    "You can follow the same logic and just write the following:"
   ]
  },
  {
   "cell_type": "code",
   "execution_count": 5,
   "metadata": {},
   "outputs": [
    {
     "data": {
      "text/plain": [
       "1.2"
      ]
     },
     "execution_count": 5,
     "metadata": {},
     "output_type": "execute_result"
    }
   ],
   "source": [
    "def first_multiple_linear_model(x_1, x_2, x_3, a, b, c, d):\n",
    "    \"\"\"\n",
    "    Implements y = a + b * x_1 + c * x_2 + d * x_3 \n",
    "    \n",
    "    Args: \n",
    "        x_1 : float - first input of model\n",
    "        x_2 : float - second input of model\n",
    "        x_3 : float - third input of model\n",
    "        a : float - intercept of model\n",
    "        b : float - first coefficient of model\n",
    "        c : float - second coefficient of model\n",
    "        d : float - third coefficient of model\n",
    "\n",
    "    Returns:\n",
    "        y : float - output of linear model\n",
    "    \"\"\"\n",
    "\n",
    "    y = a + b * x_1 + c * x_2 + d * x_3\n",
    "    return y\n",
    "\n",
    "first_multiple_linear_model(1.0, 1.0, 1.0, .5, .2, .1, .4)"
   ]
  },
  {
   "cell_type": "markdown",
   "metadata": {},
   "source": [
    "However, you should already be seeing the problem. The bigger our model gets, the more variables we need to consider, so this is clearly not efficient. Now let's write the generic form for a linear model:\n",
    "\n",
    "$$ y = w_0 + \\sum_{i=1}^{N} w_i x_i$$\n",
    "\n",
    "And we will implement the inputs and outputs of the model as vectors:"
   ]
  },
  {
   "cell_type": "code",
   "execution_count": 6,
   "metadata": {},
   "outputs": [
    {
     "data": {
      "text/plain": [
       "1.2"
      ]
     },
     "execution_count": 6,
     "metadata": {},
     "output_type": "execute_result"
    }
   ],
   "source": [
    "def second_multiple_linear_model(x, w):\n",
    "    \"\"\"\n",
    "    Implements y = w_0 + sum(x_i*w_i)  (where i=1...N)\n",
    "\n",
    "    Args: \n",
    "        x : vector of input features with size N-1\n",
    "        w : vector of model weights with size N\n",
    "    \n",
    "    Returns:\n",
    "        y : float - output of linear model\n",
    "    \"\"\"\n",
    "    \n",
    "    w_0 = w[0]\n",
    "    y = w_0\n",
    "    \n",
    "    for i in range(1, len(x)+1):\n",
    "        y += x[i-1]*w[i]\n",
    "    \n",
    "    return y\n",
    "\n",
    "second_multiple_linear_model([1.0, 1.0, 1.0], [.5, .2, .1, .4])"
   ]
  },
  {
   "cell_type": "markdown",
   "metadata": {},
   "source": [
    "You could go even one step further and use numpy to vectorize these computations. You can represent both vectors as numpy arrays and just do the same calculation:"
   ]
  },
  {
   "cell_type": "code",
   "execution_count": 11,
   "metadata": {},
   "outputs": [],
   "source": [
    "import numpy as np\n",
    "\n",
    "def vectorized_multiple_linear_model(x, w):\n",
    "    \"\"\"\n",
    "    Implements y = w_0 + sum(x_i*w_i)  (where i=1...N)\n",
    "\n",
    "    Args: \n",
    "        x : numpy array with shape (N-1, ) of inputs\n",
    "        w : numpy array with shape (N, ) of model weights \n",
    "    \n",
    "    Returns:\n",
    "        y : float - output of linear model\n",
    "    \"\"\"\n",
    "\n",
    "    y = w[0] + x*w[1:]\n",
    "    \n",
    "vectorized_multiple_linear_model(np.array([1.0, 1.0, 1.0]), np.array([.5, .2, .1, .4]))"
   ]
  },
  {
   "cell_type": "markdown",
   "metadata": {},
   "source": [
    "Read more about numpy array and its manipulation at the end of this example notebook. This will be necessary as you will be requested to implement these types of models in a way that they can compute several samples with many features at once."
   ]
  },
  {
   "cell_type": "markdown",
   "metadata": {},
   "source": [
    "<br>\n",
    "<br>"
   ]
  },
  {
   "cell_type": "markdown",
   "metadata": {},
   "source": [
    "# 2 Using sklearn's LinearRegression\n",
    "\n",
    "The following cells show you how to use the LinearRegression solver of the scikitlearn library. We'll start by creating some fake data to use in these examples: "
   ]
  },
  {
   "cell_type": "code",
   "execution_count": 12,
   "metadata": {},
   "outputs": [
    {
     "data": {
      "text/plain": [
       "[<matplotlib.lines.Line2D at 0x11c9fe908>]"
      ]
     },
     "execution_count": 12,
     "metadata": {},
     "output_type": "execute_result"
    },
    {
     "data": {
      "image/png": "[encoded data removed]",
      "text/plain": [
       "<Figure size 432x288 with 1 Axes>"
      ]
     },
     "metadata": {
      "needs_background": "light"
     },
     "output_type": "display_data"
    }
   ],
   "source": [
    "import numpy as np\n",
    "import matplotlib.pyplot as plt\n",
    "\n",
    "np.random.seed(42)\n",
    "\n",
    "X = np.arange(-10, 10) + np.random.rand(20)\n",
    "y = 1.12 + .75 * X + 2. * np.random.rand(20)\n",
    "\n",
    "plt.xlim((-10, 10))\n",
    "plt.ylim((-20, 20))\n",
    "plt.plot(X, y, 'b.')"
   ]
  },
  {
   "cell_type": "markdown",
   "metadata": {},
   "source": [
    "## 2.1 Training the model\n",
    "\n",
    "We will now use the base data created and show you how to fit the scikitlearn LinearRegression model with the data:"
   ]
  },
  {
   "cell_type": "code",
   "execution_count": 13,
   "metadata": {},
   "outputs": [
    {
     "data": {
      "text/plain": [
       "LinearRegression(copy_X=True, fit_intercept=True, n_jobs=None, normalize=False)"
      ]
     },
     "execution_count": 13,
     "metadata": {},
     "output_type": "execute_result"
    }
   ],
   "source": [
    "from sklearn.linear_model import LinearRegression\n",
    "\n",
    "# Since our numpy array has only 1 dimension, we need reshape \n",
    "# it to become a collumn vector - which corresponds to 1 feature\n",
    "# and N samples\n",
    "X = X.reshape(-1, 1)\n",
    "\n",
    "lr = LinearRegression()\n",
    "lr.fit(X, y)"
   ]
  },
  {
   "cell_type": "markdown",
   "metadata": {},
   "source": [
    "## 2.2 Coefficients and Intercept\n",
    "\n",
    "You can get both the coefficients and the intercept from this model:"
   ]
  },
  {
   "cell_type": "code",
   "execution_count": 14,
   "metadata": {},
   "outputs": [
    {
     "name": "stdout",
     "output_type": "stream",
     "text": [
      "Coefficients: [0.76238153]\n",
      "Intercept: 2.030181639054948\n"
     ]
    }
   ],
   "source": [
    "print('Coefficients: {}'.format(lr.coef_))\n",
    "print('Intercept: {}'.format(lr.intercept_))"
   ]
  },
  {
   "cell_type": "markdown",
   "metadata": {},
   "source": [
    "## 2.3 Making predictions\n",
    "\n",
    "We can then make prediction with our model and see how they compare with the actual samples:"
   ]
  },
  {
   "cell_type": "code",
   "execution_count": 15,
   "metadata": {},
   "outputs": [
    {
     "data": {
      "text/plain": [
       "[<matplotlib.lines.Line2D at 0x11c9fee10>]"
      ]
     },
     "execution_count": 15,
     "metadata": {},
     "output_type": "execute_result"
    },
    {
     "data": {
      "image/png": "[encoded data removed]",
      "text/plain": [
       "<Figure size 432x288 with 1 Axes>"
      ]
     },
     "metadata": {
      "needs_background": "light"
     },
     "output_type": "display_data"
    }
   ],
   "source": [
    "y_pred = lr.predict(X)\n",
    "\n",
    "plt.xlim((-10, 10))\n",
    "plt.ylim((-20, 20))\n",
    "plt.plot(X, y, 'b.')\n",
    "plt.plot(X, y_pred, 'r-')"
   ]
  },
  {
   "cell_type": "markdown",
   "metadata": {},
   "source": [
    "## 2.4 Evaluating the model\n",
    "\n",
    "We can also extract the $R^2$ score of this model:"
   ]
  },
  {
   "cell_type": "code",
   "execution_count": 16,
   "metadata": {},
   "outputs": [
    {
     "name": "stdout",
     "output_type": "stream",
     "text": [
      "R² score: 0.983519\n"
     ]
    }
   ],
   "source": [
    "print('R² score: %f' % lr.score(X, y))"
   ]
  },
  {
   "cell_type": "markdown",
   "metadata": {},
   "source": [
    "<br>\n",
    "<br>\n"
   ]
  },
  {
   "cell_type": "markdown",
   "metadata": {},
   "source": [
    "# Bonus examples: Numpy utilities"
   ]
  },
  {
   "cell_type": "markdown",
   "metadata": {},
   "source": [
    "With linear models, we normally have data that can be represented by either vectors or matrices. Even though you don't need advanced algebra knowledge to implement and understand the models presented, it is usefull to understand its basics, since most of the computational part is typically implemented from these concepts.\n",
    "\n",
    "Numpy is a powerfull library that allows us to represent our data easily in this format, and already implements a lot of functions to then manipulate or do calculations over our data. In this section we present the basic functions that you should know and will use the most to implement the basic models:"
   ]
  },
  {
   "cell_type": "code",
   "execution_count": 17,
   "metadata": {},
   "outputs": [],
   "source": [
    "import numpy as np\n",
    "import pandas as pd"
   ]
  },
  {
   "cell_type": "markdown",
   "metadata": {},
   "source": [
    "## a) Pandas to numpy and back\n",
    "\n",
    "Pandas stores our data in dataframes and series, which are very usefull for visualization and even for some specific data operations we want to perform. However, for many algorithms that involve combination of numeric data, the standard form of implementing is by using numpy. Start by seeing how to conver from pandas to numpy and back:"
   ]
  },
  {
   "cell_type": "code",
   "execution_count": 18,
   "metadata": {},
   "outputs": [
    {
     "data": {
      "text/html": [
       "<div>\n",
       "<style scoped>\n",
       "    .dataframe tbody tr th:only-of-type {\n",
       "        vertical-align: middle;\n",
       "    }\n",
       "\n",
       "    .dataframe tbody tr th {\n",
       "        vertical-align: top;\n",
       "    }\n",
       "\n",
       "    .dataframe thead th {\n",
       "        text-align: right;\n",
       "    }\n",
       "</style>\n",
       "<table border=\"1\" class=\"dataframe\">\n",
       "  <thead>\n",
       "    <tr style=\"text-align: right;\">\n",
       "      <th></th>\n",
       "      <th>x</th>\n",
       "      <th>x_2</th>\n",
       "      <th>x_3</th>\n",
       "      <th>y</th>\n",
       "    </tr>\n",
       "  </thead>\n",
       "  <tbody>\n",
       "    <tr>\n",
       "      <th>0</th>\n",
       "      <td>-0.974682</td>\n",
       "      <td>0.950004</td>\n",
       "      <td>-0.925952</td>\n",
       "      <td>-1.138194</td>\n",
       "    </tr>\n",
       "    <tr>\n",
       "      <th>1</th>\n",
       "      <td>1.043495</td>\n",
       "      <td>1.088882</td>\n",
       "      <td>1.136242</td>\n",
       "      <td>1.116651</td>\n",
       "    </tr>\n",
       "    <tr>\n",
       "      <th>2</th>\n",
       "      <td>1.671416</td>\n",
       "      <td>2.793632</td>\n",
       "      <td>4.669321</td>\n",
       "      <td>1.591118</td>\n",
       "    </tr>\n",
       "    <tr>\n",
       "      <th>3</th>\n",
       "      <td>-0.051452</td>\n",
       "      <td>0.002647</td>\n",
       "      <td>-0.000136</td>\n",
       "      <td>1.001020</td>\n",
       "    </tr>\n",
       "    <tr>\n",
       "      <th>4</th>\n",
       "      <td>1.989017</td>\n",
       "      <td>3.956189</td>\n",
       "      <td>7.868928</td>\n",
       "      <td>-0.973300</td>\n",
       "    </tr>\n",
       "  </tbody>\n",
       "</table>\n",
       "</div>"
      ],
      "text/plain": [
       "          x       x_2       x_3         y\n",
       "0 -0.974682  0.950004 -0.925952 -1.138194\n",
       "1  1.043495  1.088882  1.136242  1.116651\n",
       "2  1.671416  2.793632  4.669321  1.591118\n",
       "3 -0.051452  0.002647 -0.000136  1.001020\n",
       "4  1.989017  3.956189  7.868928 -0.973300"
      ]
     },
     "execution_count": 18,
     "metadata": {},
     "output_type": "execute_result"
    }
   ],
   "source": [
    "df = pd.read_csv('data/polynomial.csv')\n",
    "df.head()"
   ]
  },
  {
   "cell_type": "markdown",
   "metadata": {},
   "source": [
    "### a.1) Pandas to numpy\n",
    "\n",
    "Let's transform our first collumn into a numpy vector, there are two ways of doing this, either by using the `.values` attribute:"
   ]
  },
  {
   "cell_type": "code",
   "execution_count": 19,
   "metadata": {},
   "outputs": [
    {
     "name": "stdout",
     "output_type": "stream",
     "text": [
      "[-0.97468167  1.04349486  1.67141609 -0.05145155  1.98901715  1.69483221\n",
      "  2.3605217   3.69166478  1.80589394  1.55395614]\n"
     ]
    }
   ],
   "source": [
    "np_array = df['x'].values\n",
    "print(np_array[:10])"
   ]
  },
  {
   "cell_type": "markdown",
   "metadata": {},
   "source": [
    "Or by calling the method `.to_numpy()`"
   ]
  },
  {
   "cell_type": "code",
   "execution_count": 20,
   "metadata": {},
   "outputs": [
    {
     "name": "stdout",
     "output_type": "stream",
     "text": [
      "[-0.97468167  1.04349486  1.67141609 -0.05145155  1.98901715  1.69483221\n",
      "  2.3605217   3.69166478  1.80589394  1.55395614]\n"
     ]
    }
   ],
   "source": [
    "np_array = df['x'].to_numpy()\n",
    "print(np_array[:10])"
   ]
  },
  {
   "cell_type": "markdown",
   "metadata": {},
   "source": [
    "You can also apply this to the full table:"
   ]
  },
  {
   "cell_type": "code",
   "execution_count": 21,
   "metadata": {},
   "outputs": [
    {
     "name": "stdout",
     "output_type": "stream",
     "text": [
      "[[-9.74681670e-01  9.50004358e-01 -9.25951835e-01 -1.13819408e+00]\n",
      " [ 1.04349486e+00  1.08888152e+00  1.13624227e+00  1.11665074e+00]\n",
      " [ 1.67141609e+00  2.79363175e+00  4.66932106e+00  1.59111751e+00]\n",
      " [-5.14515491e-02  2.64726191e-03 -1.36205726e-04  1.00102006e+00]\n",
      " [ 1.98901715e+00  3.95618924e+00  7.86892827e+00 -9.73300421e-01]]\n"
     ]
    }
   ],
   "source": [
    "np_array = df.values\n",
    "print(np_array[:5, :])"
   ]
  },
  {
   "cell_type": "code",
   "execution_count": 22,
   "metadata": {},
   "outputs": [
    {
     "name": "stdout",
     "output_type": "stream",
     "text": [
      "[[-9.74681670e-01  9.50004358e-01 -9.25951835e-01 -1.13819408e+00]\n",
      " [ 1.04349486e+00  1.08888152e+00  1.13624227e+00  1.11665074e+00]\n",
      " [ 1.67141609e+00  2.79363175e+00  4.66932106e+00  1.59111751e+00]\n",
      " [-5.14515491e-02  2.64726191e-03 -1.36205726e-04  1.00102006e+00]\n",
      " [ 1.98901715e+00  3.95618924e+00  7.86892827e+00 -9.73300421e-01]]\n"
     ]
    }
   ],
   "source": [
    "np_array = df.to_numpy()\n",
    "print(np_array[:5, :])"
   ]
  },
  {
   "cell_type": "markdown",
   "metadata": {},
   "source": [
    "### a.2) Numpy to pandas\n",
    "\n",
    "Let's start by defining an array and converting it to a pandas series:"
   ]
  },
  {
   "cell_type": "code",
   "execution_count": 23,
   "metadata": {},
   "outputs": [
    {
     "name": "stdout",
     "output_type": "stream",
     "text": [
      "0    4.00\n",
      "1    0.10\n",
      "2    1.00\n",
      "3    0.23\n",
      "4    3.00\n",
      "dtype: float64\n"
     ]
    }
   ],
   "source": [
    "np_array = np.array([4., .1, 1., .23, 3.])\n",
    "pd_series = pd.Series(np_array)\n",
    "print(pd_series)"
   ]
  },
  {
   "cell_type": "markdown",
   "metadata": {},
   "source": [
    "We can also create several series and concatenate them to create a dataframe:"
   ]
  },
  {
   "cell_type": "code",
   "execution_count": 24,
   "metadata": {},
   "outputs": [
    {
     "data": {
      "text/html": [
       "<div>\n",
       "<style scoped>\n",
       "    .dataframe tbody tr th:only-of-type {\n",
       "        vertical-align: middle;\n",
       "    }\n",
       "\n",
       "    .dataframe tbody tr th {\n",
       "        vertical-align: top;\n",
       "    }\n",
       "\n",
       "    .dataframe thead th {\n",
       "        text-align: right;\n",
       "    }\n",
       "</style>\n",
       "<table border=\"1\" class=\"dataframe\">\n",
       "  <thead>\n",
       "    <tr style=\"text-align: right;\">\n",
       "      <th></th>\n",
       "      <th>A</th>\n",
       "      <th>B</th>\n",
       "    </tr>\n",
       "  </thead>\n",
       "  <tbody>\n",
       "    <tr>\n",
       "      <th>0</th>\n",
       "      <td>4.00</td>\n",
       "      <td>8.00</td>\n",
       "    </tr>\n",
       "    <tr>\n",
       "      <th>1</th>\n",
       "      <td>0.10</td>\n",
       "      <td>0.20</td>\n",
       "    </tr>\n",
       "    <tr>\n",
       "      <th>2</th>\n",
       "      <td>1.00</td>\n",
       "      <td>2.00</td>\n",
       "    </tr>\n",
       "    <tr>\n",
       "      <th>3</th>\n",
       "      <td>0.23</td>\n",
       "      <td>0.46</td>\n",
       "    </tr>\n",
       "    <tr>\n",
       "      <th>4</th>\n",
       "      <td>3.00</td>\n",
       "      <td>6.00</td>\n",
       "    </tr>\n",
       "  </tbody>\n",
       "</table>\n",
       "</div>"
      ],
      "text/plain": [
       "      A     B\n",
       "0  4.00  8.00\n",
       "1  0.10  0.20\n",
       "2  1.00  2.00\n",
       "3  0.23  0.46\n",
       "4  3.00  6.00"
      ]
     },
     "execution_count": 24,
     "metadata": {},
     "output_type": "execute_result"
    }
   ],
   "source": [
    "np_array = np.array([4., .1, 1., .23, 3.])\n",
    "pd_series_1 = pd.Series(np_array, name='A')\n",
    "pd_series_2 = pd.Series(2 * np_array, name='B')\n",
    "pd_dataframe = pd.concat((pd_series_1, pd_series_2), axis=1)\n",
    "pd_dataframe.head()"
   ]
  },
  {
   "cell_type": "markdown",
   "metadata": {},
   "source": [
    "We can also directly convert to a dataframe:"
   ]
  },
  {
   "cell_type": "code",
   "execution_count": 25,
   "metadata": {},
   "outputs": [
    {
     "data": {
      "text/html": [
       "<div>\n",
       "<style scoped>\n",
       "    .dataframe tbody tr th:only-of-type {\n",
       "        vertical-align: middle;\n",
       "    }\n",
       "\n",
       "    .dataframe tbody tr th {\n",
       "        vertical-align: top;\n",
       "    }\n",
       "\n",
       "    .dataframe thead th {\n",
       "        text-align: right;\n",
       "    }\n",
       "</style>\n",
       "<table border=\"1\" class=\"dataframe\">\n",
       "  <thead>\n",
       "    <tr style=\"text-align: right;\">\n",
       "      <th></th>\n",
       "      <th>0</th>\n",
       "      <th>1</th>\n",
       "      <th>2</th>\n",
       "    </tr>\n",
       "  </thead>\n",
       "  <tbody>\n",
       "    <tr>\n",
       "      <th>0</th>\n",
       "      <td>1</td>\n",
       "      <td>2</td>\n",
       "      <td>3</td>\n",
       "    </tr>\n",
       "    <tr>\n",
       "      <th>1</th>\n",
       "      <td>4</td>\n",
       "      <td>5</td>\n",
       "      <td>6</td>\n",
       "    </tr>\n",
       "  </tbody>\n",
       "</table>\n",
       "</div>"
      ],
      "text/plain": [
       "   0  1  2\n",
       "0  1  2  3\n",
       "1  4  5  6"
      ]
     },
     "execution_count": 25,
     "metadata": {},
     "output_type": "execute_result"
    }
   ],
   "source": [
    "np_array = np.array([[1, 2, 3], [4, 5, 6]])\n",
    "pd_dataframe = pd.DataFrame(np_array)\n",
    "pd_dataframe.head()"
   ]
  },
  {
   "cell_type": "markdown",
   "metadata": {},
   "source": [
    "However, we might want more detailed names and specific indices. Some ways of achieving this follows:"
   ]
  },
  {
   "cell_type": "code",
   "execution_count": 26,
   "metadata": {},
   "outputs": [
    {
     "data": {
      "text/html": [
       "<div>\n",
       "<style scoped>\n",
       "    .dataframe tbody tr th:only-of-type {\n",
       "        vertical-align: middle;\n",
       "    }\n",
       "\n",
       "    .dataframe tbody tr th {\n",
       "        vertical-align: top;\n",
       "    }\n",
       "\n",
       "    .dataframe thead th {\n",
       "        text-align: right;\n",
       "    }\n",
       "</style>\n",
       "<table border=\"1\" class=\"dataframe\">\n",
       "  <thead>\n",
       "    <tr style=\"text-align: right;\">\n",
       "      <th></th>\n",
       "      <th>Col1</th>\n",
       "      <th>Col2</th>\n",
       "    </tr>\n",
       "  </thead>\n",
       "  <tbody>\n",
       "    <tr>\n",
       "      <th>Row1</th>\n",
       "      <td>1</td>\n",
       "      <td>2</td>\n",
       "    </tr>\n",
       "    <tr>\n",
       "      <th>Row2</th>\n",
       "      <td>3</td>\n",
       "      <td>4</td>\n",
       "    </tr>\n",
       "  </tbody>\n",
       "</table>\n",
       "</div>"
      ],
      "text/plain": [
       "     Col1 Col2\n",
       "Row1    1    2\n",
       "Row2    3    4"
      ]
     },
     "execution_count": 26,
     "metadata": {},
     "output_type": "execute_result"
    }
   ],
   "source": [
    "data = np.array([['','Col1','Col2'],\n",
    "                ['Row1',1,2],\n",
    "                ['Row2',3,4]])\n",
    "                \n",
    "pd_dataframe = pd.DataFrame(data=data[1:,1:], index=data[1:,0], columns=data[0,1:])\n",
    "pd_dataframe.head()"
   ]
  },
  {
   "cell_type": "code",
   "execution_count": 27,
   "metadata": {},
   "outputs": [
    {
     "data": {
      "text/html": [
       "<div>\n",
       "<style scoped>\n",
       "    .dataframe tbody tr th:only-of-type {\n",
       "        vertical-align: middle;\n",
       "    }\n",
       "\n",
       "    .dataframe tbody tr th {\n",
       "        vertical-align: top;\n",
       "    }\n",
       "\n",
       "    .dataframe thead th {\n",
       "        text-align: right;\n",
       "    }\n",
       "</style>\n",
       "<table border=\"1\" class=\"dataframe\">\n",
       "  <thead>\n",
       "    <tr style=\"text-align: right;\">\n",
       "      <th></th>\n",
       "      <th>A</th>\n",
       "      <th>B</th>\n",
       "      <th>C</th>\n",
       "      <th>D</th>\n",
       "    </tr>\n",
       "  </thead>\n",
       "  <tbody>\n",
       "    <tr>\n",
       "      <th>0</th>\n",
       "      <td>4</td>\n",
       "      <td>5</td>\n",
       "      <td>6</td>\n",
       "      <td>7</td>\n",
       "    </tr>\n",
       "    <tr>\n",
       "      <th>1</th>\n",
       "      <td>1</td>\n",
       "      <td>2</td>\n",
       "      <td>3</td>\n",
       "      <td>4</td>\n",
       "    </tr>\n",
       "  </tbody>\n",
       "</table>\n",
       "</div>"
      ],
      "text/plain": [
       "   A  B  C  D\n",
       "0  4  5  6  7\n",
       "1  1  2  3  4"
      ]
     },
     "execution_count": 27,
     "metadata": {},
     "output_type": "execute_result"
    }
   ],
   "source": [
    "pd_dataframe = pd.DataFrame(np.array([[4,5,6,7], [1,2,3,4]]), index=range(0, 2), columns=['A', 'B', 'C', 'D'])\n",
    "pd_dataframe.head()"
   ]
  },
  {
   "cell_type": "code",
   "execution_count": 28,
   "metadata": {},
   "outputs": [
    {
     "data": {
      "text/html": [
       "<div>\n",
       "<style scoped>\n",
       "    .dataframe tbody tr th:only-of-type {\n",
       "        vertical-align: middle;\n",
       "    }\n",
       "\n",
       "    .dataframe tbody tr th {\n",
       "        vertical-align: top;\n",
       "    }\n",
       "\n",
       "    .dataframe thead th {\n",
       "        text-align: right;\n",
       "    }\n",
       "</style>\n",
       "<table border=\"1\" class=\"dataframe\">\n",
       "  <thead>\n",
       "    <tr style=\"text-align: right;\">\n",
       "      <th></th>\n",
       "      <th>A</th>\n",
       "      <th>B</th>\n",
       "      <th>C</th>\n",
       "    </tr>\n",
       "  </thead>\n",
       "  <tbody>\n",
       "    <tr>\n",
       "      <th>0</th>\n",
       "      <td>1</td>\n",
       "      <td>1</td>\n",
       "      <td>2</td>\n",
       "    </tr>\n",
       "    <tr>\n",
       "      <th>1</th>\n",
       "      <td>3</td>\n",
       "      <td>2</td>\n",
       "      <td>4</td>\n",
       "    </tr>\n",
       "  </tbody>\n",
       "</table>\n",
       "</div>"
      ],
      "text/plain": [
       "   A  B  C\n",
       "0  1  1  2\n",
       "1  3  2  4"
      ]
     },
     "execution_count": 28,
     "metadata": {},
     "output_type": "execute_result"
    }
   ],
   "source": [
    "my_dict = {'A': np.array(['1', '3']), 'B': np.array(['1', '2']), 'C': np.array(['2', '4'])}\n",
    "pd_dataframe = pd.DataFrame(my_dict)\n",
    "pd_dataframe.head()"
   ]
  },
  {
   "cell_type": "markdown",
   "metadata": {},
   "source": [
    "## b) Vector and Matrix initialization and shaping\n",
    "\n",
    "When working with vectors and matrices, we need to be aware of the dimensions of these objects, and how they affect the possible operations perform over them. Numpy allows you to access these dimensions through the shape of the object:"
   ]
  },
  {
   "cell_type": "code",
   "execution_count": 29,
   "metadata": {},
   "outputs": [
    {
     "name": "stdout",
     "output_type": "stream",
     "text": [
      "1-d Array: [0.1 1.  2. ]\n",
      "Shape: (3,)\n",
      "\n",
      "\n",
      "2-d Row Array: [[0.1 1.  2. ]]\n",
      "Shape: (1, 3)\n",
      "\n",
      "\n",
      "2-d Collumn Array:\n",
      " [[0.1]\n",
      " [1. ]\n",
      " [2. ]]\n",
      "Shape: (3, 1)\n",
      "\n",
      "\n",
      "2-d matrix:\n",
      " [[0.1 3.  4.  1. ]\n",
      " [1.  0.3 0.1 0.5]\n",
      " [2.  0.7 3.8 0.1]]\n",
      "Shape: (3, 4)\n"
     ]
    }
   ],
   "source": [
    "v1 = np.array([ .1, 1.,  2.])\n",
    "\n",
    "print('1-d Array: {}'.format(v1))\n",
    "print('Shape: {}'.format(v1.shape))\n",
    "\n",
    "v2 = np.array([[ .1, 1.,  2.]])\n",
    "\n",
    "print('\\n')\n",
    "print('2-d Row Array: {}'.format(v2))\n",
    "print('Shape: {}'.format(v2.shape))\n",
    "\n",
    "v3 = np.array([[ .1], [1.],  [2.]])\n",
    "\n",
    "print('\\n')\n",
    "print('2-d Collumn Array:\\n {}'.format(v3))\n",
    "print('Shape: {}'.format(v3.shape))\n",
    "\n",
    "m1 = np.array([[ .1, 3., 4., 1.], [1., .3, .1, .5],  [2.,.7, 3.8, .1]])\n",
    "\n",
    "print('\\n')\n",
    "print('2-d matrix:\\n {}'.format(m1))\n",
    "print('Shape: {}'.format(m1.shape))\n"
   ]
  },
  {
   "cell_type": "markdown",
   "metadata": {},
   "source": [
    "Another important functionality provided is the possibility of reshaping these objects. For example, we can turn a 1-d array into a row vector:"
   ]
  },
  {
   "cell_type": "code",
   "execution_count": 30,
   "metadata": {},
   "outputs": [
    {
     "name": "stdout",
     "output_type": "stream",
     "text": [
      "Old 1-d Array reshaped to row: [[0.1 1.  2. ]]\n",
      "Shape: (1, 3)\n"
     ]
    }
   ],
   "source": [
    "v1 = np.array([ .1, 1.,  2.])\n",
    "v1_reshaped = v1.reshape((1, -1))\n",
    "                         \n",
    "print('Old 1-d Array reshaped to row: {}'.format(v1_reshaped))\n",
    "print('Shape: {}'.format(v1_reshaped.shape))\n"
   ]
  },
  {
   "cell_type": "markdown",
   "metadata": {},
   "source": [
    "Or we can reshape it into a collumn vector:"
   ]
  },
  {
   "cell_type": "code",
   "execution_count": 31,
   "metadata": {},
   "outputs": [
    {
     "name": "stdout",
     "output_type": "stream",
     "text": [
      "Old 1-d Array reshaped to collumn: \n",
      "[[0.1]\n",
      " [1. ]\n",
      " [2. ]]\n",
      "Shape: (3, 1)\n"
     ]
    }
   ],
   "source": [
    "v1 = np.array([ .1, 1.,  2.])\n",
    "v1_reshaped = v2.reshape((-1, 1))\n",
    "                         \n",
    "print('Old 1-d Array reshaped to collumn: \\n{}'.format(v1_reshaped))\n",
    "print('Shape: {}'.format(v1_reshaped.shape))\n"
   ]
  },
  {
   "cell_type": "markdown",
   "metadata": {},
   "source": [
    "We can also create specific vectors of 1s, 0s or random numbers with specific shapes from the start. See how to use each in the cells that follow:"
   ]
  },
  {
   "cell_type": "code",
   "execution_count": 32,
   "metadata": {},
   "outputs": [
    {
     "name": "stdout",
     "output_type": "stream",
     "text": [
      "1-D Vector of ones: \n",
      "[1. 1. 1.]\n",
      "Shape: (3,)\n"
     ]
    }
   ],
   "source": [
    "custom_shape = (3, )\n",
    "v1_ones = np.ones(custom_shape)\n",
    "                         \n",
    "print('1-D Vector of ones: \\n{}'.format(v1_ones))\n",
    "print('Shape: {}'.format(v1_ones.shape))"
   ]
  },
  {
   "cell_type": "code",
   "execution_count": 33,
   "metadata": {},
   "outputs": [
    {
     "name": "stdout",
     "output_type": "stream",
     "text": [
      "2-D vector of zeros: \n",
      "[[0.]\n",
      " [0.]\n",
      " [0.]\n",
      " [0.]\n",
      " [0.]]\n",
      "Shape: (5, 1)\n"
     ]
    }
   ],
   "source": [
    "custom_shape = (5, 1)\n",
    "v1_zeros = np.zeros(custom_shape)\n",
    "                         \n",
    "print('2-D vector of zeros: \\n{}'.format(v1_zeros))\n",
    "print('Shape: {}'.format(v1_zeros.shape))"
   ]
  },
  {
   "cell_type": "code",
   "execution_count": 34,
   "metadata": {},
   "outputs": [
    {
     "name": "stdout",
     "output_type": "stream",
     "text": [
      "2-D Matrix of random numbers: \n",
      "[[0.12203823 0.49517691 0.03438852]\n",
      " [0.9093204  0.25877998 0.66252228]\n",
      " [0.31171108 0.52006802 0.54671028]\n",
      " [0.18485446 0.96958463 0.77513282]\n",
      " [0.93949894 0.89482735 0.59789998]]\n",
      "Shape: (5, 3)\n"
     ]
    }
   ],
   "source": [
    "custom_shape = (5, 3)\n",
    "v1_rand = np.random.rand(custom_shape[0], custom_shape[1])\n",
    "                         \n",
    "print('2-D Matrix of random numbers: \\n{}'.format(v1_rand))\n",
    "print('Shape: {}'.format(v1_rand.shape))"
   ]
  },
  {
   "cell_type": "markdown",
   "metadata": {},
   "source": [
    "## c) Vector and Matrix Concatenation \n",
    "\n",
    "In this section, you will learn how to concatenate 2 vectors, a matrix and a vector, or 2 matrices. \n",
    "\n",
    "### c.1) Vector - Vector\n",
    "\n",
    "Let's start by defining 2 vectors:"
   ]
  },
  {
   "cell_type": "code",
   "execution_count": 35,
   "metadata": {},
   "outputs": [
    {
     "name": "stdout",
     "output_type": "stream",
     "text": [
      "1st array: [0.1 1.  2. ]\n",
      "Shape: (3,)\n",
      "2nd array: [5.1  0.3  0.41 3.  ]\n",
      "Shape: (4,)\n"
     ]
    }
   ],
   "source": [
    "v1 = np.array([ .1, 1.,  2.])\n",
    "v2 = np.array([5.1, .3, .41, 3. ])\n",
    "\n",
    "print('1st array: {}'.format(v1))\n",
    "print('Shape: {}'.format(v1.shape))\n",
    "\n",
    "print('2nd array: {}'.format(v2))\n",
    "print('Shape: {}'.format(v2.shape))"
   ]
  },
  {
   "cell_type": "markdown",
   "metadata": {},
   "source": [
    "Since vectors only have one dimension with a given size (notice the shape with only one element) we can only concatenate in this dimension, leading to a longer vector:"
   ]
  },
  {
   "cell_type": "code",
   "execution_count": 36,
   "metadata": {},
   "outputs": [
    {
     "name": "stdout",
     "output_type": "stream",
     "text": [
      "Concatenated vector: [0.1  1.   2.   5.1  0.3  0.41 3.  ]\n",
      "Shape: (7,)\n"
     ]
    }
   ],
   "source": [
    "vconcat = np.concatenate((v1, v2))\n",
    "print('Concatenated vector: {}'.format(vconcat))\n",
    "print('Shape: {}'.format(vconcat.shape))"
   ]
  },
  {
   "cell_type": "markdown",
   "metadata": {},
   "source": [
    "Concatenating vectors is very easy, and since we can only concatenate them in their one dimension, the sizes do not have to match. Now let's move on to a more complex case.\n",
    "\n",
    "### c.2) Matrix - row vector\n",
    "\n",
    "When concatenating matrices and vectors we have to take into account their dimensions."
   ]
  },
  {
   "cell_type": "code",
   "execution_count": 37,
   "metadata": {},
   "outputs": [
    {
     "name": "stdout",
     "output_type": "stream",
     "text": [
      "Array: [0.1 1.  2.  3. ]\n",
      "Shape: (4,)\n",
      "Matrix: \n",
      "[[5.1  0.3  0.41 3.  ]\n",
      " [5.1  0.3  0.41 3.  ]]\n",
      "Shape: (2, 4)\n"
     ]
    }
   ],
   "source": [
    "v1 = np.array([ .1, 1.,  2., 3.])\n",
    "m1 = np.array([[5.1, .3, .41, 3. ], [5.1, .3, .41, 3. ]])\n",
    "\n",
    "print('Array: {}'.format(v1))\n",
    "print('Shape: {}'.format(v1.shape))\n",
    "\n",
    "print('Matrix: \\n{}'.format(m1))\n",
    "print('Shape: {}'.format(m1.shape))"
   ]
  },
  {
   "cell_type": "markdown",
   "metadata": {},
   "source": [
    "The first thing you need to know is that whatever numpy objects you are trying to concatenate need to have the same dimensions. Run the code below to verify that you can not concatenate directly the vector and matrix:"
   ]
  },
  {
   "cell_type": "code",
   "execution_count": 38,
   "metadata": {},
   "outputs": [
    {
     "name": "stdout",
     "output_type": "stream",
     "text": [
      "Concatenation raised the following error: all the input arrays must have same number of dimensions\n"
     ]
    }
   ],
   "source": [
    "try:\n",
    "    vconcat = np.concatenate((v1, m1))\n",
    "except Exception as e:\n",
    "    print('Concatenation raised the following error: {}'.format(e))\n",
    "    "
   ]
  },
  {
   "cell_type": "markdown",
   "metadata": {},
   "source": [
    "So how can we do matrix-vector concatenation? \n",
    "\n",
    "It is actually quite simple. We'll use the reshape functionality you seen before to add a dimension to the vector."
   ]
  },
  {
   "cell_type": "code",
   "execution_count": 39,
   "metadata": {},
   "outputs": [
    {
     "name": "stdout",
     "output_type": "stream",
     "text": [
      "Array: [[0.1 1.  2.  3. ]]\n",
      "Shape: (1, 4)\n",
      "Matrix: \n",
      "[[5.1  0.3  0.41 3.  ]\n",
      " [5.1  0.3  0.41 3.  ]]\n",
      "Shape: (2, 4)\n"
     ]
    }
   ],
   "source": [
    "v1_reshaped = v1.reshape((1, v1.shape[0]))\n",
    "m1 = np.array([[5.1, .3, .41, 3. ], [5.1, .3, .41, 3. ]])\n",
    "\n",
    "print('Array: {}'.format(v1_reshaped))\n",
    "print('Shape: {}'.format(v1_reshaped.shape))\n",
    "\n",
    "print('Matrix: \\n{}'.format(m1))\n",
    "print('Shape: {}'.format(m1.shape))"
   ]
  },
  {
   "cell_type": "markdown",
   "metadata": {},
   "source": [
    "We've reshaped our vector into a 1-row matrix. Now we can try to perform the same concatenation:"
   ]
  },
  {
   "cell_type": "code",
   "execution_count": 40,
   "metadata": {},
   "outputs": [
    {
     "name": "stdout",
     "output_type": "stream",
     "text": [
      "Concatenated vector: [[0.1  1.   2.   3.  ]\n",
      " [5.1  0.3  0.41 3.  ]\n",
      " [5.1  0.3  0.41 3.  ]]\n",
      "Shape: (3, 4)\n"
     ]
    }
   ],
   "source": [
    "vconcat = np.concatenate((v1_reshaped, m1))\n",
    "print('Concatenated vector: {}'.format(vconcat))\n",
    "print('Shape: {}'.format(vconcat.shape))"
   ]
  },
  {
   "cell_type": "markdown",
   "metadata": {},
   "source": [
    "### c.3) Matrix - collumn vector"
   ]
  },
  {
   "cell_type": "markdown",
   "metadata": {},
   "source": [
    "We can also do this procedure with a collumnn vector:"
   ]
  },
  {
   "cell_type": "code",
   "execution_count": 41,
   "metadata": {},
   "outputs": [
    {
     "name": "stdout",
     "output_type": "stream",
     "text": [
      "Array: \n",
      "[[0.1]\n",
      " [1. ]]\n",
      "Shape: (2, 1)\n",
      "Matrix: \n",
      "[[5.1  0.3  0.41 3.  ]\n",
      " [5.1  0.3  0.41 3.  ]]\n",
      "Shape: (2, 4)\n",
      "Concatenated vector: [[0.1  5.1  0.3  0.41 3.  ]\n",
      " [1.   5.1  0.3  0.41 3.  ]]\n",
      "Shape: (2, 5)\n"
     ]
    }
   ],
   "source": [
    "v1 = np.array([ .1, 1.])\n",
    "v1_reshaped = v1.reshape((v1.shape[0], 1))\n",
    "m1 = np.array([[5.1, .3, .41, 3. ], [5.1, .3, .41, 3. ]])\n",
    "\n",
    "print('Array: \\n{}'.format(v1_reshaped))\n",
    "print('Shape: {}'.format(v1_reshaped.shape))\n",
    "\n",
    "print('Matrix: \\n{}'.format(m1))\n",
    "print('Shape: {}'.format(m1.shape))\n",
    "\n",
    "vconcat = np.concatenate((v1_reshaped, m1), axis=1)\n",
    "print('Concatenated vector: {}'.format(vconcat))\n",
    "print('Shape: {}'.format(vconcat.shape))"
   ]
  },
  {
   "cell_type": "markdown",
   "metadata": {},
   "source": [
    "There's yet another restriction when concatenating vectors and matrices. The dimension where we want to concatenate has to share the same size.\n",
    "\n",
    "See what would happen if we tried to concatenate a smaller vector with the same matrix:"
   ]
  },
  {
   "cell_type": "code",
   "execution_count": 42,
   "metadata": {},
   "outputs": [
    {
     "name": "stdout",
     "output_type": "stream",
     "text": [
      "Concatenation raised the following error: all the input arrays must have same number of dimensions\n"
     ]
    }
   ],
   "source": [
    "v2 = np.array([ .1, 1.])\n",
    "v2_reshaped = v2.reshape((1, v2.shape[0])) # Row vector as matrix\n",
    "\n",
    "try:\n",
    "    vconcat = np.concatenate((v2, m1))\n",
    "except Exception as e:\n",
    "    print('Concatenation raised the following error: {}'.format(e))"
   ]
  },
  {
   "cell_type": "markdown",
   "metadata": {},
   "source": [
    "### c.4) Matrix - Matrix\n",
    "\n",
    "This is just an extension of the previous case, since what we did before was transforming the vector into a matrix where the size of one of the dimensions is 1. So all the same restrictions apply, the arrays must have compatible dimensions. Run the following examples to see this:\n"
   ]
  },
  {
   "cell_type": "code",
   "execution_count": 43,
   "metadata": {},
   "outputs": [
    {
     "name": "stdout",
     "output_type": "stream",
     "text": [
      "Matrix 1: \n",
      "[[5.1  0.3  0.41 3.  ]\n",
      " [5.1  0.3  0.41 3.  ]]\n",
      "Shape: (2, 4)\n",
      "Matrix 2: \n",
      "[[1.   2.   0.   3.  ]\n",
      " [0.1  0.13 1.   3.  ]\n",
      " [0.1  2.   0.5  0.3 ]]\n",
      "Shape: (3, 4)\n",
      "Matrix 3: \n",
      "[[1. 0.]\n",
      " [0. 1.]]\n",
      "Shape: (2, 2)\n"
     ]
    }
   ],
   "source": [
    "m1 = np.array([[5.1, .3, .41, 3. ], [5.1, .3, .41, 3. ]])\n",
    "m2 = np.array([[1., 2., 0., 3. ], [.1, .13, 1., 3. ],  [.1, 2., .5, .3 ]])\n",
    "m3 = np.array([[1., 0. ], [0., 1. ]])\n",
    "\n",
    "print('Matrix 1: \\n{}'.format(m1))\n",
    "print('Shape: {}'.format(m1.shape))\n",
    "\n",
    "print('Matrix 2: \\n{}'.format(m2))\n",
    "print('Shape: {}'.format(m2.shape))\n",
    "\n",
    "print('Matrix 3: \\n{}'.format(m3))\n",
    "print('Shape: {}'.format(m3.shape))"
   ]
  },
  {
   "cell_type": "markdown",
   "metadata": {},
   "source": [
    "Concatenate m1 and m2 at row level (stack the two matrices):"
   ]
  },
  {
   "cell_type": "code",
   "execution_count": 44,
   "metadata": {},
   "outputs": [
    {
     "name": "stdout",
     "output_type": "stream",
     "text": [
      "Concatenated matrix:\n",
      " [[5.1  0.3  0.41 3.  ]\n",
      " [5.1  0.3  0.41 3.  ]\n",
      " [1.   2.   0.   3.  ]\n",
      " [0.1  0.13 1.   3.  ]\n",
      " [0.1  2.   0.5  0.3 ]]\n",
      "Shape: (5, 4)\n"
     ]
    }
   ],
   "source": [
    "mconcat = np.concatenate((m1, m2))\n",
    "print('Concatenated matrix:\\n {}'.format(mconcat))\n",
    "print('Shape: {}'.format(mconcat.shape))"
   ]
  },
  {
   "cell_type": "markdown",
   "metadata": {},
   "source": [
    "Concatenate m1 and m2 at collumn level (joining the two matrices side by side) should produce an error:"
   ]
  },
  {
   "cell_type": "code",
   "execution_count": 45,
   "metadata": {},
   "outputs": [
    {
     "name": "stdout",
     "output_type": "stream",
     "text": [
      "Concatenation raised the following error: all the input array dimensions except for the concatenation axis must match exactly\n"
     ]
    }
   ],
   "source": [
    "try:\n",
    "    vconcat = np.concatenate((m1, m2), axis=1)\n",
    "except Exception as e:\n",
    "    print('Concatenation raised the following error: {}'.format(e))\n",
    "    "
   ]
  },
  {
   "cell_type": "markdown",
   "metadata": {},
   "source": [
    "Concatenate m1 and m3 at collumn level (joining the two matrices side by side):"
   ]
  },
  {
   "cell_type": "code",
   "execution_count": 46,
   "metadata": {},
   "outputs": [
    {
     "name": "stdout",
     "output_type": "stream",
     "text": [
      "Concatenated matrix:\n",
      " [[5.1  0.3  0.41 3.   1.   0.  ]\n",
      " [5.1  0.3  0.41 3.   0.   1.  ]]\n",
      "Shape: (2, 6)\n"
     ]
    }
   ],
   "source": [
    "mconcat = np.concatenate((m1, m3), axis=1)\n",
    "print('Concatenated matrix:\\n {}'.format(mconcat))\n",
    "print('Shape: {}'.format(mconcat.shape))"
   ]
  },
  {
   "cell_type": "markdown",
   "metadata": {},
   "source": [
    "Concatenate m1 and m3 at row level (stack the two matrices) should produce an error:"
   ]
  },
  {
   "cell_type": "code",
   "execution_count": 47,
   "metadata": {},
   "outputs": [
    {
     "name": "stdout",
     "output_type": "stream",
     "text": [
      "Concatenation raised the following error: all the input array dimensions except for the concatenation axis must match exactly\n"
     ]
    }
   ],
   "source": [
    "try:\n",
    "    vconcat = np.concatenate((m1, m3))\n",
    "except Exception as e:\n",
    "    print('Concatenation raised the following error: {}'.format(e))\n",
    "    "
   ]
  },
  {
   "cell_type": "markdown",
   "metadata": {},
   "source": [
    "## d) Single matrix operations \n",
    "\n",
    "In this section we describe a few operations that can be done over matrices:"
   ]
  },
  {
   "cell_type": "markdown",
   "metadata": {},
   "source": [
    "### d1) Transpose\n",
    "\n",
    "A very common operation is the tranpose. If you are used to see matrix notation, you should know what this operation is. Take a matrix with 2 dimensions:\n",
    "\n",
    "$$ X = \\begin{bmatrix} a & b \\\\ c & d \\\\ \\end{bmatrix} $$\n",
    "\n",
    "Transposing the matrix is inverting its data with respect to its diagonal:\n",
    "\n",
    "$$ X^T = \\begin{bmatrix} a & c \\\\ b & d \\\\ \\end{bmatrix} $$\n",
    "\n",
    "This means that the rows of X will become its collumns and vice-versa. You can attain the transpose of a matrix by using either `.T` on a matrix or calling `numpy.transpose`:"
   ]
  },
  {
   "cell_type": "code",
   "execution_count": 61,
   "metadata": {},
   "outputs": [
    {
     "name": "stdout",
     "output_type": "stream",
     "text": [
      "Initial matrix: \n",
      "[[0.1  1.   2.  ]\n",
      " [3.   0.24 4.  ]\n",
      " [6.   2.   5.  ]]\n"
     ]
    }
   ],
   "source": [
    "m1 = np.array([[ .1, 1.,  2.], [ 3., .24,  4.], [ 6., 2.,  5.]])            \n",
    "print('Initial matrix: \\n{}'.format(m1))"
   ]
  },
  {
   "cell_type": "code",
   "execution_count": 62,
   "metadata": {},
   "outputs": [
    {
     "name": "stdout",
     "output_type": "stream",
     "text": [
      "Transposed matrix with `transpose` \n",
      "[[0.1  3.   6.  ]\n",
      " [1.   0.24 2.  ]\n",
      " [2.   4.   5.  ]]\n"
     ]
    }
   ],
   "source": [
    "m1_transposed = m1.transpose()\n",
    "print('Transposed matrix with `transpose` \\n{}'.format(m1_transposed))"
   ]
  },
  {
   "cell_type": "code",
   "execution_count": 63,
   "metadata": {},
   "outputs": [
    {
     "name": "stdout",
     "output_type": "stream",
     "text": [
      "Transposed matrix with `T` \n",
      "[[0.1  3.   6.  ]\n",
      " [1.   0.24 2.  ]\n",
      " [2.   4.   5.  ]]\n"
     ]
    }
   ],
   "source": [
    "m1_transposed = m1.T\n",
    "print('Transposed matrix with `T` \\n{}'.format(m1_transposed))"
   ]
  },
  {
   "cell_type": "markdown",
   "metadata": {},
   "source": [
    "A few examples of non-squared matrices. In these, you'll see that the shape (a, b) gets inverted to (b, a):"
   ]
  },
  {
   "cell_type": "code",
   "execution_count": 65,
   "metadata": {},
   "outputs": [
    {
     "name": "stdout",
     "output_type": "stream",
     "text": [
      "Initial matrix: \n",
      "[[0.1  1.   2.   5.  ]\n",
      " [3.   0.24 4.   0.6 ]]\n",
      "Transposed matrix \n",
      "[[0.1  3.  ]\n",
      " [1.   0.24]\n",
      " [2.   4.  ]\n",
      " [5.   0.6 ]]\n"
     ]
    }
   ],
   "source": [
    "m1 = np.array([[ .1, 1.,  2., 5.], [ 3., .24,  4., .6]])     \n",
    "print('Initial matrix: \\n{}'.format(m1))\n",
    "\n",
    "m1_transposed = m1.T\n",
    "print('Transposed matrix: \\n{}'.format(m1_transposed))\n"
   ]
  },
  {
   "cell_type": "code",
   "execution_count": 66,
   "metadata": {},
   "outputs": [
    {
     "name": "stdout",
     "output_type": "stream",
     "text": [
      "Initial matrix: \n",
      "[[0.1  1.  ]\n",
      " [2.   5.  ]\n",
      " [3.   0.24]\n",
      " [4.   0.6 ]]\n",
      "Transposed matrix: \n",
      "[[0.1  2.   3.   4.  ]\n",
      " [1.   5.   0.24 0.6 ]]\n"
     ]
    }
   ],
   "source": [
    "m1 = np.array([[ .1, 1.], [2., 5.], [ 3., .24], [4., .6]])     \n",
    "print('Initial matrix: \\n{}'.format(m1))\n",
    "\n",
    "m1_transposed = m1.T\n",
    "print('Transposed matrix: \\n{}'.format(m1_transposed))\n"
   ]
  },
  {
   "cell_type": "markdown",
   "metadata": {},
   "source": [
    "For vectors represented as matrices, this means transforming from a row vector (1, N) to a collumn vector (N, 1) or vice-versa:"
   ]
  },
  {
   "cell_type": "code",
   "execution_count": 50,
   "metadata": {},
   "outputs": [
    {
     "name": "stdout",
     "output_type": "stream",
     "text": [
      "Row vector as 2-d array: [[0.1 1.  2. ]]\n",
      "Shape: (1, 3)\n",
      "Transposed (collumn vector as 2-d array): \n",
      "[[0.1]\n",
      " [1. ]\n",
      " [2. ]]\n",
      "Shape: (3, 1)\n"
     ]
    }
   ],
   "source": [
    "v1 = np.array([ .1, 1.,  2.])\n",
    "v1_reshaped = v1.reshape((1, -1))\n",
    "                         \n",
    "print('Row vector as 2-d array: {}'.format(v1_reshaped))\n",
    "print('Shape: {}'.format(v1_reshaped.shape))\n",
    "\n",
    "v1_transposed = v1_reshaped.T\n",
    "\n",
    "print('Transposed (collumn vector as 2-d array): \\n{}'.format(v1_transposed))\n",
    "print('Shape: {}'.format(v1_transposed.shape))\n"
   ]
  },
  {
   "cell_type": "code",
   "execution_count": 53,
   "metadata": {},
   "outputs": [
    {
     "name": "stdout",
     "output_type": "stream",
     "text": [
      "Collumn vector as 2-d array: \n",
      "[[3.  ]\n",
      " [0.23]\n",
      " [2.  ]\n",
      " [0.6 ]]\n",
      "Shape: (4, 1)\n",
      "Transposed (row vector as 2-d array): [[3.   0.23 2.   0.6 ]]\n",
      "Shape: (1, 4)\n"
     ]
    }
   ],
   "source": [
    "v1 = np.array([ 3., .23,  2., .6])\n",
    "v1_reshaped = v1.reshape((-1, 1))\n",
    "                         \n",
    "print('Collumn vector as 2-d array: \\n{}'.format(v1_reshaped))\n",
    "print('Shape: {}'.format(v1_reshaped.shape))\n",
    "\n",
    "v1_transposed = v1_reshaped.T\n",
    "\n",
    "print('Transposed (row vector as 2-d array): {}'.format(v1_transposed))\n",
    "print('Shape: {}'.format(v1_transposed.shape))\n"
   ]
  },
  {
   "cell_type": "markdown",
   "metadata": {},
   "source": [
    "### d2) Statistics operators\n",
    "\n",
    "Numpy also allows us to perform several operations over the rows and collumns of a matrix, such as: \n",
    " \n",
    "* Sum\n",
    "* Mean\n",
    "* Max\n",
    "* Min\n",
    "* ...\n",
    "\n",
    "The most important thing to take into account when using these is to know exactly in which direction we are performing the operations. We can perform, for example, a `max` operation over the whole matrix, obtaining the max value in all of the matrix values. Or we might want this value for each row, or for each collumn. Check the following examples:"
   ]
  },
  {
   "cell_type": "code",
   "execution_count": 67,
   "metadata": {},
   "outputs": [
    {
     "name": "stdout",
     "output_type": "stream",
     "text": [
      "Initial matrix: \n",
      "[[0.1  1.  ]\n",
      " [2.   5.  ]\n",
      " [3.   0.24]\n",
      " [4.   0.6 ]]\n"
     ]
    }
   ],
   "source": [
    "m1 = np.array([[ .1, 1.], [2., 5.], [ 3., .24], [4., .6]])     \n",
    "print('Initial matrix: \\n{}'.format(m1))"
   ]
  },
  {
   "cell_type": "markdown",
   "metadata": {},
   "source": [
    "Operating over all matrix' values:"
   ]
  },
  {
   "cell_type": "code",
   "execution_count": 76,
   "metadata": {},
   "outputs": [
    {
     "name": "stdout",
     "output_type": "stream",
     "text": [
      "Total sum of matrix elements: 15.94\n",
      "Minimum of all matrix elements: 5.0\n",
      "Maximum of all matrix elements: 0.1\n",
      "Mean of all matrix elements: 1.9925\n"
     ]
    }
   ],
   "source": [
    "print('Total sum of matrix elements: {}'.format(m1.sum()))\n",
    "print('Minimum of all matrix elements: {}'.format(m1.max()))\n",
    "print('Maximum of all matrix elements: {}'.format(m1.min()))\n",
    "print('Mean of all matrix elements: {}'.format(m1.mean()))"
   ]
  },
  {
   "cell_type": "markdown",
   "metadata": {},
   "source": [
    "Operating across rows - produces a row with the sum/max/min/mean for each collumn:"
   ]
  },
  {
   "cell_type": "code",
   "execution_count": 78,
   "metadata": {},
   "outputs": [
    {
     "name": "stdout",
     "output_type": "stream",
     "text": [
      "Total sum of matrix elements: [9.1  6.84]\n",
      "Minimum of all matrix elements: [4. 5.]\n",
      "Maximum of all matrix elements: [0.1  0.24]\n",
      "Mean of all matrix elements: [2.275 1.71 ]\n"
     ]
    }
   ],
   "source": [
    "print('Total sum of matrix elements: {}'.format(m1.sum(axis=0)))\n",
    "print('Minimum of all matrix elements: {}'.format(m1.max(axis=0)))\n",
    "print('Maximum of all matrix elements: {}'.format(m1.min(axis=0)))\n",
    "print('Mean of all matrix elements: {}'.format(m1.mean(axis=0)))"
   ]
  },
  {
   "cell_type": "markdown",
   "metadata": {},
   "source": [
    "Operating across collumns - produces a collumn with the sum/max/min/mean for each row:"
   ]
  },
  {
   "cell_type": "code",
   "execution_count": 80,
   "metadata": {},
   "outputs": [
    {
     "name": "stdout",
     "output_type": "stream",
     "text": [
      "Total sum of matrix elements: [1.1  7.   3.24 4.6 ]\n",
      "Minimum of all matrix elements: [1. 5. 3. 4.]\n",
      "Maximum of all matrix elements: [0.1  2.   0.24 0.6 ]\n",
      "Mean of all matrix elements: [0.55 3.5  1.62 2.3 ]\n"
     ]
    }
   ],
   "source": [
    "print('Total sum of matrix elements: {}'.format(m1.sum(axis=1)))\n",
    "print('Minimum of all matrix elements: {}'.format(m1.max(axis=1)))\n",
    "print('Maximum of all matrix elements: {}'.format(m1.min(axis=1)))\n",
    "print('Mean of all matrix elements: {}'.format(m1.mean(axis=1)))"
   ]
  },
  {
   "cell_type": "markdown",
   "metadata": {},
   "source": [
    "As an example, imagine that you have a matrix of shape (n_samples, n_features), where each row represents all the features for one sample. Then , to average over the samples, we do:"
   ]
  },
  {
   "cell_type": "code",
   "execution_count": 84,
   "metadata": {},
   "outputs": [
    {
     "name": "stdout",
     "output_type": "stream",
     "text": [
      "Initial matrix: \n",
      "[[0.1  1.  ]\n",
      " [2.   5.  ]\n",
      " [3.   0.24]\n",
      " [4.   0.6 ]]\n",
      "\n",
      "\n",
      "Sample 1: [0.1 1. ]\n",
      "Sample 2: [2. 5.]\n",
      "Sample 3: [3.   0.24]\n",
      "Sample 4: [4.  0.6]\n",
      "\n",
      "\n",
      "Average over samples: \n",
      "[2.275 1.71 ]\n"
     ]
    }
   ],
   "source": [
    "m1 = np.array([[ .1, 1.], [2., 5.], [ 3., .24], [4., .6]])     \n",
    "print('Initial matrix: \\n{}'.format(m1))\n",
    "\n",
    "print('\\n')\n",
    "print('Sample 1: {}'.format(m1[0, :]))\n",
    "print('Sample 2: {}'.format(m1[1, :]))\n",
    "print('Sample 3: {}'.format(m1[2, :]))\n",
    "print('Sample 4: {}'.format(m1[3, :]))\n",
    "print('\\n')\n",
    "\n",
    "print('Average over samples: \\n{}'.format(m1.mean(axis=0)))"
   ]
  },
  {
   "cell_type": "markdown",
   "metadata": {},
   "source": [
    "Other statistical functions behave in a similar manner, so it is important to know how to work the axis of these objects."
   ]
  },
  {
   "cell_type": "markdown",
   "metadata": {},
   "source": [
    "## e) Multiple matrix operations  "
   ]
  },
  {
   "cell_type": "markdown",
   "metadata": {},
   "source": [
    "### e1) Element wise operations\n",
    "\n",
    "Several opeartions available work at the element level, this is, if we have two matrices A and B:\n",
    "\n",
    "$$ A = \\begin{bmatrix} a & b \\\\ c & d \\\\ \\end{bmatrix} $$\n",
    "\n",
    "and \n",
    "\n",
    "$$ B = \\begin{bmatrix} e & f \\\\ g & h \\\\ \\end{bmatrix} $$\n",
    "\n",
    "an element-wise operation produces a matrix:\n",
    "\n",
    "$$ Op(A, B) = \\begin{bmatrix} Op(a,e) & Op(b,f) \\\\ Op(c,g) & Op(d,h) \\\\ \\end{bmatrix} $$\n",
    "\n",
    "You can perform sum and difference, but also element-wise multiplication and division. These are implemented with the regular operators `+`, `-`, `*`, `/`. Check out the examples below:"
   ]
  },
  {
   "cell_type": "code",
   "execution_count": 93,
   "metadata": {},
   "outputs": [
    {
     "name": "stdout",
     "output_type": "stream",
     "text": [
      "Matrix 1: \n",
      "[[0.1  1.   2.   5.  ]\n",
      " [3.   0.24 4.   0.6 ]]\n",
      "Matrix 2: \n",
      "[[0.1  1.   2.   5.  ]\n",
      " [3.   0.24 4.   0.6 ]]\n",
      "\n",
      "\n",
      "Sum: \n",
      "[[ 0.2   5.    2.25  5.1 ]\n",
      " [ 5.    1.74  4.42 -0.4 ]]\n",
      "\n",
      "\n",
      "Difference: \n",
      "[[ 0.   -3.    1.75  4.9 ]\n",
      " [ 1.   -1.26  3.58  1.6 ]]\n",
      "\n",
      "\n",
      "Multiplication: \n",
      "[[ 0.01  4.    0.5   0.5 ]\n",
      " [ 6.    0.36  1.68 -0.6 ]]\n",
      "\n",
      "\n",
      "Division: \n",
      "[[ 1.          0.25        8.         50.        ]\n",
      " [ 1.5         0.16        9.52380952 -0.6       ]]\n"
     ]
    }
   ],
   "source": [
    "m1 = np.array([[ .1, 1.,  2., 5.], [ 3., .24,  4., .6]])     \n",
    "m2 = np.array([[ .1, 4., .25, .1], [ 2., 1.5, .42, -1.]])     \n",
    "\n",
    "print('Matrix 1: \\n{}'.format(m1))\n",
    "print('Matrix 2: \\n{}'.format(m1))\n",
    "\n",
    "print('\\n')\n",
    "print('Sum: \\n{}'.format(m1 + m2))\n",
    "\n",
    "print('\\n')\n",
    "print('Difference: \\n{}'.format(m1 - m2))\n",
    "\n",
    "print('\\n')\n",
    "print('Multiplication: \\n{}'.format(m1*m2))\n",
    "\n",
    "print('\\n')\n",
    "print('Division: \\n{}'.format(m1/m2))"
   ]
  },
  {
   "cell_type": "markdown",
   "metadata": {},
   "source": [
    "For these opeartions, ideally your matrices should have the same dimensions. An exception to this is when you have one of the elements that can be [broadcasted](https://docs.scipy.org/doc/numpy-1.15.0/user/basics.broadcasting.html) over the other. However we won't cover that in these examples."
   ]
  },
  {
   "cell_type": "markdown",
   "metadata": {},
   "source": [
    "### e2) Matrix multiplication\n",
    "\n",
    "Although you've seen how to perform element wise multiplication with the basic operation, one of the most common matrix operations is matrix multiplication, where the output is not the result of an element wise combination of its elements, but actually a linear combination between rows of the first matrix nd collumns of the second.\n",
    "\n",
    "In other words, element (i, j) of the resulting matrix is the dot product between row i of the first matrix and collumn j of the second:\n",
    "\n",
    "![matrix-multiply](assets/matrix-multiply-a.svg)\n",
    "\n",
    "Where the dot product represented breaks down to:\n",
    "\n",
    "$$ 58 =  1 \\times 7 + 2 \\times 9 + 3 \\times 11 $$\n",
    "\n",
    "Numpy already provides this function, so check out the following examples:"
   ]
  },
  {
   "cell_type": "code",
   "execution_count": 94,
   "metadata": {},
   "outputs": [
    {
     "name": "stdout",
     "output_type": "stream",
     "text": [
      "Matrix 1: \n",
      "[[0.1  1.   2.   5.  ]\n",
      " [3.   0.24 4.   0.6 ]]\n",
      "Matrix 2: \n",
      "[[0.1  1.   2.   5.  ]\n",
      " [3.   0.24 4.   0.6 ]]\n",
      "\n",
      "\n",
      "Matrix multiplication: \n",
      "[[ 6.36  -1.5  ]\n",
      " [ 8.612 17.424]]\n"
     ]
    }
   ],
   "source": [
    "m1 = np.array([[ .1, 1.,  2., 5.], [ 3., .24,  4., .6]])     \n",
    "m2 = np.array([[ .1, 4.], [.25, .1], [ 2., 1.5], [.42, -1.]])     \n",
    "\n",
    "print('Matrix 1: \\n{}'.format(m1))\n",
    "print('Matrix 2: \\n{}'.format(m1))\n",
    "\n",
    "print('\\n')\n",
    "print('Matrix multiplication: \\n{}'.format(np.matmul(m1, m2)))\n"
   ]
  },
  {
   "cell_type": "code",
   "execution_count": 97,
   "metadata": {},
   "outputs": [
    {
     "name": "stdout",
     "output_type": "stream",
     "text": [
      "Matrix 1: \n",
      "[[ 0.1   4.  ]\n",
      " [ 0.25  0.1 ]\n",
      " [ 2.    1.5 ]\n",
      " [ 0.42 -1.  ]]\n",
      "Matrix 2: \n",
      "[[ 0.1   4.  ]\n",
      " [ 0.25  0.1 ]\n",
      " [ 2.    1.5 ]\n",
      " [ 0.42 -1.  ]]\n",
      "\n",
      "\n",
      "Matrix multiplication: \n",
      "[[12.01   1.06  16.2  ]\n",
      " [ 0.325  0.274  0.9  ]\n",
      " [ 4.7    2.36  10.   ]\n",
      " [-2.958  0.18  -3.16 ]]\n"
     ]
    }
   ],
   "source": [
    "m1 = np.array([[ .1, 4.], [.25, .1], [ 2., 1.5], [.42, -1.]])     \n",
    "m2 = np.array([[ .1, 1.,  2.], [ 3., .24,  4.]])     \n",
    "\n",
    "print('Matrix 1: \\n{}'.format(m1))\n",
    "print('Matrix 2: \\n{}'.format(m1))\n",
    "\n",
    "print('\\n')\n",
    "print('Matrix multiplication: \\n{}'.format(np.matmul(m1, m2)))\n"
   ]
  },
  {
   "cell_type": "markdown",
   "metadata": {},
   "source": [
    "Notice that in both operations the matrix multiplication of shapes `(k, l)` and `(m, n)` yields a matrix of dimensions `(k, n)`. Additionally, for this operation to be possible, the inner dimensions need to match, this is `l == m` . See what happens if we try to multiply matrices with incompatible dimensions:"
   ]
  },
  {
   "cell_type": "code",
   "execution_count": 99,
   "metadata": {},
   "outputs": [
    {
     "name": "stdout",
     "output_type": "stream",
     "text": [
      "Matrix 1: \n",
      "[[ 0.1   4.    3.  ]\n",
      " [ 0.25  0.1   1.  ]\n",
      " [ 2.    1.5   0.5 ]\n",
      " [ 0.42 -1.    4.3 ]]\n",
      "Shape: (4, 3)\n",
      "Matrix 2: \n",
      "[[ 0.1   4.    3.  ]\n",
      " [ 0.25  0.1   1.  ]\n",
      " [ 2.    1.5   0.5 ]\n",
      " [ 0.42 -1.    4.3 ]]\n",
      "Shape: (2, 3)\n",
      "\n",
      "\n",
      "Matrix multiplication raised the following error: matmul: Input operand 1 has a mismatch in its core dimension 0, with gufunc signature (n?,k),(k,m?)->(n?,m?) (size 2 is different from 3)\n"
     ]
    }
   ],
   "source": [
    "m1 = np.array([[ .1, 4., 3.], [.25, .1, 1.], [ 2., 1.5, .5], [.42, -1., 4.3]])     \n",
    "m2 = np.array([[ .1, 1.,  2.], [ 3., .24,  4.]])     \n",
    "\n",
    "print('Matrix 1: \\n{}'.format(m1))\n",
    "print('Shape: {}'.format(m1.shape))\n",
    "\n",
    "print('Matrix 2: \\n{}'.format(m1))\n",
    "print('Shape: {}'.format(m2.shape))\n",
    "print('\\n')\n",
    "\n",
    "try:\n",
    "    m3 = np.matmul(m1, m2)\n",
    "except Exception as e:\n",
    "    print('Matrix multiplication raised the following error: {}'.format(e))\n"
   ]
  },
  {
   "cell_type": "code",
   "execution_count": null,
   "metadata": {},
   "outputs": [],
   "source": []
  }
 ],
 "metadata": {
  "kernelspec": {
   "display_name": "Python 3",
   "language": "python",
   "name": "python3"
  },
  "language_info": {
   "codemirror_mode": {
    "name": "ipython",
    "version": 3
   },
   "file_extension": ".py",
   "mimetype": "text/x-python",
   "name": "python",
   "nbconvert_exporter": "python",
   "pygments_lexer": "ipython3",
   "version": "3.7.3"
  }
 },
 "nbformat": 4,
 "nbformat_minor": 2
}
