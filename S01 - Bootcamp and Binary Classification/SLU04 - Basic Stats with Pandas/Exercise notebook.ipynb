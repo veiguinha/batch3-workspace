{
 "cells": [
  {
   "cell_type": "markdown",
   "metadata": {},
   "source": [
    "# SLU04 - Basic Stats with Pandas: Exercises notebook\n",
    "\n",
    "In these exercises we'll use a real dataset about house prices in King County in the US to learn how to obtain basic statistics from the data. This dataset comes from [Kaggle](https://www.kaggle.com/harlfoxem/housesalesprediction).\n",
    "\n",
    "\n",
    "## Objectives\n",
    "\n",
    "In these exercises the objective is for you to learn how to use pandas to obtain simple statistics of datasets.\n",
    "\n",
    "## Dataset information\n",
    "\n",
    "![](https://hookedonhouses.net/wp-content/uploads/2013/08/Capitol-Hill-Seattle-house-for-sale-E-Ward.jpg)\n",
    "\n",
    "This dataset contains house sale prices for King County, which includes Seattle. It includes homes sold between May 2014 and May 2015.\n",
    "\n",
    "The columns in the dataset are the following:\n",
    "\n",
    "- `id`: a notation for a house\n",
    "- `date`: Date house was sold\n",
    "- `price`: Price is prediction target\n",
    "- `bedrooms`: Number of Bedrooms/House\n",
    "- `bathrooms`: Number of bathrooms/House\n",
    "- `sqft_living`: square footage of the home\n",
    "- `sqft_lot`: square footage of the lot\n",
    "- `floors`: total floors in house\n",
    "- `waterfront`: house which has a view to a waterfront\n",
    "- `view`: has been viewed\n",
    "- `condition`: how good the condition is (overall)\n",
    "- `grade`: overall grade given to the housing unit, based on King County grading system\n",
    "- `sqft_above`: square footage of house apart from basement\n",
    "- `sqft_basements`: quare footage of the basement\n",
    "- `yr_built`: built Year\n",
    "- `yr_renovated`: Year when house was renovated\n",
    "- `zipcode`: zip\n",
    "- `lat`: latitude coordinate\n",
    "- `long`: longitude coordinate\n",
    "- `sqft_living15`: Living room area in 2015 (implies-- some renovations) This might or might not have affected the lotsize area\n",
    "- `sqft_lot15`: lotSize area in 2015 (implies-- some renovations)"
   ]
  },
  {
   "cell_type": "code",
   "execution_count": null,
   "metadata": {
    "deletable": false,
    "editable": false,
    "nbgrader": {
     "grade": false,
     "grade_id": "cell-c27b6f9ff20b2861",
     "locked": true,
     "schema_version": 1,
     "solution": false
    }
   },
   "outputs": [],
   "source": [
    "import pandas as pd\n",
    "import numpy as np\n",
    "import matplotlib.pyplot as plt\n",
    "import math \n",
    "import hashlib  # this is used to validate an answer, if you don't have it do !pip3 install hashlib"
   ]
  },
  {
   "cell_type": "code",
   "execution_count": null,
   "metadata": {
    "deletable": false,
    "editable": false,
    "nbgrader": {
     "grade": false,
     "grade_id": "cell-3af7e719747c452c",
     "locked": true,
     "schema_version": 1,
     "solution": false
    }
   },
   "outputs": [],
   "source": [
    "data = pd.read_csv('data/kc_house_data.csv')\n",
    "data.head()"
   ]
  },
  {
   "cell_type": "markdown",
   "metadata": {
    "deletable": false,
    "editable": false,
    "nbgrader": {
     "grade": false,
     "grade_id": "cell-757ccb122a33e0bc",
     "locked": true,
     "schema_version": 1,
     "solution": false
    }
   },
   "source": [
    "----"
   ]
  },
  {
   "cell_type": "markdown",
   "metadata": {
    "deletable": false,
    "editable": false,
    "nbgrader": {
     "grade": false,
     "grade_id": "cell-01788a455e6c4be6",
     "locked": true,
     "schema_version": 1,
     "solution": false
    }
   },
   "source": [
    "# Exercise 1 \n",
    "\n",
    "Ok, let's start with very basic statistics.\n",
    " - How much is the most expensive house? What is its `id`?\n",
    " - How much is the cheapest house? What is its `id`?"
   ]
  },
  {
   "cell_type": "code",
   "execution_count": null,
   "metadata": {
    "deletable": false,
    "nbgrader": {
     "grade": false,
     "grade_id": "cell-493d5be6e9da4b41",
     "locked": false,
     "schema_version": 1,
     "solution": true
    }
   },
   "outputs": [],
   "source": [
    "# price_most_expensive = ...\n",
    "# id_most_expensive = ...\n",
    "# price_cheapest = ...\n",
    "# id_cheapest = ...\n",
    "\n",
    "# YOUR CODE HERE\n",
    "raise NotImplementedError()"
   ]
  },
  {
   "cell_type": "markdown",
   "metadata": {},
   "source": [
    "##### Asserts "
   ]
  },
  {
   "cell_type": "code",
   "execution_count": null,
   "metadata": {
    "deletable": false,
    "editable": false,
    "nbgrader": {
     "grade": true,
     "grade_id": "cell-681bb7a461c18fd9",
     "locked": true,
     "points": 2,
     "schema_version": 1,
     "solution": false
    }
   },
   "outputs": [],
   "source": [
    "assert price_most_expensive == 7700000.0\n",
    "assert id_most_expensive == 6762700020\n",
    "assert price_cheapest == 75000.0\n",
    "assert id_cheapest == 3421079032"
   ]
  },
  {
   "cell_type": "markdown",
   "metadata": {},
   "source": [
    "---"
   ]
  },
  {
   "cell_type": "markdown",
   "metadata": {},
   "source": [
    "# Exercise 2 \n",
    "\n",
    "Let's check the number of bedrooms.\n",
    "- What is the maximum and minimum number of bedrooms in the dataset?\n",
    "- What is the most common number of bedrooms?\n",
    "- What is the average number of bedrooms?\n",
    "- What is the median?\n",
    "- What is the standard deviation?"
   ]
  },
  {
   "cell_type": "code",
   "execution_count": null,
   "metadata": {
    "deletable": false,
    "nbgrader": {
     "grade": false,
     "grade_id": "cell-3a582c9aad8a1b5e",
     "locked": false,
     "schema_version": 1,
     "solution": true
    }
   },
   "outputs": [],
   "source": [
    "# maximum = ...\n",
    "# minimum = ...\n",
    "# most_common = ...  # Hint: you should return a number, not a pandas Series :)\n",
    "# average = ...\n",
    "# median = ...\n",
    "# standard_deviation = ...\n",
    "\n",
    "# YOUR CODE HERE\n",
    "raise NotImplementedError()"
   ]
  },
  {
   "cell_type": "markdown",
   "metadata": {},
   "source": [
    "##### Asserts "
   ]
  },
  {
   "cell_type": "code",
   "execution_count": null,
   "metadata": {
    "deletable": false,
    "editable": false,
    "nbgrader": {
     "grade": true,
     "grade_id": "cell-bf104255ad7aaf0c",
     "locked": true,
     "points": 2,
     "schema_version": 1,
     "solution": false
    }
   },
   "outputs": [],
   "source": [
    "assert maximum == 33\n",
    "assert minimum == 0\n",
    "assert most_common == 3\n",
    "assert math.isclose(average, 3.37, abs_tol = 0.01)\n",
    "assert median == 3\n",
    "assert math.isclose(standard_deviation, 0.93, abs_tol = 0.01)"
   ]
  },
  {
   "cell_type": "markdown",
   "metadata": {},
   "source": [
    "----"
   ]
  },
  {
   "cell_type": "markdown",
   "metadata": {},
   "source": [
    "# Exercise 3 \n",
    "\n",
    "In the previous exercise, you calculated some basic statistics for the number of bedrooms of the houses in the dataset. Have a look at the numbers you got again.\n",
    " - Are the minimum and maximum close to the mean and median?\n",
    " - Is the median smaller or larger than the mean? Did you expect that?\n",
    " - Given your answers to the questions above, do you expect the distribution of the number of bedrooms to be skewed? If so, do you expect it to be positively or negatively skewed?\n",
    " \n",
    "Plot two histograms for the number of bedrooms, one with 10 bins and another with 30 bins. Can you visually confirm if the distribution is skewed?\n",
    "\n",
    "Compute the skewness measure for the number of bedrooms. Is it positive or negative?"
   ]
  },
  {
   "cell_type": "code",
   "execution_count": null,
   "metadata": {
    "deletable": false,
    "nbgrader": {
     "grade": false,
     "grade_id": "cell-a7f823c7479df01a",
     "locked": false,
     "schema_version": 1,
     "solution": true
    }
   },
   "outputs": [],
   "source": [
    "## plot two histograms, side-by-side\n",
    "# plt.figure(1, figsize=(12,4), dpi=200)\n",
    "# plt.subplot(121)\n",
    "## plot first histogram\n",
    "# ...\n",
    "# plt.subplot(122)\n",
    "## plot first histogram\n",
    "# ...\n",
    "\n",
    "## compute skew measure\n",
    "# skew = ...\n",
    "\n",
    "# YOUR CODE HERE\n",
    "raise NotImplementedError()\n",
    "print(\"The skewness measure is {:.3f}.\".format(skew))"
   ]
  },
  {
   "cell_type": "markdown",
   "metadata": {},
   "source": [
    "##### Asserts "
   ]
  },
  {
   "cell_type": "code",
   "execution_count": null,
   "metadata": {
    "deletable": false,
    "editable": false,
    "nbgrader": {
     "grade": true,
     "grade_id": "cell-e4f5228c7dbf23ad",
     "locked": true,
     "points": 2,
     "schema_version": 1,
     "solution": false
    }
   },
   "outputs": [],
   "source": [
    "assert math.isclose(skew, 1.974, abs_tol=0.001)"
   ]
  },
  {
   "cell_type": "markdown",
   "metadata": {},
   "source": [
    "---"
   ]
  },
  {
   "cell_type": "markdown",
   "metadata": {},
   "source": [
    "# Exercise 4 \n",
    "\n",
    "Now let's look at the area of the homes and compare it to the area of the homes excluding the basement.\n",
    " - Do you expect the distributions of the areas to be skewed? If so, positively or negatively?\n",
    " - Which of the distributions do you expect to have more kurtosis (i.e., a longer \"tail\")? Why?\n",
    " \n",
    "Verify the answers to the questions above by plotting a histogram (with 30 bins) for each of the distributions and by computing the skewness and kurtosis measures for each."
   ]
  },
  {
   "cell_type": "code",
   "execution_count": null,
   "metadata": {
    "deletable": false,
    "nbgrader": {
     "grade": false,
     "grade_id": "cell-873fce2f25417734",
     "locked": false,
     "schema_version": 1,
     "solution": true
    }
   },
   "outputs": [],
   "source": [
    "# plt.figure(1, figsize=(12,4), dpi=200)\n",
    "# plt.subplot(121)\n",
    "# ...\n",
    "# plt.subplot(122)\n",
    "# ...\n",
    "# skew_living = ...\n",
    "# skew_above = ...\n",
    "# kurt_living = ...\n",
    "# kurt_above = ...\n",
    "\n",
    "# YOUR CODE HERE\n",
    "raise NotImplementedError()\n",
    "print(\"The skewness measure for the area of the home distribution is {:.3f}.\".format(skew_living))\n",
    "print(\"The skewness measure for the area minus the basement distribution is {:.3f}.\".format(skew_above))\n",
    "print(\"The kurtosis measure for the area of the home distribution is {:.3f}.\".format(kurt_living))\n",
    "print(\"The kurtosis measure for the area minus the basement distribution is {:.3f}.\".format(kurt_above))"
   ]
  },
  {
   "cell_type": "markdown",
   "metadata": {},
   "source": [
    "##### Asserts "
   ]
  },
  {
   "cell_type": "code",
   "execution_count": null,
   "metadata": {
    "deletable": false,
    "editable": false,
    "nbgrader": {
     "grade": true,
     "grade_id": "cell-d763ff473ff6ff99",
     "locked": true,
     "points": 4,
     "schema_version": 1,
     "solution": false
    }
   },
   "outputs": [],
   "source": [
    "assert(math.isclose(skew_living, 1.472, abs_tol=0.01))\n",
    "assert(math.isclose(skew_above, 1.447, abs_tol=0.01))\n",
    "assert(math.isclose(kurt_living, 5.243, abs_tol=0.01))\n",
    "assert(math.isclose(kurt_above, 3.402, abs_tol=0.01))"
   ]
  },
  {
   "cell_type": "markdown",
   "metadata": {},
   "source": [
    "---"
   ]
  },
  {
   "cell_type": "markdown",
   "metadata": {},
   "source": [
    "# Exercise 5  \n",
    "\n",
    "Find the quartiles of the area of the home and the area of the home minus basement. "
   ]
  },
  {
   "cell_type": "code",
   "execution_count": null,
   "metadata": {
    "deletable": false,
    "nbgrader": {
     "grade": false,
     "grade_id": "cell-2449304f452c767a",
     "locked": false,
     "schema_version": 1,
     "solution": true
    }
   },
   "outputs": [],
   "source": [
    "# output quartiles as pandas Seroes\n",
    "# living_quartiles = ...\n",
    "# above_quartiles = ...\n",
    "\n",
    "# YOUR CODE HERE\n",
    "raise NotImplementedError()\n",
    "\n",
    "display(pd.DataFrame({'Area of home Quantiles': living_quartiles, \n",
    "                      'Area minus basement Quantiles': above_quartiles}))"
   ]
  },
  {
   "cell_type": "markdown",
   "metadata": {},
   "source": [
    "##### Asserts "
   ]
  },
  {
   "cell_type": "code",
   "execution_count": null,
   "metadata": {
    "deletable": false,
    "editable": false,
    "nbgrader": {
     "grade": true,
     "grade_id": "cell-01d1b4a2cc6e9d83",
     "locked": true,
     "points": 2,
     "schema_version": 1,
     "solution": false
    }
   },
   "outputs": [],
   "source": [
    "assert (living_quartiles.sum() == 19717)\n",
    "assert (above_quartiles.sum() == 14660)\n",
    "assert list(living_quartiles.index) == [0.0, 0.25, 0.5, 0.75, 1.0]"
   ]
  },
  {
   "cell_type": "markdown",
   "metadata": {},
   "source": [
    "---"
   ]
  },
  {
   "cell_type": "markdown",
   "metadata": {},
   "source": [
    "# Exercise 6 \n",
    "\n",
    "In this exercise, obtain:\n",
    "* a list of all the years during which the houses were built;\n",
    "* a list of all the years during which the houses were renovated.\n",
    "\n",
    "*Reminder: none of the houses in this dataset was built and/or renovated when Jesus Christ was born.*"
   ]
  },
  {
   "cell_type": "code",
   "execution_count": null,
   "metadata": {
    "deletable": false,
    "nbgrader": {
     "grade": false,
     "grade_id": "cell-9e9944fd7252c53b",
     "locked": false,
     "schema_version": 1,
     "solution": true
    }
   },
   "outputs": [],
   "source": [
    "# list_years_built = ...\n",
    "# list_years_renovated = ...\n",
    "\n",
    "# YOUR CODE HERE\n",
    "raise NotImplementedError()"
   ]
  },
  {
   "cell_type": "markdown",
   "metadata": {},
   "source": [
    "##### Asserts "
   ]
  },
  {
   "cell_type": "code",
   "execution_count": null,
   "metadata": {
    "deletable": false,
    "editable": false,
    "nbgrader": {
     "grade": true,
     "grade_id": "cell-7f879873e0ae96c8",
     "locked": true,
     "points": 2,
     "schema_version": 1,
     "solution": false
    }
   },
   "outputs": [],
   "source": [
    "assert isinstance(list_years_built, (list,))\n",
    "assert len(list_years_built) == 116\n",
    "assert isinstance(list_years_renovated, (list,))\n",
    "assert len(list_years_renovated) == 69"
   ]
  },
  {
   "cell_type": "markdown",
   "metadata": {},
   "source": [
    "----"
   ]
  },
  {
   "cell_type": "markdown",
   "metadata": {
    "deletable": false,
    "editable": false,
    "nbgrader": {
     "grade": false,
     "grade_id": "cell-77ec9e2d25111bbc",
     "locked": true,
     "schema_version": 1,
     "solution": false
    }
   },
   "source": [
    "# Exercise 7 \n",
    "\n",
    "In Exercise 4, we saw that the area of the homes had a skewed distribution, with certainly a few outliers (*really huge houses!*).\n",
    "\n",
    "Let's plot the histogram for the area again."
   ]
  },
  {
   "cell_type": "code",
   "execution_count": null,
   "metadata": {
    "deletable": false,
    "editable": false,
    "nbgrader": {
     "grade": false,
     "grade_id": "cell-28aacb406bf6cb4b",
     "locked": true,
     "schema_version": 1,
     "solution": false
    }
   },
   "outputs": [],
   "source": [
    "data.sqft_living.plot.hist(bins=30, figsize=(10,6));\n",
    "plt.xlim(0);\n",
    "plt.xlabel('area of the home (in square feet)');"
   ]
  },
  {
   "cell_type": "markdown",
   "metadata": {
    "deletable": false,
    "editable": false,
    "nbgrader": {
     "grade": false,
     "grade_id": "cell-006ca839b25543d4",
     "locked": true,
     "schema_version": 1,
     "solution": false
    }
   },
   "source": [
    "How to deal with the outliers?\n",
    "\n",
    "In the Learning Notebook, you learned a few ways to deal with the outliers, in case they are negatively affecting your Machine Learning models. In this exercise, let's explore the **log transformation** and see if it helps us in this case.\n",
    "\n",
    "Do the following:\n",
    "* obtain the mean and the median of the areas of the homes; which one is greater?\n",
    "* create a new field called `log_sqrt_living` with the log of the areas;\n",
    "* obtain the mean and the median of the log of the areas; are they very different from each other?\n",
    "* obtain the skewness measure for the distribution of the log of the areas; how does it compare to the one you obtained in Exercise 4?\n",
    "* plot an histogram with 30 bins of the log of the areas.\n",
    "\n",
    "What do you think? Were the outliers dealt with? How about the skewness of the distribution?"
   ]
  },
  {
   "cell_type": "code",
   "execution_count": null,
   "metadata": {
    "deletable": false,
    "nbgrader": {
     "grade": false,
     "grade_id": "cell-1956a03d1c17634e",
     "locked": false,
     "schema_version": 1,
     "solution": true
    }
   },
   "outputs": [],
   "source": [
    "## Compute mean and median of the areas of the homes\n",
    "# area_mean = ...\n",
    "# area_median = ...\n",
    "## Create new field called `log_sqrt_living` with the log of the areas\n",
    "# ...\n",
    "## Compute mean and median of the log of the areas\n",
    "# log_area_mean = ...\n",
    "# log_area_median = ...\n",
    "## Compute the skewness measure of the distribution of the log of the areas\n",
    "# log_area_skew = ...\n",
    "## Plot an histogram (with 30 bins) of the log of the areas\n",
    "## For the x-axis, have the label 'log(area)'\n",
    "# ...\n",
    "\n",
    "# YOUR CODE HERE\n",
    "raise NotImplementedError()\n",
    "print('The home areas have mean %0.1f and median %0.1f' % (area_mean, area_median))\n",
    "print('The log of areas have mean %0.3f and median %0.3f' % (log_area_mean, log_area_median))\n",
    "print('The distribution of log of areas have a skewness measure of %0.3f' % log_area_skew)"
   ]
  },
  {
   "cell_type": "markdown",
   "metadata": {},
   "source": [
    "##### Asserts "
   ]
  },
  {
   "cell_type": "code",
   "execution_count": null,
   "metadata": {
    "deletable": false,
    "editable": false,
    "nbgrader": {
     "grade": true,
     "grade_id": "cell-065003e3c0d0a3e8",
     "locked": true,
     "points": 6,
     "schema_version": 1,
     "solution": false
    }
   },
   "outputs": [],
   "source": [
    "assert math.isclose(area_mean, 2079.9, abs_tol=0.1)\n",
    "assert math.isclose(area_median, 1910.0, abs_tol=0.1)\n",
    "assert math.isclose(log_area_mean, 7.55, abs_tol=0.01)\n",
    "assert math.isclose(log_area_median, 7.55, abs_tol=0.01)\n",
    "assert math.isclose(log_area_skew, -0.035, abs_tol=0.001)\n",
    "assert math.isclose(data['log_sqft_living'].sum(), 163185.38, abs_tol=0.1)"
   ]
  },
  {
   "cell_type": "markdown",
   "metadata": {},
   "source": [
    "----"
   ]
  }
 ],
 "metadata": {
  "kernelspec": {
   "display_name": "Python 3",
   "language": "python",
   "name": "python3"
  },
  "language_info": {
   "codemirror_mode": {
    "name": "ipython",
    "version": 3
   },
   "file_extension": ".py",
   "mimetype": "text/x-python",
   "name": "python",
   "nbconvert_exporter": "python",
   "pygments_lexer": "ipython3",
   "version": "3.7.3"
  }
 },
 "nbformat": 4,
 "nbformat_minor": 2
}
