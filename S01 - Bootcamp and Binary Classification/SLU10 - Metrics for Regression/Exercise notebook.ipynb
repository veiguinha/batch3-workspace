{
 "cells": [
  {
   "cell_type": "markdown",
   "metadata": {
    "deletable": false,
    "editable": false,
    "nbgrader": {
     "grade": false,
     "grade_id": "cell-68fa160327bd350b",
     "locked": true,
     "schema_version": 1,
     "solution": false
    }
   },
   "source": [
    "# SLU10 - Metrics for Regression: Exercise Notebook\n",
    "\n",
    "In this notebook, you will implement:\n",
    "    - Mean Absolute Error (MAE)\n",
    "    - Mean Squared Error (MSE)\n",
    "    - Root Mean Squared Error (RMSE)\n",
    "    - Coefficient of Determination (R²)\n",
    "    - Adjusted R²\n",
    "    - Scikitlearn metrics\n",
    "    - Using metrics for k-fold cross validation\n"
   ]
  },
  {
   "cell_type": "markdown",
   "metadata": {
    "deletable": false,
    "editable": false,
    "nbgrader": {
     "grade": false,
     "grade_id": "cell-517511ad73591944",
     "locked": true,
     "schema_version": 1,
     "solution": false
    }
   },
   "source": [
    "Start by loading the data we will use to fit a linear regression - hopefully you still have SLU07 in your memory - and fitting the LinearRegression estimator from scikitlearn:"
   ]
  },
  {
   "cell_type": "code",
   "execution_count": 1,
   "metadata": {
    "deletable": false,
    "editable": false,
    "nbgrader": {
     "grade": false,
     "grade_id": "cell-c3b5b62586587194",
     "locked": true,
     "schema_version": 1,
     "solution": false
    }
   },
   "outputs": [
    {
     "data": {
      "text/html": [
       "<div>\n",
       "<style scoped>\n",
       "    .dataframe tbody tr th:only-of-type {\n",
       "        vertical-align: middle;\n",
       "    }\n",
       "\n",
       "    .dataframe tbody tr th {\n",
       "        vertical-align: top;\n",
       "    }\n",
       "\n",
       "    .dataframe thead th {\n",
       "        text-align: right;\n",
       "    }\n",
       "</style>\n",
       "<table border=\"1\" class=\"dataframe\">\n",
       "  <thead>\n",
       "    <tr style=\"text-align: right;\">\n",
       "      <th></th>\n",
       "      <th>CRIM</th>\n",
       "      <th>ZN</th>\n",
       "      <th>INDUS</th>\n",
       "      <th>CHAS</th>\n",
       "      <th>NOX</th>\n",
       "      <th>RM</th>\n",
       "      <th>AGE</th>\n",
       "      <th>DIS</th>\n",
       "      <th>RAD</th>\n",
       "      <th>TAX</th>\n",
       "      <th>PTRATIO</th>\n",
       "      <th>B</th>\n",
       "      <th>LSTAT</th>\n",
       "    </tr>\n",
       "  </thead>\n",
       "  <tbody>\n",
       "    <tr>\n",
       "      <th>0</th>\n",
       "      <td>0.00632</td>\n",
       "      <td>18.0</td>\n",
       "      <td>2.31</td>\n",
       "      <td>0.0</td>\n",
       "      <td>0.538</td>\n",
       "      <td>6.575</td>\n",
       "      <td>65.2</td>\n",
       "      <td>4.0900</td>\n",
       "      <td>1.0</td>\n",
       "      <td>296.0</td>\n",
       "      <td>15.3</td>\n",
       "      <td>396.90</td>\n",
       "      <td>4.98</td>\n",
       "    </tr>\n",
       "    <tr>\n",
       "      <th>1</th>\n",
       "      <td>0.02731</td>\n",
       "      <td>0.0</td>\n",
       "      <td>7.07</td>\n",
       "      <td>0.0</td>\n",
       "      <td>0.469</td>\n",
       "      <td>6.421</td>\n",
       "      <td>78.9</td>\n",
       "      <td>4.9671</td>\n",
       "      <td>2.0</td>\n",
       "      <td>242.0</td>\n",
       "      <td>17.8</td>\n",
       "      <td>396.90</td>\n",
       "      <td>9.14</td>\n",
       "    </tr>\n",
       "    <tr>\n",
       "      <th>2</th>\n",
       "      <td>0.02729</td>\n",
       "      <td>0.0</td>\n",
       "      <td>7.07</td>\n",
       "      <td>0.0</td>\n",
       "      <td>0.469</td>\n",
       "      <td>7.185</td>\n",
       "      <td>61.1</td>\n",
       "      <td>4.9671</td>\n",
       "      <td>2.0</td>\n",
       "      <td>242.0</td>\n",
       "      <td>17.8</td>\n",
       "      <td>392.83</td>\n",
       "      <td>4.03</td>\n",
       "    </tr>\n",
       "    <tr>\n",
       "      <th>3</th>\n",
       "      <td>0.03237</td>\n",
       "      <td>0.0</td>\n",
       "      <td>2.18</td>\n",
       "      <td>0.0</td>\n",
       "      <td>0.458</td>\n",
       "      <td>6.998</td>\n",
       "      <td>45.8</td>\n",
       "      <td>6.0622</td>\n",
       "      <td>3.0</td>\n",
       "      <td>222.0</td>\n",
       "      <td>18.7</td>\n",
       "      <td>394.63</td>\n",
       "      <td>2.94</td>\n",
       "    </tr>\n",
       "    <tr>\n",
       "      <th>4</th>\n",
       "      <td>0.06905</td>\n",
       "      <td>0.0</td>\n",
       "      <td>2.18</td>\n",
       "      <td>0.0</td>\n",
       "      <td>0.458</td>\n",
       "      <td>7.147</td>\n",
       "      <td>54.2</td>\n",
       "      <td>6.0622</td>\n",
       "      <td>3.0</td>\n",
       "      <td>222.0</td>\n",
       "      <td>18.7</td>\n",
       "      <td>396.90</td>\n",
       "      <td>5.33</td>\n",
       "    </tr>\n",
       "  </tbody>\n",
       "</table>\n",
       "</div>"
      ],
      "text/plain": [
       "      CRIM    ZN  INDUS  CHAS    NOX     RM   AGE     DIS  RAD    TAX  \\\n",
       "0  0.00632  18.0   2.31   0.0  0.538  6.575  65.2  4.0900  1.0  296.0   \n",
       "1  0.02731   0.0   7.07   0.0  0.469  6.421  78.9  4.9671  2.0  242.0   \n",
       "2  0.02729   0.0   7.07   0.0  0.469  7.185  61.1  4.9671  2.0  242.0   \n",
       "3  0.03237   0.0   2.18   0.0  0.458  6.998  45.8  6.0622  3.0  222.0   \n",
       "4  0.06905   0.0   2.18   0.0  0.458  7.147  54.2  6.0622  3.0  222.0   \n",
       "\n",
       "   PTRATIO       B  LSTAT  \n",
       "0     15.3  396.90   4.98  \n",
       "1     17.8  396.90   9.14  \n",
       "2     17.8  392.83   4.03  \n",
       "3     18.7  394.63   2.94  \n",
       "4     18.7  396.90   5.33  "
      ]
     },
     "execution_count": 1,
     "metadata": {},
     "output_type": "execute_result"
    }
   ],
   "source": [
    "# Base imports\n",
    "import math\n",
    "import numpy as np\n",
    "import pandas as pd\n",
    "from sklearn.datasets import load_boston\n",
    "from sklearn.linear_model import LinearRegression\n",
    "\n",
    "data = load_boston()\n",
    "\n",
    "x = pd.DataFrame(data['data'], columns=data['feature_names'])\n",
    "y = pd.Series(data['target'])\n",
    "x.head()"
   ]
  },
  {
   "cell_type": "code",
   "execution_count": 2,
   "metadata": {
    "deletable": false,
    "editable": false,
    "nbgrader": {
     "grade": false,
     "grade_id": "cell-7aed052cfe019718",
     "locked": true,
     "schema_version": 1,
     "solution": false
    }
   },
   "outputs": [],
   "source": [
    "np.random.seed(42)\n",
    "\n",
    "x_housing = x.values\n",
    "y_housing = y.values\n",
    "\n",
    "lr = LinearRegression()\n",
    "lr.fit(x_housing, y_housing)\n",
    "\n",
    "y_hat_housing = lr.predict(x_housing)\n",
    "betas_housing = pd.Series([lr.intercept_] + list(lr.coef_))"
   ]
  },
  {
   "cell_type": "markdown",
   "metadata": {
    "deletable": false,
    "editable": false,
    "nbgrader": {
     "grade": false,
     "grade_id": "cell-ec6525e56e745670",
     "locked": true,
     "schema_version": 1,
     "solution": false
    }
   },
   "source": [
    "## 1 Metrics\n",
    "\n",
    "We will start by covering the metrics we learned in the unit, in particular a set of related metrics:\n",
    "\n",
    "- Mean Absolute Error\n",
    "\n",
    "$$MAE = \\frac{1}{N} \\sum_{n=1}^N \\left| y_n - \\hat{y}_n \\right|$$\n",
    "\n",
    "\n",
    "- Mean Squared Error\n",
    "\n",
    "$$MSE = \\frac{1}{N} \\sum_{n=1}^N (y_n - \\hat{y}_n)^2$$\n",
    "\n",
    "\n",
    "- Root Mean Squared Error\n",
    "\n",
    "$$RMSE = \\sqrt{MSE}$$"
   ]
  },
  {
   "cell_type": "markdown",
   "metadata": {
    "deletable": false,
    "editable": false,
    "nbgrader": {
     "grade": false,
     "grade_id": "cell-b4277453d93ffea7",
     "locked": true,
     "schema_version": 1,
     "solution": false
    }
   },
   "source": [
    "### 1.1 Mean Absolute Error\n",
    "\n",
    "Implement the Mean Absolute Error in the function below. \n",
    "\n",
    "**NOTE**: Notice that we've added a variable to get the sign of the error. This is just a sanity check for the function and is not necessary for the implementation, so do not worry about it and just implement each step as stated in the comments:"
   ]
  },
  {
   "cell_type": "code",
   "execution_count": 3,
   "metadata": {
    "deletable": false,
    "nbgrader": {
     "grade": false,
     "grade_id": "cell-4959a7de3c3ad479",
     "locked": false,
     "schema_version": 1,
     "solution": true
    }
   },
   "outputs": [],
   "source": [
    "def mean_absolute_error(y_pred, y): \n",
    "    \"\"\"\n",
    "    Args: \n",
    "        y_pred : numpy.array with shape (num_samples,) - predictions\n",
    "        y : numpy.array with shape (num_samples,) - labels \n",
    "        \n",
    "    Returns: \n",
    "        mae : float with Mean Absolute Error\n",
    "        sn_check : integer with sign of sum of errors for sanity check in tests\n",
    "    \"\"\"\n",
    "    # 1) Compute the error.\n",
    "    error = y-y_pred\n",
    "    \n",
    "    # 2) Compute the absolute value of the errors for each sample\n",
    "    abs_error = abs(error)\n",
    "    \n",
    "    # 3) Compute the mean of the absolute value of the errors\n",
    "    mae = abs_error.mean() \n",
    "    \n",
    "    sn_check = np.sign(np.sum(error))\n",
    "    return mae, sn_check"
   ]
  },
  {
   "cell_type": "markdown",
   "metadata": {
    "deletable": false,
    "editable": false,
    "nbgrader": {
     "grade": false,
     "grade_id": "cell-4bc5a8e9de443554",
     "locked": true,
     "schema_version": 1,
     "solution": false
    }
   },
   "source": [
    "Check the outputs of your function match the results below:"
   ]
  },
  {
   "cell_type": "code",
   "execution_count": 4,
   "metadata": {
    "deletable": false,
    "editable": false,
    "nbgrader": {
     "grade": true,
     "grade_id": "cell-41455e2d039c8354",
     "locked": true,
     "points": 2,
     "schema_version": 1,
     "solution": false
    }
   },
   "outputs": [],
   "source": [
    "np.random.seed(42)\n",
    "mae, error_sgn = mean_absolute_error(np.random.rand(10), np.random.rand(10))\n",
    "assert math.isclose(0.20867273347264428, mae)\n",
    "assert error_sgn == -1\n",
    "\n",
    "np.random.seed(59)\n",
    "mae, error_sgn = mean_absolute_error(np.random.rand(10), np.random.rand(10))\n",
    "assert math.isclose(0.2578130479011501, mae)\n",
    "assert error_sgn == -1\n",
    "\n",
    "np.random.seed(5123)\n",
    "mae, error_sgn = mean_absolute_error(np.random.rand(10), np.random.rand(10))\n",
    "assert math.isclose(0.30802805261201044, mae)\n",
    "assert error_sgn == 1"
   ]
  },
  {
   "cell_type": "markdown",
   "metadata": {
    "deletable": false,
    "editable": false,
    "nbgrader": {
     "grade": false,
     "grade_id": "cell-15730aedeb842b6f",
     "locked": true,
     "schema_version": 1,
     "solution": false
    }
   },
   "source": [
    "Now compute the Mean Absolute Error for our housing dataset:"
   ]
  },
  {
   "cell_type": "code",
   "execution_count": 5,
   "metadata": {
    "deletable": false,
    "editable": false,
    "nbgrader": {
     "grade": false,
     "grade_id": "cell-73bd9d0135f4badd",
     "locked": true,
     "schema_version": 1,
     "solution": false
    }
   },
   "outputs": [
    {
     "name": "stdout",
     "output_type": "stream",
     "text": [
      "Mean Absolute Error Housing dataset: 3.2708628109003115\n"
     ]
    }
   ],
   "source": [
    "MAE, _ = mean_absolute_error(y_hat_housing, y_housing)\n",
    "print('Mean Absolute Error Housing dataset: {}'.format(MAE))"
   ]
  },
  {
   "cell_type": "markdown",
   "metadata": {
    "deletable": false,
    "editable": false,
    "nbgrader": {
     "grade": false,
     "grade_id": "cell-6e19afebf9f22bab",
     "locked": true,
     "schema_version": 1,
     "solution": false
    }
   },
   "source": [
    "### 1.2 Mean Squared Error\n",
    "\n",
    "Now implement the mean squared error in the next function:\n",
    "\n",
    "**NOTE**: Once again, ignore the sanity check in the return of the function and just implement each step as stated in the comments:"
   ]
  },
  {
   "cell_type": "code",
   "execution_count": 6,
   "metadata": {
    "deletable": false,
    "nbgrader": {
     "grade": false,
     "grade_id": "cell-d7a35367fa5f0f10",
     "locked": false,
     "schema_version": 1,
     "solution": true
    }
   },
   "outputs": [],
   "source": [
    "def mean_squared_error(y_pred, y): \n",
    "    \"\"\"\n",
    "    Args: \n",
    "        y_pred : numpy.array with shape (num_samples,) - predictions\n",
    "        y : numpy.array with shape (num_samples,) - labels \n",
    "        \n",
    "    Returns: \n",
    "        mse : float with Mean Squared Error Value\n",
    "        sn_check : integer with sign of sum of errors for sanity check in tests\n",
    "\n",
    "    \"\"\"\n",
    "    # 1) Compute the error.\n",
    "    error = y-y_pred\n",
    "    \n",
    "    # 2) Compute the squared value of the errors for each sample\n",
    "    squared_error = error**2\n",
    "    \n",
    "    # 3) Compute the mean squared value of the errors\n",
    "    mse = squared_error.mean() \n",
    "    \n",
    "    sn_check = np.sign(np.sum(error))\n",
    "    return mse, sn_check"
   ]
  },
  {
   "cell_type": "markdown",
   "metadata": {
    "deletable": false,
    "editable": false,
    "nbgrader": {
     "grade": false,
     "grade_id": "cell-cb656ddb462c6d28",
     "locked": true,
     "schema_version": 1,
     "solution": false
    }
   },
   "source": [
    "Check the outputs of your function match the results below:"
   ]
  },
  {
   "cell_type": "code",
   "execution_count": 7,
   "metadata": {
    "deletable": false,
    "editable": false,
    "nbgrader": {
     "grade": true,
     "grade_id": "cell-8ea8afca85e2b4bd",
     "locked": true,
     "points": 2,
     "schema_version": 1,
     "solution": false
    }
   },
   "outputs": [],
   "source": [
    "np.random.seed(42)\n",
    "mse, error_sgn = mean_squared_error(np.random.rand(10), np.random.rand(10))\n",
    "assert math.isclose(0.066594135739203, mse)\n",
    "assert error_sgn == -1\n",
    "\n",
    "np.random.seed(59)\n",
    "mse, error_sgn = mean_squared_error(np.random.rand(10), np.random.rand(10))\n",
    "assert math.isclose(0.08125397072395174, mse)\n",
    "assert error_sgn == -1\n",
    "\n",
    "np.random.seed(5123)\n",
    "mse, error_sgn = mean_squared_error(np.random.rand(10), np.random.rand(10))\n",
    "assert math.isclose(0.11729730659887387, mse)\n",
    "assert error_sgn == 1"
   ]
  },
  {
   "cell_type": "markdown",
   "metadata": {
    "deletable": false,
    "editable": false,
    "nbgrader": {
     "grade": false,
     "grade_id": "cell-8b8f08b7035e6e10",
     "locked": true,
     "schema_version": 1,
     "solution": false
    }
   },
   "source": [
    "Now compute the Mean Squared Error for our housing dataset:"
   ]
  },
  {
   "cell_type": "code",
   "execution_count": 8,
   "metadata": {
    "deletable": false,
    "editable": false,
    "nbgrader": {
     "grade": false,
     "grade_id": "cell-73cca7bee0c9669f",
     "locked": true,
     "schema_version": 1,
     "solution": false
    }
   },
   "outputs": [
    {
     "name": "stdout",
     "output_type": "stream",
     "text": [
      "Mean Squared Error Housing dataset: 21.894831181729202\n"
     ]
    }
   ],
   "source": [
    "MSE, _ = mean_squared_error(y_hat_housing, y_housing)\n",
    "print('Mean Squared Error Housing dataset: {}'.format(MSE))"
   ]
  },
  {
   "cell_type": "markdown",
   "metadata": {
    "deletable": false,
    "editable": false,
    "nbgrader": {
     "grade": false,
     "grade_id": "cell-6d6fa40bc386a18f",
     "locked": true,
     "schema_version": 1,
     "solution": false
    }
   },
   "source": [
    "### 1.3 Root Mean Squared Error\n",
    "\n",
    "Finally, implement the root mean squared error in the function below:"
   ]
  },
  {
   "cell_type": "code",
   "execution_count": 9,
   "metadata": {
    "deletable": false,
    "nbgrader": {
     "grade": false,
     "grade_id": "cell-116b13594e8c311c",
     "locked": false,
     "schema_version": 1,
     "solution": true
    }
   },
   "outputs": [],
   "source": [
    "def root_mean_squared_error(y_pred, y): \n",
    "    \"\"\"\n",
    "    Args: \n",
    "        y_pred : numpy.array with shape (num_samples,) - predictions\n",
    "        y : numpy.array with shape (num_samples,) - labels \n",
    "        \n",
    "    Returns: \n",
    "    \"\"\"\n",
    "    # 1) Compute the mean squared error. Tip: don't forget our previous function\n",
    "    # returned an extra output value:\n",
    "    mse =  mean_squared_error(y_pred, y)\n",
    "    \n",
    "    # 2) Compute the root square.\n",
    "    rmse = mse[0]**(1/2)\n",
    "    \n",
    "    return rmse"
   ]
  },
  {
   "cell_type": "markdown",
   "metadata": {
    "deletable": false,
    "editable": false,
    "nbgrader": {
     "grade": false,
     "grade_id": "cell-1ba1a1df9f8b9691",
     "locked": true,
     "schema_version": 1,
     "solution": false
    }
   },
   "source": [
    "Check the outputs of your function match the results below:"
   ]
  },
  {
   "cell_type": "code",
   "execution_count": 10,
   "metadata": {
    "deletable": false,
    "editable": false,
    "nbgrader": {
     "grade": true,
     "grade_id": "cell-774c0900c5f9193c",
     "locked": true,
     "points": 2,
     "schema_version": 1,
     "solution": false
    }
   },
   "outputs": [],
   "source": [
    "np.random.seed(42)\n",
    "rmse = root_mean_squared_error(np.random.rand(10), np.random.rand(10))\n",
    "assert math.isclose(0.25805839598665065, rmse)\n",
    "\n",
    "np.random.seed(59)\n",
    "rmse = root_mean_squared_error(np.random.rand(10), np.random.rand(10))\n",
    "assert math.isclose(0.2850508213002582, rmse)\n",
    "\n",
    "np.random.seed(5123)\n",
    "rmse = root_mean_squared_error(np.random.rand(10), np.random.rand(10))\n",
    "assert math.isclose(0.3424869436911046, rmse)"
   ]
  },
  {
   "cell_type": "markdown",
   "metadata": {
    "deletable": false,
    "editable": false,
    "nbgrader": {
     "grade": false,
     "grade_id": "cell-be57a05f0542667b",
     "locked": true,
     "schema_version": 1,
     "solution": false
    }
   },
   "source": [
    "Finally, compute the Root Mean Squared Error for our housing dataset:"
   ]
  },
  {
   "cell_type": "code",
   "execution_count": 11,
   "metadata": {
    "deletable": false,
    "editable": false,
    "nbgrader": {
     "grade": false,
     "grade_id": "cell-958187135a37601f",
     "locked": true,
     "schema_version": 1,
     "solution": false
    }
   },
   "outputs": [
    {
     "name": "stdout",
     "output_type": "stream",
     "text": [
      "Root Mean Squared Error Housing dataset: 4.679191295697281\n"
     ]
    }
   ],
   "source": [
    "RMSE = root_mean_squared_error(y_hat_housing, y_housing)\n",
    "print('Root Mean Squared Error Housing dataset: {}'.format(RMSE))"
   ]
  },
  {
   "cell_type": "markdown",
   "metadata": {
    "deletable": false,
    "editable": false,
    "nbgrader": {
     "grade": false,
     "grade_id": "cell-7247af52a77608d5",
     "locked": true,
     "schema_version": 1,
     "solution": false
    }
   },
   "source": [
    "Nest we will focus on the Coefficient of Determination - $R^2$ - and its adjusted form. See the equations below:\n",
    "\n",
    "- $R^2$ score \n",
    "\n",
    "$$R² = 1 - \\frac{MSE(y, \\hat{y})}{MSE(y, \\bar{y})} \n",
    "= 1 - \\frac{\\frac{1}{N} \\sum_{n=1}^N (y_n - \\hat{y}_n)^2}{\\frac{1}{N} \\sum_{n=1}^N (y_n - \\bar{y})^2}\n",
    "= 1 - \\frac{\\sum_{n=1}^N (y_n - \\hat{y}_n)^2}{\\sum_{n=1}^N (y_n - \\bar{y})^2}$$\n",
    "\n",
    "where $$\\bar{y} = \\frac{1}{N} \\sum_{n=1}^N y_n$$\n",
    "\n",
    "- Adjusted $R^2$ score \n",
    "\n",
    "$$\\bar{R}^2 = 1 - \\frac{N - 1}{N - K - 1} (1 - R^2)$$\n",
    "\n",
    "where $N$ is the number of observations in the dataset used for training the model (i.e. number of rows of the pandas dataframe) and $K$ is the number of features used by your model (i.e. number of columns of the pandas dataframe)\n",
    "\n",
    "\n",
    "### 1.4 R² score\n",
    "\n",
    "Start by implementing the $R^2$ score in the function below:"
   ]
  },
  {
   "cell_type": "code",
   "execution_count": 12,
   "metadata": {
    "deletable": false,
    "nbgrader": {
     "grade": false,
     "grade_id": "cell-51f11aef440a31c5",
     "locked": false,
     "schema_version": 1,
     "solution": true
    }
   },
   "outputs": [],
   "source": [
    "def r_squared(y_pred, y): \n",
    "    \"\"\"\n",
    "    Args: \n",
    "        y_pred : numpy.array with shape (num_samples,) - predictions\n",
    "        y : numpy.array with shape (num_samples,) - labels \n",
    "        \n",
    "    Returns: \n",
    "        r2 : float with R squared value\n",
    "    \"\"\"\n",
    "\n",
    "    # 1) Compute labels mean.\n",
    "    y_mean = y.mean()\n",
    "\n",
    "    # 2) Compute the mean squared error between the target and the predictions.\n",
    "    # Tip: don't forget our previous function returned an extra output value:\n",
    "    mse_pred =  mean_squared_error(y_pred, y)[0]\n",
    "    \n",
    "    # 3) Compute the mean squared error between the target and its mean.\n",
    "    # Tip: don't forget our previous function returned an extra output value:\n",
    "    mse_mean =  mean_squared_error(y_mean, y)[0]\n",
    "    \n",
    "    # 4) Finally, compute R²\n",
    "    r2 = 1 - (mse_pred/mse_mean)\n",
    "    \n",
    "    return r2"
   ]
  },
  {
   "cell_type": "markdown",
   "metadata": {
    "deletable": false,
    "editable": false,
    "nbgrader": {
     "grade": false,
     "grade_id": "cell-1063e13d06463111",
     "locked": true,
     "schema_version": 1,
     "solution": false
    }
   },
   "source": [
    "Check the outputs of your function match the results below:"
   ]
  },
  {
   "cell_type": "code",
   "execution_count": 13,
   "metadata": {
    "deletable": false,
    "editable": false,
    "nbgrader": {
     "grade": true,
     "grade_id": "cell-7fb94c0cc204ea9b",
     "locked": true,
     "points": 2,
     "schema_version": 1,
     "solution": false
    }
   },
   "outputs": [],
   "source": [
    "np.random.seed(42)\n",
    "r2 = r_squared(np.random.rand(10), np.random.rand(10))\n",
    "assert math.isclose(0.19069113996339448, r2)\n",
    "\n",
    "np.random.seed(59)\n",
    "r2 = r_squared(np.random.rand(10), np.random.rand(10))\n",
    "assert math.isclose(-1.8824436011394203, r2)\n",
    "\n",
    "np.random.seed(5123)\n",
    "r2 = r_squared(np.random.rand(10), np.random.rand(10))\n",
    "assert math.isclose(-1.360482238317167, r2)"
   ]
  },
  {
   "cell_type": "markdown",
   "metadata": {
    "deletable": false,
    "editable": false,
    "nbgrader": {
     "grade": false,
     "grade_id": "cell-70e7964ece7ca6e2",
     "locked": true,
     "schema_version": 1,
     "solution": false
    }
   },
   "source": [
    "Now compute the $R^2$ metric for our housing dataset:"
   ]
  },
  {
   "cell_type": "code",
   "execution_count": 14,
   "metadata": {
    "deletable": false,
    "editable": false,
    "nbgrader": {
     "grade": false,
     "grade_id": "cell-8edd57ce8cf12b55",
     "locked": true,
     "schema_version": 1,
     "solution": false
    }
   },
   "outputs": [
    {
     "name": "stdout",
     "output_type": "stream",
     "text": [
      "R² Housing dataset: 0.7406426641094095\n"
     ]
    }
   ],
   "source": [
    "r2 = r_squared(y_hat_housing, y_housing)\n",
    "print('R² Housing dataset: {}'.format(r2))"
   ]
  },
  {
   "cell_type": "markdown",
   "metadata": {
    "deletable": false,
    "editable": false,
    "nbgrader": {
     "grade": false,
     "grade_id": "cell-e5687e52ae19a518",
     "locked": true,
     "schema_version": 1,
     "solution": false
    }
   },
   "source": [
    "### 1.5 Adjusted R² score\n",
    "\n",
    "Then implement the adjusted $R^2$ score in the function below:"
   ]
  },
  {
   "cell_type": "code",
   "execution_count": 15,
   "metadata": {
    "deletable": false,
    "nbgrader": {
     "grade": false,
     "grade_id": "cell-b35baba302fa675b",
     "locked": false,
     "schema_version": 1,
     "solution": true
    }
   },
   "outputs": [],
   "source": [
    "def adjusted_r_squared(y_pred, y, K):\n",
    "    \"\"\"\n",
    "    Args: \n",
    "        y_pred : numpy.array with shape (num_samples,) - predictions\n",
    "        y : numpy.array with shape (num_samples,) - labels \n",
    "        K : integer - Number of features used in the model that computed y_hat.\n",
    "\n",
    "    Returns: \n",
    "        r2_adj : float with adjusted R squared value\n",
    "    \"\"\"\n",
    "    \n",
    "    # 1) Compute R².\n",
    "    r2 = r_squared(y_pred, y)\n",
    "    \n",
    "    # 2) Get number of samples \n",
    "    N = y.shape[0]\n",
    "\n",
    "    # 3) Adjust R²\n",
    "    r2_adj = 1 - ((N-1)/(N-K-1))*(1-r2)\n",
    "    \n",
    "    return r2_adj"
   ]
  },
  {
   "cell_type": "markdown",
   "metadata": {
    "deletable": false,
    "editable": false,
    "nbgrader": {
     "grade": false,
     "grade_id": "cell-32b7193c2bd18cd3",
     "locked": true,
     "schema_version": 1,
     "solution": false
    }
   },
   "source": [
    "Check the outputs of your function match the results below:"
   ]
  },
  {
   "cell_type": "code",
   "execution_count": 16,
   "metadata": {
    "deletable": false,
    "editable": false,
    "nbgrader": {
     "grade": true,
     "grade_id": "cell-2f310b9310e8fc38",
     "locked": true,
     "points": 2,
     "schema_version": 1,
     "solution": false
    }
   },
   "outputs": [],
   "source": [
    "np.random.seed(42)\n",
    "r2 = adjusted_r_squared(np.random.rand(10), np.random.rand(10), 2)\n",
    "assert math.isclose(-0.04053996290420714, r2)\n",
    "\n",
    "r2 = adjusted_r_squared(np.random.rand(10), np.random.rand(10), 4)\n",
    "assert math.isclose(-0.6991107774718119, r2)\n",
    "\n",
    "r2 = adjusted_r_squared(np.random.rand(10), np.random.rand(10), 6)\n",
    "assert math.isclose(-4.233753434084596, r2)\n",
    "\n",
    "\n",
    "np.random.seed(59)\n",
    "r2 = adjusted_r_squared(np.random.rand(10), np.random.rand(10), 2)\n",
    "assert math.isclose(-2.7059989157506834, r2)\n",
    "\n",
    "r2 = adjusted_r_squared(np.random.rand(10), np.random.rand(10), 4)\n",
    "assert math.isclose(-6.335063758394579, r2)\n",
    "\n",
    "r2 = adjusted_r_squared(np.random.rand(10), np.random.rand(10), 6)\n",
    "assert math.isclose(-5.7724000351424, r2)\n",
    "\n",
    "\n",
    "np.random.seed(5123)\n",
    "r2 = adjusted_r_squared(np.random.rand(10), np.random.rand(10), 2)\n",
    "assert math.isclose(-2.034905734979215, r2)\n",
    "\n",
    "r2 = adjusted_r_squared(np.random.rand(10), np.random.rand(10), 4)\n",
    "assert math.isclose(-3.2349529047632934, r2)\n",
    "\n",
    "r2 = adjusted_r_squared(np.random.rand(10), np.random.rand(10), 6)\n",
    "assert math.isclose(-9.461284010320593, r2)"
   ]
  },
  {
   "cell_type": "markdown",
   "metadata": {
    "deletable": false,
    "editable": false,
    "nbgrader": {
     "grade": false,
     "grade_id": "cell-6addd87af835f826",
     "locked": true,
     "schema_version": 1,
     "solution": false
    }
   },
   "source": [
    "Finally compute the adjusted $R^2$ metric for our housing dataset:"
   ]
  },
  {
   "cell_type": "code",
   "execution_count": 17,
   "metadata": {
    "deletable": false,
    "editable": false,
    "nbgrader": {
     "grade": false,
     "grade_id": "cell-3c74c33f25a842f1",
     "locked": true,
     "schema_version": 1,
     "solution": false
    }
   },
   "outputs": [
    {
     "name": "stdout",
     "output_type": "stream",
     "text": [
      "Adjusted R² Housing dataset: 0.733789726372463\n"
     ]
    }
   ],
   "source": [
    "r2 = adjusted_r_squared(y_hat_housing, y_housing, x_housing.shape[1])\n",
    "print('Adjusted R² Housing dataset: {}'.format(r2))"
   ]
  },
  {
   "cell_type": "markdown",
   "metadata": {
    "deletable": false,
    "editable": false,
    "nbgrader": {
     "grade": false,
     "grade_id": "cell-56bdb7b77c9bc15b",
     "locked": true,
     "schema_version": 1,
     "solution": false
    }
   },
   "source": [
    "## 2 ScikitLearn metrics\n",
    "\n",
    "As you know, scikitlearn also already provides you with implementations of these metrics: \n",
    "\n",
    "- `sklearn.metrics.mean_absolute_error`\n",
    "- `sklearn.metrics.mean_squared_error`\n",
    "- `sklearn.metrics.r2_score`\n",
    "- `sklearn.linear_model.LinearRegression.score` "
   ]
  },
  {
   "cell_type": "code",
   "execution_count": 18,
   "metadata": {
    "deletable": false,
    "editable": false,
    "nbgrader": {
     "grade": false,
     "grade_id": "cell-4f974da1ba19fbc4",
     "locked": true,
     "schema_version": 1,
     "solution": false
    }
   },
   "outputs": [],
   "source": [
    "# Import sklearn metrics\n",
    "from sklearn import metrics as sklearn_metrics"
   ]
  },
  {
   "cell_type": "markdown",
   "metadata": {
    "deletable": false,
    "editable": false,
    "nbgrader": {
     "grade": false,
     "grade_id": "cell-649d810401fbc558",
     "locked": true,
     "schema_version": 1,
     "solution": false
    }
   },
   "source": [
    "#### 2.1 Mean absolute error\n",
    "\n",
    "Start by implementing below the mean absolute error function with scikitlearn:"
   ]
  },
  {
   "cell_type": "code",
   "execution_count": 19,
   "metadata": {
    "deletable": false,
    "nbgrader": {
     "grade": false,
     "grade_id": "cell-44133719d81f028a",
     "locked": false,
     "schema_version": 1,
     "solution": true
    }
   },
   "outputs": [],
   "source": [
    "def sklearn_mean_absolute_error(y_pred, y): \n",
    "    \"\"\"\n",
    "    Args: \n",
    "        y_pred : numpy.array with shape (num_samples,) - predictions\n",
    "        y : numpy.array with shape (num_samples,) - labels \n",
    "        \n",
    "    Returns: \n",
    "        mae : float with Mean Absolute Error\n",
    "    \"\"\"\n",
    "    mae = sklearn_metrics.mean_absolute_error(y,y_pred)\n",
    "    \n",
    "    return mae"
   ]
  },
  {
   "cell_type": "markdown",
   "metadata": {
    "deletable": false,
    "editable": false,
    "nbgrader": {
     "grade": false,
     "grade_id": "cell-4e82dbfd0989d4ac",
     "locked": true,
     "schema_version": 1,
     "solution": false
    }
   },
   "source": [
    "Make sure your function passes the tests below:"
   ]
  },
  {
   "cell_type": "code",
   "execution_count": 20,
   "metadata": {
    "deletable": false,
    "editable": false,
    "nbgrader": {
     "grade": true,
     "grade_id": "cell-f2df280b0527d9e1",
     "locked": true,
     "points": 2,
     "schema_version": 1,
     "solution": false
    }
   },
   "outputs": [],
   "source": [
    "np.random.seed(42)\n",
    "mae = sklearn_mean_absolute_error(np.random.rand(10), np.random.rand(10))\n",
    "assert math.isclose(0.20867273347264428, mae)\n",
    "\n",
    "np.random.seed(5123)\n",
    "mae = sklearn_mean_absolute_error(np.random.rand(10), np.random.rand(10))\n",
    "assert math.isclose(0.30802805261201044, mae)"
   ]
  },
  {
   "cell_type": "markdown",
   "metadata": {
    "deletable": false,
    "editable": false,
    "nbgrader": {
     "grade": false,
     "grade_id": "cell-c80d8cb59ab1e49e",
     "locked": true,
     "schema_version": 1,
     "solution": false
    }
   },
   "source": [
    "#### 2.2 Mean squared error and Root Mean Squared Error\n",
    "\n",
    "Implement the mean squared error and root mean squared error functions below with scikitlearn:"
   ]
  },
  {
   "cell_type": "code",
   "execution_count": 21,
   "metadata": {
    "deletable": false,
    "nbgrader": {
     "grade": false,
     "grade_id": "cell-91685e84daf075d0",
     "locked": false,
     "schema_version": 1,
     "solution": true
    }
   },
   "outputs": [],
   "source": [
    "def sklearn_mean_squared_error(y_pred, y): \n",
    "    \"\"\"\n",
    "    Args: \n",
    "        y_pred : numpy.array with shape (num_samples,) - predictions\n",
    "        y : numpy.array with shape (num_samples,) - labels \n",
    "        \n",
    "    Returns: \n",
    "        mae : float with Mean Squared Error\n",
    "    \"\"\"\n",
    "    mse = sklearn_metrics.mean_squared_error(y,y_pred)\n",
    "    \n",
    "    return mse\n",
    "    \n",
    "\n",
    "def sklearn_root_mean_squared_error(y_pred, y): \n",
    "    \"\"\"\n",
    "    Args: \n",
    "        y_pred : numpy.array with shape (num_samples,) - predictions\n",
    "        y : numpy.array with shape (num_samples,) - labels \n",
    "        \n",
    "    Returns: \n",
    "        mae : float with Root Mean Squared Error\n",
    "    \"\"\"\n",
    "    rmse = sklearn_mean_squared_error(y_pred, y)**(1/2)\n",
    "    \n",
    "    return rmse"
   ]
  },
  {
   "cell_type": "markdown",
   "metadata": {
    "deletable": false,
    "editable": false,
    "nbgrader": {
     "grade": false,
     "grade_id": "cell-44bf1a140786fac4",
     "locked": true,
     "schema_version": 1,
     "solution": false
    }
   },
   "source": [
    "Make sure your function passes the tests below:"
   ]
  },
  {
   "cell_type": "code",
   "execution_count": 22,
   "metadata": {
    "deletable": false,
    "editable": false,
    "nbgrader": {
     "grade": true,
     "grade_id": "cell-bb0647e6f49b6b36",
     "locked": true,
     "points": 2,
     "schema_version": 1,
     "solution": false
    }
   },
   "outputs": [],
   "source": [
    "np.random.seed(42)\n",
    "mse = sklearn_mean_squared_error(np.random.rand(10), np.random.rand(10))\n",
    "assert math.isclose(0.066594135739203, mse)\n",
    "\n",
    "np.random.seed(59)\n",
    "mse = sklearn_mean_squared_error(np.random.rand(10), np.random.rand(10))\n",
    "assert math.isclose(0.08125397072395174, mse)\n",
    "\n",
    "np.random.seed(42)\n",
    "rmse = sklearn_root_mean_squared_error(np.random.rand(10), np.random.rand(10))\n",
    "assert math.isclose(0.25805839598665065, rmse)\n",
    "\n",
    "np.random.seed(5123)\n",
    "rmse = sklearn_root_mean_squared_error(np.random.rand(10), np.random.rand(10))\n",
    "assert math.isclose(0.3424869436911046, rmse)"
   ]
  },
  {
   "cell_type": "markdown",
   "metadata": {
    "deletable": false,
    "editable": false,
    "nbgrader": {
     "grade": false,
     "grade_id": "cell-483ede84836e8211",
     "locked": true,
     "schema_version": 1,
     "solution": false
    }
   },
   "source": [
    "#### 2.3  R² score and Adjusted R² score\n",
    "\n",
    "Implement the R² score and adjusted R² score below using scikitlearn:"
   ]
  },
  {
   "cell_type": "code",
   "execution_count": 23,
   "metadata": {
    "deletable": false,
    "nbgrader": {
     "grade": false,
     "grade_id": "cell-bc8ebf5c8c8c6e23",
     "locked": false,
     "schema_version": 1,
     "solution": true
    }
   },
   "outputs": [],
   "source": [
    "def sklearn_r_squared(y_pred, y): \n",
    "    \"\"\"\n",
    "    Args: \n",
    "        y_pred : numpy.array with shape (num_samples,) - predictions\n",
    "        y : numpy.array with shape (num_samples,) - labels \n",
    "        \n",
    "    Returns: \n",
    "        r2 : float with R squared value\n",
    "    \"\"\"\n",
    "    r2 = sklearn_metrics.r2_score(y,y_pred)\n",
    "    \n",
    "    return r2\n",
    "\n",
    "def sklearn_adjusted_r_squared(y_pred, y, K): \n",
    "    \"\"\"\n",
    "    Args: \n",
    "        y_pred : numpy.array with shape (num_samples,) - predictions\n",
    "        y : numpy.array with shape (num_samples,) - labels \n",
    "        K : integer - Number of features used in the model that computed y_hat.\n",
    "\n",
    "    Returns: \n",
    "        r2_adj : float with adjusted R squared value\n",
    "    \"\"\"\n",
    "    r2_adj = 1 - ((y.shape[0]-1)/(y.shape[0]-K-1))*(1-sklearn_r_squared(y_pred, y))\n",
    "    \n",
    "    return r2_adj"
   ]
  },
  {
   "cell_type": "markdown",
   "metadata": {
    "deletable": false,
    "editable": false,
    "nbgrader": {
     "grade": false,
     "grade_id": "cell-df5035b5103e0f49",
     "locked": true,
     "schema_version": 1,
     "solution": false
    }
   },
   "source": [
    "Make sure your function passes the tests below:"
   ]
  },
  {
   "cell_type": "code",
   "execution_count": 24,
   "metadata": {
    "deletable": false,
    "editable": false,
    "nbgrader": {
     "grade": true,
     "grade_id": "cell-f53ac73f1b9e0e25",
     "locked": true,
     "points": 2,
     "schema_version": 1,
     "solution": false
    }
   },
   "outputs": [],
   "source": [
    "np.random.seed(59)\n",
    "r2 = sklearn_r_squared(np.random.rand(10), np.random.rand(10))\n",
    "assert math.isclose(-1.8824436011394203, r2)\n",
    "\n",
    "np.random.seed(5123)\n",
    "r2 = sklearn_r_squared(np.random.rand(10), np.random.rand(10))\n",
    "assert math.isclose(-1.360482238317167, r2)\n",
    "\n",
    "\n",
    "np.random.seed(42)\n",
    "r2 = sklearn_adjusted_r_squared(np.random.rand(10), np.random.rand(10), 4)\n",
    "assert math.isclose(-0.45675594806589004, r2)\n",
    "\n",
    "np.random.seed(59)\n",
    "r2 = sklearn_adjusted_r_squared(np.random.rand(10), np.random.rand(10), 2)\n",
    "assert math.isclose(-2.7059989157506834, r2)\n",
    "\n",
    "np.random.seed(5123)\n",
    "r2 = sklearn_adjusted_r_squared(np.random.rand(10), np.random.rand(10), 6)\n",
    "assert math.isclose(-6.081446714951501, r2)"
   ]
  },
  {
   "cell_type": "markdown",
   "metadata": {
    "deletable": false,
    "editable": false,
    "nbgrader": {
     "grade": false,
     "grade_id": "cell-1d4eac2c0c131600",
     "locked": true,
     "schema_version": 1,
     "solution": false
    }
   },
   "source": [
    "Finally, compare the sklearn-based metrics with your own for the housing dataset:"
   ]
  },
  {
   "cell_type": "code",
   "execution_count": 25,
   "metadata": {
    "deletable": false,
    "editable": false,
    "nbgrader": {
     "grade": false,
     "grade_id": "cell-a640ee4b962fead1",
     "locked": true,
     "schema_version": 1,
     "solution": false
    }
   },
   "outputs": [
    {
     "name": "stdout",
     "output_type": "stream",
     "text": [
      "Metric for Housing dataset with base implementation:\n",
      "Mean Absolute Error Housing dataset: 3.2708628109003115\n",
      "Mean Squared Error Housing dataset: 21.894831181729202\n",
      "Root Mean Squared Error Housing dataset: 4.679191295697281\n",
      "R² Housing dataset: 0.7406426641094095\n",
      "Adjusted R² Housing dataset: 0.733789726372463\n",
      "\n",
      "\n",
      "Metric for Housing dataset with scikitlearn:\n",
      "Mean Absolute Error Housing dataset: 3.2708628109003115\n",
      "Mean Squared Error Housing dataset: 21.894831181729202\n",
      "Root Mean Squared Error Housing dataset: 4.679191295697281\n",
      "R² Housing dataset: 0.7406426641094095\n",
      "Adjusted R² Housing dataset: 0.733789726372463\n"
     ]
    }
   ],
   "source": [
    "MAE, _ = mean_absolute_error(y_hat_housing, y_housing)\n",
    "MSE, _ = mean_squared_error(y_hat_housing, y_housing)\n",
    "RMSE = root_mean_squared_error(y_hat_housing, y_housing)\n",
    "R2 = r_squared(y_hat_housing, y_housing)\n",
    "R2_adj = adjusted_r_squared(y_hat_housing, y_housing, x_housing.shape[1])\n",
    "\n",
    "print('Metric for Housing dataset with base implementation:')\n",
    "print('Mean Absolute Error Housing dataset: {}'.format(MAE))\n",
    "print('Mean Squared Error Housing dataset: {}'.format(MSE))\n",
    "print('Root Mean Squared Error Housing dataset: {}'.format(RMSE))\n",
    "print('R² Housing dataset: {}'.format(R2))\n",
    "print('Adjusted R² Housing dataset: {}'.format(R2_adj))\n",
    "print('\\n')\n",
    "\n",
    "SK_MAE = sklearn_mean_absolute_error(y_hat_housing, y_housing)\n",
    "SK_MSE = sklearn_mean_squared_error(y_hat_housing, y_housing)\n",
    "SK_RMSE = sklearn_root_mean_squared_error(y_hat_housing, y_housing)\n",
    "SK_R2 = sklearn_r_squared(y_hat_housing, y_housing)\n",
    "SK_R2_adj = sklearn_adjusted_r_squared(y_hat_housing, y_housing, x_housing.shape[1])\n",
    "\n",
    "print('Metric for Housing dataset with scikitlearn:')\n",
    "print('Mean Absolute Error Housing dataset: {}'.format(SK_MAE))\n",
    "print('Mean Squared Error Housing dataset: {}'.format(SK_MSE))\n",
    "print('Root Mean Squared Error Housing dataset: {}'.format(SK_RMSE))\n",
    "print('R² Housing dataset: {}'.format(SK_R2))\n",
    "print('Adjusted R² Housing dataset: {}'.format(SK_R2_adj))\n"
   ]
  },
  {
   "cell_type": "markdown",
   "metadata": {
    "deletable": false,
    "editable": false,
    "nbgrader": {
     "grade": false,
     "grade_id": "cell-4db11cce9296226a",
     "locked": true,
     "schema_version": 1,
     "solution": false
    }
   },
   "source": [
    "## 3 Using the Metrics\n",
    "\n",
    "Now you'll use the metrics to fit and check performance of your LinearRegression and SGDRegressor, with the `cross_val_scores` method of scikitlearn. Implement the missing steps below with the mean squared error metric:\n"
   ]
  },
  {
   "cell_type": "code",
   "execution_count": 30,
   "metadata": {
    "deletable": false,
    "nbgrader": {
     "grade": false,
     "grade_id": "cell-3897cdeea2d9f3c1",
     "locked": false,
     "schema_version": 1,
     "solution": true
    }
   },
   "outputs": [],
   "source": [
    "from sklearn.model_selection import cross_val_score\n",
    "from sklearn import metrics\n",
    "from sklearn import linear_model\n",
    "\n",
    "def estimator_cross_fold(X, y, K, clf_choice='linear'):\n",
    "    \"\"\"\n",
    "    Args: \n",
    "        X : numpy.array with shape (num_samples, num_features) - sample data\n",
    "        y : numpy.array with shape (num_samples,) - sample labels \n",
    "        K : integer - Number of iterations for k-fold\n",
    "        clf_choice: choice of estimator \n",
    "\n",
    "    Returns: \n",
    "        clf: estimator trained with full data\n",
    "        scores : scores for each fold\n",
    "    \"\"\"\n",
    "    \n",
    "    if clf_choice == 'linear':\n",
    "        clf = linear_model.LinearRegression()\n",
    "    elif clf_choice == 'sgd':\n",
    "        clf = linear_model.SGDRegressor()\n",
    "    else:\n",
    "        print('Invalid estimator')\n",
    "        return None\n",
    "     \n",
    "    # 1) Fit linear_model\n",
    "    clf.fit(X,y)\n",
    "\n",
    "    # 2) Run k-fold cross validation\n",
    "    scores = cross_val_score(clf, X, y ,cv = K, scoring = 'neg_mean_squared_error')\n",
    "    \n",
    "    return clf, scores"
   ]
  },
  {
   "cell_type": "markdown",
   "metadata": {
    "deletable": false,
    "editable": false,
    "nbgrader": {
     "grade": false,
     "grade_id": "cell-022cd5ef7d57584b",
     "locked": true,
     "schema_version": 1,
     "solution": false
    }
   },
   "source": [
    "Now test your implementation in the examples below"
   ]
  },
  {
   "cell_type": "code",
   "execution_count": 32,
   "metadata": {
    "deletable": false,
    "editable": false,
    "nbgrader": {
     "grade": true,
     "grade_id": "cell-e98a83bdca979b4e",
     "locked": true,
     "points": 2,
     "schema_version": 1,
     "solution": false
    }
   },
   "outputs": [],
   "source": [
    "np.random.seed(59)\n",
    "_, scores = estimator_cross_fold(np.random.rand(10).reshape((-1, 1)), np.random.rand(10), 3, clf_choice='linear')\n",
    "np.testing.assert_array_almost_equal(np.array([-0.07839893, -0.04592946, -0.01665195]), scores)\n",
    "\n",
    "np.random.seed(5123)\n",
    "_, scores = estimator_cross_fold(np.random.rand(40).reshape((10, 4)), np.random.rand(10), 3, clf_choice='linear')\n",
    "np.testing.assert_array_almost_equal(np.array([-0.2097778, -0.17224297, -0.14589825]), scores)\n",
    "\n",
    "np.random.seed(42)\n",
    "_, scores = estimator_cross_fold(np.random.rand(40).reshape((10, 4)), np.random.rand(10), 5, clf_choice='linear')\n",
    "np.testing.assert_array_almost_equal(np.array([-1.27662973, -0.28584229, -0.08559289, -0.00846645, -0.3445721]), scores)\n",
    "\n",
    "\n",
    "np.random.seed(59)\n",
    "_, scores = estimator_cross_fold(np.random.rand(10).reshape((-1, 1)), np.random.rand(10), 3, clf_choice='sgd')\n",
    "np.testing.assert_array_almost_equal(np.array([-0.16860628, -0.00500938, -0.032316]), scores)\n",
    "\n",
    "np.random.seed(5123)\n",
    "_, scores = estimator_cross_fold(np.random.rand(40).reshape((10, 4)), np.random.rand(10), 3, clf_choice='sgd')\n",
    "np.testing.assert_array_almost_equal(np.array([-0.09693064, -0.15065178, -0.03216094]), scores)\n",
    "\n",
    "np.random.seed(42)\n",
    "_, scores = estimator_cross_fold(np.random.rand(40).reshape((10, 4)), np.random.rand(10), 5, clf_choice='sgd')\n",
    "np.testing.assert_array_almost_equal(np.array([-0.0564828, -0.26257013, -0.09163569, -0.03838608, -0.03581247]), scores)\n"
   ]
  },
  {
   "cell_type": "markdown",
   "metadata": {
    "deletable": false,
    "editable": false,
    "nbgrader": {
     "grade": false,
     "grade_id": "cell-fcc3f2c444820d21",
     "locked": true,
     "schema_version": 1,
     "solution": false
    }
   },
   "source": [
    "Let's check the performance a dataset of linear data:"
   ]
  },
  {
   "cell_type": "code",
   "execution_count": 33,
   "metadata": {
    "deletable": false,
    "editable": false,
    "nbgrader": {
     "grade": false,
     "grade_id": "cell-0c975af75352c7e5",
     "locked": true,
     "schema_version": 1,
     "solution": false
    }
   },
   "outputs": [
    {
     "data": {
      "text/plain": [
       "[<matplotlib.lines.Line2D at 0x23641508be0>]"
      ]
     },
     "execution_count": 33,
     "metadata": {},
     "output_type": "execute_result"
    },
    {
     "data": {
      "image/png": "[encoded data removed]",
      "text/plain": [
       "<Figure size 432x288 with 1 Axes>"
      ]
     },
     "metadata": {
      "needs_background": "light"
     },
     "output_type": "display_data"
    }
   ],
   "source": [
    "import pandas as pd\n",
    "import matplotlib.pyplot as plt\n",
    "%matplotlib inline  \n",
    "\n",
    "linear_data = pd.read_csv('data/linear.csv')\n",
    "linear_data = linear_data.sort_values('x')\n",
    "\n",
    "x = linear_data['x'].values.reshape(-1, 1)\n",
    "y = linear_data['y'].values.reshape(-1, 1)\n",
    "\n",
    "plt.plot(x, y, 'b.')"
   ]
  },
  {
   "cell_type": "markdown",
   "metadata": {
    "deletable": false,
    "editable": false,
    "nbgrader": {
     "grade": false,
     "grade_id": "cell-0b40e60f00f4f1fa",
     "locked": true,
     "schema_version": 1,
     "solution": false
    }
   },
   "source": [
    "Run the k-fold cross validation for both regressors and get the average error:"
   ]
  },
  {
   "cell_type": "code",
   "execution_count": 34,
   "metadata": {
    "deletable": false,
    "editable": false,
    "nbgrader": {
     "grade": true,
     "grade_id": "cell-5565c9de30569d21",
     "locked": true,
     "points": 2,
     "schema_version": 1,
     "solution": false
    }
   },
   "outputs": [],
   "source": [
    "np.random.seed(42)\n",
    "\n",
    "clf_lr, scores_lr = estimator_cross_fold(x, y, 5, clf_choice='linear')\n",
    "assert math.isclose(-7.907250808383319, scores_lr.mean())\n",
    "\n",
    "clf_sgd, scores_sgd = estimator_cross_fold(x, y.flatten(), 5, clf_choice='sgd')\n",
    "assert math.isclose(-7.653262471797137, scores_sgd.mean())"
   ]
  },
  {
   "cell_type": "markdown",
   "metadata": {
    "deletable": false,
    "editable": false,
    "nbgrader": {
     "grade": false,
     "grade_id": "cell-caf92b1ed53ac1bc",
     "locked": true,
     "schema_version": 1,
     "solution": false
    }
   },
   "source": [
    "We would conclude then that the SGDRegressor is better for this data in estimating unseen examples. This does not mean that the error for all data will be smaller, but it means that when holding out data, the SGDRegressor is slightly better at classifying new examples. Actually, both estimators for this particular use case are quite similar:"
   ]
  },
  {
   "cell_type": "code",
   "execution_count": 35,
   "metadata": {
    "deletable": false,
    "editable": false,
    "nbgrader": {
     "grade": false,
     "grade_id": "cell-e271580b32a9a9f5",
     "locked": true,
     "schema_version": 1,
     "solution": false
    }
   },
   "outputs": [
    {
     "name": "stdout",
     "output_type": "stream",
     "text": [
      "Error for full dataset for linear regressor: 5.883503982927809\n",
      "Error for full dataset for SGD: 5.8863032797848645\n"
     ]
    },
    {
     "data": {
      "image/png": "[encoded data removed]",
      "text/plain": [
       "<Figure size 432x288 with 1 Axes>"
      ]
     },
     "metadata": {
      "needs_background": "light"
     },
     "output_type": "display_data"
    }
   ],
   "source": [
    "y_hat_linear = clf_lr.predict(x)\n",
    "y_hat_sgd = clf_sgd.predict(x)\n",
    "\n",
    "plt.plot(x, y, 'b.')\n",
    "plt.plot(x, y_hat_linear, 'r-')\n",
    "plt.plot(x, y_hat_sgd, 'g-')\n",
    "\n",
    "print('Error for full dataset for linear regressor: {}'.format(sklearn_mean_squared_error(y_hat_linear, y)))\n",
    "print('Error for full dataset for SGD: {}'.format(sklearn_mean_squared_error(y_hat_sgd, y)))\n"
   ]
  },
  {
   "cell_type": "code",
   "execution_count": null,
   "metadata": {},
   "outputs": [],
   "source": []
  }
 ],
 "metadata": {
  "kernelspec": {
   "display_name": "Python 3",
   "language": "python",
   "name": "python3"
  },
  "language_info": {
   "codemirror_mode": {
    "name": "ipython",
    "version": 3
   },
   "file_extension": ".py",
   "mimetype": "text/x-python",
   "name": "python",
   "nbconvert_exporter": "python",
   "pygments_lexer": "ipython3",
   "version": "3.7.3"
  }
 },
 "nbformat": 4,
 "nbformat_minor": 2
}
