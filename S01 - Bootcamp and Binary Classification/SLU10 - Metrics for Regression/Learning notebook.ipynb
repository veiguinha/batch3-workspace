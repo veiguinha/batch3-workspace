{
 "cells": [
  {
   "cell_type": "markdown",
   "metadata": {},
   "source": [
    "# SLU10 - Metrics for regression: Learning Notebook"
   ]
  },
  {
   "cell_type": "markdown",
   "metadata": {},
   "source": [
    "In this notebook, you will learn about:\n",
    "    - Loss functions vs. Evaluation Metrics\n",
    "    - Mean Absolute Error (MAE)\n",
    "    - Mean Squared Error (MSE)\n",
    "    - Root Mean Squared Error (RMSE)\n",
    "    - Coefficient of Determination (R²)\n",
    "    - Adjusted R²\n",
    "    - Scikitlearn metrics\n",
    "    - Using metrics"
   ]
  },
  {
   "cell_type": "markdown",
   "metadata": {},
   "source": [
    "In SLU07, you were introduced to one of the most intuitive and used regression models. You were also introduced to function ($J$) that measured how good the linear regression model was. In this SLU, we will take a look at that function, and others, more in-depth. "
   ]
  },
  {
   "cell_type": "markdown",
   "metadata": {},
   "source": [
    "## 1 - Loss functions vs. Evaluation Metrics\n",
    "\n",
    "Before we dig into the metrics, there is something we should make it clear first. It will be very usual, while studying & practising data science, that you will hear/read these two words: **loss** and **metric**. Both of them refer to functions that evaluate the **quality** of a model. Sometimes, people will use both as they are the same thing. But really important differences between them:\n",
    "* **Loss** is the function that your model will minimize;\n",
    "* **Metric** is the function that you really want to use to evaluate how good your model is."
   ]
  },
  {
   "cell_type": "markdown",
   "metadata": {},
   "source": [
    "Sometimes, the loss and metric functions are the same (example: linear regression). But other times, e.g. in classification, the metric will be really different from the loss. In this notebook,  **we will focus on metrics**."
   ]
  },
  {
   "cell_type": "markdown",
   "metadata": {},
   "source": [
    "## 2 - Metrics for Linear Regression\n",
    "\n",
    "### 2.1 - Mean Absolute Error (MAE)"
   ]
  },
  {
   "cell_type": "markdown",
   "metadata": {},
   "source": [
    "$$MAE = \\frac{1}{N} \\sum_{n=1}^N \\left|y_n - \\hat{y}_n\\right|$$\n",
    "\n",
    "where $N$ is the number of observations in your dataset, $y_n$ is the target and $\\hat{y}_n$ is the prediction given the observation $x_n$."
   ]
  },
  {
   "cell_type": "code",
   "execution_count": 1,
   "metadata": {},
   "outputs": [],
   "source": [
    "mae = lambda y, y_hat: np.abs(y - y_hat).mean()"
   ]
  },
  {
   "cell_type": "markdown",
   "metadata": {},
   "source": [
    "* The lower, the better.\n",
    "* It is less sensible to outliers than MSE (the next metric).\n",
    "* The output can be interpreted as the expected error measured in the same units as the target.\n",
    "* It can be used as both a metric and a loss function. There are some important caveats to take into consideration when using MAE as a loss function: (a) the number of solutions, (b) large jumps in the values of the parameters and (c) not having a derivative when MAE is 0."
   ]
  },
  {
   "cell_type": "markdown",
   "metadata": {},
   "source": [
    "### 2.2 - Mean Squared Error (MSE)"
   ]
  },
  {
   "cell_type": "markdown",
   "metadata": {},
   "source": [
    "In SLU07, we already explored this metric\n",
    "\n",
    "$$MSE = \\frac{1}{N} \\sum_{n=1}^N (y_n - \\hat{y}_n)^2$$\n",
    "\n",
    "where $N$ is the number of observations in your dataset, $y_n$ is the target and $\\hat{y}_n$ is the prediction given the observation $x_n$."
   ]
  },
  {
   "cell_type": "code",
   "execution_count": 2,
   "metadata": {},
   "outputs": [],
   "source": [
    "mse = lambda y, y_hat: ((y - y_hat)**2).mean()"
   ]
  },
  {
   "cell_type": "markdown",
   "metadata": {},
   "source": [
    "* The lower, the better.\n",
    "* MSE can be used as both a metric and a loss function (e.g. linear regression).\n",
    "* It is sensible to outliers in its' original form.\n",
    "* The units of the metric are not the same as the ones used in the target. For example, if you are predicting house prices, i.e. the output is \\$, then the output would have units like \\$²."
   ]
  },
  {
   "cell_type": "markdown",
   "metadata": {},
   "source": [
    "### 2.3 - Root Mean Squared Error (RMSE)"
   ]
  },
  {
   "cell_type": "markdown",
   "metadata": {},
   "source": [
    "$$RMSE = \\sqrt{MSE}$$"
   ]
  },
  {
   "cell_type": "code",
   "execution_count": 3,
   "metadata": {},
   "outputs": [],
   "source": [
    "rmse = lambda y, y_hat: np.sqrt(mse(y, y_hat))"
   ]
  },
  {
   "cell_type": "markdown",
   "metadata": {},
   "source": [
    "* The lower, the better.\n",
    "* Its' output can be interpreted as having the same units as the targets.\n",
    "* MSE can be used as both a metric and a loss function. If fact, if we computed its partial derivative is $\\frac{\\partial RMSE}{\\partial \\hat{y}} = \\frac{1}{2 \\sqrt{MSE}} MSE$\n",
    "* Similar to MSE, RMSE will also be sensitive to outliers."
   ]
  },
  {
   "cell_type": "markdown",
   "metadata": {},
   "source": [
    "### 2.4 - Coefficient of Determination (R²)"
   ]
  },
  {
   "cell_type": "markdown",
   "metadata": {},
   "source": [
    "R² compares how better your regression model is when compared with a predictor that outputs just the mean of the targets"
   ]
  },
  {
   "cell_type": "markdown",
   "metadata": {},
   "source": [
    "$$\\bar{y} = \\frac{1}{N} \\sum_{n=1}^N y_n$$\n",
    "\n",
    "$$R² = 1 - \\frac{MSE(y, \\hat{y})}{MSE(y, \\bar{y})} \n",
    "= 1 - \\frac{\\frac{1}{N} \\sum_{n=1}^N (y_n - \\hat{y}_n)^2}{\\frac{1}{N} \\sum_{n=1}^N (y_n - \\bar{y})^2}\n",
    "= 1 - \\frac{\\sum_{n=1}^N (y_n - \\hat{y}_n)^2}{\\sum_{n=1}^N (y_n - \\bar{y})^2}$$\n",
    "\n",
    "where $N$ is the number of observations in your dataset, $y_n$ is the target and $\\hat{y}_n$ is the prediction given the observation $x_n$."
   ]
  },
  {
   "cell_type": "code",
   "execution_count": 4,
   "metadata": {},
   "outputs": [],
   "source": [
    "r2 = lambda y, y_hat: 1 - (mse(y, y_hat) / mse(y, np.mean(y)))"
   ]
  },
  {
   "cell_type": "markdown",
   "metadata": {},
   "source": [
    "The higher the R², the more sure you are that the independent variables you used explain how the dependent variable changes. For example, if you got a R² of 0.7, you can say that the set of features you used are able to explain 70% of the target variable..\n",
    "\n",
    "The higher R² you can get is 1. If you get R² = 0, it means that your model doesn't explain anything in the target by using the features you selected. If you get R² < 0, you are probably suffering too much with overshooting. Also, another reason for having R² < 0 is that the model you used doesn't make sense for that data you have.\n",
    "\n",
    "Also, when using R², there are something important [caveats](https://en.wikipedia.org/wiki/Coefficient_of_determination#Caveats) to take into account. One of the caveats is that, depending on the model, using more features can inflate the R² when, in fact, those features are really noisy, meaning the model is actually fitting to the noise."
   ]
  },
  {
   "cell_type": "markdown",
   "metadata": {},
   "source": [
    "### 2.5 - Adjusted R²"
   ]
  },
  {
   "cell_type": "markdown",
   "metadata": {},
   "source": [
    "In order to take into account the addition of useless variables, we can use the adjusted R² score\n",
    "\n",
    "$$R_{adj}^2 = 1 - \\frac{N - 1}{N - K - 1} (1 - R^2)$$\n",
    "\n",
    "where $N$ is the number of observations in the training dataset and K is the number of features your model is using."
   ]
  },
  {
   "cell_type": "code",
   "execution_count": 5,
   "metadata": {},
   "outputs": [],
   "source": [
    "adjusted_r2 = lambda y, y_hat, N, K: 1 - ((N - 1) / (N - K - 1)) * (1 - r2(y, y_hat))"
   ]
  },
  {
   "cell_type": "markdown",
   "metadata": {},
   "source": [
    "## 3 - Using the metrics\n",
    "\n"
   ]
  },
  {
   "cell_type": "markdown",
   "metadata": {},
   "source": [
    "As you learned in previous units, there are many ways of selecting your best estimator, and most of it relies on some way of measuring an in-sample-error (ISE) - computed on data used for training - and an out-of-sample error (OSE) - compute on data not used for training. \n",
    "\n",
    "### 3.1 - Hold out method\n",
    "\n",
    "One of the methods you've seen were the hold-out method, where you can just split your data in a training set, where we will compoute the ISE, and a test set, where we will compute the OSE.\n",
    "\n",
    "Let's start by seeing how to use this method with different metrics. First, let's load some data. "
   ]
  },
  {
   "cell_type": "code",
   "execution_count": 6,
   "metadata": {},
   "outputs": [
    {
     "data": {
      "text/plain": [
       "[<matplotlib.lines.Line2D at 0x1e72cd893c8>]"
      ]
     },
     "execution_count": 6,
     "metadata": {},
     "output_type": "execute_result"
    },
    {
     "data": {
      "image/png": "[encoded data removed]",
      "text/plain": [
       "<Figure size 432x288 with 1 Axes>"
      ]
     },
     "metadata": {
      "needs_background": "light"
     },
     "output_type": "display_data"
    }
   ],
   "source": [
    "import pandas as pd\n",
    "import numpy as np\n",
    "import matplotlib.pyplot as plt\n",
    "%matplotlib inline\n",
    "\n",
    "df = pd.read_csv('data/linear-learning.csv')\n",
    "df = df.sort_values('x')\n",
    "\n",
    "x = df['x'].values\n",
    "y = df['y'].values\n",
    "\n",
    "plt.plot(x, y, 'r.')"
   ]
  },
  {
   "cell_type": "markdown",
   "metadata": {},
   "source": [
    "Now, remember the sklearn function to get your split for the hold-out method:"
   ]
  },
  {
   "cell_type": "code",
   "execution_count": 7,
   "metadata": {},
   "outputs": [
    {
     "name": "stdout",
     "output_type": "stream",
     "text": [
      "Number of observations:\n",
      "Train: 30 | Test: 20\n"
     ]
    }
   ],
   "source": [
    "from sklearn.model_selection import train_test_split\n",
    "\n",
    "x_train, x_test, y_train, y_test = train_test_split(x, y, test_size=0.4)\n",
    "print(\"Number of observations:\\nTrain: {} | Test: {}\".format(x_train.shape[0], x_test.shape[0]))\n"
   ]
  },
  {
   "cell_type": "markdown",
   "metadata": {},
   "source": [
    "We now want to train some classifiers and get estimates on both the training data and the test data:"
   ]
  },
  {
   "cell_type": "code",
   "execution_count": 8,
   "metadata": {},
   "outputs": [],
   "source": [
    "from sklearn import linear_model\n",
    "\n",
    "x_train_clf = x_train.reshape(-1, 1)\n",
    "x_test_clf = x_test.reshape(-1, 1)\n",
    "\n",
    "clf_1 = linear_model.LinearRegression()\n",
    "clf_2 = linear_model.SGDRegressor()\n",
    "\n",
    "clf_1.fit(x_train_clf, y_train)\n",
    "clf_2.fit(x_train_clf, y_train)\n",
    "\n",
    "y_hat_train_1 = clf_1.predict(x_train_clf)\n",
    "y_hat_train_2 = clf_2.predict(x_train_clf)\n",
    "\n",
    "y_hat_test_1 = clf_1.predict(x_test_clf)\n",
    "y_hat_test_2 = clf_2.predict(x_test_clf)"
   ]
  },
  {
   "cell_type": "markdown",
   "metadata": {},
   "source": [
    "Finally, we want to compare the metrics on both test sets. Let's see use one of our metrics results for these estimators:"
   ]
  },
  {
   "cell_type": "code",
   "execution_count": 9,
   "metadata": {},
   "outputs": [
    {
     "name": "stdout",
     "output_type": "stream",
     "text": [
      "Mean Absolute Error (MAE)\n",
      "LinearRegression estimator ISE with MAE: 1.5876516549619182\n",
      "SGDRegressor estimator ISE with MAE: 1.5667596377996231\n",
      "LinearRegression estimator OSE with MAE: 1.919438525337334\n",
      "SGDRegressor estimator OSE with MAE: 1.9708177398035587\n"
     ]
    }
   ],
   "source": [
    "print(\"Mean Absolute Error (MAE)\")\n",
    "print(\"LinearRegression estimator ISE with MAE: {}\".format(mae(y_train, y_hat_train_1)))\n",
    "print(\"SGDRegressor estimator ISE with MAE: {}\".format(mae(y_train, y_hat_train_2)))\n",
    "print(\"LinearRegression estimator OSE with MAE: {}\".format(mae(y_test, y_hat_test_1)))\n",
    "print(\"SGDRegressor estimator OSE with MAE: {}\".format(mae(y_test, y_hat_test_2)))"
   ]
  },
  {
   "cell_type": "markdown",
   "metadata": {},
   "source": [
    "So, using this metric, the SGDRegressor seems to perform better in unseen examples. Try out below for other metrics."
   ]
  },
  {
   "cell_type": "code",
   "execution_count": 10,
   "metadata": {},
   "outputs": [
    {
     "name": "stdout",
     "output_type": "stream",
     "text": [
      "Mean Squared Error (MSE)\n",
      "LinearRegression estimator ISE with MSE: 3.475729305346561\n",
      "SGDRegressor estimator ISE with MSE: 3.519976740699032\n",
      "LinearRegression estimator OSE with MSE: 6.186797531273985\n",
      "SGDRegressor estimator OSE with MSE: 6.428100354455923\n",
      "\n",
      "========================\n",
      "\n",
      "Root Mean Squared Error (RMSE)\n",
      "LinearRegression estimator ISE with RMSE: 1.8643307928976984\n",
      "SGDRegressor estimator ISE with RMSE: 1.8761601052945966\n",
      "LinearRegression estimator OSE with RMSE: 2.487327387231923\n",
      "SGDRegressor estimator OSE with RMSE: 2.5353698654152854\n",
      "\n",
      "========================\n",
      "\n",
      "R Squared (R2)\n",
      "LinearRegression estimator ISE with R2: 0.928133775658489\n",
      "SGDRegressor estimator ISE with R2: 0.9272188896486131\n",
      "LinearRegression estimator OSE with R2: 0.8279340629725905\n",
      "SGDRegressor estimator OSE with R2: 0.8212229986184917\n"
     ]
    }
   ],
   "source": [
    "print(\"Mean Squared Error (MSE)\")\n",
    "print(\"LinearRegression estimator ISE with MSE: {}\".format(mse(y_train, y_hat_train_1)))\n",
    "print(\"SGDRegressor estimator ISE with MSE: {}\".format(mse(y_train, y_hat_train_2)))\n",
    "print(\"LinearRegression estimator OSE with MSE: {}\".format(mse(y_test, y_hat_test_1)))\n",
    "print(\"SGDRegressor estimator OSE with MSE: {}\".format(mse(y_test, y_hat_test_2)))\n",
    "\n",
    "print(\"\\n========================\\n\")\n",
    "\n",
    "print(\"Root Mean Squared Error (RMSE)\")\n",
    "print(\"LinearRegression estimator ISE with RMSE: {}\".format(rmse(y_train, y_hat_train_1)))\n",
    "print(\"SGDRegressor estimator ISE with RMSE: {}\".format(rmse(y_train, y_hat_train_2)))\n",
    "print(\"LinearRegression estimator OSE with RMSE: {}\".format(rmse(y_test, y_hat_test_1)))\n",
    "print(\"SGDRegressor estimator OSE with RMSE: {}\".format(rmse(y_test, y_hat_test_2)))\n",
    "\n",
    "print(\"\\n========================\\n\")\n",
    "\n",
    "print(\"R Squared (R2)\")\n",
    "print(\"LinearRegression estimator ISE with R2: {}\".format(r2(y_train, y_hat_train_1)))\n",
    "print(\"SGDRegressor estimator ISE with R2: {}\".format(r2(y_train, y_hat_train_2)))\n",
    "print(\"LinearRegression estimator OSE with R2: {}\".format(r2(y_test, y_hat_test_1)))\n",
    "print(\"SGDRegressor estimator OSE with R2: {}\".format(r2(y_test, y_hat_test_2)))"
   ]
  },
  {
   "cell_type": "markdown",
   "metadata": {},
   "source": [
    "Notice that to analyze it, you need to know if our metric should be minimized (like MSE) or maximized (like R2). If you want to normalize this to make sure your implementation is able to pick a model you can simply impose that your metric should be maximized, for example, and just reverse metrics that don't fit this definition.\n",
    "\n",
    "For example, we can turn MSE into negative MSE and apply the same behavior to other metrics that aim to be minimized. That way, we could write:"
   ]
  },
  {
   "cell_type": "code",
   "execution_count": 11,
   "metadata": {},
   "outputs": [
    {
     "name": "stdout",
     "output_type": "stream",
     "text": [
      "LinearRegressor estimator ISE with Negative MAE: -1.5876516549619182\n",
      "LinearRegressor estimator OSE with Negative MAE: -1.919438525337334\n",
      "SGDRegressor estimator ISE with Negative MAE: -1.5887272150203744\n",
      "SGDRegressor estimator OSE with Negative MAE: -1.809782779893066\n",
      "\n",
      "Best model with Negative MAE: SGDRegressor\n",
      "\n",
      "========================\n",
      "\n",
      "LinearRegressor estimator ISE with Negative MSE: -3.475729305346561\n",
      "LinearRegressor estimator OSE with Negative MSE: -6.186797531273985\n",
      "SGDRegressor estimator ISE with Negative MSE: -3.5450034087332734\n",
      "SGDRegressor estimator OSE with Negative MSE: -5.395469533726151\n",
      "\n",
      "Best model with Negative MSE: SGDRegressor\n",
      "\n",
      "========================\n",
      "\n",
      "LinearRegressor estimator ISE with Negative RMSE: -1.8643307928976984\n",
      "LinearRegressor estimator OSE with Negative RMSE: -2.487327387231923\n",
      "SGDRegressor estimator ISE with Negative RMSE: -1.8828179435976473\n",
      "SGDRegressor estimator OSE with Negative RMSE: -2.3228150020451803\n",
      "\n",
      "Best model with Negative RMSE: SGDRegressor\n",
      "\n",
      "========================\n",
      "\n",
      "LinearRegressor estimator ISE with R2: 0.928133775658489\n",
      "LinearRegressor estimator OSE with R2: 0.8279340629725905\n",
      "SGDRegressor estimator ISE with R2: 0.9267014235338893\n",
      "SGDRegressor estimator OSE with R2: 0.8499423140436505\n",
      "\n",
      "Best model with R2: SGDRegressor\n",
      "\n",
      "========================\n",
      "\n"
     ]
    }
   ],
   "source": [
    "mae_mod = lambda y, y_hat: -mae(y, y_hat)\n",
    "mse_mod = lambda y, y_hat: -mse(y, y_hat)\n",
    "rmse_mod = lambda y, y_hat: -rmse(y, y_hat)\n",
    "\n",
    "metrics = {\n",
    "    'Negative MAE': mae_mod,\n",
    "    'Negative MSE': mse_mod,\n",
    "    'Negative RMSE': rmse_mod,\n",
    "    'R2': r2\n",
    "}\n",
    "\n",
    "clfs = {\n",
    "    'LinearRegressor': clf_1,\n",
    "    'SGDRegressor': clf_2\n",
    "}\n",
    "\n",
    "\n",
    "for key, clf in clfs.items():\n",
    "    clf.fit(x_train_clf, y_train)\n",
    "\n",
    "for metric, metric_f in metrics.items():\n",
    "    \n",
    "    best = None \n",
    "    best_model = None\n",
    "    for key, clf in clfs.items():\n",
    "        y_hat_train = clf.predict(x_train_clf)\n",
    "        y_hat_test = clf.predict(x_test_clf)\n",
    "\n",
    "        train_score = metric_f(y_train, y_hat_train)\n",
    "        test_score = metric_f(y_test, y_hat_test)\n",
    "        print(\"{} estimator ISE with {}: {}\".format(key, metric, train_score))\n",
    "        print(\"{} estimator OSE with {}: {}\".format(key, metric, test_score))\n",
    "        if not best or test_score > best:\n",
    "            best = test_score\n",
    "            best_model = key\n",
    "\n",
    "    print(\"\\nBest model with {}: {}\".format(metric, best_model))\n",
    "        \n",
    "    print(\"\\n========================\\n\")\n",
    "    \n"
   ]
  },
  {
   "cell_type": "markdown",
   "metadata": {},
   "source": [
    "As you see, it is quite usefull for all metrics to have the same logic in terms of performance, this is, how you should interpret if the model is better or not. We will see the same for cross-validation now.\n",
    "\n",
    "### 3.2 - K-fold cross validation\n",
    "\n",
    "Another of the methods you've seen is cross validation by using a division in train/test data K times and assessing the scores that come out of it. Let's use the same example and classifiers as before:"
   ]
  },
  {
   "cell_type": "code",
   "execution_count": 12,
   "metadata": {},
   "outputs": [],
   "source": [
    "import pandas as pd\n",
    "import matplotlib.pyplot as plt\n",
    "from sklearn import linear_model\n",
    "\n",
    "df = pd.read_csv('data/linear-learning.csv')\n",
    "df = df.sort_values('x')\n",
    "\n",
    "x = df['x'].values\n",
    "y = df['y'].values\n",
    "\n",
    "x_clf = x.reshape(-1, 1)\n",
    "y_clf = y.reshape(-1, 1)\n",
    "\n",
    "clf_1 = linear_model.LinearRegression()\n",
    "clf_2 = linear_model.SGDRegressor()"
   ]
  },
  {
   "cell_type": "markdown",
   "metadata": {},
   "source": [
    "With scikitlearn, you can run the `cross_val_score` with k-fold and output the scores in each fold for both estimators:"
   ]
  },
  {
   "cell_type": "code",
   "execution_count": 13,
   "metadata": {},
   "outputs": [
    {
     "name": "stdout",
     "output_type": "stream",
     "text": [
      "Estimator: LinearRegressor\n",
      "Score avg. : 0.21504998280872903\n",
      "Estimator: SGDRegressor\n",
      "Score avg. : 0.18926226340677588\n"
     ]
    }
   ],
   "source": [
    "from sklearn.model_selection import cross_val_score\n",
    "\n",
    "clfs = {\n",
    "    'LinearRegressor': clf_1,\n",
    "    'SGDRegressor': clf_2\n",
    "}\n",
    "\n",
    "for key, clf in clfs.items():\n",
    "    clf.fit(x_train_clf, y_train)\n",
    "\n",
    "    \n",
    "K = 5\n",
    "for key, clf in clfs.items():\n",
    "    scores = cross_val_score(clf, x_clf, y, cv=K)\n",
    "    print('Estimator: {}'.format(key))\n",
    "    print('Score avg. : {}'.format(scores.mean()))"
   ]
  },
  {
   "cell_type": "markdown",
   "metadata": {},
   "source": [
    "But what is this score? If the scoring method is not specified, the estimator scorer is used. For both of our estimators, in this particular case, this corresponds to the coefficient of determination R^2 of the prediction. \n",
    "\n",
    "But what if we want to use another metric? Actually, the `cross_val_score` gives us the possibility of doing so, by passing a `scoring` parameter, which can be a string, for example. You can check [here](https://scikit-learn.org/stable/modules/model_evaluation.html#scoring-parameter) all of the possibilities, but for this SLU the most important one are:\n",
    "\n",
    "* `neg_mean_absolute_error`\tmetrics.explained_variance_score\t \n",
    "* `neg_mean_squared_error`\tmetrics.explained_variance_score\t \n",
    "* `r2`\tmetrics.explained_variance_score\n",
    "\n",
    "In this case, the metrics follow the rule of \"higher is better\", thus the negative MAE and MSE possibilities. \n"
   ]
  },
  {
   "cell_type": "code",
   "execution_count": 14,
   "metadata": {},
   "outputs": [
    {
     "name": "stdout",
     "output_type": "stream",
     "text": [
      "Estimator: LinearRegressor\n",
      "Negative MAE avg. : -1.7417523056701114\n",
      "Estimator: SGDRegressor\n",
      "Negative MAE avg. : -1.782091603014253\n"
     ]
    }
   ],
   "source": [
    "from sklearn.model_selection import cross_val_score\n",
    "\n",
    "clfs = {\n",
    "    'LinearRegressor': clf_1,\n",
    "    'SGDRegressor': clf_2\n",
    "}\n",
    "\n",
    "for key, clf in clfs.items():\n",
    "    clf.fit(x_train_clf, y_train)\n",
    "\n",
    "    \n",
    "K = 5\n",
    "for key, clf in clfs.items():\n",
    "    scores = cross_val_score(clf, x_clf, y, cv=K, scoring=\"neg_mean_absolute_error\")\n",
    "    print('Estimator: {}'.format(key))\n",
    "    print('Negative MAE avg. : {}'.format(scores.mean()))"
   ]
  },
  {
   "cell_type": "markdown",
   "metadata": {},
   "source": [
    "There are also other ways of passing on metrics do these functions, and this is not the only function to perform these comparisons. You can explore the model selection to learn more about it. But for now, move forward to the exercises and the next SLUs.\n",
    "\n",
    "![goodbye](assets/goodbye.gif)"
   ]
  }
 ],
 "metadata": {
  "kernelspec": {
   "display_name": "Python 3",
   "language": "python",
   "name": "python3"
  },
  "language_info": {
   "codemirror_mode": {
    "name": "ipython",
    "version": 3
   },
   "file_extension": ".py",
   "mimetype": "text/x-python",
   "name": "python",
   "nbconvert_exporter": "python",
   "pygments_lexer": "ipython3",
   "version": "3.7.3"
  }
 },
 "nbformat": 4,
 "nbformat_minor": 2
}
