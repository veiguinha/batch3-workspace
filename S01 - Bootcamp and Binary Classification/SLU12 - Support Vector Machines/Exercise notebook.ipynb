{
 "cells": [
  {
   "cell_type": "markdown",
   "metadata": {
    "colab_type": "text",
    "deletable": false,
    "editable": false,
    "id": "rgxop-ItOnj4",
    "nbgrader": {
     "grade": false,
     "grade_id": "cell-254bd7a206376bba",
     "locked": true,
     "schema_version": 1,
     "solution": false
    }
   },
   "source": [
    "# SLU12 - Support Vector Machines (SVM): Exercise notebook\n",
    "\n",
    "In this notebook we will be covering the following:\n",
    "\n",
    "\n",
    "*  Hyperplanes\n",
    "*  Maximal Margin Classifier\n",
    "* Support Vector Classifier\n",
    "* Support Vector Machine\n",
    "* Multi-Class extension\n",
    "* Support Vector Regression\n",
    "\n",
    "New tools in this unit\n",
    "\n",
    "* [SVC](https://scikit-learn.org/stable/modules/generated/sklearn.svm.SVC.html)\n",
    "* [SVR](https://scikit-learn.org/stable/modules/generated/sklearn.svm.SVR.html)"
   ]
  },
  {
   "cell_type": "code",
   "execution_count": 1,
   "metadata": {
    "colab": {},
    "colab_type": "code",
    "deletable": false,
    "editable": false,
    "id": "fqe0JO39wGW2",
    "nbgrader": {
     "grade": false,
     "grade_id": "cell-57ac5b1f8841f297",
     "locked": true,
     "schema_version": 1,
     "solution": false
    }
   },
   "outputs": [],
   "source": [
    "import pandas as pd\n",
    "import numpy as np\n",
    "from hashlib import sha256\n",
    "import json\n",
    "\n",
    "import sklearn\n",
    "# These will be needed to prepare the dataset\n",
    "from sklearn.model_selection import train_test_split\n",
    "from sklearn.preprocessing import StandardScaler\n",
    "\n",
    "# Seed for reproducibility\n",
    "np.random.seed(42)"
   ]
  },
  {
   "cell_type": "markdown",
   "metadata": {
    "colab_type": "text",
    "deletable": false,
    "editable": false,
    "id": "C_gLpKpCOJNy",
    "nbgrader": {
     "grade": false,
     "grade_id": "cell-3cdfa45b797d48d4",
     "locked": true,
     "schema_version": 1,
     "solution": false
    }
   },
   "source": [
    "Lisbon has been a hot tourism destination in the recent years.  The housing market is out of control, and many are paying generous amounts of money to spend some nights in this wonderfull city. Having made a fortune using your data science skills, you wonder how you could get in on the action too. You decide that buying some houses and posting them on Airbnb would be a good idea. Before you start your shopping spree however, you wonder how you could predict which rooms will bring in the big bucks. In order to investigate this, you turn to the  Airbnb Lisbon rooms dataset. You first load the dataset."
   ]
  },
  {
   "cell_type": "code",
   "execution_count": 2,
   "metadata": {
    "colab": {
     "base_uri": "https://localhost:8080/",
     "height": 306
    },
    "colab_type": "code",
    "deletable": false,
    "editable": false,
    "id": "kVbOYdE0la1K",
    "nbgrader": {
     "grade": false,
     "grade_id": "cell-87ba0a3136253b02",
     "locked": true,
     "schema_version": 1,
     "solution": false
    },
    "outputId": "29caa707-c737-4f16-eae7-1b9b17a8ff33"
   },
   "outputs": [
    {
     "name": "stdout",
     "output_type": "stream",
     "text": [
      "(13232, 9)\n"
     ]
    },
    {
     "data": {
      "text/html": [
       "<div>\n",
       "<style scoped>\n",
       "    .dataframe tbody tr th:only-of-type {\n",
       "        vertical-align: middle;\n",
       "    }\n",
       "\n",
       "    .dataframe tbody tr th {\n",
       "        vertical-align: top;\n",
       "    }\n",
       "\n",
       "    .dataframe thead th {\n",
       "        text-align: right;\n",
       "    }\n",
       "</style>\n",
       "<table border=\"1\" class=\"dataframe\">\n",
       "  <thead>\n",
       "    <tr style=\"text-align: right;\">\n",
       "      <th></th>\n",
       "      <th>room_id</th>\n",
       "      <th>host_id</th>\n",
       "      <th>room_type</th>\n",
       "      <th>neighborhood</th>\n",
       "      <th>reviews</th>\n",
       "      <th>overall_satisfaction</th>\n",
       "      <th>accommodates</th>\n",
       "      <th>bedrooms</th>\n",
       "      <th>price</th>\n",
       "    </tr>\n",
       "  </thead>\n",
       "  <tbody>\n",
       "    <tr>\n",
       "      <th>12148</th>\n",
       "      <td>18430120</td>\n",
       "      <td>123079348</td>\n",
       "      <td>Entire home/apt</td>\n",
       "      <td>Lumiar</td>\n",
       "      <td>0</td>\n",
       "      <td>0.0</td>\n",
       "      <td>4</td>\n",
       "      <td>2.0</td>\n",
       "      <td>95.0</td>\n",
       "    </tr>\n",
       "    <tr>\n",
       "      <th>8355</th>\n",
       "      <td>14035445</td>\n",
       "      <td>84062304</td>\n",
       "      <td>Private room</td>\n",
       "      <td>Parque das Nações</td>\n",
       "      <td>7</td>\n",
       "      <td>4.5</td>\n",
       "      <td>2</td>\n",
       "      <td>1.0</td>\n",
       "      <td>39.0</td>\n",
       "    </tr>\n",
       "    <tr>\n",
       "      <th>9040</th>\n",
       "      <td>14895450</td>\n",
       "      <td>69237427</td>\n",
       "      <td>Entire home/apt</td>\n",
       "      <td>São Vicente</td>\n",
       "      <td>20</td>\n",
       "      <td>5.0</td>\n",
       "      <td>5</td>\n",
       "      <td>3.0</td>\n",
       "      <td>87.0</td>\n",
       "    </tr>\n",
       "    <tr>\n",
       "      <th>63</th>\n",
       "      <td>124558</td>\n",
       "      <td>620702</td>\n",
       "      <td>Entire home/apt</td>\n",
       "      <td>Santa Maria Maior</td>\n",
       "      <td>126</td>\n",
       "      <td>4.5</td>\n",
       "      <td>6</td>\n",
       "      <td>2.0</td>\n",
       "      <td>75.0</td>\n",
       "    </tr>\n",
       "    <tr>\n",
       "      <th>9311</th>\n",
       "      <td>15269760</td>\n",
       "      <td>40814166</td>\n",
       "      <td>Entire home/apt</td>\n",
       "      <td>Belém</td>\n",
       "      <td>1</td>\n",
       "      <td>0.0</td>\n",
       "      <td>4</td>\n",
       "      <td>1.0</td>\n",
       "      <td>52.0</td>\n",
       "    </tr>\n",
       "  </tbody>\n",
       "</table>\n",
       "</div>"
      ],
      "text/plain": [
       "        room_id    host_id        room_type       neighborhood  reviews  \\\n",
       "12148  18430120  123079348  Entire home/apt             Lumiar        0   \n",
       "8355   14035445   84062304     Private room  Parque das Nações        7   \n",
       "9040   14895450   69237427  Entire home/apt        São Vicente       20   \n",
       "63       124558     620702  Entire home/apt  Santa Maria Maior      126   \n",
       "9311   15269760   40814166  Entire home/apt              Belém        1   \n",
       "\n",
       "       overall_satisfaction  accommodates  bedrooms  price  \n",
       "12148                   0.0             4       2.0   95.0  \n",
       "8355                    4.5             2       1.0   39.0  \n",
       "9040                    5.0             5       3.0   87.0  \n",
       "63                      4.5             6       2.0   75.0  \n",
       "9311                    0.0             4       1.0   52.0  "
      ]
     },
     "execution_count": 2,
     "metadata": {},
     "output_type": "execute_result"
    }
   ],
   "source": [
    "airbnb_df = pd.read_csv(\"data/airbnb.csv\")\n",
    "print(airbnb_df.shape)\n",
    "airbnb_df.sample(5)"
   ]
  },
  {
   "cell_type": "markdown",
   "metadata": {
    "colab_type": "text",
    "deletable": false,
    "editable": false,
    "id": "yaEYIRyowGXC",
    "nbgrader": {
     "grade": false,
     "grade_id": "cell-617054ceb45eb34a",
     "locked": true,
     "schema_version": 1,
     "solution": false
    }
   },
   "source": [
    "You realize that the columns room_id and host_id are probably not very usefull for your porpose, so you decide to drop them. You also use the pandas get_dummies function to the convert categorical variables (you will learn more about this function in SLU15)."
   ]
  },
  {
   "cell_type": "code",
   "execution_count": 3,
   "metadata": {
    "colab": {},
    "colab_type": "code",
    "deletable": false,
    "editable": false,
    "id": "ulNZK6YBOOC5",
    "nbgrader": {
     "grade": false,
     "grade_id": "cell-d0dbd914f45ecd5c",
     "locked": true,
     "schema_version": 1,
     "solution": false
    }
   },
   "outputs": [],
   "source": [
    "airbnb_df = airbnb_df.drop([\"room_id\", \"host_id\"], axis=1)\n",
    "airbnb_df = pd.get_dummies(airbnb_df)"
   ]
  },
  {
   "cell_type": "markdown",
   "metadata": {
    "colab_type": "text",
    "deletable": false,
    "editable": false,
    "id": "HFO9bWa9OSkb",
    "nbgrader": {
     "grade": false,
     "grade_id": "cell-795ac3d28b5e6352",
     "locked": true,
     "schema_version": 1,
     "solution": false
    }
   },
   "source": [
    "You decide that you are interested in houses that bring in no less than 64€ per night, so you would like to know which rooms are not interesting (low price) and which rooms are  (high price). You proceed to binning the price column into these two categories. "
   ]
  },
  {
   "cell_type": "code",
   "execution_count": 5,
   "metadata": {
    "colab": {
     "base_uri": "https://localhost:8080/",
     "height": 68
    },
    "colab_type": "code",
    "deletable": false,
    "editable": false,
    "id": "V0d5O097OXVh",
    "nbgrader": {
     "grade": false,
     "grade_id": "cell-b3232f22b831bc24",
     "locked": true,
     "schema_version": 1,
     "solution": false
    },
    "outputId": "38ea7a86-4f01-4a13-847f-eb0f7f84e269"
   },
   "outputs": [
    {
     "data": {
      "text/plain": [
       "False    7073\n",
       "True     6159\n",
       "Name: price_target, dtype: int64"
      ]
     },
     "execution_count": 5,
     "metadata": {},
     "output_type": "execute_result"
    }
   ],
   "source": [
    "airbnb_df[\"price_target\"] = airbnb_df.price < 64\n",
    "airbnb_df.price_target.value_counts()"
   ]
  },
  {
   "cell_type": "markdown",
   "metadata": {
    "colab_type": "text",
    "deletable": false,
    "editable": false,
    "id": "ezi2npWAO7AQ",
    "nbgrader": {
     "grade": false,
     "grade_id": "cell-e8df8f9f8ae9ed8e",
     "locked": true,
     "schema_version": 1,
     "solution": false
    }
   },
   "source": [
    "Since the target variable is binary, you are faced with a binary calssification problem. You remember that really cool class you had about Support Vector Machines, and so decide to give them a shot. \n",
    "\n",
    "In order to properly train and evaluate your models, you split your dataset into train set and test set."
   ]
  },
  {
   "cell_type": "code",
   "execution_count": 7,
   "metadata": {
    "colab": {
     "base_uri": "https://localhost:8080/",
     "height": 85
    },
    "colab_type": "code",
    "deletable": false,
    "editable": false,
    "id": "1CGdOhv54GzY",
    "nbgrader": {
     "grade": false,
     "grade_id": "cell-7085934969b8c3d5",
     "locked": true,
     "schema_version": 1,
     "solution": false
    },
    "outputId": "77e4a3a7-cb07-4bfd-cf03-8edd23a1fa43"
   },
   "outputs": [
    {
     "name": "stdout",
     "output_type": "stream",
     "text": [
      "X_train of shape  (10585, 31)\n",
      "y_train of shape  (10585,)\n",
      "X_test of shape   (2647, 31)\n",
      "y_test of shape   (2647,)\n"
     ]
    }
   ],
   "source": [
    "# Create the features matrix X and target vector y\n",
    "X = airbnb_df.drop([col for col in airbnb_df.columns if \"price\" in col], axis=1)\n",
    "y = airbnb_df[\"price_target\"]\n",
    "# train test split\n",
    "X_train, X_test, y_train, y_test = train_test_split(X, y, test_size=0.2, random_state=42)\n",
    "\n",
    "# SVMs are not scale invariant, so you scale your data beforehand\n",
    "scaler = StandardScaler()\n",
    "X_train = scaler.fit_transform(X_train)\n",
    "X_test = scaler.transform(X_test)\n",
    "\n",
    "print(\"X_train of shape \", X_train.shape)\n",
    "print(\"y_train of shape \", y_train.shape)\n",
    "print(\"X_test of shape  \", X_test.shape)\n",
    "print(\"y_test of shape  \", y_test.shape)"
   ]
  },
  {
   "cell_type": "markdown",
   "metadata": {
    "colab_type": "text",
    "deletable": false,
    "editable": false,
    "id": "QsMIFwDxKG5i",
    "nbgrader": {
     "grade": false,
     "grade_id": "cell-0cc9714058c33112",
     "locked": true,
     "schema_version": 1,
     "solution": false
    }
   },
   "source": [
    "## Exercise 1: Support Vector Classifier\n",
    "\n",
    "\n",
    "1.1) Use a support vector classifier to predict the price_target of an airbnb room. "
   ]
  },
  {
   "cell_type": "code",
   "execution_count": 8,
   "metadata": {
    "colab": {
     "base_uri": "https://localhost:8080/",
     "height": 51
    },
    "colab_type": "code",
    "deletable": false,
    "id": "qUZJGsBURQhi",
    "nbgrader": {
     "grade": false,
     "grade_id": "cell-8920bb9ecefbc8b4",
     "locked": false,
     "schema_version": 1,
     "solution": true
    },
    "outputId": "528b3417-3213-462c-de16-1d870d9ddb4e"
   },
   "outputs": [
    {
     "data": {
      "text/plain": [
       "SVC(C=1, cache_size=200, class_weight=None, coef0=0.0,\n",
       "    decision_function_shape='ovr', degree=3, gamma='auto_deprecated',\n",
       "    kernel='linear', max_iter=-1, probability=False, random_state=None,\n",
       "    shrinking=True, tol=0.001, verbose=False)"
      ]
     },
     "execution_count": 8,
     "metadata": {},
     "output_type": "execute_result"
    }
   ],
   "source": [
    "# Create an SVC estimator using sklearn with a linear kernel \n",
    "from sklearn.svm import SVC\n",
    "linear_svc = SVC(kernel='linear',C=1)\n",
    "# train it on the data \n",
    "linear_svc.fit(X_train, y_train)"
   ]
  },
  {
   "cell_type": "code",
   "execution_count": 11,
   "metadata": {
    "colab": {},
    "colab_type": "code",
    "deletable": false,
    "editable": false,
    "id": "jRt00Vo26BkT",
    "nbgrader": {
     "grade": true,
     "grade_id": "cell-0ebe02e7c2c3ed67",
     "locked": true,
     "points": 3,
     "schema_version": 1,
     "solution": false
    }
   },
   "outputs": [],
   "source": [
    "svc_argument_hash = '7f2fe580edb35154041fa3d4b41dd6d3adaef0c85d2ff6309f1d4b520eeecda3'\n",
    "\n",
    "assert isinstance(linear_svc, sklearn.svm.SVC)\n",
    "assert svc_argument_hash == sha256(linear_svc.kernel.encode()).hexdigest()\n",
    "np.testing.assert_almost_equal(linear_svc.score(X_test, y_test), 0.7718171514922554)"
   ]
  },
  {
   "cell_type": "markdown",
   "metadata": {
    "colab_type": "text",
    "deletable": false,
    "editable": false,
    "id": "Y8xtMvfbHkFX",
    "nbgrader": {
     "grade": false,
     "grade_id": "cell-ef314c4189559471",
     "locked": true,
     "schema_version": 1,
     "solution": false
    }
   },
   "source": [
    "1.2) Obtain the support vectors for the above classifier"
   ]
  },
  {
   "cell_type": "code",
   "execution_count": 34,
   "metadata": {
    "colab": {
     "base_uri": "https://localhost:8080/",
     "height": 34
    },
    "colab_type": "code",
    "deletable": false,
    "id": "KBmNh9nlHrdN",
    "nbgrader": {
     "grade": false,
     "grade_id": "cell-c1c38a43fdc6fac5",
     "locked": false,
     "schema_version": 1,
     "solution": true
    },
    "outputId": "fa7eaf0d-62ff-4cb9-99a1-6f1d04fd0889"
   },
   "outputs": [],
   "source": [
    "# Obtain the support vectors for the classifier defined in 1.1\n",
    "# assign the result to a variable s_vectors\n",
    "s_vectors = linear_svc.support_vectors_"
   ]
  },
  {
   "cell_type": "code",
   "execution_count": 36,
   "metadata": {
    "colab": {},
    "colab_type": "code",
    "deletable": false,
    "editable": false,
    "id": "VhZYExZNH8tE",
    "nbgrader": {
     "grade": true,
     "grade_id": "cell-c25c5fd4aae06e2a",
     "locked": true,
     "points": 2,
     "schema_version": 1,
     "solution": false
    }
   },
   "outputs": [],
   "source": [
    "s_vectors_hash = '8eafa96d827117328be11fe4b283186ff7c11a56c266b9187100897018b13eaa'\n",
    "assert sha256(s_vectors).hexdigest() == s_vectors_hash"
   ]
  },
  {
   "cell_type": "markdown",
   "metadata": {
    "colab_type": "text",
    "deletable": false,
    "editable": false,
    "id": "ug9wiVNbINMT",
    "nbgrader": {
     "grade": false,
     "grade_id": "cell-d8c4a03ff9f9cd4e",
     "locked": true,
     "schema_version": 1,
     "solution": false
    }
   },
   "source": [
    "1.3) Obtain the number of support vectors for each class"
   ]
  },
  {
   "cell_type": "code",
   "execution_count": 53,
   "metadata": {
    "colab": {
     "base_uri": "https://localhost:8080/",
     "height": 34
    },
    "colab_type": "code",
    "deletable": false,
    "id": "i88Ec-I-IL9G",
    "nbgrader": {
     "grade": false,
     "grade_id": "cell-efb40a29deffe5e8",
     "locked": false,
     "schema_version": 1,
     "solution": true
    },
    "outputId": "a2ad1241-4e8a-4050-9c1b-ab5e0d4d945e"
   },
   "outputs": [],
   "source": [
    "# Obtain the number of support vectors for each class of the target variable\n",
    "# assign the result to n_s_vectors, which should be an array whose first element\n",
    "# is the number of support vectors of class 1 and the second element the number\n",
    "# of support vectors of class 2\n",
    "n_s_vectors = linear_svc.n_support_"
   ]
  },
  {
   "cell_type": "code",
   "execution_count": 54,
   "metadata": {
    "colab": {},
    "colab_type": "code",
    "deletable": false,
    "editable": false,
    "id": "Jar15WRuIfxz",
    "nbgrader": {
     "grade": true,
     "grade_id": "cell-4ce8206f82589201",
     "locked": true,
     "points": 2,
     "schema_version": 1,
     "solution": false
    }
   },
   "outputs": [],
   "source": [
    "n_s_vectors_hash = '909b8b8a7a47496625b6e225ae349f822edfd304db21701674578796e8f5a64f'\n",
    "assert sha256(n_s_vectors).hexdigest() == n_s_vectors_hash"
   ]
  },
  {
   "cell_type": "markdown",
   "metadata": {
    "colab_type": "text",
    "deletable": false,
    "editable": false,
    "id": "b6D_b8UaLp7P",
    "nbgrader": {
     "grade": false,
     "grade_id": "cell-482d56ba7fd11545",
     "locked": true,
     "schema_version": 1,
     "solution": false
    }
   },
   "source": [
    "1.4) Create a new SVC estimator that allows for, at most, 10 trainning obervations to be on the wrong side of the decision hyperplane"
   ]
  },
  {
   "cell_type": "code",
   "execution_count": 66,
   "metadata": {
    "colab": {
     "base_uri": "https://localhost:8080/",
     "height": 51
    },
    "colab_type": "code",
    "deletable": false,
    "id": "01FdtEXpLpYS",
    "nbgrader": {
     "grade": false,
     "grade_id": "cell-c14bf9c897aec687",
     "locked": false,
     "schema_version": 1,
     "solution": true
    },
    "outputId": "98491b7b-17c6-4e43-e8da-d846756603c4"
   },
   "outputs": [
    {
     "data": {
      "text/plain": [
       "SVC(C=10, cache_size=200, class_weight=None, coef0=0.0,\n",
       "    decision_function_shape='ovr', degree=3, gamma='auto_deprecated',\n",
       "    kernel='linear', max_iter=-1, probability=False, random_state=None,\n",
       "    shrinking=True, tol=0.001, verbose=False)"
      ]
     },
     "execution_count": 66,
     "metadata": {},
     "output_type": "execute_result"
    }
   ],
   "source": [
    "# Create a new estimator that allows for, at most, 10 trainning obervations to \n",
    "# be on the wrong side of the decision hyperplane and train it on the data\n",
    "# assign the result to linear_svc_10\n",
    "linear_svc_10 = SVC(kernel='linear', C = 10)\n",
    "linear_svc_10.fit(X_train,y_train)"
   ]
  },
  {
   "cell_type": "code",
   "execution_count": 67,
   "metadata": {
    "colab": {},
    "colab_type": "code",
    "deletable": false,
    "editable": false,
    "id": "pp4GGNg-wGX0",
    "nbgrader": {
     "grade": true,
     "grade_id": "cell-b93d3d54a5cf248d",
     "locked": true,
     "points": 2,
     "schema_version": 1,
     "solution": false
    }
   },
   "outputs": [],
   "source": [
    "svc_parameters_hash = '30b1cb69434644c295d3a380c3bfff162404ca811c1620729eb6e2c53d0e98d8'\n",
    "\n",
    "assert isinstance(linear_svc_10, sklearn.svm.SVC)\n",
    "assert svc_parameters_hash == sha256(json.dumps(linear_svc_10.get_params()).encode()).hexdigest()\n",
    "np.testing.assert_almost_equal(linear_svc_10.score(X_test, y_test), 0.7718171514922554)"
   ]
  },
  {
   "cell_type": "markdown",
   "metadata": {
    "colab_type": "text",
    "deletable": false,
    "editable": false,
    "id": "iGYGZszuLvSu",
    "nbgrader": {
     "grade": false,
     "grade_id": "cell-54e36a9e1dc6257d",
     "locked": true,
     "schema_version": 1,
     "solution": false
    }
   },
   "source": [
    "## Exercise 2 : Support Vector Machines\n",
    "Having tried the Support Vector Classifier, you turn to Support Vector Machines to see if they can improve the performance of your classifier. You wonder which kernel you should use, and decide to start with the radial kernel\n",
    "\n",
    "2.1) Create an SVM with a radial kernel and train it"
   ]
  },
  {
   "cell_type": "code",
   "execution_count": 68,
   "metadata": {
    "colab": {
     "base_uri": "https://localhost:8080/",
     "height": 51
    },
    "colab_type": "code",
    "deletable": false,
    "id": "5F_zDFNyEzHl",
    "nbgrader": {
     "grade": false,
     "grade_id": "cell-67987e9e5c2a81e8",
     "locked": false,
     "schema_version": 1,
     "solution": true
    },
    "outputId": "c530dab8-4c09-47d9-dea2-914a416b87a3"
   },
   "outputs": [
    {
     "data": {
      "text/plain": [
       "SVC(C=1.0, cache_size=200, class_weight=None, coef0=0.0,\n",
       "    decision_function_shape='ovr', degree=3, gamma='auto_deprecated',\n",
       "    kernel='rbf', max_iter=-1, probability=False, random_state=None,\n",
       "    shrinking=True, tol=0.001, verbose=False)"
      ]
     },
     "execution_count": 68,
     "metadata": {},
     "output_type": "execute_result"
    }
   ],
   "source": [
    "# Use an SVM with a radial kernel to create predictions\n",
    "# Being by creating the estimator\n",
    "# then train it on the data\n",
    "# assign your estimator to the variable radial_svm\n",
    "radial_svm = SVC(kernel='rbf')\n",
    "radial_svm.fit(X_train,y_train)"
   ]
  },
  {
   "cell_type": "code",
   "execution_count": 69,
   "metadata": {
    "colab": {},
    "colab_type": "code",
    "deletable": false,
    "editable": false,
    "id": "pWXBFNDH7oFl",
    "nbgrader": {
     "grade": true,
     "grade_id": "cell-7762a654a5c9e0bb",
     "locked": true,
     "points": 3,
     "schema_version": 1,
     "solution": false
    }
   },
   "outputs": [],
   "source": [
    "radial_parameters_hash = '889e3c8bf0e720c1735b640e5e14d9f846fc5da1e2f2c3723da5c9312d8aa63a'\n",
    "\n",
    "assert isinstance(radial_svm, sklearn.svm.SVC)\n",
    "assert radial_parameters_hash == sha256(json.dumps(radial_svm.get_params()).encode()).hexdigest()\n",
    "np.testing.assert_almost_equal(radial_svm.score(X_test, y_test), 0.7778617302606725)"
   ]
  },
  {
   "cell_type": "markdown",
   "metadata": {
    "colab_type": "text",
    "deletable": false,
    "editable": false,
    "id": "vIWyuARPZhSF",
    "nbgrader": {
     "grade": false,
     "grade_id": "cell-4a1c2cbaa6c394c2",
     "locked": true,
     "schema_version": 1,
     "solution": false
    }
   },
   "source": [
    "2.3) Create predictions using the radial SVM"
   ]
  },
  {
   "cell_type": "code",
   "execution_count": 70,
   "metadata": {
    "colab": {
     "base_uri": "https://localhost:8080/",
     "height": 34
    },
    "colab_type": "code",
    "deletable": false,
    "id": "oI-i4sMmZnlH",
    "nbgrader": {
     "grade": false,
     "grade_id": "cell-65b609065bc799b3",
     "locked": false,
     "schema_version": 1,
     "solution": true
    },
    "outputId": "4b4a894c-be24-4a3e-de54-95dda286bc98"
   },
   "outputs": [],
   "source": [
    "# Use your SVM with radial kernel to create predictions on the test set\n",
    "# assign your predictions to the variable radial_preds\n",
    "radial_preds = radial_svm.predict(X_test)"
   ]
  },
  {
   "cell_type": "code",
   "execution_count": 71,
   "metadata": {
    "colab": {},
    "colab_type": "code",
    "deletable": false,
    "editable": false,
    "id": "KPDLmVcqawSy",
    "nbgrader": {
     "grade": true,
     "grade_id": "cell-658aca868e64c917",
     "locked": true,
     "points": 2,
     "schema_version": 1,
     "solution": false
    }
   },
   "outputs": [],
   "source": [
    "r_preds_hash = 'bc49863cef11a471becd822019573f0106bbc04706fa25755dae2f19d5497727'\n",
    "\n",
    "assert r_preds_hash == sha256(radial_preds).hexdigest()"
   ]
  },
  {
   "cell_type": "markdown",
   "metadata": {
    "colab_type": "text",
    "deletable": false,
    "editable": false,
    "id": "yjQbXoiDrvZ6",
    "nbgrader": {
     "grade": false,
     "grade_id": "cell-3e43d60fe3d99a1c",
     "locked": true,
     "schema_version": 1,
     "solution": false
    }
   },
   "source": [
    "2.3) Create an SVM with polynomial kernel of degree 2. Fit the model to the data and create new predictions"
   ]
  },
  {
   "cell_type": "code",
   "execution_count": 72,
   "metadata": {
    "colab": {
     "base_uri": "https://localhost:8080/",
     "height": 68
    },
    "colab_type": "code",
    "deletable": false,
    "id": "Ek8trgJ77dkG",
    "nbgrader": {
     "grade": false,
     "grade_id": "cell-172e3bd2b364b440",
     "locked": false,
     "schema_version": 1,
     "solution": true
    },
    "outputId": "534bae8e-3d4d-4314-cb18-1390b34e1d33"
   },
   "outputs": [],
   "source": [
    "# Use an SVM with a polynomial kernel to create predictions\n",
    "# Being by creating the estimator\n",
    "# then train it on the data\n",
    "# assign your estimator to the variable poly_svm\n",
    "# and its predictions to the variable poly_preds\n",
    "poly_svm = SVC(kernel='poly', degree=2)\n",
    "poly_svm.fit(X_train,y_train)\n",
    "poly_preds = poly_svm.predict(X_test)"
   ]
  },
  {
   "cell_type": "code",
   "execution_count": 74,
   "metadata": {
    "colab": {},
    "colab_type": "code",
    "deletable": false,
    "editable": false,
    "id": "dR8vE1EE73fd",
    "nbgrader": {
     "grade": true,
     "grade_id": "cell-4cbba809efaac32d",
     "locked": true,
     "points": 3,
     "schema_version": 1,
     "solution": false
    }
   },
   "outputs": [],
   "source": [
    "poly_parameters_hash = 'b40f0814699df168646e5df316a68e51f2429dc35ac794ec2a9672b1f7f49d7c'\n",
    "poly_preds_hash = 'fb35d41fedf36b6d195822853995aa7d81b8cb33dc3bab10deca745118caff6a'\n",
    "\n",
    "assert isinstance(poly_svm, sklearn.svm.SVC)\n",
    "assert poly_parameters_hash == sha256(json.dumps(poly_svm.get_params()).encode()).hexdigest()\n",
    "np.testing.assert_almost_equal(poly_svm.score(X_test, y_test), 0.7517944843218738)\n",
    "assert poly_preds_hash == sha256(poly_preds).hexdigest()"
   ]
  },
  {
   "cell_type": "markdown",
   "metadata": {
    "colab_type": "text",
    "deletable": false,
    "editable": false,
    "id": "2FmpIyQttmLp",
    "nbgrader": {
     "grade": false,
     "grade_id": "cell-3b0c71d3ba6db0f9",
     "locked": true,
     "schema_version": 1,
     "solution": false
    }
   },
   "source": [
    "## Exercise 3 : Support Vector Regression\n",
    "You  wonder if you could use a Support Vector Regressor to predict the price of the rooms directly, as opposed to predicting the price category.\n",
    "\n",
    "3.1)Use an SVR estimator to predict the price of a room. "
   ]
  },
  {
   "cell_type": "code",
   "execution_count": 75,
   "metadata": {
    "colab": {},
    "colab_type": "code",
    "deletable": false,
    "editable": false,
    "id": "vViB5RiGDYnX",
    "nbgrader": {
     "grade": false,
     "grade_id": "cell-6b785fdd612dcc66",
     "locked": true,
     "schema_version": 1,
     "solution": false
    }
   },
   "outputs": [],
   "source": [
    "# Change the target variable to the price itself (float)\n",
    "y_train, y_test = train_test_split(airbnb_df.price, test_size=0.2, random_state=42)"
   ]
  },
  {
   "cell_type": "code",
   "execution_count": 76,
   "metadata": {
    "colab": {
     "base_uri": "https://localhost:8080/",
     "height": 51
    },
    "colab_type": "code",
    "deletable": false,
    "id": "4z2-thS0t6Xs",
    "nbgrader": {
     "grade": false,
     "grade_id": "cell-cfd65728579ba0e4",
     "locked": false,
     "schema_version": 1,
     "solution": true
    },
    "outputId": "b7286a2b-fcd9-498a-d805-7f6d5b77311c"
   },
   "outputs": [
    {
     "data": {
      "text/plain": [
       "SVR(C=1.0, cache_size=200, coef0=0.0, degree=3, epsilon=0.1,\n",
       "    gamma='auto_deprecated', kernel='rbf', max_iter=-1, shrinking=True,\n",
       "    tol=0.001, verbose=False)"
      ]
     },
     "execution_count": 76,
     "metadata": {},
     "output_type": "execute_result"
    }
   ],
   "source": [
    "from sklearn.svm import SVR\n",
    "# Use an SVR with a radial kernel to create predictions\n",
    "svr = SVR(kernel='rbf')\n",
    "# Begin by creating the estimator\n",
    "# then train it on the data\n",
    "# assign your estimator to the variable svr\n",
    "svr.fit(X_train,y_train)"
   ]
  },
  {
   "cell_type": "code",
   "execution_count": 78,
   "metadata": {
    "colab": {},
    "colab_type": "code",
    "deletable": false,
    "editable": false,
    "id": "nO24zB78Dg_y",
    "nbgrader": {
     "grade": true,
     "grade_id": "cell-471b594b90665f4b",
     "locked": true,
     "points": 3,
     "schema_version": 1,
     "solution": false
    }
   },
   "outputs": [],
   "source": [
    "svr_parameters_hash = '9c671ede03a4d932d5300206ea65d70775e62c14187cd02fe2e66057ddcc215e'\n",
    "\n",
    "assert isinstance(svr, sklearn.svm.SVR)\n",
    "assert svr_parameters_hash == sha256(json.dumps(svr.get_params()).encode()).hexdigest()\n",
    "np.testing.assert_almost_equal(svr.score(X_test, y_test), 0.08202727591603864)"
   ]
  }
 ],
 "metadata": {
  "colab": {
   "collapsed_sections": [],
   "name": "Exercise notebook.ipynb",
   "provenance": [],
   "toc_visible": true,
   "version": "0.3.2"
  },
  "kernelspec": {
   "display_name": "Python 3",
   "language": "python",
   "name": "python3"
  },
  "language_info": {
   "codemirror_mode": {
    "name": "ipython",
    "version": 3
   },
   "file_extension": ".py",
   "mimetype": "text/x-python",
   "name": "python",
   "nbconvert_exporter": "python",
   "pygments_lexer": "ipython3",
   "version": "3.6.8"
  }
 },
 "nbformat": 4,
 "nbformat_minor": 1
}
